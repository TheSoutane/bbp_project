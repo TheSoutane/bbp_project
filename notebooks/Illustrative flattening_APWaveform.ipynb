{
 "cells": [
  {
   "cell_type": "markdown",
   "id": "933eae06",
   "metadata": {},
   "source": [
    "Data is strucutured as follow:\n",
    "An experiment is performed on multiple cells. To increase certainty the experiment is performed multiple times (~3-4). \\\n",
    "During each repetition of the experience, different protocols are applied, each composed of multiple steps. Finally the results are analysed and data regarding the neuron electrical answer are generated. Those are mostly composed of spikes and inter spikes features. \\\n",
    "To sythetize, the data are structured as follow: Experiment/cell/repetitions/protocol/step/spike. \\\n",
    "As the data have to be considered at cell level we will not consider the experiment data (except for debugging)"
   ]
  },
  {
   "cell_type": "markdown",
   "id": "9b25e50f",
   "metadata": {},
   "source": [
    "# Librairy importation and data load"
   ]
  },
  {
   "cell_type": "code",
   "execution_count": 1,
   "id": "b62f1cb6",
   "metadata": {},
   "outputs": [],
   "source": [
    "import os\n",
    "import pandas as pd\n",
    "from scipy import io\n"
   ]
  },
  {
   "cell_type": "code",
   "execution_count": 2,
   "id": "157e6f44",
   "metadata": {},
   "outputs": [],
   "source": [
    "loaded_sp = io.loadmat('../data/01_raw/matData_2022-05-30/aCell98_1.mat')"
   ]
  },
  {
   "cell_type": "markdown",
   "id": "c8b4cff3",
   "metadata": {},
   "source": [
    "# Functions"
   ]
  },
  {
   "cell_type": "code",
   "execution_count": 3,
   "id": "f853f216",
   "metadata": {},
   "outputs": [],
   "source": [
    "# def flatten_df(df, levels):\n",
    "#     \"\"\"Flatten all the columns of a datafram to facilitate data extraction\n",
    "    \n",
    "#     df: Dataframe to flatten\n",
    "#     levels: number of wished flattening levels\n",
    "#     \"\"\"\n",
    "#     df_flat = df.copy()\n",
    "#     count = 0\n",
    "#     while count<levels:\n",
    "#         df_flat = df_flat.apply(lambda x: x[0])\n",
    "#         count+=1\n",
    "#     return df_flat\n",
    "\n",
    "def flatten_df(df):\n",
    "    \"\"\"Flatten all the columns of a datafram to facilitate data extraction\n",
    "    \n",
    "    df: Dataframe to flatten\n",
    "    \"\"\"\n",
    "    df_flat = df.copy()\n",
    "    df_flat = df_flat.apply(lambda x: x[0][0])\n",
    "\n",
    "    return df_flat\n"
   ]
  },
  {
   "cell_type": "markdown",
   "id": "3c288dab",
   "metadata": {},
   "source": [
    "# Cell level data (+experiment)"
   ]
  },
  {
   "cell_type": "code",
   "execution_count": 4,
   "id": "4a8f3d7b",
   "metadata": {},
   "outputs": [
    {
     "data": {
      "text/plain": [
       "dict_keys(['__header__', '__version__', '__globals__', 'aCell'])"
      ]
     },
     "execution_count": 4,
     "metadata": {},
     "output_type": "execute_result"
    }
   ],
   "source": [
    "loaded_sp.keys()\n",
    "# Only aCell contains relevant information. We will not consider the other cells"
   ]
  },
  {
   "cell_type": "markdown",
   "id": "8f15c18e",
   "metadata": {},
   "source": [
    "#### First branching (but not the latest :). \n",
    "- Id simply provides the experiment ID\n",
    "- Cellinfo provides the cell data\n",
    "- FileInfo provides the document data (useless)\n",
    "- protocol provides all theinformations regarding the stimulus and the experimental results"
   ]
  },
  {
   "cell_type": "code",
   "execution_count": 5,
   "id": "e23f9c18",
   "metadata": {},
   "outputs": [
    {
     "data": {
      "text/plain": [
       "dtype([('id', 'O'), ('cellInfo', 'O'), ('protocol', 'O'), ('fileInfo', 'O')])"
      ]
     },
     "execution_count": 5,
     "metadata": {},
     "output_type": "execute_result"
    }
   ],
   "source": [
    "loaded_sp['aCell'][0][0].dtype"
   ]
  },
  {
   "cell_type": "code",
   "execution_count": 6,
   "id": "f91df9e7",
   "metadata": {},
   "outputs": [],
   "source": [
    "# fileInfo_temp = pd.DataFrame(loaded_sp['aCell'][0][0]['fileInfo'].ravel())\n",
    "cellInfo_temp = pd.DataFrame(loaded_sp['aCell'][0][0]['cellInfo'].ravel())\n",
    "\n",
    "                          "
   ]
  },
  {
   "cell_type": "code",
   "execution_count": 7,
   "id": "e2c1ec78",
   "metadata": {},
   "outputs": [
    {
     "data": {
      "text/plain": [
       "id                                   98_1\n",
       "experimenter                           RP\n",
       "species                               Rat\n",
       "channel                              ch10\n",
       "cellType                             L5PC\n",
       "path            \\140313L5PCeCode_2 Folder\n",
       "status                                [1]\n",
       "dtype: object"
      ]
     },
     "execution_count": 7,
     "metadata": {},
     "output_type": "execute_result"
    }
   ],
   "source": [
    "# Extract the cell info\n",
    "cellInfo_flat = flatten_df(cellInfo_temp)\n",
    "cellInfo_flat"
   ]
  },
  {
   "cell_type": "markdown",
   "id": "d05df65d",
   "metadata": {},
   "source": [
    "# Extraction of data at protocol level"
   ]
  },
  {
   "cell_type": "code",
   "execution_count": 8,
   "id": "ac77096f",
   "metadata": {},
   "outputs": [
    {
     "data": {
      "text/plain": [
       "'APWaveform'"
      ]
     },
     "execution_count": 8,
     "metadata": {},
     "output_type": "execute_result"
    }
   ],
   "source": [
    "# for i in loaded_sp['aCell'][0][0]['protocol'][0]:\n",
    "#     print(i[0][0][0][0])\n",
    "protocol_raw = loaded_sp['aCell'][0][0]['protocol'][0][0]\n",
    "protocol_raw[0][0][0][0]#['APWaveform']"
   ]
  },
  {
   "cell_type": "code",
   "execution_count": 9,
   "id": "10a6fbda",
   "metadata": {},
   "outputs": [
    {
     "name": "stdout",
     "output_type": "stream",
     "text": [
      "APWaveform\n",
      "DeHyperPol\n",
      "Delta\n",
      "ElecCal\n",
      "FirePattern\n",
      "HyperDePol\n",
      "IDRest\n",
      "IDThres\n",
      "IV\n",
      "NegCheops\n",
      "NoiseOU3\n",
      "PosCheops\n",
      "RPip\n",
      "Rac\n",
      "ResetITC\n",
      "SetAmpl\n",
      "SetISI\n",
      "SineSpec\n",
      "SpikeRec\n",
      "SponHold30\n",
      "SponHold3\n",
      "SponNoHold30\n",
      "StartHold\n",
      "StartNoHold\n",
      "SubWhiteNoise\n",
      "TestAmpl\n",
      "TestRheo\n",
      "TestSpikeRec\n",
      "WhiteNoise\n",
      "sAHP\n"
     ]
    }
   ],
   "source": [
    "for i in loaded_sp['aCell'][0][0]['protocol'][0]:\n",
    "    print(i[0][0][0][0])"
   ]
  },
  {
   "cell_type": "code",
   "execution_count": 10,
   "id": "a19e988a",
   "metadata": {},
   "outputs": [
    {
     "data": {
      "text/plain": [
       "'APWaveform'"
      ]
     },
     "execution_count": 10,
     "metadata": {},
     "output_type": "execute_result"
    }
   ],
   "source": [
    "protocol_raw[0][0][0][0]#['APWaveform']"
   ]
  },
  {
   "cell_type": "markdown",
   "id": "0018d4ae",
   "metadata": {},
   "source": [
    "#### APWaveform (Illustrative)"
   ]
  },
  {
   "cell_type": "code",
   "execution_count": 11,
   "id": "405005e6",
   "metadata": {},
   "outputs": [],
   "source": [
    "# protocol_raw[0][0][0][0]"
   ]
  },
  {
   "cell_type": "code",
   "execution_count": 12,
   "id": "07cda45e",
   "metadata": {},
   "outputs": [
    {
     "data": {
      "text/plain": [
       "'APWaveform'"
      ]
     },
     "execution_count": 12,
     "metadata": {},
     "output_type": "execute_result"
    }
   ],
   "source": [
    "protocol_raw[0][0][0][0]#['APWaveform']"
   ]
  },
  {
   "cell_type": "code",
   "execution_count": 13,
   "id": "d796a591",
   "metadata": {},
   "outputs": [
    {
     "data": {
      "text/html": [
       "<div>\n",
       "<style scoped>\n",
       "    .dataframe tbody tr th:only-of-type {\n",
       "        vertical-align: middle;\n",
       "    }\n",
       "\n",
       "    .dataframe tbody tr th {\n",
       "        vertical-align: top;\n",
       "    }\n",
       "\n",
       "    .dataframe thead th {\n",
       "        text-align: right;\n",
       "    }\n",
       "</style>\n",
       "<table border=\"1\" class=\"dataframe\">\n",
       "  <thead>\n",
       "    <tr style=\"text-align: right;\">\n",
       "      <th></th>\n",
       "      <th>repetition</th>\n",
       "      <th>nTrace</th>\n",
       "      <th>ids</th>\n",
       "      <th>stim</th>\n",
       "      <th>stim_actual</th>\n",
       "      <th>stim_ids</th>\n",
       "      <th>stim_change</th>\n",
       "      <th>vHold</th>\n",
       "      <th>stim_start</th>\n",
       "      <th>stim_end</th>\n",
       "      <th>...</th>\n",
       "      <th>AP_rise_time</th>\n",
       "      <th>AP_fall_time</th>\n",
       "      <th>time_to_AP_peak</th>\n",
       "      <th>min_cur_for_discharge</th>\n",
       "      <th>AHP_duration</th>\n",
       "      <th>AHP_fall_tau</th>\n",
       "      <th>AHP_fall_A</th>\n",
       "      <th>AHP_rise_m</th>\n",
       "      <th>AHP_rise_c</th>\n",
       "      <th>protocol_name</th>\n",
       "    </tr>\n",
       "  </thead>\n",
       "  <tbody>\n",
       "    <tr>\n",
       "      <th>0</th>\n",
       "      <td>0</td>\n",
       "      <td>[[]]</td>\n",
       "      <td>[[]]</td>\n",
       "      <td>[[]]</td>\n",
       "      <td>[[]]</td>\n",
       "      <td>[[]]</td>\n",
       "      <td>[[]]</td>\n",
       "      <td>[[]]</td>\n",
       "      <td>[[]]</td>\n",
       "      <td>[[]]</td>\n",
       "      <td>...</td>\n",
       "      <td>[[]]</td>\n",
       "      <td>[[]]</td>\n",
       "      <td>[[]]</td>\n",
       "      <td>[[]]</td>\n",
       "      <td>[[]]</td>\n",
       "      <td>[[]]</td>\n",
       "      <td>[[]]</td>\n",
       "      <td>[[]]</td>\n",
       "      <td>[[]]</td>\n",
       "      <td>APWaveform</td>\n",
       "    </tr>\n",
       "    <tr>\n",
       "      <th>1</th>\n",
       "      <td>1</td>\n",
       "      <td>[[]]</td>\n",
       "      <td>[[]]</td>\n",
       "      <td>[[]]</td>\n",
       "      <td>[[]]</td>\n",
       "      <td>[[]]</td>\n",
       "      <td>[[]]</td>\n",
       "      <td>[[]]</td>\n",
       "      <td>[[]]</td>\n",
       "      <td>[[]]</td>\n",
       "      <td>...</td>\n",
       "      <td>[[]]</td>\n",
       "      <td>[[]]</td>\n",
       "      <td>[[]]</td>\n",
       "      <td>[[]]</td>\n",
       "      <td>[[]]</td>\n",
       "      <td>[[]]</td>\n",
       "      <td>[[]]</td>\n",
       "      <td>[[]]</td>\n",
       "      <td>[[]]</td>\n",
       "      <td>APWaveform</td>\n",
       "    </tr>\n",
       "    <tr>\n",
       "      <th>2</th>\n",
       "      <td>2</td>\n",
       "      <td>[[]]</td>\n",
       "      <td>[[]]</td>\n",
       "      <td>[[]]</td>\n",
       "      <td>[[]]</td>\n",
       "      <td>[[]]</td>\n",
       "      <td>[[]]</td>\n",
       "      <td>[[]]</td>\n",
       "      <td>[[]]</td>\n",
       "      <td>[[]]</td>\n",
       "      <td>...</td>\n",
       "      <td>[[]]</td>\n",
       "      <td>[[]]</td>\n",
       "      <td>[[]]</td>\n",
       "      <td>[[]]</td>\n",
       "      <td>[[]]</td>\n",
       "      <td>[[]]</td>\n",
       "      <td>[[]]</td>\n",
       "      <td>[[]]</td>\n",
       "      <td>[[]]</td>\n",
       "      <td>APWaveform</td>\n",
       "    </tr>\n",
       "    <tr>\n",
       "      <th>3</th>\n",
       "      <td>3</td>\n",
       "      <td>[[6]]</td>\n",
       "      <td>[[4241, 4242, 4243, 4244, 4245, 4246]]</td>\n",
       "      <td>[[60, 100, 140, 180, 220, 260]]</td>\n",
       "      <td>[[125.39999999999999, 209.0, 292.5999999999999...</td>\n",
       "      <td>[[1, 12501, 46252, 81250]]</td>\n",
       "      <td>[[0.0, 250.0, 925.0200000000001, 1624.98]]</td>\n",
       "      <td>[[[[-67.95249736]], [[-68.36229886]], [[-68.93...</td>\n",
       "      <td>[[250]]</td>\n",
       "      <td>[[925.0200000000001]]</td>\n",
       "      <td>...</td>\n",
       "      <td>[[[[]], [[]], [[0.71400013 0.78099987 0.776000...</td>\n",
       "      <td>[[[[]], [[]], [[3.75685753 5.45188877 6.228034...</td>\n",
       "      <td>[[[[]], [[]], [[ 25.7  116.26 567.16]], [[ 14....</td>\n",
       "      <td>[[[[292.6]]]]</td>\n",
       "      <td>[[[[]], [[]], [[ 71.38 420.06]], [[ 11.76  39....</td>\n",
       "      <td>[[[], [], [[4.11449958 5.47482398 7.98799992]]...</td>\n",
       "      <td>[[[], [], [[ 7.15606537 12.59583246 14.3266341...</td>\n",
       "      <td>[[[], [], [[0.10710842 0.01435001]], [[0.34419...</td>\n",
       "      <td>[[[], [], [[-75.3792761  -49.11035524]], [[-13...</td>\n",
       "      <td>APWaveform</td>\n",
       "    </tr>\n",
       "  </tbody>\n",
       "</table>\n",
       "<p>4 rows × 34 columns</p>\n",
       "</div>"
      ],
      "text/plain": [
       "   repetition nTrace                                     ids  \\\n",
       "0           0   [[]]                                    [[]]   \n",
       "1           1   [[]]                                    [[]]   \n",
       "2           2   [[]]                                    [[]]   \n",
       "3           3  [[6]]  [[4241, 4242, 4243, 4244, 4245, 4246]]   \n",
       "\n",
       "                              stim  \\\n",
       "0                             [[]]   \n",
       "1                             [[]]   \n",
       "2                             [[]]   \n",
       "3  [[60, 100, 140, 180, 220, 260]]   \n",
       "\n",
       "                                         stim_actual  \\\n",
       "0                                               [[]]   \n",
       "1                                               [[]]   \n",
       "2                                               [[]]   \n",
       "3  [[125.39999999999999, 209.0, 292.5999999999999...   \n",
       "\n",
       "                     stim_ids                                 stim_change  \\\n",
       "0                        [[]]                                        [[]]   \n",
       "1                        [[]]                                        [[]]   \n",
       "2                        [[]]                                        [[]]   \n",
       "3  [[1, 12501, 46252, 81250]]  [[0.0, 250.0, 925.0200000000001, 1624.98]]   \n",
       "\n",
       "                                               vHold stim_start  \\\n",
       "0                                               [[]]       [[]]   \n",
       "1                                               [[]]       [[]]   \n",
       "2                                               [[]]       [[]]   \n",
       "3  [[[[-67.95249736]], [[-68.36229886]], [[-68.93...    [[250]]   \n",
       "\n",
       "                stim_end  ...  \\\n",
       "0                   [[]]  ...   \n",
       "1                   [[]]  ...   \n",
       "2                   [[]]  ...   \n",
       "3  [[925.0200000000001]]  ...   \n",
       "\n",
       "                                        AP_rise_time  \\\n",
       "0                                               [[]]   \n",
       "1                                               [[]]   \n",
       "2                                               [[]]   \n",
       "3  [[[[]], [[]], [[0.71400013 0.78099987 0.776000...   \n",
       "\n",
       "                                        AP_fall_time  \\\n",
       "0                                               [[]]   \n",
       "1                                               [[]]   \n",
       "2                                               [[]]   \n",
       "3  [[[[]], [[]], [[3.75685753 5.45188877 6.228034...   \n",
       "\n",
       "                                     time_to_AP_peak min_cur_for_discharge  \\\n",
       "0                                               [[]]                  [[]]   \n",
       "1                                               [[]]                  [[]]   \n",
       "2                                               [[]]                  [[]]   \n",
       "3  [[[[]], [[]], [[ 25.7  116.26 567.16]], [[ 14....         [[[[292.6]]]]   \n",
       "\n",
       "                                        AHP_duration  \\\n",
       "0                                               [[]]   \n",
       "1                                               [[]]   \n",
       "2                                               [[]]   \n",
       "3  [[[[]], [[]], [[ 71.38 420.06]], [[ 11.76  39....   \n",
       "\n",
       "                                        AHP_fall_tau  \\\n",
       "0                                               [[]]   \n",
       "1                                               [[]]   \n",
       "2                                               [[]]   \n",
       "3  [[[], [], [[4.11449958 5.47482398 7.98799992]]...   \n",
       "\n",
       "                                          AHP_fall_A  \\\n",
       "0                                               [[]]   \n",
       "1                                               [[]]   \n",
       "2                                               [[]]   \n",
       "3  [[[], [], [[ 7.15606537 12.59583246 14.3266341...   \n",
       "\n",
       "                                          AHP_rise_m  \\\n",
       "0                                               [[]]   \n",
       "1                                               [[]]   \n",
       "2                                               [[]]   \n",
       "3  [[[], [], [[0.10710842 0.01435001]], [[0.34419...   \n",
       "\n",
       "                                          AHP_rise_c protocol_name  \n",
       "0                                               [[]]    APWaveform  \n",
       "1                                               [[]]    APWaveform  \n",
       "2                                               [[]]    APWaveform  \n",
       "3  [[[], [], [[-75.3792761  -49.11035524]], [[-13...    APWaveform  \n",
       "\n",
       "[4 rows x 34 columns]"
      ]
     },
     "execution_count": 13,
     "metadata": {},
     "output_type": "execute_result"
    }
   ],
   "source": [
    "protocol_df = pd.DataFrame(protocol_raw[0][0][1][0])\n",
    "protocol_df['protocol_name'] = protocol_raw[0][0][0][0]\n",
    "protocol_df = protocol_df.reset_index().rename(columns={'index': 'repetition'})\n",
    "\n",
    "protocol_df\n"
   ]
  },
  {
   "cell_type": "code",
   "execution_count": 14,
   "id": "77bba9e2",
   "metadata": {},
   "outputs": [
    {
     "data": {
      "text/plain": [
       "0                                                 [[]]\n",
       "1                                                 [[]]\n",
       "2                                                 [[]]\n",
       "3    [[[], [], [[0.10710842 0.01435001]], [[0.34419...\n",
       "Name: AHP_rise_m, dtype: object"
      ]
     },
     "execution_count": 14,
     "metadata": {},
     "output_type": "execute_result"
    }
   ],
   "source": [
    "protocol_df['AHP_rise_m']"
   ]
  }
 ],
 "metadata": {
  "kernelspec": {
   "display_name": "Python 3 (ipykernel)",
   "language": "python",
   "name": "python3"
  },
  "language_info": {
   "codemirror_mode": {
    "name": "ipython",
    "version": 3
   },
   "file_extension": ".py",
   "mimetype": "text/x-python",
   "name": "python",
   "nbconvert_exporter": "python",
   "pygments_lexer": "ipython3",
   "version": "3.9.12"
  }
 },
 "nbformat": 4,
 "nbformat_minor": 5
}
