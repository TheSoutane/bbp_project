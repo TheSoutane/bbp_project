{
 "cells": [
  {
   "cell_type": "code",
   "execution_count": 1,
   "metadata": {},
   "outputs": [],
   "source": [
    "import pandas as pd\n",
    "import scipy.cluster.hierarchy as shc\n",
    "import matplotlib.pyplot as plt\n",
    "from sklearn.cluster import AgglomerativeClustering\n",
    "from sklearn.preprocessing import normalize\n",
    "from sklearn.preprocessing import StandardScaler\n",
    "import numpy as np"
   ]
  },
  {
   "cell_type": "code",
   "execution_count": 2,
   "metadata": {},
   "outputs": [],
   "source": [
    "df = pd.read_csv('../../data/03_primary/cells_reformated.csv')"
   ]
  },
  {
   "cell_type": "code",
   "execution_count": 3,
   "metadata": {},
   "outputs": [],
   "source": [
    "markers = ['AP_mean', 'AP_stdev', 'first_AP_voltage', 'first_ISI', 'first_fall_tau',\n",
    "           'peak_frequency', 'second_AP_voltage', 'second_ISI', 'second_fall_tau',\n",
    "           'spikecount', 'stim_lenght', 'tau_mean', 'tau_stdev', 'vHold'\n",
    "]\n",
    "protocol_markers = ['apw', 'idr']\n",
    "segmentation_markers = ['AP_mean', 'first_AP_voltage', 'first_ISI', 'first_fall_tau',\n",
    "           'peak_frequency', 'tau_mean']\n",
    "#integrate protocol in the filtering\n",
    "# -> I element of distance is marker/protocol"
   ]
  },
  {
   "cell_type": "code",
   "execution_count": 4,
   "metadata": {},
   "outputs": [],
   "source": [
    "cols_to_cluster = []\n",
    "for marker in segmentation_markers:\n",
    "    temp_list = [t for t in df.columns if (marker in t)]\n",
    "    cols_to_cluster.extend(temp_list)\n",
    "    "
   ]
  },
  {
   "cell_type": "code",
   "execution_count": 5,
   "metadata": {},
   "outputs": [],
   "source": [
    "df_cluster = df[cols_to_cluster].copy()\n",
    "df_scaled = df_cluster.copy()\n",
    "df_scaled = df_scaled.fillna(df_scaled.mean())\n",
    "\n",
    "scaler = StandardScaler().fit(df_scaled.values)\n",
    "arr_scaled = scaler.transform(df_scaled.values)\n"
   ]
  },
  {
   "cell_type": "code",
   "execution_count": 6,
   "metadata": {},
   "outputs": [],
   "source": [
    "df_scaled = pd.DataFrame(arr_scaled, columns=cols_to_cluster)"
   ]
  },
  {
   "cell_type": "code",
   "execution_count": 7,
   "metadata": {},
   "outputs": [],
   "source": [
    "scaling_dict = {}\n",
    "\n",
    "for col in cols_to_cluster:\n",
    "    for p_marker in protocol_markers:\n",
    "        if not (p_marker in scaling_dict.keys()):\n",
    "            scaling_dict[p_marker]={}\n",
    "        if p_marker in col:\n",
    "            break\n",
    "    for marker in segmentation_markers:\n",
    "        if not (marker in scaling_dict[p_marker].keys()):\n",
    "            scaling_dict[p_marker][marker]=[]\n",
    "        if marker in col:\n",
    "            break\n",
    "    scaling_dict[p_marker][marker] += [col]"
   ]
  },
  {
   "cell_type": "code",
   "execution_count": 8,
   "metadata": {},
   "outputs": [],
   "source": [
    "for key in scaling_dict.keys():\n",
    "    for sub_key in scaling_dict[key].keys():\n",
    "        feat_list = scaling_dict[key][sub_key]\n",
    "        df_scaled[feat_list] = df_scaled[feat_list]/len(feat_list) \n",
    "    \n",
    "    "
   ]
  },
  {
   "cell_type": "code",
   "execution_count": 9,
   "metadata": {},
   "outputs": [
    {
     "data": {
      "image/png": "[encoded data removed]",
      "text/plain": [
       "<Figure size 720x504 with 1 Axes>"
      ]
     },
     "metadata": {
      "needs_background": "light"
     },
     "output_type": "display_data"
    }
   ],
   "source": [
    "# plot full dendogram\n",
    "plt.figure(figsize=(10, 7))\n",
    "plt.title(\"Customer Dendograms\")\n",
    "plt.xlabel('cells')\n",
    "plt.ylabel('intra-cluster noise')\n",
    "\n",
    "z = shc.linkage(df_scaled, method='ward')\n",
    "cutree = shc.cut_tree(z, n_clusters= 8)\n",
    "dend = shc.dendrogram(z)\n",
    "plt.show()"
   ]
  },
  {
   "cell_type": "code",
   "execution_count": 25,
   "metadata": {},
   "outputs": [],
   "source": [
    "cutree_1 = pd.DataFrame(shc.cut_tree(z, n_clusters= 8), columns = ['8_clusters'])\n",
    "cutree_2 = pd.DataFrame(shc.cut_tree(z, n_clusters= 9), columns = ['9_clusters'])\n",
    "cutree_3 = pd.DataFrame(shc.cut_tree(z, n_clusters= 10), columns = ['10_clusters'])\n"
   ]
  },
  {
   "cell_type": "code",
   "execution_count": 26,
   "metadata": {},
   "outputs": [
    {
     "data": {
      "text/html": [
       "<div>\n",
       "<style scoped>\n",
       "    .dataframe tbody tr th:only-of-type {\n",
       "        vertical-align: middle;\n",
       "    }\n",
       "\n",
       "    .dataframe tbody tr th {\n",
       "        vertical-align: top;\n",
       "    }\n",
       "\n",
       "    .dataframe thead th {\n",
       "        text-align: right;\n",
       "    }\n",
       "</style>\n",
       "<table border=\"1\" class=\"dataframe\">\n",
       "  <thead>\n",
       "    <tr style=\"text-align: right;\">\n",
       "      <th></th>\n",
       "      <th>8_clusters</th>\n",
       "      <th>9_clusters</th>\n",
       "      <th>10_clusters</th>\n",
       "    </tr>\n",
       "  </thead>\n",
       "  <tbody>\n",
       "    <tr>\n",
       "      <th>0</th>\n",
       "      <td>0</td>\n",
       "      <td>0</td>\n",
       "      <td>0</td>\n",
       "    </tr>\n",
       "    <tr>\n",
       "      <th>1</th>\n",
       "      <td>0</td>\n",
       "      <td>0</td>\n",
       "      <td>0</td>\n",
       "    </tr>\n",
       "    <tr>\n",
       "      <th>2</th>\n",
       "      <td>0</td>\n",
       "      <td>0</td>\n",
       "      <td>0</td>\n",
       "    </tr>\n",
       "    <tr>\n",
       "      <th>3</th>\n",
       "      <td>0</td>\n",
       "      <td>0</td>\n",
       "      <td>0</td>\n",
       "    </tr>\n",
       "    <tr>\n",
       "      <th>4</th>\n",
       "      <td>0</td>\n",
       "      <td>0</td>\n",
       "      <td>0</td>\n",
       "    </tr>\n",
       "    <tr>\n",
       "      <th>...</th>\n",
       "      <td>...</td>\n",
       "      <td>...</td>\n",
       "      <td>...</td>\n",
       "    </tr>\n",
       "    <tr>\n",
       "      <th>644</th>\n",
       "      <td>3</td>\n",
       "      <td>3</td>\n",
       "      <td>3</td>\n",
       "    </tr>\n",
       "    <tr>\n",
       "      <th>645</th>\n",
       "      <td>5</td>\n",
       "      <td>5</td>\n",
       "      <td>6</td>\n",
       "    </tr>\n",
       "    <tr>\n",
       "      <th>646</th>\n",
       "      <td>2</td>\n",
       "      <td>2</td>\n",
       "      <td>2</td>\n",
       "    </tr>\n",
       "    <tr>\n",
       "      <th>647</th>\n",
       "      <td>5</td>\n",
       "      <td>5</td>\n",
       "      <td>6</td>\n",
       "    </tr>\n",
       "    <tr>\n",
       "      <th>648</th>\n",
       "      <td>5</td>\n",
       "      <td>5</td>\n",
       "      <td>5</td>\n",
       "    </tr>\n",
       "  </tbody>\n",
       "</table>\n",
       "<p>649 rows × 3 columns</p>\n",
       "</div>"
      ],
      "text/plain": [
       "     8_clusters  9_clusters  10_clusters\n",
       "0             0           0            0\n",
       "1             0           0            0\n",
       "2             0           0            0\n",
       "3             0           0            0\n",
       "4             0           0            0\n",
       "..          ...         ...          ...\n",
       "644           3           3            3\n",
       "645           5           5            6\n",
       "646           2           2            2\n",
       "647           5           5            6\n",
       "648           5           5            5\n",
       "\n",
       "[649 rows x 3 columns]"
      ]
     },
     "execution_count": 26,
     "metadata": {},
     "output_type": "execute_result"
    }
   ],
   "source": [
    "pd.concat([cutree_1, cutree_2, cutree_3], axis=1)\n",
    "#              , columns = [f'cuttree_{t}' for t in range[3]])"
   ]
  },
  {
   "cell_type": "code",
   "execution_count": 27,
   "metadata": {},
   "outputs": [
    {
     "data": {
      "image/png": "[encoded data removed]",
      "text/plain": [
       "<Figure size 432x288 with 1 Axes>"
      ]
     },
     "metadata": {
      "needs_background": "light"
     },
     "output_type": "display_data"
    }
   ],
   "source": [
    "last = z[-20:, 2]\n",
    "last_rev = last[::-1]\n",
    "idxs = np.arange(1, len(last) + 1)\n",
    "plt.plot(idxs, last_rev)\n",
    "\n",
    "acceleration = np.diff(last, 2)  # 2nd derivative of the distances\n",
    "acceleration_rev = acceleration[::-1]\n",
    "plt.plot(idxs[:-2] + 1, acceleration_rev)\n",
    "plt.title(\"intra-cluster noise VS # of clusters\")\n",
    "plt.xlabel('# of clusters')\n",
    "plt.ylabel('intra-cluster noise')\n",
    "plt.show()"
   ]
  },
  {
   "cell_type": "code",
   "execution_count": 12,
   "metadata": {},
   "outputs": [
    {
     "data": {
      "image/png": "[encoded data removed]",
      "text/plain": [
       "<Figure size 720x504 with 1 Axes>"
      ]
     },
     "metadata": {
      "needs_background": "light"
     },
     "output_type": "display_data"
    }
   ],
   "source": [
    "plt.figure(figsize=(10, 7))\n",
    "plt.title(\"Customer Dendograms\")\n",
    "# z = shc.linkage(df_final, method='ward')\n",
    "# cutree = shc.cut_tree(z, n_clusters= 8)\n",
    "dend = shc.dendrogram(z, truncate_mode='lastp', p = 8)"
   ]
  },
  {
   "cell_type": "code",
   "execution_count": 13,
   "metadata": {},
   "outputs": [],
   "source": [
    "df_cluster_ = pd.concat([df_cluster, pd.DataFrame(cutree)], axis=1)\n",
    "# df_cluster.columns = df.columns.tolist()+['cluster']\n"
   ]
  },
  {
   "cell_type": "code",
   "execution_count": 20,
   "metadata": {},
   "outputs": [],
   "source": [
    "df_cluster_ = pd.concat([df_cluster, pd.DataFrame(cutree)], axis=1)\n",
    "df_cluster_.columns = df_cluster.columns.tolist()+['cluster']\n",
    "\n",
    "scaler = StandardScaler()\n",
    "df_cluster_norm = scaler.fit_transform(df_cluster_)\n",
    "df_cluster_norm = pd.DataFrame(df_cluster_norm, columns = df_cluster_.columns )"
   ]
  },
  {
   "cell_type": "code",
   "execution_count": null,
   "metadata": {},
   "outputs": [],
   "source": [
    "centroids = df_cluster_.groupby('cluster').mean()\n",
    "# centroids = pd.concat([centroids, key], axis =1)"
   ]
  },
  {
   "cell_type": "code",
   "execution_count": null,
   "metadata": {},
   "outputs": [],
   "source": [
    "centroids_norm = df_cluster_norm.groupby('cluster').mean()\n",
    "# centroids_norm = pd.concat([centroids_norm, key], axis =1)"
   ]
  },
  {
   "cell_type": "code",
   "execution_count": null,
   "metadata": {},
   "outputs": [],
   "source": [
    "centroids_norm.to_csv('full_normalized_centroids.csv')\n",
    "centroids.to_csv('centroids_non_norm.csv')\n",
    "df_cluster.to_csv('clustered_data.csv')"
   ]
  },
  {
   "cell_type": "code",
   "execution_count": null,
   "metadata": {},
   "outputs": [],
   "source": []
  }
 ],
 "metadata": {
  "kernelspec": {
   "display_name": "bbp_code_package",
   "language": "python",
   "name": "bbp_code_package"
  },
  "language_info": {
   "codemirror_mode": {
    "name": "ipython",
    "version": 3
   },
   "file_extension": ".py",
   "mimetype": "text/x-python",
   "name": "python",
   "nbconvert_exporter": "python",
   "pygments_lexer": "ipython3",
   "version": "3.9.12"
  }
 },
 "nbformat": 4,
 "nbformat_minor": 2
}
