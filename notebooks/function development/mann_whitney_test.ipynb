{
 "cells": [
  {
   "cell_type": "code",
   "execution_count": 2,
   "id": "4a2a038f",
   "metadata": {},
   "outputs": [],
   "source": [
    "import os\n",
    "import pandas as pd\n",
    "from scipy import io\n",
    "import numpy as np"
   ]
  },
  {
   "cell_type": "code",
   "execution_count": 3,
   "id": "14df2e45",
   "metadata": {},
   "outputs": [],
   "source": [
    "loaded_sp = pd.read_csv('../../data/03_primary/cells_reformated.csv')"
   ]
  },
  {
   "cell_type": "code",
   "execution_count": 4,
   "id": "19dabec2",
   "metadata": {},
   "outputs": [],
   "source": [
    "from scipy.stats import ttest_ind, mannwhitneyu"
   ]
  },
  {
   "cell_type": "code",
   "execution_count": 6,
   "id": "0190f6f1",
   "metadata": {},
   "outputs": [],
   "source": [
    "test_1 = loaded_sp.loc[loaded_sp['cellType'] == 'L2PC']['idrest_mean_ISI_CV_stim_50']\n",
    "\n",
    "test_2 = loaded_sp.loc[loaded_sp['cellType'] != 'L2PC']['idrest_mean_ISI_CV_stim_50']"
   ]
  },
  {
   "cell_type": "code",
   "execution_count": 7,
   "id": "433c6b01",
   "metadata": {},
   "outputs": [],
   "source": [
    "stat, p = mannwhitneyu(\n",
    "                        test_1, test_2, nan_policy=\"omit\"\n",
    "                    )"
   ]
  },
  {
   "cell_type": "code",
   "execution_count": 9,
   "id": "1716367e",
   "metadata": {},
   "outputs": [
    {
     "data": {
      "text/plain": [
       "(627,)"
      ]
     },
     "execution_count": 9,
     "metadata": {},
     "output_type": "execute_result"
    }
   ],
   "source": [
    "test_2.shape"
   ]
  },
  {
   "cell_type": "code",
   "execution_count": 14,
   "id": "141c58a5",
   "metadata": {},
   "outputs": [
    {
     "data": {
      "text/plain": [
       "2"
      ]
     },
     "execution_count": 14,
     "metadata": {},
     "output_type": "execute_result"
    }
   ],
   "source": [
    "len(test_1.unique())"
   ]
  }
 ],
 "metadata": {
  "kernelspec": {
   "display_name": "bbp_code_package",
   "language": "python",
   "name": "bbp_code_package"
  },
  "language_info": {
   "codemirror_mode": {
    "name": "ipython",
    "version": 3
   },
   "file_extension": ".py",
   "mimetype": "text/x-python",
   "name": "python",
   "nbconvert_exporter": "python",
   "pygments_lexer": "ipython3",
   "version": "3.9.12"
  }
 },
 "nbformat": 4,
 "nbformat_minor": 5
}
