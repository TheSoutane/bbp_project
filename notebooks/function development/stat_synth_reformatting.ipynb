{
 "cells": [
  {
   "cell_type": "code",
   "execution_count": 16,
   "id": "0f78d048",
   "metadata": {},
   "outputs": [],
   "source": [
    "import pandas as pd\n"
   ]
  },
  {
   "cell_type": "code",
   "execution_count": 17,
   "id": "825ebe9b",
   "metadata": {},
   "outputs": [],
   "source": [
    "data = pd.read_csv('../../data/04_statistical_analysis/stat_synthesis_1v1.csv')"
   ]
  },
  {
   "cell_type": "code",
   "execution_count": 18,
   "id": "465956da",
   "metadata": {},
   "outputs": [
    {
     "data": {
      "text/html": [
       "<div>\n",
       "<style scoped>\n",
       "    .dataframe tbody tr th:only-of-type {\n",
       "        vertical-align: middle;\n",
       "    }\n",
       "\n",
       "    .dataframe tbody tr th {\n",
       "        vertical-align: top;\n",
       "    }\n",
       "\n",
       "    .dataframe thead th {\n",
       "        text-align: right;\n",
       "    }\n",
       "</style>\n",
       "<table border=\"1\" class=\"dataframe\">\n",
       "  <thead>\n",
       "    <tr style=\"text-align: right;\">\n",
       "      <th></th>\n",
       "      <th>cell_i</th>\n",
       "      <th>cell_j</th>\n",
       "      <th>diff_simplified</th>\n",
       "      <th>diff_0</th>\n",
       "      <th>diff_1</th>\n",
       "      <th>diff_2</th>\n",
       "      <th>diff_3</th>\n",
       "      <th>diff_4</th>\n",
       "    </tr>\n",
       "  </thead>\n",
       "  <tbody>\n",
       "    <tr>\n",
       "      <th>0</th>\n",
       "      <td>Amygdala</td>\n",
       "      <td>CA1PC</td>\n",
       "      <td>[('apwaveform_peak_frequency', 3), ('idrest_se...</td>\n",
       "      <td>['idrest_second_ISI_stim_200' 5.23938463664588...</td>\n",
       "      <td>['apwaveform_peak_frequency_stim_180' 1.007847...</td>\n",
       "      <td>['apwaveform_peak_frequency_stim_140' 1.088989...</td>\n",
       "      <td>['apwaveform_peak_frequency_stim_220' 1.324385...</td>\n",
       "      <td>['idrest_first_AP_voltage_stim_300' 1.46189945...</td>\n",
       "    </tr>\n",
       "    <tr>\n",
       "      <th>1</th>\n",
       "      <td>Amygdala</td>\n",
       "      <td>L2IN</td>\n",
       "      <td>[('idrest_second_ISI', 2), ('idrest_peak_frequ...</td>\n",
       "      <td>['idrest_second_ISI_stim_300' 1.03815655926005...</td>\n",
       "      <td>['idrest_peak_frequency_stim_275' 1.4073580791...</td>\n",
       "      <td>['apwaveform_second_fall_tau_stim_220' 1.71915...</td>\n",
       "      <td>['idrest_second_ISI_stim_275' 2.04525370761306...</td>\n",
       "      <td>['idrest_peak_frequency_stim_300' 2.8852771350...</td>\n",
       "    </tr>\n",
       "    <tr>\n",
       "      <th>2</th>\n",
       "      <td>Amygdala</td>\n",
       "      <td>L2PC</td>\n",
       "      <td>[('idrest_second_ISI', 3), ('idrest_first_ISI'...</td>\n",
       "      <td>['idrest_first_ISI_stim_250' 0.006629970761312...</td>\n",
       "      <td>['idrest_second_ISI_stim_200' 0.00663443077320...</td>\n",
       "      <td>['idrest_second_ISI_stim_250' 0.00828029331276...</td>\n",
       "      <td>['idrest_first_ISI_stim_275' 0.008861536844717...</td>\n",
       "      <td>['idrest_second_ISI_stim_225' 0.00901371002948...</td>\n",
       "    </tr>\n",
       "    <tr>\n",
       "      <th>3</th>\n",
       "      <td>Amygdala</td>\n",
       "      <td>L5FS</td>\n",
       "      <td>[('apwaveform_peak_frequency', 3), ('idrest_pe...</td>\n",
       "      <td>['apwaveform_peak_frequency_stim_140' 5.537148...</td>\n",
       "      <td>['apwaveform_peak_frequency_stim_180' 5.543450...</td>\n",
       "      <td>['apwaveform_peak_frequency_stim_220' 5.935789...</td>\n",
       "      <td>['idrest_peak_frequency_stim_150' 6.5834700366...</td>\n",
       "      <td>['idrest_second_ISI_stim_300' 6.61129874584966...</td>\n",
       "    </tr>\n",
       "    <tr>\n",
       "      <th>4</th>\n",
       "      <td>Amygdala</td>\n",
       "      <td>L5IN</td>\n",
       "      <td>[('idrest_peak_frequency', 4), ('apwaveform_pe...</td>\n",
       "      <td>['idrest_peak_frequency_stim_250' 4.0440704294...</td>\n",
       "      <td>['idrest_peak_frequency_stim_275' 6.1893640333...</td>\n",
       "      <td>['idrest_peak_frequency_stim_225' 1.3797031905...</td>\n",
       "      <td>['idrest_peak_frequency_stim_200' 2.1487212449...</td>\n",
       "      <td>['apwaveform_peak_frequency_stim_180' 3.233136...</td>\n",
       "    </tr>\n",
       "  </tbody>\n",
       "</table>\n",
       "</div>"
      ],
      "text/plain": [
       "     cell_i cell_j                                    diff_simplified  \\\n",
       "0  Amygdala  CA1PC  [('apwaveform_peak_frequency', 3), ('idrest_se...   \n",
       "1  Amygdala   L2IN  [('idrest_second_ISI', 2), ('idrest_peak_frequ...   \n",
       "2  Amygdala   L2PC  [('idrest_second_ISI', 3), ('idrest_first_ISI'...   \n",
       "3  Amygdala   L5FS  [('apwaveform_peak_frequency', 3), ('idrest_pe...   \n",
       "4  Amygdala   L5IN  [('idrest_peak_frequency', 4), ('apwaveform_pe...   \n",
       "\n",
       "                                              diff_0  \\\n",
       "0  ['idrest_second_ISI_stim_200' 5.23938463664588...   \n",
       "1  ['idrest_second_ISI_stim_300' 1.03815655926005...   \n",
       "2  ['idrest_first_ISI_stim_250' 0.006629970761312...   \n",
       "3  ['apwaveform_peak_frequency_stim_140' 5.537148...   \n",
       "4  ['idrest_peak_frequency_stim_250' 4.0440704294...   \n",
       "\n",
       "                                              diff_1  \\\n",
       "0  ['apwaveform_peak_frequency_stim_180' 1.007847...   \n",
       "1  ['idrest_peak_frequency_stim_275' 1.4073580791...   \n",
       "2  ['idrest_second_ISI_stim_200' 0.00663443077320...   \n",
       "3  ['apwaveform_peak_frequency_stim_180' 5.543450...   \n",
       "4  ['idrest_peak_frequency_stim_275' 6.1893640333...   \n",
       "\n",
       "                                              diff_2  \\\n",
       "0  ['apwaveform_peak_frequency_stim_140' 1.088989...   \n",
       "1  ['apwaveform_second_fall_tau_stim_220' 1.71915...   \n",
       "2  ['idrest_second_ISI_stim_250' 0.00828029331276...   \n",
       "3  ['apwaveform_peak_frequency_stim_220' 5.935789...   \n",
       "4  ['idrest_peak_frequency_stim_225' 1.3797031905...   \n",
       "\n",
       "                                              diff_3  \\\n",
       "0  ['apwaveform_peak_frequency_stim_220' 1.324385...   \n",
       "1  ['idrest_second_ISI_stim_275' 2.04525370761306...   \n",
       "2  ['idrest_first_ISI_stim_275' 0.008861536844717...   \n",
       "3  ['idrest_peak_frequency_stim_150' 6.5834700366...   \n",
       "4  ['idrest_peak_frequency_stim_200' 2.1487212449...   \n",
       "\n",
       "                                              diff_4  \n",
       "0  ['idrest_first_AP_voltage_stim_300' 1.46189945...  \n",
       "1  ['idrest_peak_frequency_stim_300' 2.8852771350...  \n",
       "2  ['idrest_second_ISI_stim_225' 0.00901371002948...  \n",
       "3  ['idrest_second_ISI_stim_300' 6.61129874584966...  \n",
       "4  ['apwaveform_peak_frequency_stim_180' 3.233136...  "
      ]
     },
     "execution_count": 18,
     "metadata": {},
     "output_type": "execute_result"
    }
   ],
   "source": [
    "data.head()"
   ]
  },
  {
   "cell_type": "code",
   "execution_count": 8,
   "id": "287921e8",
   "metadata": {},
   "outputs": [
    {
     "data": {
      "text/plain": [
       "1"
      ]
     },
     "execution_count": 8,
     "metadata": {},
     "output_type": "execute_result"
    }
   ],
   "source": [
    "len(data.differenciators[0][0])"
   ]
  },
  {
   "cell_type": "code",
   "execution_count": 9,
   "id": "8da0b178",
   "metadata": {},
   "outputs": [
    {
     "data": {
      "text/plain": [
       "'['"
      ]
     },
     "execution_count": 9,
     "metadata": {},
     "output_type": "execute_result"
    }
   ],
   "source": [
    "data.differenciators[0][0]"
   ]
  },
  {
   "cell_type": "code",
   "execution_count": 11,
   "id": "a2379dc3",
   "metadata": {},
   "outputs": [
    {
     "data": {
      "text/plain": [
       "cell_i             object\n",
       "cell_j             object\n",
       "differenciators    object\n",
       "dtype: object"
      ]
     },
     "execution_count": 11,
     "metadata": {},
     "output_type": "execute_result"
    }
   ],
   "source": [
    "data.dtypes"
   ]
  },
  {
   "cell_type": "code",
   "execution_count": 13,
   "id": "a0ce6f73",
   "metadata": {},
   "outputs": [
    {
     "name": "stdout",
     "output_type": "stream",
     "text": [
      "Object ` data.differenciators[0]` not found.\n"
     ]
    }
   ],
   "source": [
    "? data.differenciators[0]"
   ]
  },
  {
   "cell_type": "code",
   "execution_count": 14,
   "id": "3292b521",
   "metadata": {},
   "outputs": [
    {
     "ename": "SyntaxError",
     "evalue": "unmatched ')' (2225748134.py, line 1)",
     "output_type": "error",
     "traceback": [
      "\u001b[1;36m  File \u001b[1;32m\"C:\\Users\\romla\\AppData\\Local\\Temp\\ipykernel_42368\\2225748134.py\"\u001b[1;36m, line \u001b[1;32m1\u001b[0m\n\u001b[1;33m    for rank in range(n_smallest): stat_synthesis_df[f'diff_{rank}'] = stat_synthesis_df['differenciators'].apply(lambda x: x[rank]))\u001b[0m\n\u001b[1;37m                                                                                                                                    ^\u001b[0m\n\u001b[1;31mSyntaxError\u001b[0m\u001b[1;31m:\u001b[0m unmatched ')'\n"
     ]
    }
   ],
   "source": [
    "for rank in range(n_smallest): stat_synthesis_df[f'diff_{rank}'] = stat_synthesis_df['differenciators'].apply(lambda x: x[rank]))\n"
   ]
  },
  {
   "cell_type": "code",
   "execution_count": 15,
   "id": "5eb76151",
   "metadata": {},
   "outputs": [
    {
     "data": {
      "text/plain": [
       "False"
      ]
     },
     "execution_count": 15,
     "metadata": {},
     "output_type": "execute_result"
    }
   ],
   "source": [
    "0>0\n"
   ]
  }
 ],
 "metadata": {
  "kernelspec": {
   "display_name": "bbp_code_package",
   "language": "python",
   "name": "bbp_code_package"
  },
  "language_info": {
   "codemirror_mode": {
    "name": "ipython",
    "version": 3
   },
   "file_extension": ".py",
   "mimetype": "text/x-python",
   "name": "python",
   "nbconvert_exporter": "python",
   "pygments_lexer": "ipython3",
   "version": "3.9.12"
  }
 },
 "nbformat": 4,
 "nbformat_minor": 5
}
