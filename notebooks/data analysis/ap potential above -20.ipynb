{
 "cells": [
  {
   "cell_type": "code",
   "execution_count": 1,
   "id": "f2870828",
   "metadata": {},
   "outputs": [],
   "source": [
    "import pandas as pd"
   ]
  },
  {
   "cell_type": "code",
   "execution_count": null,
   "id": "39c3dd53",
   "metadata": {},
   "outputs": [],
   "source": []
  },
  {
   "cell_type": "code",
   "execution_count": 2,
   "id": "244e1752",
   "metadata": {},
   "outputs": [],
   "source": [
    "df = pd.read_csv('../../data/03_primary/cells_reformated.csv')"
   ]
  },
  {
   "cell_type": "code",
   "execution_count": 3,
   "id": "613939d5",
   "metadata": {},
   "outputs": [],
   "source": [
    "cell_groups = ['FS', 'IN', 'PC', 'Others', 'Amygdala']"
   ]
  },
  {
   "cell_type": "code",
   "execution_count": 4,
   "id": "c5e33ad0",
   "metadata": {},
   "outputs": [],
   "source": [
    "df_no_da = df.loc[df.cell_group_in_pc.isin(cell_groups)]"
   ]
  },
  {
   "cell_type": "code",
   "execution_count": 5,
   "id": "fde22cbf",
   "metadata": {},
   "outputs": [],
   "source": [
    "ap_cols = []\n",
    "for col in df.columns:\n",
    "    if 'AP_vol' in col: ap_cols.append(col)"
   ]
  },
  {
   "cell_type": "code",
   "execution_count": 6,
   "id": "3bf7d9c4",
   "metadata": {},
   "outputs": [
    {
     "name": "stdout",
     "output_type": "stream",
     "text": [
      "idrest_peak_frequency_stim_50\n",
      "idrest_spikecount_stim_50\n",
      "idrest_stim_lenght_stim_50\n",
      "idrest_vHold_stim_50\n"
     ]
    }
   ],
   "source": [
    "for col in df.columns:\n",
    "    if '_50' in col: print(col)"
   ]
  },
  {
   "cell_type": "code",
   "execution_count": 7,
   "id": "c1c3a758",
   "metadata": {},
   "outputs": [],
   "source": [
    "outliers_df = pd.DataFrame()\n",
    "\n",
    "for col in ap_cols:\n",
    "    df_outliers = df_no_da.loc[(df_no_da[col] > -20) & (df_no_da[col] < -0.3)][[col, 'id', 'cell_group_in_pc']].copy()\n",
    "    df_outliers['feature'] = col\n",
    "    df_outliers.rename(columns={col: 'feature_value'}, inplace=True)\n",
    "    \n",
    "    outliers_df = pd.concat([outliers_df, df_outliers])\n"
   ]
  },
  {
   "cell_type": "code",
   "execution_count": 8,
   "id": "0e2c22c8",
   "metadata": {},
   "outputs": [
    {
     "data": {
      "text/html": [
       "<div>\n",
       "<style scoped>\n",
       "    .dataframe tbody tr th:only-of-type {\n",
       "        vertical-align: middle;\n",
       "    }\n",
       "\n",
       "    .dataframe tbody tr th {\n",
       "        vertical-align: top;\n",
       "    }\n",
       "\n",
       "    .dataframe thead th {\n",
       "        text-align: right;\n",
       "    }\n",
       "</style>\n",
       "<table border=\"1\" class=\"dataframe\">\n",
       "  <thead>\n",
       "    <tr style=\"text-align: right;\">\n",
       "      <th></th>\n",
       "      <th>feature_value</th>\n",
       "      <th>id</th>\n",
       "      <th>cell_group_in_pc</th>\n",
       "      <th>feature</th>\n",
       "    </tr>\n",
       "  </thead>\n",
       "  <tbody>\n",
       "    <tr>\n",
       "      <th>77</th>\n",
       "      <td>-17.058067</td>\n",
       "      <td>121_1</td>\n",
       "      <td>IN</td>\n",
       "      <td>apwaveform_first_AP_voltage_stim_100</td>\n",
       "    </tr>\n",
       "    <tr>\n",
       "      <th>121</th>\n",
       "      <td>-11.608125</td>\n",
       "      <td>176_1</td>\n",
       "      <td>IN</td>\n",
       "      <td>apwaveform_first_AP_voltage_stim_140</td>\n",
       "    </tr>\n",
       "    <tr>\n",
       "      <th>121</th>\n",
       "      <td>-11.611875</td>\n",
       "      <td>176_1</td>\n",
       "      <td>IN</td>\n",
       "      <td>apwaveform_first_AP_voltage_stim_180</td>\n",
       "    </tr>\n",
       "    <tr>\n",
       "      <th>51</th>\n",
       "      <td>-16.231250</td>\n",
       "      <td>103_1</td>\n",
       "      <td>IN</td>\n",
       "      <td>apwaveform_first_AP_voltage_stim_220</td>\n",
       "    </tr>\n",
       "    <tr>\n",
       "      <th>121</th>\n",
       "      <td>-8.463752</td>\n",
       "      <td>176_1</td>\n",
       "      <td>IN</td>\n",
       "      <td>apwaveform_first_AP_voltage_stim_220</td>\n",
       "    </tr>\n",
       "    <tr>\n",
       "      <th>...</th>\n",
       "      <td>...</td>\n",
       "      <td>...</td>\n",
       "      <td>...</td>\n",
       "      <td>...</td>\n",
       "    </tr>\n",
       "    <tr>\n",
       "      <th>132</th>\n",
       "      <td>-4.619774</td>\n",
       "      <td>186_1</td>\n",
       "      <td>Amygdala</td>\n",
       "      <td>idrest_second_AP_voltage_stim_300</td>\n",
       "    </tr>\n",
       "    <tr>\n",
       "      <th>139</th>\n",
       "      <td>-17.196245</td>\n",
       "      <td>190_1</td>\n",
       "      <td>Amygdala</td>\n",
       "      <td>idrest_second_AP_voltage_stim_300</td>\n",
       "    </tr>\n",
       "    <tr>\n",
       "      <th>176</th>\n",
       "      <td>-19.283297</td>\n",
       "      <td>222_1</td>\n",
       "      <td>PC</td>\n",
       "      <td>idrest_second_AP_voltage_stim_300</td>\n",
       "    </tr>\n",
       "    <tr>\n",
       "      <th>273</th>\n",
       "      <td>-19.269089</td>\n",
       "      <td>321_1</td>\n",
       "      <td>Amygdala</td>\n",
       "      <td>idrest_second_AP_voltage_stim_300</td>\n",
       "    </tr>\n",
       "    <tr>\n",
       "      <th>275</th>\n",
       "      <td>-18.999056</td>\n",
       "      <td>324_1</td>\n",
       "      <td>Amygdala</td>\n",
       "      <td>idrest_second_AP_voltage_stim_300</td>\n",
       "    </tr>\n",
       "  </tbody>\n",
       "</table>\n",
       "<p>126 rows × 4 columns</p>\n",
       "</div>"
      ],
      "text/plain": [
       "     feature_value     id cell_group_in_pc  \\\n",
       "77      -17.058067  121_1               IN   \n",
       "121     -11.608125  176_1               IN   \n",
       "121     -11.611875  176_1               IN   \n",
       "51      -16.231250  103_1               IN   \n",
       "121      -8.463752  176_1               IN   \n",
       "..             ...    ...              ...   \n",
       "132      -4.619774  186_1         Amygdala   \n",
       "139     -17.196245  190_1         Amygdala   \n",
       "176     -19.283297  222_1               PC   \n",
       "273     -19.269089  321_1         Amygdala   \n",
       "275     -18.999056  324_1         Amygdala   \n",
       "\n",
       "                                  feature  \n",
       "77   apwaveform_first_AP_voltage_stim_100  \n",
       "121  apwaveform_first_AP_voltage_stim_140  \n",
       "121  apwaveform_first_AP_voltage_stim_180  \n",
       "51   apwaveform_first_AP_voltage_stim_220  \n",
       "121  apwaveform_first_AP_voltage_stim_220  \n",
       "..                                    ...  \n",
       "132     idrest_second_AP_voltage_stim_300  \n",
       "139     idrest_second_AP_voltage_stim_300  \n",
       "176     idrest_second_AP_voltage_stim_300  \n",
       "273     idrest_second_AP_voltage_stim_300  \n",
       "275     idrest_second_AP_voltage_stim_300  \n",
       "\n",
       "[126 rows x 4 columns]"
      ]
     },
     "execution_count": 8,
     "metadata": {},
     "output_type": "execute_result"
    }
   ],
   "source": [
    "outliers_df"
   ]
  },
  {
   "cell_type": "code",
   "execution_count": 12,
   "id": "17a4f204",
   "metadata": {},
   "outputs": [
    {
     "data": {
      "text/plain": [
       "176_1    21\n",
       "103_1    14\n",
       "127_1    11\n",
       "128_1    11\n",
       "129_1    11\n",
       "186_1    10\n",
       "121_1     9\n",
       "109_1     8\n",
       "113_1     6\n",
       "190_1     4\n",
       "87_1      4\n",
       "88_1      4\n",
       "91_1      2\n",
       "92_1      2\n",
       "115_1     2\n",
       "222_1     2\n",
       "71_1      1\n",
       "74_1      1\n",
       "166_1     1\n",
       "321_1     1\n",
       "324_1     1\n",
       "Name: id, dtype: int64"
      ]
     },
     "execution_count": 12,
     "metadata": {},
     "output_type": "execute_result"
    }
   ],
   "source": [
    "outliers_df.id.value_counts()"
   ]
  },
  {
   "cell_type": "code",
   "execution_count": 9,
   "id": "09520077",
   "metadata": {
    "scrolled": false
   },
   "outputs": [],
   "source": [
    "outliers_df.to_csv('ap_potential_above_minus_twenty_V2.csv')"
   ]
  },
  {
   "cell_type": "code",
   "execution_count": 10,
   "id": "ca342587",
   "metadata": {},
   "outputs": [
    {
     "data": {
      "text/plain": [
       "77     True\n",
       "121    True\n",
       "121    True\n",
       "51     True\n",
       "121    True\n",
       "       ... \n",
       "132    True\n",
       "139    True\n",
       "176    True\n",
       "273    True\n",
       "275    True\n",
       "Name: feature_value, Length: 126, dtype: bool"
      ]
     },
     "execution_count": 10,
     "metadata": {},
     "output_type": "execute_result"
    }
   ],
   "source": [
    "outliers_df.feature_value < -0.3"
   ]
  },
  {
   "cell_type": "code",
   "execution_count": 11,
   "id": "1832969e",
   "metadata": {},
   "outputs": [
    {
     "data": {
      "text/plain": [
       "<AxesSubplot:ylabel='Frequency'>"
      ]
     },
     "execution_count": 11,
     "metadata": {},
     "output_type": "execute_result"
    },
    {
     "data": {
      "image/png": "[encoded data removed]",
      "text/plain": [
       "<Figure size 432x288 with 1 Axes>"
      ]
     },
     "metadata": {
      "needs_background": "light"
     },
     "output_type": "display_data"
    }
   ],
   "source": [
    "outliers_df.feature_value.plot.hist()"
   ]
  }
 ],
 "metadata": {
  "kernelspec": {
   "display_name": "bbp_code_package",
   "language": "python",
   "name": "bbp_code_package"
  },
  "language_info": {
   "codemirror_mode": {
    "name": "ipython",
    "version": 3
   },
   "file_extension": ".py",
   "mimetype": "text/x-python",
   "name": "python",
   "nbconvert_exporter": "python",
   "pygments_lexer": "ipython3",
   "version": "3.9.12"
  }
 },
 "nbformat": 4,
 "nbformat_minor": 5
}
