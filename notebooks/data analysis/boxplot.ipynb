{
 "cells": [
  {
   "cell_type": "code",
   "execution_count": 1,
   "id": "360bbd51",
   "metadata": {},
   "outputs": [],
   "source": [
    "import pandas as pd\n",
    "import plotly.express as px\n"
   ]
  },
  {
   "cell_type": "code",
   "execution_count": 2,
   "id": "995a8328",
   "metadata": {},
   "outputs": [
    {
     "data": {
      "text/plain": [
       "apwaveform_protocol_name       37\n",
       "apwaveform_stim_start          37\n",
       "apwaveform_stim_end            37\n",
       "apwaveform_AP_mean_stim_100    37\n",
       "apwaveform_AP_mean_stim_140    37\n",
       "                               ..\n",
       "cellType                        0\n",
       "id                              0\n",
       "has_protocols                   0\n",
       "cell_group_type                 0\n",
       "cell_group_in_pc                0\n",
       "Length: 171, dtype: int64"
      ]
     },
     "execution_count": 2,
     "metadata": {},
     "output_type": "execute_result"
    }
   ],
   "source": [
    "formated_data = pd.read_csv('../../data/03_primary/cells_reformated.csv')\n",
    "formated_data.isna().sum()"
   ]
  },
  {
   "cell_type": "code",
   "execution_count": 3,
   "id": "490476b5",
   "metadata": {},
   "outputs": [],
   "source": [
    "cols_100 = [t for t in formated_data.columns if ('100' in t)]"
   ]
  },
  {
   "cell_type": "code",
   "execution_count": 4,
   "id": "0fbcc846",
   "metadata": {},
   "outputs": [
    {
     "data": {
      "image/png": "[encoded data removed]",
      "text/plain": [
       "<Figure size 432x288 with 1 Axes>"
      ]
     },
     "metadata": {
      "needs_background": "light"
     },
     "output_type": "display_data"
    }
   ],
   "source": [
    "boxplot = formated_data.boxplot(column=['apwaveform_AP_mean_stim_140'], by=['cellType'])\n"
   ]
  },
  {
   "cell_type": "code",
   "execution_count": 7,
   "id": "2208075a",
   "metadata": {},
   "outputs": [
    {
     "data": {
      "application/vnd.plotly.v1+json": {
       "config": {
        "plotlyServerURL": "https://plot.ly"
       },
       "data": [
        {
         "alignmentgroup": "True",
         "boxpoints": "all",
         "hovertemplate": "<b>%{hovertext}</b><br><br>cellType=%{x}<br>apwaveform_AP_mean_stim_140=%{y}<extra></extra>",
         "hovertext": [
          "53_1",
          "54_1",
          "55_1",
          "55_2",
          "56_1",
          "57_1",
          "58_1",
          "59_1",
          "60_1",
          "61_1",
          "62_1",
          "63_1",
          "64_1",
          "65_1",
          "66_1",
          "67_1",
          "68_1",
          "69_1",
          "70_1",
          "71_1",
          "72_1",
          "73_1",
          "74_1",
          "75_1",
          "76_1",
          "77_1",
          "87_1",
          "88_1",
          "89_1",
          "90_1",
          "91_1",
          "92_1",
          "93_1"
         ],
         "legendgroup": "L5FS",
         "marker": {
          "color": "#636efa"
         },
         "name": "L5FS",
         "notched": false,
         "offsetgroup": "L5FS",
         "orientation": "v",
         "showlegend": true,
         "type": "box",
         "x": [
          "L5FS",
          "L5FS",
          "L5FS",
          "L5FS",
          "L5FS",
          "L5FS",
          "L5FS",
          "L5FS",
          "L5FS",
          "L5FS",
          "L5FS",
          "L5FS",
          "L5FS",
          "L5FS",
          "L5FS",
          "L5FS",
          "L5FS",
          "L5FS",
          "L5FS",
          "L5FS",
          "L5FS",
          "L5FS",
          "L5FS",
          "L5FS",
          "L5FS",
          "L5FS",
          "L5FS",
          "L5FS",
          "L5FS",
          "L5FS",
          "L5FS",
          "L5FS",
          "L5FS"
         ],
         "x0": " ",
         "xaxis": "x",
         "y": [
          -37.455832129705705,
          -37.45051189685204,
          -35.46299813537589,
          -34.35658454033773,
          -39.14419978521537,
          -36.36293722619945,
          -39.07680470533746,
          -39.74081222995294,
          -42.21950021906459,
          -35.998260212832825,
          -38.63302274941048,
          -38.763204480383735,
          -37.998585072890975,
          -37.94360251998568,
          -31.757211916736765,
          -33.43031289420396,
          -36.25544642258622,
          -32.908967984447955,
          -29.27447913127832,
          -29.908957882989725,
          -36.733324109901226,
          -31.6394522101666,
          -33.815594147430865,
          -30.42658370992661,
          -36.569812702077066,
          -37.23959786565924,
          -31.355687499557497,
          -24.835435222198228,
          -39.04909905309246,
          -42.09660696587184,
          -28.51788472542852,
          -29.18841165520987,
          -32.23649391053448
         ],
         "y0": " ",
         "yaxis": "y"
        },
        {
         "alignmentgroup": "True",
         "boxpoints": "all",
         "hovertemplate": "<b>%{hovertext}</b><br><br>cellType=%{x}<br>apwaveform_AP_mean_stim_140=%{y}<extra></extra>",
         "hovertext": [
          "78_1",
          "79_1",
          "80_1",
          "81_1",
          "82_1",
          "83_1",
          "84_1",
          "85_1",
          "86_1"
         ],
         "legendgroup": "SNcDA",
         "marker": {
          "color": "#EF553B"
         },
         "name": "SNcDA",
         "notched": false,
         "offsetgroup": "SNcDA",
         "orientation": "v",
         "showlegend": true,
         "type": "box",
         "x": [
          "SNcDA",
          "SNcDA",
          "SNcDA",
          "SNcDA",
          "SNcDA",
          "SNcDA",
          "SNcDA",
          "SNcDA",
          "SNcDA"
         ],
         "x0": " ",
         "xaxis": "x",
         "y": [
          -16.494374687352618,
          -18.02482192794203,
          -15.926250104163266,
          -17.02000130417168,
          -32.9653770858375,
          0,
          -21.155712913024644,
          -16.40037429971948,
          -16.34524842344106
         ],
         "y0": " ",
         "yaxis": "y"
        },
        {
         "alignmentgroup": "True",
         "boxpoints": "all",
         "hovertemplate": "<b>%{hovertext}</b><br><br>cellType=%{x}<br>apwaveform_AP_mean_stim_140=%{y}<extra></extra>",
         "hovertext": [
          "94_1",
          "94_2",
          "99_2",
          "101_1",
          "103_1",
          "105_1",
          "105_2",
          "106_1",
          "107_1",
          "111_1",
          "111_2",
          "113_2",
          "114_1",
          "115_1",
          "115_2",
          "118_1",
          "119_1",
          "120_1",
          "120_2",
          "121_1",
          "123_3",
          "124_1",
          "124_2",
          "124_3",
          "211_1",
          "211_2",
          "213_2"
         ],
         "legendgroup": "L2IN",
         "marker": {
          "color": "#00cc96"
         },
         "name": "L2IN",
         "notched": false,
         "offsetgroup": "L2IN",
         "orientation": "v",
         "showlegend": true,
         "type": "box",
         "x": [
          "L2IN",
          "L2IN",
          "L2IN",
          "L2IN",
          "L2IN",
          "L2IN",
          "L2IN",
          "L2IN",
          "L2IN",
          "L2IN",
          "L2IN",
          "L2IN",
          "L2IN",
          "L2IN",
          "L2IN",
          "L2IN",
          "L2IN",
          "L2IN",
          "L2IN",
          "L2IN",
          "L2IN",
          "L2IN",
          "L2IN",
          "L2IN",
          "L2IN",
          "L2IN",
          "L2IN"
         ],
         "x0": " ",
         "xaxis": "x",
         "y": [
          -18.51498174042229,
          -34.72778358570259,
          -38.09778481169409,
          -45.02712498867878,
          -24.51021169934322,
          -14.529724757529648,
          -43.876248895312855,
          -40.11888006387541,
          -34.97277001694586,
          -31.63220807316705,
          -44.83120467652347,
          -30.19874350099649,
          -14.981331728590176,
          -27.078746527178,
          -35.87678443302738,
          -34.75450253189789,
          -32.57544015522688,
          -43.55307739758366,
          -36.54609788654662,
          -21.312780687428955,
          -19.24026640191537,
          -44.34180124264564,
          -21.648428371668626,
          -33.78519546587409,
          -35.46941174136347,
          -42.653163205989856,
          -23.789025003910496
         ],
         "y0": " ",
         "yaxis": "y"
        },
        {
         "alignmentgroup": "True",
         "boxpoints": "all",
         "hovertemplate": "<b>%{hovertext}</b><br><br>cellType=%{x}<br>apwaveform_AP_mean_stim_140=%{y}<extra></extra>",
         "hovertext": [
          "97_1",
          "97_2",
          "126_1",
          "126_2",
          "126_3",
          "197_1",
          "198_1",
          "199_1",
          "200_1",
          "201_1",
          "202_1",
          "203_1",
          "204_1",
          "205_1",
          "206_1",
          "207_1",
          "208_1",
          "210_1",
          "212_1",
          "212_2",
          "215_1",
          "215_2",
          "217_1",
          "217_2",
          "222_1",
          "223_1",
          "224_1",
          "227_1",
          "228_1",
          "229_1",
          "229_2",
          "230_1",
          "230_2",
          "231_1",
          "231_2",
          "233_1",
          "233_2",
          "234_1",
          "348_1",
          "349_1",
          "350_1",
          "351_1",
          "352_1",
          "353_1",
          "354_1"
         ],
         "legendgroup": "L5PC",
         "marker": {
          "color": "#ab63fa"
         },
         "name": "L5PC",
         "notched": false,
         "offsetgroup": "L5PC",
         "orientation": "v",
         "showlegend": true,
         "type": "box",
         "x": [
          "L5PC",
          "L5PC",
          "L5PC",
          "L5PC",
          "L5PC",
          "L5PC",
          "L5PC",
          "L5PC",
          "L5PC",
          "L5PC",
          "L5PC",
          "L5PC",
          "L5PC",
          "L5PC",
          "L5PC",
          "L5PC",
          "L5PC",
          "L5PC",
          "L5PC",
          "L5PC",
          "L5PC",
          "L5PC",
          "L5PC",
          "L5PC",
          "L5PC",
          "L5PC",
          "L5PC",
          "L5PC",
          "L5PC",
          "L5PC",
          "L5PC",
          "L5PC",
          "L5PC",
          "L5PC",
          "L5PC",
          "L5PC",
          "L5PC",
          "L5PC",
          "L5PC",
          "L5PC",
          "L5PC",
          "L5PC",
          "L5PC",
          "L5PC",
          "L5PC"
         ],
         "x0": " ",
         "xaxis": "x",
         "y": [
          -41.01168171448908,
          -38.26724228580458,
          -34.81240638230732,
          -34.468959231473164,
          -36.30333412734214,
          -38.42764749730198,
          -39.91416760166416,
          -43.009223218255045,
          -43.84866126272093,
          -42.48100594613567,
          -39.80803023877613,
          -23.224999956114512,
          -42.97590588231384,
          -40.49959801434228,
          -53.48332871370183,
          -43.02043280904344,
          -43.211670862684166,
          -35.28681974518077,
          -19.734332273554934,
          -21.81627408198985,
          -15.62365307314655,
          -37.1648960675388,
          -19.29324328673909,
          -40.51278918757965,
          -28.7625674579414,
          -17.39621247065793,
          -17.62578073218441,
          -45.6158556726815,
          -42.59929617273463,
          -41.29129485043558,
          -36.20995926700983,
          -27.2198943167263,
          -35.18557955719954,
          -32.31549174516596,
          -35.69458932672367,
          -22.20540248203038,
          -21.22624987853564,
          -19.54437567927956,
          -37.25711544451107,
          -41.20548384990408,
          -40.68735913637442,
          -40.3802150957283,
          -41.63772912788012,
          -39.15099041624244,
          -39.81153579439362
         ],
         "y0": " ",
         "yaxis": "y"
        },
        {
         "alignmentgroup": "True",
         "boxpoints": "all",
         "hovertemplate": "<b>%{hovertext}</b><br><br>cellType=%{x}<br>apwaveform_AP_mean_stim_140=%{y}<extra></extra>",
         "hovertext": [
          "99_1",
          "99_3",
          "213_1"
         ],
         "legendgroup": "NO",
         "marker": {
          "color": "#FFA15A"
         },
         "name": "NO",
         "notched": false,
         "offsetgroup": "NO",
         "orientation": "v",
         "showlegend": true,
         "type": "box",
         "x": [
          "NO",
          "NO",
          "NO"
         ],
         "x0": " ",
         "xaxis": "x",
         "y": [
          -43.92119990196129,
          0,
          -46.892959684663325
         ],
         "y0": " ",
         "yaxis": "y"
        },
        {
         "alignmentgroup": "True",
         "boxpoints": "all",
         "hovertemplate": "<b>%{hovertext}</b><br><br>cellType=%{x}<br>apwaveform_AP_mean_stim_140=%{y}<extra></extra>",
         "hovertext": [
          "101_2",
          "107_2",
          "109_1",
          "109_2",
          "110_1",
          "110_2",
          "113_1",
          "116_1",
          "116_2",
          "117_1",
          "117_2",
          "121_2",
          "122_1",
          "122_2",
          "123_1",
          "123_2",
          "125_1",
          "127_1",
          "128_1",
          "129_1",
          "209_1",
          "218_1"
         ],
         "legendgroup": "L2PC",
         "marker": {
          "color": "#19d3f3"
         },
         "name": "L2PC",
         "notched": false,
         "offsetgroup": "L2PC",
         "orientation": "v",
         "showlegend": true,
         "type": "box",
         "x": [
          "L2PC",
          "L2PC",
          "L2PC",
          "L2PC",
          "L2PC",
          "L2PC",
          "L2PC",
          "L2PC",
          "L2PC",
          "L2PC",
          "L2PC",
          "L2PC",
          "L2PC",
          "L2PC",
          "L2PC",
          "L2PC",
          "L2PC",
          "L2PC",
          "L2PC",
          "L2PC",
          "L2PC",
          "L2PC"
         ],
         "x0": " ",
         "xaxis": "x",
         "y": [
          -24.27948970890532,
          -42.169990547761664,
          -23.93436516537172,
          -17.17187497798429,
          0,
          -19.955750495834323,
          -24.526949745391345,
          0,
          -20.763611036132605,
          -31.38933263219001,
          -42.97879430789002,
          -18.077566286707192,
          0,
          -32.00158409533015,
          -38.56564797047767,
          -41.26597098633302,
          -32.2799352686155,
          -20.96006295286592,
          -20.96006295286592,
          -20.96006295286592,
          -35.230075321661445,
          -35.1420065178461
         ],
         "y0": " ",
         "yaxis": "y"
        },
        {
         "alignmentgroup": "True",
         "boxpoints": "all",
         "hovertemplate": "<b>%{hovertext}</b><br><br>cellType=%{x}<br>apwaveform_AP_mean_stim_140=%{y}<extra></extra>",
         "hovertext": [
          "104_1",
          "148_1",
          "149_1",
          "150_1",
          "151_1",
          "152_1",
          "153_1",
          "154_1",
          "155_1",
          "156_1",
          "157_1",
          "158_1",
          "159_1",
          "160_1",
          "161_1",
          "162_1",
          "163_1",
          "164_1",
          "165_1",
          "166_1",
          "167_1",
          "168_1",
          "169_1",
          "170_1",
          "171_1",
          "172_1",
          "174_1",
          "175_1",
          "176_1",
          "216_1",
          "219_1",
          "220_1",
          "221_1",
          "225_1",
          "226_1"
         ],
         "legendgroup": "L5IN",
         "marker": {
          "color": "#FF6692"
         },
         "name": "L5IN",
         "notched": false,
         "offsetgroup": "L5IN",
         "orientation": "v",
         "showlegend": true,
         "type": "box",
         "x": [
          "L5IN",
          "L5IN",
          "L5IN",
          "L5IN",
          "L5IN",
          "L5IN",
          "L5IN",
          "L5IN",
          "L5IN",
          "L5IN",
          "L5IN",
          "L5IN",
          "L5IN",
          "L5IN",
          "L5IN",
          "L5IN",
          "L5IN",
          "L5IN",
          "L5IN",
          "L5IN",
          "L5IN",
          "L5IN",
          "L5IN",
          "L5IN",
          "L5IN",
          "L5IN",
          "L5IN",
          "L5IN",
          "L5IN",
          "L5IN",
          "L5IN",
          "L5IN",
          "L5IN",
          "L5IN",
          "L5IN"
         ],
         "x0": " ",
         "xaxis": "x",
         "y": [
          -29.72811641766855,
          -29.60125179550881,
          -40.01705331618053,
          -38.16195673911439,
          -28.751327776950205,
          -32.654437256276246,
          -28.94952801759424,
          -33.63830228614979,
          -35.46497769132607,
          -41.260235107088974,
          0.8825004411001842,
          -14.478749608315187,
          -28.77377697266509,
          -36.03965946196504,
          -35.61059437858646,
          -33.481640476959825,
          -32.05511104472,
          -29.259727907270587,
          -27.90116666857102,
          -30.755249954335483,
          -28.25123004494572,
          -28.67041022794668,
          -30.24585375287499,
          -28.648935864193604,
          -28.62988138994885,
          -31.476989374871646,
          -35.122630458439346,
          -28.66038881322068,
          -11.951874421696852,
          -29.74187376942792,
          -40.20134718822532,
          -34.51006755420481,
          -22.00600039100986,
          -40.32856627460037,
          -19.443529114687166
         ],
         "y0": " ",
         "yaxis": "y"
        },
        {
         "alignmentgroup": "True",
         "boxpoints": "all",
         "hovertemplate": "<b>%{hovertext}</b><br><br>cellType=%{x}<br>apwaveform_AP_mean_stim_140=%{y}<extra></extra>",
         "hovertext": [
          "178_1",
          "179_1",
          "180_1",
          "181_1",
          "182_1",
          "183_1",
          "183_2",
          "184_1",
          "184_2",
          "185_1",
          "186_1",
          "186_2",
          "187_1",
          "188_1",
          "188_2",
          "189_1",
          "189_2",
          "190_1",
          "190_2",
          "191_1",
          "192_1",
          "193_1",
          "194_1",
          "195_1",
          "196_1",
          "308_1",
          "309_1",
          "310_1",
          "313_1",
          "314_1",
          "315_1",
          "316_1",
          "317_1",
          "318_1",
          "319_1",
          "320_1",
          "321_1",
          "322_1",
          "324_1",
          "325_1",
          "326_1",
          "327_1",
          "328_1",
          "329_1",
          "330_1",
          "331_1",
          "332_1",
          "333_1",
          "334_1",
          "335_1",
          "336_1",
          "337_1",
          "338_1",
          "339_1"
         ],
         "legendgroup": "Amygdala",
         "marker": {
          "color": "#B6E880"
         },
         "name": "Amygdala",
         "notched": false,
         "offsetgroup": "Amygdala",
         "orientation": "v",
         "showlegend": true,
         "type": "box",
         "x": [
          "Amygdala",
          "Amygdala",
          "Amygdala",
          "Amygdala",
          "Amygdala",
          "Amygdala",
          "Amygdala",
          "Amygdala",
          "Amygdala",
          "Amygdala",
          "Amygdala",
          "Amygdala",
          "Amygdala",
          "Amygdala",
          "Amygdala",
          "Amygdala",
          "Amygdala",
          "Amygdala",
          "Amygdala",
          "Amygdala",
          "Amygdala",
          "Amygdala",
          "Amygdala",
          "Amygdala",
          "Amygdala",
          "Amygdala",
          "Amygdala",
          "Amygdala",
          "Amygdala",
          "Amygdala",
          "Amygdala",
          "Amygdala",
          "Amygdala",
          "Amygdala",
          "Amygdala",
          "Amygdala",
          "Amygdala",
          "Amygdala",
          "Amygdala",
          "Amygdala",
          "Amygdala",
          "Amygdala",
          "Amygdala",
          "Amygdala",
          "Amygdala",
          "Amygdala",
          "Amygdala",
          "Amygdala",
          "Amygdala",
          "Amygdala",
          "Amygdala",
          "Amygdala",
          "Amygdala",
          "Amygdala"
         ],
         "x0": " ",
         "xaxis": "x",
         "y": [
          -36.06900911425641,
          -36.45140219042735,
          -39.45567066565612,
          -18.59187552858347,
          -33.44715638760051,
          -37.186830693272185,
          -37.134389773687765,
          -15.07713662153931,
          -41.49296766550036,
          -35.048771760186014,
          -27.20342467864469,
          -18.86269349947258,
          -34.9800727550368,
          -36.02027091246433,
          -18.04392181199902,
          -16.96869715160177,
          -38.2352132212036,
          -14.49092543630628,
          -20.339803340667785,
          -37.65894263790427,
          -35.0888754631531,
          -30.75068268692094,
          -18.0216176713742,
          -34.36827623218122,
          -34.36827623218122,
          -36.24537332753108,
          -43.24111027254151,
          -40.34309073466338,
          -17.65913789864288,
          -17.272715514043124,
          -30.706507335256827,
          -34.76933975225259,
          -31.592472613127786,
          -34.30037801103518,
          -31.8831261985145,
          -31.73555451751864,
          -30.336072205577985,
          -36.19226934828359,
          -31.8514762777714,
          -35.66515516474388,
          -34.59423330318765,
          -33.83092774356237,
          -33.97684119331777,
          -36.45676244676058,
          -34.98583234379353,
          -35.53489414549912,
          -35.15200525003961,
          -17.811315171527614,
          -31.8494798175448,
          -33.31739122596058,
          -36.50422407025596,
          -29.36623406405129,
          -34.13781594225267,
          -35.201256077899714
         ],
         "y0": " ",
         "yaxis": "y"
        },
        {
         "alignmentgroup": "True",
         "boxpoints": "all",
         "hovertemplate": "<b>%{hovertext}</b><br><br>cellType=%{x}<br>apwaveform_AP_mean_stim_140=%{y}<extra></extra>",
         "hovertext": [
          "235_1",
          "237_1",
          "238_1"
         ],
         "legendgroup": "DA",
         "marker": {
          "color": "#FF97FF"
         },
         "name": "DA",
         "notched": false,
         "offsetgroup": "DA",
         "orientation": "v",
         "showlegend": true,
         "type": "box",
         "x": [
          "DA",
          "DA",
          "DA"
         ],
         "x0": " ",
         "xaxis": "x",
         "y": [
          -18.947500701696114,
          -39.18540202190397,
          0
         ],
         "y0": " ",
         "yaxis": "y"
        },
        {
         "alignmentgroup": "True",
         "boxpoints": "all",
         "hovertemplate": "<b>%{hovertext}</b><br><br>cellType=%{x}<br>apwaveform_AP_mean_stim_140=%{y}<extra></extra>",
         "hovertext": [
          "239_1",
          "240_1",
          "241_1",
          "242_1",
          "243_1",
          "245_1",
          "246_1",
          "247_1",
          "248_1",
          "249_1",
          "250_1",
          "312_1",
          "340_1",
          "341_1",
          "342_1",
          "343_1",
          "344_1",
          "345_1",
          "346_1",
          "347_1",
          "355_1",
          "356_1",
          "357_1",
          "358_1",
          "359_1",
          "360_1",
          "361_1",
          "362_1",
          "363_1",
          "364_1",
          "365_1",
          "366_1",
          "367_1",
          "368_1",
          "369_1",
          "370_1",
          "371_1",
          "372_1",
          "373_1",
          "374_1",
          "375_1",
          "376_1"
         ],
         "legendgroup": "CA1PC",
         "marker": {
          "color": "#FECB52"
         },
         "name": "CA1PC",
         "notched": false,
         "offsetgroup": "CA1PC",
         "orientation": "v",
         "showlegend": true,
         "type": "box",
         "x": [
          "CA1PC",
          "CA1PC",
          "CA1PC",
          "CA1PC",
          "CA1PC",
          "CA1PC",
          "CA1PC",
          "CA1PC",
          "CA1PC",
          "CA1PC",
          "CA1PC",
          "CA1PC",
          "CA1PC",
          "CA1PC",
          "CA1PC",
          "CA1PC",
          "CA1PC",
          "CA1PC",
          "CA1PC",
          "CA1PC",
          "CA1PC",
          "CA1PC",
          "CA1PC",
          "CA1PC",
          "CA1PC",
          "CA1PC",
          "CA1PC",
          "CA1PC",
          "CA1PC",
          "CA1PC",
          "CA1PC",
          "CA1PC",
          "CA1PC",
          "CA1PC",
          "CA1PC",
          "CA1PC",
          "CA1PC",
          "CA1PC",
          "CA1PC",
          "CA1PC",
          "CA1PC",
          "CA1PC"
         ],
         "x0": " ",
         "xaxis": "x",
         "y": [
          -37.133103857427386,
          -41.22504041370951,
          -46.87638339600392,
          -47.48938755591085,
          -45.60652002980564,
          -39.3242703340791,
          -43.78991863793273,
          -40.49286054180671,
          -40.99635428924631,
          -42.34294734807099,
          -38.56271149380186,
          -43.29218548920723,
          -41.29333151002779,
          -43.34843358236877,
          -45.4782175685359,
          -43.67815422538075,
          -46.92347491048092,
          -41.06294375061757,
          -39.45741002612793,
          -59.23115976656398,
          -38.252010137808426,
          -42.1398955895377,
          -42.49719170645408,
          -41.734979147562605,
          -43.788920153391736,
          -34.08812766892374,
          -40.21983322599238,
          -44.92738611312743,
          -45.80310811777344,
          -42.46400352580994,
          -43.48063140057957,
          -45.87094423174646,
          -45.57195696627467,
          -44.7473918104135,
          -40.84310904221485,
          -47.37327456220582,
          -48.97385867916467,
          -42.67732495552648,
          -45.49378081256154,
          -45.724726788224366,
          -42.840103810965886,
          -42.56063968502468
         ],
         "y0": " ",
         "yaxis": "y"
        },
        {
         "alignmentgroup": "True",
         "boxpoints": "all",
         "hovertemplate": "<b>%{hovertext}</b><br><br>cellType=%{x}<br>apwaveform_AP_mean_stim_140=%{y}<extra></extra>",
         "hovertext": [
          "251_1",
          "252_1",
          "253_1",
          "254_1",
          "255_1",
          "256_1",
          "257_1",
          "258_1",
          "259_1",
          "260_1",
          "261_1",
          "262_1",
          "263_1",
          "264_1",
          "265_1",
          "266_1",
          "267_1",
          "268_1",
          "269_1",
          "270_1",
          "271_1",
          "272_1",
          "273_1",
          "274_1",
          "275_1",
          "276_1",
          "277_1",
          "278_1",
          "279_1",
          "280_1",
          "282_1",
          "283_1",
          "284_1",
          "285_1",
          "286_1",
          "287_1",
          "288_1",
          "289_1",
          "290_1",
          "291_1",
          "293_1",
          "294_1",
          "295_1",
          "296_1",
          "297_1",
          "298_1",
          "299_1",
          "300_1",
          "300_2",
          "301_1",
          "302_1",
          "303_1",
          "304_1",
          "306_1",
          "307_1",
          "377_1",
          "378_1",
          "379_1",
          "380_1",
          "381_1",
          "382_1",
          "383_1",
          "385_1",
          "386_1",
          "387_1",
          "388_1",
          "389_1",
          "391_1",
          "392_1",
          "393_1",
          "394_1",
          "395_1",
          "396_1",
          "397_1",
          "398_1",
          "399_1",
          "400_1",
          "401_1",
          "402_1",
          "403_1",
          "404_1",
          "405_1",
          "406_1",
          "407_1",
          "408_1",
          "409_1",
          "410_1",
          "411_1",
          "412_1",
          "413_1",
          "414_1",
          "415_1",
          "416_1",
          "418_1",
          "419_1",
          "420_1",
          "421_1",
          "422_1",
          "423_1",
          "424_1",
          "425_1",
          "426_1",
          "427_1",
          "428_1",
          "429_1",
          "430_1"
         ],
         "legendgroup": "SNcDAProj",
         "marker": {
          "color": "#636efa"
         },
         "name": "SNcDAProj",
         "notched": false,
         "offsetgroup": "SNcDAProj",
         "orientation": "v",
         "showlegend": true,
         "type": "box",
         "x": [
          "SNcDAProj",
          "SNcDAProj",
          "SNcDAProj",
          "SNcDAProj",
          "SNcDAProj",
          "SNcDAProj",
          "SNcDAProj",
          "SNcDAProj",
          "SNcDAProj",
          "SNcDAProj",
          "SNcDAProj",
          "SNcDAProj",
          "SNcDAProj",
          "SNcDAProj",
          "SNcDAProj",
          "SNcDAProj",
          "SNcDAProj",
          "SNcDAProj",
          "SNcDAProj",
          "SNcDAProj",
          "SNcDAProj",
          "SNcDAProj",
          "SNcDAProj",
          "SNcDAProj",
          "SNcDAProj",
          "SNcDAProj",
          "SNcDAProj",
          "SNcDAProj",
          "SNcDAProj",
          "SNcDAProj",
          "SNcDAProj",
          "SNcDAProj",
          "SNcDAProj",
          "SNcDAProj",
          "SNcDAProj",
          "SNcDAProj",
          "SNcDAProj",
          "SNcDAProj",
          "SNcDAProj",
          "SNcDAProj",
          "SNcDAProj",
          "SNcDAProj",
          "SNcDAProj",
          "SNcDAProj",
          "SNcDAProj",
          "SNcDAProj",
          "SNcDAProj",
          "SNcDAProj",
          "SNcDAProj",
          "SNcDAProj",
          "SNcDAProj",
          "SNcDAProj",
          "SNcDAProj",
          "SNcDAProj",
          "SNcDAProj",
          "SNcDAProj",
          "SNcDAProj",
          "SNcDAProj",
          "SNcDAProj",
          "SNcDAProj",
          "SNcDAProj",
          "SNcDAProj",
          "SNcDAProj",
          "SNcDAProj",
          "SNcDAProj",
          "SNcDAProj",
          "SNcDAProj",
          "SNcDAProj",
          "SNcDAProj",
          "SNcDAProj",
          "SNcDAProj",
          "SNcDAProj",
          "SNcDAProj",
          "SNcDAProj",
          "SNcDAProj",
          "SNcDAProj",
          "SNcDAProj",
          "SNcDAProj",
          "SNcDAProj",
          "SNcDAProj",
          "SNcDAProj",
          "SNcDAProj",
          "SNcDAProj",
          "SNcDAProj",
          "SNcDAProj",
          "SNcDAProj",
          "SNcDAProj",
          "SNcDAProj",
          "SNcDAProj",
          "SNcDAProj",
          "SNcDAProj",
          "SNcDAProj",
          "SNcDAProj",
          "SNcDAProj",
          "SNcDAProj",
          "SNcDAProj",
          "SNcDAProj",
          "SNcDAProj",
          "SNcDAProj",
          "SNcDAProj",
          "SNcDAProj",
          "SNcDAProj",
          "SNcDAProj",
          "SNcDAProj",
          "SNcDAProj",
          "SNcDAProj"
         ],
         "x0": " ",
         "xaxis": "x",
         "y": [
          -35.668318315389755,
          0,
          -34.39812751856741,
          -14.887874855412909,
          0,
          -31.38053347949458,
          -31.65675149364074,
          -30.97187531344668,
          -15.941873886612306,
          -32.45478909374732,
          -16.245417691428834,
          -33.98708259510697,
          -37.67728223810161,
          -17.959374329144463,
          -30.28749921222285,
          -20.06124903149683,
          -15.291249493783022,
          -16.861874016245345,
          -33.105233576453266,
          -15.947500208774668,
          -13.494375163912116,
          -17.311875506710322,
          -37.31765436684191,
          -15.347430455800987,
          -38.50437384079704,
          0,
          -17.259999343156192,
          -31.06868174453728,
          -33.37579166412684,
          -16.06538977667949,
          -18.555267017808013,
          -17.581623610999657,
          -15.64100085825226,
          -15.582498825507846,
          0,
          -15.63218789502344,
          -27.30548515540384,
          -15.418749453515328,
          -31.66191725177246,
          -29.18287319762381,
          -11.908751607387387,
          -16.22312525723537,
          -18.670521804925134,
          -16.3640015498892,
          -31.54500091146684,
          -15.50437418210232,
          -15.037083874789433,
          -15.539999835702677,
          -13.635629045431765,
          -14.607749596084783,
          -30.377809815801825,
          -32.652146638301915,
          -14.738749958349375,
          -16.846250276439996,
          0,
          -18.632588298726954,
          -20.33500084168676,
          -16.495672824082337,
          0,
          -15.348125178356964,
          -34.42421798225715,
          -18.947500701696114,
          -39.18540202190397,
          0,
          -14.53787590962068,
          -30.730875847847585,
          -30.17974886328281,
          0,
          0,
          0,
          -31.210830709207663,
          -17.256796884531237,
          -15.442232025782804,
          -16.34812424304917,
          -16.62892762381703,
          -15.70887398803116,
          -16.41624976141715,
          0,
          -16.24796980059269,
          -20.680624820912435,
          -15.9056236924209,
          -33.70822777306463,
          0,
          -15.15395817159319,
          -16.78937455296595,
          -14.488748753780705,
          -16.760875039755494,
          -13.330624946870731,
          0,
          -14.956041362478004,
          -19.336879297356823,
          -15.801250864150418,
          -23.009686995261315,
          -16.352812992855515,
          -17.378500989572245,
          -18.697500194201115,
          -32.12312745830384,
          -19.5725010731322,
          0,
          -17.23900146033064,
          -16.014374685009194,
          0,
          -17.966039959676806,
          -14.444643570109925,
          0,
          -15.073124421854748
         ],
         "y0": " ",
         "yaxis": "y"
        },
        {
         "alignmentgroup": "True",
         "boxpoints": "all",
         "hovertemplate": "<b>%{hovertext}</b><br><br>cellType=%{x}<br>apwaveform_AP_mean_stim_140=%{y}<extra></extra>",
         "hovertext": [
          "431_1",
          "432_1",
          "433_1",
          "434_1",
          "435_1",
          "436_1",
          "437_1",
          "438_1",
          "439_1",
          "440_1",
          "441_1",
          "442_1",
          "443_1",
          "444_1",
          "445_1",
          "446_1",
          "447_1",
          "448_1",
          "449_1",
          "450_1",
          "451_1",
          "453_1",
          "454_1",
          "455_1",
          "456_1",
          "457_1",
          "458_1",
          "459_1",
          "460_1",
          "462_1",
          "463_1",
          "464_1",
          "465_1",
          "466_1",
          "467_1",
          "468_1",
          "469_1",
          "470_1",
          "471_1",
          "472_1",
          "473_1",
          "474_1",
          "475_1",
          "476_1",
          "477_1",
          "478_1",
          "479_1",
          "480_1",
          "481_1",
          "482_1",
          "483_1",
          "484_1",
          "485_1",
          "486_1",
          "487_1",
          "488_1",
          "489_1",
          "490_1",
          "491_1",
          "492_1",
          "493_1",
          "494_1",
          "495_1",
          "496_1",
          "497_1",
          "498_1",
          "499_1",
          "500_1",
          "501_1",
          "502_1",
          "503_1",
          "504_1",
          "505_1",
          "506_1",
          "507_1",
          "508_1",
          "509_1",
          "510_1",
          "511_1",
          "512_1",
          "513_1",
          "514_1",
          "515_1",
          "516_1",
          "517_1",
          "518_1",
          "519_1",
          "520_1",
          "521_1",
          "522_1"
         ],
         "legendgroup": "DAFill",
         "marker": {
          "color": "#EF553B"
         },
         "name": "DAFill",
         "notched": false,
         "offsetgroup": "DAFill",
         "orientation": "v",
         "showlegend": true,
         "type": "box",
         "x": [
          "DAFill",
          "DAFill",
          "DAFill",
          "DAFill",
          "DAFill",
          "DAFill",
          "DAFill",
          "DAFill",
          "DAFill",
          "DAFill",
          "DAFill",
          "DAFill",
          "DAFill",
          "DAFill",
          "DAFill",
          "DAFill",
          "DAFill",
          "DAFill",
          "DAFill",
          "DAFill",
          "DAFill",
          "DAFill",
          "DAFill",
          "DAFill",
          "DAFill",
          "DAFill",
          "DAFill",
          "DAFill",
          "DAFill",
          "DAFill",
          "DAFill",
          "DAFill",
          "DAFill",
          "DAFill",
          "DAFill",
          "DAFill",
          "DAFill",
          "DAFill",
          "DAFill",
          "DAFill",
          "DAFill",
          "DAFill",
          "DAFill",
          "DAFill",
          "DAFill",
          "DAFill",
          "DAFill",
          "DAFill",
          "DAFill",
          "DAFill",
          "DAFill",
          "DAFill",
          "DAFill",
          "DAFill",
          "DAFill",
          "DAFill",
          "DAFill",
          "DAFill",
          "DAFill",
          "DAFill",
          "DAFill",
          "DAFill",
          "DAFill",
          "DAFill",
          "DAFill",
          "DAFill",
          "DAFill",
          "DAFill",
          "DAFill",
          "DAFill",
          "DAFill",
          "DAFill",
          "DAFill",
          "DAFill",
          "DAFill",
          "DAFill",
          "DAFill",
          "DAFill",
          "DAFill",
          "DAFill",
          "DAFill",
          "DAFill",
          "DAFill",
          "DAFill",
          "DAFill",
          "DAFill",
          "DAFill",
          "DAFill",
          "DAFill",
          "DAFill"
         ],
         "x0": " ",
         "xaxis": "x",
         "y": [
          -17.021015739153988,
          0,
          -17.616717070219913,
          -16.629375744912274,
          -11.402290937855796,
          -15.570249386736975,
          -14.917125053686537,
          0,
          -35.32212769322588,
          0,
          -16.362500607771864,
          -16.199999204802268,
          -17.004377623914394,
          -37.607168178959945,
          -30.91862098215138,
          -16.559749749828438,
          -15.33531163771733,
          -15.689374472754794,
          -15.810208104198033,
          -13.17901749631539,
          -17.449168004609326,
          -16.900625045037085,
          -37.57262645573062,
          -17.241042572557195,
          0,
          -15.525625983569808,
          -16.845694727855896,
          -27.196249401815457,
          -15.739217990301093,
          -17.391874799014364,
          -15.52437451517966,
          -27.528249855502903,
          -15.233839059725303,
          0,
          -14.41625036558658,
          -14.68687445243484,
          -33.86550073480616,
          0,
          -34.92687470153835,
          -33.28325087652783,
          -14.75374866975606,
          -17.289999701984375,
          -19.459378312953422,
          0,
          -16.55791739345595,
          -14.53375028979089,
          -15.68187583533292,
          0,
          -18.884999092960623,
          -35.50368854483562,
          -16.985454447102427,
          -16.40062441271005,
          -15.169844298425152,
          -17.160624193072707,
          -15.953279847508922,
          0,
          -30.11900079940148,
          -27.150528591647102,
          -15.02562497054187,
          0,
          -16.790547338009585,
          -16.900626013545157,
          -17.236874196694572,
          -18.76712487517567,
          -18.021456065737045,
          -18.20562547051669,
          -16.530002026283103,
          -16.977343685044307,
          -30.95034768581789,
          -34.000625060901626,
          -15.4399996913985,
          -14.522811853813336,
          -13.088750581504732,
          0,
          0,
          0,
          -14.75296815465111,
          -30.723948677992865,
          -15.611998783148236,
          -31.995694851969027,
          -29.230623995738867,
          -37.661251292036496,
          -12.457749262812085,
          0,
          -34.1503121331788,
          -11.816875175086356,
          -15.85874836496623,
          -19.32625266472608,
          -15.066873760727354,
          -17.34212539345132
         ],
         "y0": " ",
         "yaxis": "y"
        },
        {
         "alignmentgroup": "True",
         "boxpoints": "all",
         "hovertemplate": "<b>%{hovertext}</b><br><br>cellType=%{x}<br>apwaveform_AP_mean_stim_140=%{y}<extra></extra>",
         "hovertext": [
          "523_1",
          "524_1",
          "525_1",
          "526_1",
          "527_1",
          "528_1",
          "529_1",
          "530_1",
          "531_1",
          "532_1",
          "533_1",
          "534_1",
          "535_1",
          "536_1",
          "537_1",
          "538_1",
          "539_1",
          "540_1",
          "541_1",
          "542_1",
          "543_1",
          "545_1",
          "546_1",
          "547_1",
          "548_1",
          "549_1",
          "550_1",
          "551_1",
          "552_1",
          "554_1",
          "555_1",
          "555_2",
          "557_1",
          "559_1",
          "560_1",
          "561_1",
          "562_1",
          "563_1",
          "564_1",
          "565_1",
          "566_1",
          "567_1",
          "568_1",
          "569_1",
          "570_1",
          "571_1",
          "571_2"
         ],
         "legendgroup": "DA60",
         "marker": {
          "color": "#00cc96"
         },
         "name": "DA60",
         "notched": false,
         "offsetgroup": "DA60",
         "orientation": "v",
         "showlegend": true,
         "type": "box",
         "x": [
          "DA60",
          "DA60",
          "DA60",
          "DA60",
          "DA60",
          "DA60",
          "DA60",
          "DA60",
          "DA60",
          "DA60",
          "DA60",
          "DA60",
          "DA60",
          "DA60",
          "DA60",
          "DA60",
          "DA60",
          "DA60",
          "DA60",
          "DA60",
          "DA60",
          "DA60",
          "DA60",
          "DA60",
          "DA60",
          "DA60",
          "DA60",
          "DA60",
          "DA60",
          "DA60",
          "DA60",
          "DA60",
          "DA60",
          "DA60",
          "DA60",
          "DA60",
          "DA60",
          "DA60",
          "DA60",
          "DA60",
          "DA60",
          "DA60",
          "DA60",
          "DA60",
          "DA60",
          "DA60",
          "DA60"
         ],
         "x0": " ",
         "xaxis": "x",
         "y": [
          null,
          null,
          null,
          null,
          null,
          null,
          null,
          null,
          null,
          null,
          null,
          null,
          null,
          null,
          -37.054062968434096,
          -32.355295878876206,
          -40.88167828831076,
          -31.74624077603245,
          -16.189375812014244,
          -26.77500025489772,
          -33.92604285494882,
          -30.149345851681407,
          -16.498750347619907,
          -36.54648800102353,
          -18.21843765370657,
          -16.900311488605332,
          0,
          -32.406668405723224,
          -17.2089563679103,
          -30.767317701000724,
          -14.399017457892263,
          -16.938750889598683,
          null,
          null,
          null,
          null,
          null,
          null,
          null,
          -36.14075001469831,
          -33.64352024051187,
          -37.77332034220471,
          -33.25854216349708,
          -30.78437505430678,
          -13.554624260637071,
          -20.65674881709777,
          -14.10374978082409
         ],
         "y0": " ",
         "yaxis": "y"
        },
        {
         "alignmentgroup": "True",
         "boxpoints": "all",
         "hovertemplate": "<b>%{hovertext}</b><br><br>cellType=%{x}<br>apwaveform_AP_mean_stim_140=%{y}<extra></extra>",
         "hovertext": [
          "573_1",
          "574_1",
          "575_1",
          "576_1",
          "577_1"
         ],
         "legendgroup": "DAP0",
         "marker": {
          "color": "#ab63fa"
         },
         "name": "DAP0",
         "notched": false,
         "offsetgroup": "DAP0",
         "orientation": "v",
         "showlegend": true,
         "type": "box",
         "x": [
          "DAP0",
          "DAP0",
          "DAP0",
          "DAP0",
          "DAP0"
         ],
         "x0": " ",
         "xaxis": "x",
         "y": [
          null,
          null,
          null,
          null,
          null
         ],
         "y0": " ",
         "yaxis": "y"
        },
        {
         "alignmentgroup": "True",
         "boxpoints": "all",
         "hovertemplate": "<b>%{hovertext}</b><br><br>cellType=%{x}<br>apwaveform_AP_mean_stim_140=%{y}<extra></extra>",
         "hovertext": [
          "578_1",
          "579_1",
          "580_1",
          "582_1",
          "583_1",
          "584_1",
          "585_1"
         ],
         "legendgroup": "DAP2",
         "marker": {
          "color": "#FFA15A"
         },
         "name": "DAP2",
         "notched": false,
         "offsetgroup": "DAP2",
         "orientation": "v",
         "showlegend": true,
         "type": "box",
         "x": [
          "DAP2",
          "DAP2",
          "DAP2",
          "DAP2",
          "DAP2",
          "DAP2",
          "DAP2"
         ],
         "x0": " ",
         "xaxis": "x",
         "y": [
          null,
          null,
          null,
          null,
          null,
          null,
          null
         ],
         "y0": " ",
         "yaxis": "y"
        },
        {
         "alignmentgroup": "True",
         "boxpoints": "all",
         "hovertemplate": "<b>%{hovertext}</b><br><br>cellType=%{x}<br>apwaveform_AP_mean_stim_140=%{y}<extra></extra>",
         "hovertext": [
          "586_1",
          "587_1",
          "588_1",
          "590_1"
         ],
         "legendgroup": "DAP3",
         "marker": {
          "color": "#19d3f3"
         },
         "name": "DAP3",
         "notched": false,
         "offsetgroup": "DAP3",
         "orientation": "v",
         "showlegend": true,
         "type": "box",
         "x": [
          "DAP3",
          "DAP3",
          "DAP3",
          "DAP3"
         ],
         "x0": " ",
         "xaxis": "x",
         "y": [
          null,
          null,
          null,
          null
         ],
         "y0": " ",
         "yaxis": "y"
        },
        {
         "alignmentgroup": "True",
         "boxpoints": "all",
         "hovertemplate": "<b>%{hovertext}</b><br><br>cellType=%{x}<br>apwaveform_AP_mean_stim_140=%{y}<extra></extra>",
         "hovertext": [
          "591_1",
          "592_1",
          "593_1",
          "594_1",
          "595_1",
          "596_1",
          "597_1",
          "598_1",
          "599_1",
          "600_1",
          "601_1",
          "602_1",
          "603_1",
          "604_1"
         ],
         "legendgroup": "DAP4",
         "marker": {
          "color": "#FF6692"
         },
         "name": "DAP4",
         "notched": false,
         "offsetgroup": "DAP4",
         "orientation": "v",
         "showlegend": true,
         "type": "box",
         "x": [
          "DAP4",
          "DAP4",
          "DAP4",
          "DAP4",
          "DAP4",
          "DAP4",
          "DAP4",
          "DAP4",
          "DAP4",
          "DAP4",
          "DAP4",
          "DAP4",
          "DAP4",
          "DAP4"
         ],
         "x0": " ",
         "xaxis": "x",
         "y": [
          -14.669124877457206,
          -12.691874185843268,
          -26.872875460740303,
          -28.68932247261782,
          -28.83925000391917,
          9.623124392097514,
          -12.775624449807411,
          -13.181874917187264,
          -27.60275068022037,
          -32.93219023830296,
          -31.280251722080493,
          13.397497595605596,
          -33.6255839835223,
          -13.41395934479364
         ],
         "y0": " ",
         "yaxis": "y"
        },
        {
         "alignmentgroup": "True",
         "boxpoints": "all",
         "hovertemplate": "<b>%{hovertext}</b><br><br>cellType=%{x}<br>apwaveform_AP_mean_stim_140=%{y}<extra></extra>",
         "hovertext": [
          "605_1",
          "606_1",
          "607_1",
          "608_1",
          "609_1",
          "610_1",
          "611_1",
          "612_1",
          "613_1",
          "614_1"
         ],
         "legendgroup": "DAFillP4",
         "marker": {
          "color": "#B6E880"
         },
         "name": "DAFillP4",
         "notched": false,
         "offsetgroup": "DAFillP4",
         "orientation": "v",
         "showlegend": true,
         "type": "box",
         "x": [
          "DAFillP4",
          "DAFillP4",
          "DAFillP4",
          "DAFillP4",
          "DAFillP4",
          "DAFillP4",
          "DAFillP4",
          "DAFillP4",
          "DAFillP4",
          "DAFillP4"
         ],
         "x0": " ",
         "xaxis": "x",
         "y": [
          10.813751065090612,
          -13.916249718500833,
          -26.43379476545968,
          -25.913906027155463,
          -12.234642830756966,
          -11.159750028299884,
          -12.98705292621421,
          0,
          -27.483593403341622,
          -1.6067178113348266
         ],
         "y0": " ",
         "yaxis": "y"
        },
        {
         "alignmentgroup": "True",
         "boxpoints": "all",
         "hovertemplate": "<b>%{hovertext}</b><br><br>cellType=%{x}<br>apwaveform_AP_mean_stim_140=%{y}<extra></extra>",
         "hovertext": [
          "615_1",
          "616_1",
          "617_1",
          "618_1",
          "619_1",
          "620_1",
          "621_1"
         ],
         "legendgroup": "DAP5",
         "marker": {
          "color": "#FF97FF"
         },
         "name": "DAP5",
         "notched": false,
         "offsetgroup": "DAP5",
         "orientation": "v",
         "showlegend": true,
         "type": "box",
         "x": [
          "DAP5",
          "DAP5",
          "DAP5",
          "DAP5",
          "DAP5",
          "DAP5",
          "DAP5"
         ],
         "x0": " ",
         "xaxis": "x",
         "y": [
          -31.50023385065744,
          -15.717767300742452,
          -15.310207635147057,
          -23.90583255476717,
          -14.46281172809373,
          14.383436810228565,
          -11.4806272943891
         ],
         "y0": " ",
         "yaxis": "y"
        },
        {
         "alignmentgroup": "True",
         "boxpoints": "all",
         "hovertemplate": "<b>%{hovertext}</b><br><br>cellType=%{x}<br>apwaveform_AP_mean_stim_140=%{y}<extra></extra>",
         "hovertext": [
          "622_1",
          "623_1",
          "624_1",
          "625_1",
          "626_1",
          "627_1",
          "628_1",
          "629_1",
          "630_1",
          "631_1",
          "632_1"
         ],
         "legendgroup": "DAFillP5",
         "marker": {
          "color": "#FECB52"
         },
         "name": "DAFillP5",
         "notched": false,
         "offsetgroup": "DAFillP5",
         "orientation": "v",
         "showlegend": true,
         "type": "box",
         "x": [
          "DAFillP5",
          "DAFillP5",
          "DAFillP5",
          "DAFillP5",
          "DAFillP5",
          "DAFillP5",
          "DAFillP5",
          "DAFillP5",
          "DAFillP5",
          "DAFillP5",
          "DAFillP5"
         ],
         "x0": " ",
         "xaxis": "x",
         "y": [
          -27.87854202978899,
          -24.53359515515328,
          -31.46866021400044,
          -27.16499936441211,
          7.8418744038616675,
          0.1815625298558129,
          -29.18072797387771,
          -31.956144412000565,
          -27.78112504700461,
          12.727187365798589,
          -7.3964581742425235
         ],
         "y0": " ",
         "yaxis": "y"
        },
        {
         "alignmentgroup": "True",
         "boxpoints": "all",
         "hovertemplate": "<b>%{hovertext}</b><br><br>cellType=%{x}<br>apwaveform_AP_mean_stim_140=%{y}<extra></extra>",
         "hovertext": [
          "713_1",
          "714_1",
          "715_1",
          "716_1",
          "717_1",
          "718_1",
          "719_1",
          "720_1",
          "721_1",
          "722_1",
          "723_1",
          "724_1",
          "725_1",
          "726_1",
          "727_1",
          "728_1",
          "729_1",
          "730_1",
          "731_1",
          "732_1"
         ],
         "legendgroup": "DAP28",
         "marker": {
          "color": "#636efa"
         },
         "name": "DAP28",
         "notched": false,
         "offsetgroup": "DAP28",
         "orientation": "v",
         "showlegend": true,
         "type": "box",
         "x": [
          "DAP28",
          "DAP28",
          "DAP28",
          "DAP28",
          "DAP28",
          "DAP28",
          "DAP28",
          "DAP28",
          "DAP28",
          "DAP28",
          "DAP28",
          "DAP28",
          "DAP28",
          "DAP28",
          "DAP28",
          "DAP28",
          "DAP28",
          "DAP28",
          "DAP28",
          "DAP28"
         ],
         "x0": " ",
         "xaxis": "x",
         "y": [
          -16.450414915876426,
          -36.58543043438694,
          -16.089875403166385,
          -15.29875069288935,
          -17.717499403627087,
          -15.225535740231017,
          -15.463124269120804,
          -15.449999238392754,
          -29.135249430631003,
          -16.43546842486377,
          0,
          -16.199500912115752,
          -14.702500468474756,
          -35.58287347087291,
          -15.949250301385508,
          -17.288436893176257,
          -17.306626421543577,
          -17.615999942926415,
          -16.369374434090016,
          -16.04550063224131
         ],
         "y0": " ",
         "yaxis": "y"
        },
        {
         "alignmentgroup": "True",
         "boxpoints": "all",
         "hovertemplate": "<b>%{hovertext}</b><br><br>cellType=%{x}<br>apwaveform_AP_mean_stim_140=%{y}<extra></extra>",
         "hovertext": [
          "733_1",
          "734_1",
          "735_1",
          "736_1",
          "737_1",
          "738_1",
          "739_1",
          "740_1",
          "741_1",
          "742_1",
          "743_1",
          "744_1",
          "745_1",
          "746_1",
          "747_1",
          "748_1",
          "749_1",
          "750_1",
          "751_1",
          "752_1",
          "753_1",
          "754_1",
          "755_1",
          "756_1",
          "757_1",
          "758_1",
          "759_1"
         ],
         "legendgroup": "DAFillP28",
         "marker": {
          "color": "#EF553B"
         },
         "name": "DAFillP28",
         "notched": false,
         "offsetgroup": "DAFillP28",
         "orientation": "v",
         "showlegend": true,
         "type": "box",
         "x": [
          "DAFillP28",
          "DAFillP28",
          "DAFillP28",
          "DAFillP28",
          "DAFillP28",
          "DAFillP28",
          "DAFillP28",
          "DAFillP28",
          "DAFillP28",
          "DAFillP28",
          "DAFillP28",
          "DAFillP28",
          "DAFillP28",
          "DAFillP28",
          "DAFillP28",
          "DAFillP28",
          "DAFillP28",
          "DAFillP28",
          "DAFillP28",
          "DAFillP28",
          "DAFillP28",
          "DAFillP28",
          "DAFillP28",
          "DAFillP28",
          "DAFillP28",
          "DAFillP28",
          "DAFillP28"
         ],
         "x0": " ",
         "xaxis": "x",
         "y": [
          -17.21624996009103,
          0,
          -16.52618683452328,
          -34.160625209768185,
          0,
          -33.91020481480649,
          -28.403795048703245,
          0,
          -32.328000480470635,
          -14.831562118508096,
          -15.537500527176238,
          -17.06964324097767,
          0,
          -13.954583852103626,
          -13.73458352955222,
          0,
          0,
          -32.75524186686437,
          -30.503543116665107,
          -16.219017755623366,
          -16.994374119186226,
          0,
          -15.84666632395129,
          0,
          0,
          0,
          -12.09181233401037
         ],
         "y0": " ",
         "yaxis": "y"
        },
        {
         "alignmentgroup": "True",
         "boxpoints": "all",
         "hovertemplate": "<b>%{hovertext}</b><br><br>cellType=%{x}<br>apwaveform_AP_mean_stim_140=%{y}<extra></extra>",
         "hovertext": [
          "760_1",
          "761_1",
          "762_1",
          "763_1",
          "764_1",
          "765_1",
          "766_1",
          "767_1",
          "768_1",
          "769_1",
          "770_1",
          "771_1",
          "772_1",
          "773_1",
          "774_1",
          "775_1",
          "776_1",
          "777_1",
          "778_1",
          "779_1",
          "780_1",
          "781_1",
          "782_1",
          "783_1",
          "784_1",
          "785_1",
          "786_1",
          "787_1"
         ],
         "legendgroup": "DAP56",
         "marker": {
          "color": "#00cc96"
         },
         "name": "DAP56",
         "notched": false,
         "offsetgroup": "DAP56",
         "orientation": "v",
         "showlegend": true,
         "type": "box",
         "x": [
          "DAP56",
          "DAP56",
          "DAP56",
          "DAP56",
          "DAP56",
          "DAP56",
          "DAP56",
          "DAP56",
          "DAP56",
          "DAP56",
          "DAP56",
          "DAP56",
          "DAP56",
          "DAP56",
          "DAP56",
          "DAP56",
          "DAP56",
          "DAP56",
          "DAP56",
          "DAP56",
          "DAP56",
          "DAP56",
          "DAP56",
          "DAP56",
          "DAP56",
          "DAP56",
          "DAP56",
          "DAP56"
         ],
         "x0": " ",
         "xaxis": "x",
         "y": [
          -17.65812552906049,
          -10.879375393896307,
          -34.26021548811079,
          -18.011748241489087,
          -17.327767371833872,
          0,
          0,
          -19.491564048146618,
          -35.14112300751899,
          -15.99437528605019,
          -30.864161110807856,
          -19.73562442629076,
          0,
          -34.4036461632528,
          0,
          -15.619124794411391,
          -15.869373844331877,
          -16.785622466685147,
          -16.17958486133735,
          -16.2651244190421,
          0,
          0,
          0,
          -15.629377062354605,
          0,
          -16.336748141825648,
          0,
          0
         ],
         "y0": " ",
         "yaxis": "y"
        }
       ],
       "layout": {
        "boxmode": "overlay",
        "legend": {
         "title": {
          "text": "cellType"
         },
         "tracegroupgap": 0
        },
        "template": {
         "data": {
          "bar": [
           {
            "error_x": {
             "color": "#2a3f5f"
            },
            "error_y": {
             "color": "#2a3f5f"
            },
            "marker": {
             "line": {
              "color": "#E5ECF6",
              "width": 0.5
             },
             "pattern": {
              "fillmode": "overlay",
              "size": 10,
              "solidity": 0.2
             }
            },
            "type": "bar"
           }
          ],
          "barpolar": [
           {
            "marker": {
             "line": {
              "color": "#E5ECF6",
              "width": 0.5
             },
             "pattern": {
              "fillmode": "overlay",
              "size": 10,
              "solidity": 0.2
             }
            },
            "type": "barpolar"
           }
          ],
          "carpet": [
           {
            "aaxis": {
             "endlinecolor": "#2a3f5f",
             "gridcolor": "white",
             "linecolor": "white",
             "minorgridcolor": "white",
             "startlinecolor": "#2a3f5f"
            },
            "baxis": {
             "endlinecolor": "#2a3f5f",
             "gridcolor": "white",
             "linecolor": "white",
             "minorgridcolor": "white",
             "startlinecolor": "#2a3f5f"
            },
            "type": "carpet"
           }
          ],
          "choropleth": [
           {
            "colorbar": {
             "outlinewidth": 0,
             "ticks": ""
            },
            "type": "choropleth"
           }
          ],
          "contour": [
           {
            "colorbar": {
             "outlinewidth": 0,
             "ticks": ""
            },
            "colorscale": [
             [
              0,
              "#0d0887"
             ],
             [
              0.1111111111111111,
              "#46039f"
             ],
             [
              0.2222222222222222,
              "#7201a8"
             ],
             [
              0.3333333333333333,
              "#9c179e"
             ],
             [
              0.4444444444444444,
              "#bd3786"
             ],
             [
              0.5555555555555556,
              "#d8576b"
             ],
             [
              0.6666666666666666,
              "#ed7953"
             ],
             [
              0.7777777777777778,
              "#fb9f3a"
             ],
             [
              0.8888888888888888,
              "#fdca26"
             ],
             [
              1,
              "#f0f921"
             ]
            ],
            "type": "contour"
           }
          ],
          "contourcarpet": [
           {
            "colorbar": {
             "outlinewidth": 0,
             "ticks": ""
            },
            "type": "contourcarpet"
           }
          ],
          "heatmap": [
           {
            "colorbar": {
             "outlinewidth": 0,
             "ticks": ""
            },
            "colorscale": [
             [
              0,
              "#0d0887"
             ],
             [
              0.1111111111111111,
              "#46039f"
             ],
             [
              0.2222222222222222,
              "#7201a8"
             ],
             [
              0.3333333333333333,
              "#9c179e"
             ],
             [
              0.4444444444444444,
              "#bd3786"
             ],
             [
              0.5555555555555556,
              "#d8576b"
             ],
             [
              0.6666666666666666,
              "#ed7953"
             ],
             [
              0.7777777777777778,
              "#fb9f3a"
             ],
             [
              0.8888888888888888,
              "#fdca26"
             ],
             [
              1,
              "#f0f921"
             ]
            ],
            "type": "heatmap"
           }
          ],
          "heatmapgl": [
           {
            "colorbar": {
             "outlinewidth": 0,
             "ticks": ""
            },
            "colorscale": [
             [
              0,
              "#0d0887"
             ],
             [
              0.1111111111111111,
              "#46039f"
             ],
             [
              0.2222222222222222,
              "#7201a8"
             ],
             [
              0.3333333333333333,
              "#9c179e"
             ],
             [
              0.4444444444444444,
              "#bd3786"
             ],
             [
              0.5555555555555556,
              "#d8576b"
             ],
             [
              0.6666666666666666,
              "#ed7953"
             ],
             [
              0.7777777777777778,
              "#fb9f3a"
             ],
             [
              0.8888888888888888,
              "#fdca26"
             ],
             [
              1,
              "#f0f921"
             ]
            ],
            "type": "heatmapgl"
           }
          ],
          "histogram": [
           {
            "marker": {
             "pattern": {
              "fillmode": "overlay",
              "size": 10,
              "solidity": 0.2
             }
            },
            "type": "histogram"
           }
          ],
          "histogram2d": [
           {
            "colorbar": {
             "outlinewidth": 0,
             "ticks": ""
            },
            "colorscale": [
             [
              0,
              "#0d0887"
             ],
             [
              0.1111111111111111,
              "#46039f"
             ],
             [
              0.2222222222222222,
              "#7201a8"
             ],
             [
              0.3333333333333333,
              "#9c179e"
             ],
             [
              0.4444444444444444,
              "#bd3786"
             ],
             [
              0.5555555555555556,
              "#d8576b"
             ],
             [
              0.6666666666666666,
              "#ed7953"
             ],
             [
              0.7777777777777778,
              "#fb9f3a"
             ],
             [
              0.8888888888888888,
              "#fdca26"
             ],
             [
              1,
              "#f0f921"
             ]
            ],
            "type": "histogram2d"
           }
          ],
          "histogram2dcontour": [
           {
            "colorbar": {
             "outlinewidth": 0,
             "ticks": ""
            },
            "colorscale": [
             [
              0,
              "#0d0887"
             ],
             [
              0.1111111111111111,
              "#46039f"
             ],
             [
              0.2222222222222222,
              "#7201a8"
             ],
             [
              0.3333333333333333,
              "#9c179e"
             ],
             [
              0.4444444444444444,
              "#bd3786"
             ],
             [
              0.5555555555555556,
              "#d8576b"
             ],
             [
              0.6666666666666666,
              "#ed7953"
             ],
             [
              0.7777777777777778,
              "#fb9f3a"
             ],
             [
              0.8888888888888888,
              "#fdca26"
             ],
             [
              1,
              "#f0f921"
             ]
            ],
            "type": "histogram2dcontour"
           }
          ],
          "mesh3d": [
           {
            "colorbar": {
             "outlinewidth": 0,
             "ticks": ""
            },
            "type": "mesh3d"
           }
          ],
          "parcoords": [
           {
            "line": {
             "colorbar": {
              "outlinewidth": 0,
              "ticks": ""
             }
            },
            "type": "parcoords"
           }
          ],
          "pie": [
           {
            "automargin": true,
            "type": "pie"
           }
          ],
          "scatter": [
           {
            "fillpattern": {
             "fillmode": "overlay",
             "size": 10,
             "solidity": 0.2
            },
            "type": "scatter"
           }
          ],
          "scatter3d": [
           {
            "line": {
             "colorbar": {
              "outlinewidth": 0,
              "ticks": ""
             }
            },
            "marker": {
             "colorbar": {
              "outlinewidth": 0,
              "ticks": ""
             }
            },
            "type": "scatter3d"
           }
          ],
          "scattercarpet": [
           {
            "marker": {
             "colorbar": {
              "outlinewidth": 0,
              "ticks": ""
             }
            },
            "type": "scattercarpet"
           }
          ],
          "scattergeo": [
           {
            "marker": {
             "colorbar": {
              "outlinewidth": 0,
              "ticks": ""
             }
            },
            "type": "scattergeo"
           }
          ],
          "scattergl": [
           {
            "marker": {
             "colorbar": {
              "outlinewidth": 0,
              "ticks": ""
             }
            },
            "type": "scattergl"
           }
          ],
          "scattermapbox": [
           {
            "marker": {
             "colorbar": {
              "outlinewidth": 0,
              "ticks": ""
             }
            },
            "type": "scattermapbox"
           }
          ],
          "scatterpolar": [
           {
            "marker": {
             "colorbar": {
              "outlinewidth": 0,
              "ticks": ""
             }
            },
            "type": "scatterpolar"
           }
          ],
          "scatterpolargl": [
           {
            "marker": {
             "colorbar": {
              "outlinewidth": 0,
              "ticks": ""
             }
            },
            "type": "scatterpolargl"
           }
          ],
          "scatterternary": [
           {
            "marker": {
             "colorbar": {
              "outlinewidth": 0,
              "ticks": ""
             }
            },
            "type": "scatterternary"
           }
          ],
          "surface": [
           {
            "colorbar": {
             "outlinewidth": 0,
             "ticks": ""
            },
            "colorscale": [
             [
              0,
              "#0d0887"
             ],
             [
              0.1111111111111111,
              "#46039f"
             ],
             [
              0.2222222222222222,
              "#7201a8"
             ],
             [
              0.3333333333333333,
              "#9c179e"
             ],
             [
              0.4444444444444444,
              "#bd3786"
             ],
             [
              0.5555555555555556,
              "#d8576b"
             ],
             [
              0.6666666666666666,
              "#ed7953"
             ],
             [
              0.7777777777777778,
              "#fb9f3a"
             ],
             [
              0.8888888888888888,
              "#fdca26"
             ],
             [
              1,
              "#f0f921"
             ]
            ],
            "type": "surface"
           }
          ],
          "table": [
           {
            "cells": {
             "fill": {
              "color": "#EBF0F8"
             },
             "line": {
              "color": "white"
             }
            },
            "header": {
             "fill": {
              "color": "#C8D4E3"
             },
             "line": {
              "color": "white"
             }
            },
            "type": "table"
           }
          ]
         },
         "layout": {
          "annotationdefaults": {
           "arrowcolor": "#2a3f5f",
           "arrowhead": 0,
           "arrowwidth": 1
          },
          "autotypenumbers": "strict",
          "coloraxis": {
           "colorbar": {
            "outlinewidth": 0,
            "ticks": ""
           }
          },
          "colorscale": {
           "diverging": [
            [
             0,
             "#8e0152"
            ],
            [
             0.1,
             "#c51b7d"
            ],
            [
             0.2,
             "#de77ae"
            ],
            [
             0.3,
             "#f1b6da"
            ],
            [
             0.4,
             "#fde0ef"
            ],
            [
             0.5,
             "#f7f7f7"
            ],
            [
             0.6,
             "#e6f5d0"
            ],
            [
             0.7,
             "#b8e186"
            ],
            [
             0.8,
             "#7fbc41"
            ],
            [
             0.9,
             "#4d9221"
            ],
            [
             1,
             "#276419"
            ]
           ],
           "sequential": [
            [
             0,
             "#0d0887"
            ],
            [
             0.1111111111111111,
             "#46039f"
            ],
            [
             0.2222222222222222,
             "#7201a8"
            ],
            [
             0.3333333333333333,
             "#9c179e"
            ],
            [
             0.4444444444444444,
             "#bd3786"
            ],
            [
             0.5555555555555556,
             "#d8576b"
            ],
            [
             0.6666666666666666,
             "#ed7953"
            ],
            [
             0.7777777777777778,
             "#fb9f3a"
            ],
            [
             0.8888888888888888,
             "#fdca26"
            ],
            [
             1,
             "#f0f921"
            ]
           ],
           "sequentialminus": [
            [
             0,
             "#0d0887"
            ],
            [
             0.1111111111111111,
             "#46039f"
            ],
            [
             0.2222222222222222,
             "#7201a8"
            ],
            [
             0.3333333333333333,
             "#9c179e"
            ],
            [
             0.4444444444444444,
             "#bd3786"
            ],
            [
             0.5555555555555556,
             "#d8576b"
            ],
            [
             0.6666666666666666,
             "#ed7953"
            ],
            [
             0.7777777777777778,
             "#fb9f3a"
            ],
            [
             0.8888888888888888,
             "#fdca26"
            ],
            [
             1,
             "#f0f921"
            ]
           ]
          },
          "colorway": [
           "#636efa",
           "#EF553B",
           "#00cc96",
           "#ab63fa",
           "#FFA15A",
           "#19d3f3",
           "#FF6692",
           "#B6E880",
           "#FF97FF",
           "#FECB52"
          ],
          "font": {
           "color": "#2a3f5f"
          },
          "geo": {
           "bgcolor": "white",
           "lakecolor": "white",
           "landcolor": "#E5ECF6",
           "showlakes": true,
           "showland": true,
           "subunitcolor": "white"
          },
          "hoverlabel": {
           "align": "left"
          },
          "hovermode": "closest",
          "mapbox": {
           "style": "light"
          },
          "paper_bgcolor": "white",
          "plot_bgcolor": "#E5ECF6",
          "polar": {
           "angularaxis": {
            "gridcolor": "white",
            "linecolor": "white",
            "ticks": ""
           },
           "bgcolor": "#E5ECF6",
           "radialaxis": {
            "gridcolor": "white",
            "linecolor": "white",
            "ticks": ""
           }
          },
          "scene": {
           "xaxis": {
            "backgroundcolor": "#E5ECF6",
            "gridcolor": "white",
            "gridwidth": 2,
            "linecolor": "white",
            "showbackground": true,
            "ticks": "",
            "zerolinecolor": "white"
           },
           "yaxis": {
            "backgroundcolor": "#E5ECF6",
            "gridcolor": "white",
            "gridwidth": 2,
            "linecolor": "white",
            "showbackground": true,
            "ticks": "",
            "zerolinecolor": "white"
           },
           "zaxis": {
            "backgroundcolor": "#E5ECF6",
            "gridcolor": "white",
            "gridwidth": 2,
            "linecolor": "white",
            "showbackground": true,
            "ticks": "",
            "zerolinecolor": "white"
           }
          },
          "shapedefaults": {
           "line": {
            "color": "#2a3f5f"
           }
          },
          "ternary": {
           "aaxis": {
            "gridcolor": "white",
            "linecolor": "white",
            "ticks": ""
           },
           "baxis": {
            "gridcolor": "white",
            "linecolor": "white",
            "ticks": ""
           },
           "bgcolor": "#E5ECF6",
           "caxis": {
            "gridcolor": "white",
            "linecolor": "white",
            "ticks": ""
           }
          },
          "title": {
           "x": 0.05
          },
          "xaxis": {
           "automargin": true,
           "gridcolor": "white",
           "linecolor": "white",
           "ticks": "",
           "title": {
            "standoff": 15
           },
           "zerolinecolor": "white",
           "zerolinewidth": 2
          },
          "yaxis": {
           "automargin": true,
           "gridcolor": "white",
           "linecolor": "white",
           "ticks": "",
           "title": {
            "standoff": 15
           },
           "zerolinecolor": "white",
           "zerolinewidth": 2
          }
         }
        },
        "title": {
         "text": "apwaveform_AP_mean_stim_140"
        },
        "xaxis": {
         "anchor": "y",
         "categoryarray": [
          "L5FS",
          "SNcDA",
          "L2IN",
          "L5PC",
          "NO",
          "L2PC",
          "L5IN",
          "Amygdala",
          "DA",
          "CA1PC",
          "SNcDAProj",
          "DAFill",
          "DA60",
          "DAP0",
          "DAP2",
          "DAP3",
          "DAP4",
          "DAFillP4",
          "DAP5",
          "DAFillP5",
          "DAP28",
          "DAFillP28",
          "DAP56"
         ],
         "categoryorder": "array",
         "domain": [
          0,
          1
         ],
         "title": {
          "text": "cellType"
         }
        },
        "yaxis": {
         "anchor": "x",
         "domain": [
          0,
          1
         ],
         "title": {
          "text": "apwaveform_AP_mean_stim_140"
         }
        }
       }
      },
      "text/html": [
       "<div>                            <div id=\"6eb9bc52-2414-434c-a6af-49ea760641ef\" class=\"plotly-graph-div\" style=\"height:525px; width:100%;\"></div>            <script type=\"text/javascript\">                require([\"plotly\"], function(Plotly) {                    window.PLOTLYENV=window.PLOTLYENV || {};                                    if (document.getElementById(\"6eb9bc52-2414-434c-a6af-49ea760641ef\")) {                    Plotly.newPlot(                        \"6eb9bc52-2414-434c-a6af-49ea760641ef\",                        [{\"alignmentgroup\":\"True\",\"boxpoints\":\"all\",\"hovertemplate\":\"<b>%{hovertext}</b><br><br>cellType=%{x}<br>apwaveform_AP_mean_stim_140=%{y}<extra></extra>\",\"hovertext\":[\"53_1\",\"54_1\",\"55_1\",\"55_2\",\"56_1\",\"57_1\",\"58_1\",\"59_1\",\"60_1\",\"61_1\",\"62_1\",\"63_1\",\"64_1\",\"65_1\",\"66_1\",\"67_1\",\"68_1\",\"69_1\",\"70_1\",\"71_1\",\"72_1\",\"73_1\",\"74_1\",\"75_1\",\"76_1\",\"77_1\",\"87_1\",\"88_1\",\"89_1\",\"90_1\",\"91_1\",\"92_1\",\"93_1\"],\"legendgroup\":\"L5FS\",\"marker\":{\"color\":\"#636efa\"},\"name\":\"L5FS\",\"notched\":false,\"offsetgroup\":\"L5FS\",\"orientation\":\"v\",\"showlegend\":true,\"x\":[\"L5FS\",\"L5FS\",\"L5FS\",\"L5FS\",\"L5FS\",\"L5FS\",\"L5FS\",\"L5FS\",\"L5FS\",\"L5FS\",\"L5FS\",\"L5FS\",\"L5FS\",\"L5FS\",\"L5FS\",\"L5FS\",\"L5FS\",\"L5FS\",\"L5FS\",\"L5FS\",\"L5FS\",\"L5FS\",\"L5FS\",\"L5FS\",\"L5FS\",\"L5FS\",\"L5FS\",\"L5FS\",\"L5FS\",\"L5FS\",\"L5FS\",\"L5FS\",\"L5FS\"],\"x0\":\" \",\"xaxis\":\"x\",\"y\":[-37.455832129705705,-37.45051189685204,-35.46299813537589,-34.35658454033773,-39.14419978521537,-36.36293722619945,-39.07680470533746,-39.74081222995294,-42.21950021906459,-35.998260212832825,-38.63302274941048,-38.763204480383735,-37.998585072890975,-37.94360251998568,-31.757211916736765,-33.43031289420396,-36.25544642258622,-32.908967984447955,-29.27447913127832,-29.908957882989725,-36.733324109901226,-31.6394522101666,-33.815594147430865,-30.42658370992661,-36.569812702077066,-37.23959786565924,-31.355687499557497,-24.835435222198228,-39.04909905309246,-42.09660696587184,-28.51788472542852,-29.18841165520987,-32.23649391053448],\"y0\":\" \",\"yaxis\":\"y\",\"type\":\"box\"},{\"alignmentgroup\":\"True\",\"boxpoints\":\"all\",\"hovertemplate\":\"<b>%{hovertext}</b><br><br>cellType=%{x}<br>apwaveform_AP_mean_stim_140=%{y}<extra></extra>\",\"hovertext\":[\"78_1\",\"79_1\",\"80_1\",\"81_1\",\"82_1\",\"83_1\",\"84_1\",\"85_1\",\"86_1\"],\"legendgroup\":\"SNcDA\",\"marker\":{\"color\":\"#EF553B\"},\"name\":\"SNcDA\",\"notched\":false,\"offsetgroup\":\"SNcDA\",\"orientation\":\"v\",\"showlegend\":true,\"x\":[\"SNcDA\",\"SNcDA\",\"SNcDA\",\"SNcDA\",\"SNcDA\",\"SNcDA\",\"SNcDA\",\"SNcDA\",\"SNcDA\"],\"x0\":\" \",\"xaxis\":\"x\",\"y\":[-16.494374687352618,-18.02482192794203,-15.926250104163266,-17.02000130417168,-32.9653770858375,0.0,-21.155712913024644,-16.40037429971948,-16.34524842344106],\"y0\":\" \",\"yaxis\":\"y\",\"type\":\"box\"},{\"alignmentgroup\":\"True\",\"boxpoints\":\"all\",\"hovertemplate\":\"<b>%{hovertext}</b><br><br>cellType=%{x}<br>apwaveform_AP_mean_stim_140=%{y}<extra></extra>\",\"hovertext\":[\"94_1\",\"94_2\",\"99_2\",\"101_1\",\"103_1\",\"105_1\",\"105_2\",\"106_1\",\"107_1\",\"111_1\",\"111_2\",\"113_2\",\"114_1\",\"115_1\",\"115_2\",\"118_1\",\"119_1\",\"120_1\",\"120_2\",\"121_1\",\"123_3\",\"124_1\",\"124_2\",\"124_3\",\"211_1\",\"211_2\",\"213_2\"],\"legendgroup\":\"L2IN\",\"marker\":{\"color\":\"#00cc96\"},\"name\":\"L2IN\",\"notched\":false,\"offsetgroup\":\"L2IN\",\"orientation\":\"v\",\"showlegend\":true,\"x\":[\"L2IN\",\"L2IN\",\"L2IN\",\"L2IN\",\"L2IN\",\"L2IN\",\"L2IN\",\"L2IN\",\"L2IN\",\"L2IN\",\"L2IN\",\"L2IN\",\"L2IN\",\"L2IN\",\"L2IN\",\"L2IN\",\"L2IN\",\"L2IN\",\"L2IN\",\"L2IN\",\"L2IN\",\"L2IN\",\"L2IN\",\"L2IN\",\"L2IN\",\"L2IN\",\"L2IN\"],\"x0\":\" \",\"xaxis\":\"x\",\"y\":[-18.51498174042229,-34.72778358570259,-38.09778481169409,-45.02712498867878,-24.51021169934322,-14.529724757529648,-43.876248895312855,-40.11888006387541,-34.97277001694586,-31.63220807316705,-44.83120467652347,-30.19874350099649,-14.981331728590176,-27.078746527178,-35.87678443302738,-34.75450253189789,-32.57544015522688,-43.55307739758366,-36.54609788654662,-21.312780687428955,-19.24026640191537,-44.34180124264564,-21.648428371668626,-33.78519546587409,-35.46941174136347,-42.653163205989856,-23.789025003910496],\"y0\":\" \",\"yaxis\":\"y\",\"type\":\"box\"},{\"alignmentgroup\":\"True\",\"boxpoints\":\"all\",\"hovertemplate\":\"<b>%{hovertext}</b><br><br>cellType=%{x}<br>apwaveform_AP_mean_stim_140=%{y}<extra></extra>\",\"hovertext\":[\"97_1\",\"97_2\",\"126_1\",\"126_2\",\"126_3\",\"197_1\",\"198_1\",\"199_1\",\"200_1\",\"201_1\",\"202_1\",\"203_1\",\"204_1\",\"205_1\",\"206_1\",\"207_1\",\"208_1\",\"210_1\",\"212_1\",\"212_2\",\"215_1\",\"215_2\",\"217_1\",\"217_2\",\"222_1\",\"223_1\",\"224_1\",\"227_1\",\"228_1\",\"229_1\",\"229_2\",\"230_1\",\"230_2\",\"231_1\",\"231_2\",\"233_1\",\"233_2\",\"234_1\",\"348_1\",\"349_1\",\"350_1\",\"351_1\",\"352_1\",\"353_1\",\"354_1\"],\"legendgroup\":\"L5PC\",\"marker\":{\"color\":\"#ab63fa\"},\"name\":\"L5PC\",\"notched\":false,\"offsetgroup\":\"L5PC\",\"orientation\":\"v\",\"showlegend\":true,\"x\":[\"L5PC\",\"L5PC\",\"L5PC\",\"L5PC\",\"L5PC\",\"L5PC\",\"L5PC\",\"L5PC\",\"L5PC\",\"L5PC\",\"L5PC\",\"L5PC\",\"L5PC\",\"L5PC\",\"L5PC\",\"L5PC\",\"L5PC\",\"L5PC\",\"L5PC\",\"L5PC\",\"L5PC\",\"L5PC\",\"L5PC\",\"L5PC\",\"L5PC\",\"L5PC\",\"L5PC\",\"L5PC\",\"L5PC\",\"L5PC\",\"L5PC\",\"L5PC\",\"L5PC\",\"L5PC\",\"L5PC\",\"L5PC\",\"L5PC\",\"L5PC\",\"L5PC\",\"L5PC\",\"L5PC\",\"L5PC\",\"L5PC\",\"L5PC\",\"L5PC\"],\"x0\":\" \",\"xaxis\":\"x\",\"y\":[-41.01168171448908,-38.26724228580458,-34.81240638230732,-34.468959231473164,-36.30333412734214,-38.42764749730198,-39.91416760166416,-43.009223218255045,-43.84866126272093,-42.48100594613567,-39.80803023877613,-23.224999956114512,-42.97590588231384,-40.49959801434228,-53.48332871370183,-43.02043280904344,-43.211670862684166,-35.28681974518077,-19.734332273554934,-21.81627408198985,-15.62365307314655,-37.1648960675388,-19.29324328673909,-40.51278918757965,-28.7625674579414,-17.39621247065793,-17.62578073218441,-45.6158556726815,-42.59929617273463,-41.29129485043558,-36.20995926700983,-27.2198943167263,-35.18557955719954,-32.31549174516596,-35.69458932672367,-22.20540248203038,-21.22624987853564,-19.54437567927956,-37.25711544451107,-41.20548384990408,-40.68735913637442,-40.3802150957283,-41.63772912788012,-39.15099041624244,-39.81153579439362],\"y0\":\" \",\"yaxis\":\"y\",\"type\":\"box\"},{\"alignmentgroup\":\"True\",\"boxpoints\":\"all\",\"hovertemplate\":\"<b>%{hovertext}</b><br><br>cellType=%{x}<br>apwaveform_AP_mean_stim_140=%{y}<extra></extra>\",\"hovertext\":[\"99_1\",\"99_3\",\"213_1\"],\"legendgroup\":\"NO\",\"marker\":{\"color\":\"#FFA15A\"},\"name\":\"NO\",\"notched\":false,\"offsetgroup\":\"NO\",\"orientation\":\"v\",\"showlegend\":true,\"x\":[\"NO\",\"NO\",\"NO\"],\"x0\":\" \",\"xaxis\":\"x\",\"y\":[-43.92119990196129,0.0,-46.892959684663325],\"y0\":\" \",\"yaxis\":\"y\",\"type\":\"box\"},{\"alignmentgroup\":\"True\",\"boxpoints\":\"all\",\"hovertemplate\":\"<b>%{hovertext}</b><br><br>cellType=%{x}<br>apwaveform_AP_mean_stim_140=%{y}<extra></extra>\",\"hovertext\":[\"101_2\",\"107_2\",\"109_1\",\"109_2\",\"110_1\",\"110_2\",\"113_1\",\"116_1\",\"116_2\",\"117_1\",\"117_2\",\"121_2\",\"122_1\",\"122_2\",\"123_1\",\"123_2\",\"125_1\",\"127_1\",\"128_1\",\"129_1\",\"209_1\",\"218_1\"],\"legendgroup\":\"L2PC\",\"marker\":{\"color\":\"#19d3f3\"},\"name\":\"L2PC\",\"notched\":false,\"offsetgroup\":\"L2PC\",\"orientation\":\"v\",\"showlegend\":true,\"x\":[\"L2PC\",\"L2PC\",\"L2PC\",\"L2PC\",\"L2PC\",\"L2PC\",\"L2PC\",\"L2PC\",\"L2PC\",\"L2PC\",\"L2PC\",\"L2PC\",\"L2PC\",\"L2PC\",\"L2PC\",\"L2PC\",\"L2PC\",\"L2PC\",\"L2PC\",\"L2PC\",\"L2PC\",\"L2PC\"],\"x0\":\" \",\"xaxis\":\"x\",\"y\":[-24.27948970890532,-42.169990547761664,-23.93436516537172,-17.17187497798429,0.0,-19.955750495834323,-24.526949745391345,0.0,-20.763611036132605,-31.38933263219001,-42.97879430789002,-18.077566286707192,0.0,-32.00158409533015,-38.56564797047767,-41.26597098633302,-32.2799352686155,-20.96006295286592,-20.96006295286592,-20.96006295286592,-35.230075321661445,-35.1420065178461],\"y0\":\" \",\"yaxis\":\"y\",\"type\":\"box\"},{\"alignmentgroup\":\"True\",\"boxpoints\":\"all\",\"hovertemplate\":\"<b>%{hovertext}</b><br><br>cellType=%{x}<br>apwaveform_AP_mean_stim_140=%{y}<extra></extra>\",\"hovertext\":[\"104_1\",\"148_1\",\"149_1\",\"150_1\",\"151_1\",\"152_1\",\"153_1\",\"154_1\",\"155_1\",\"156_1\",\"157_1\",\"158_1\",\"159_1\",\"160_1\",\"161_1\",\"162_1\",\"163_1\",\"164_1\",\"165_1\",\"166_1\",\"167_1\",\"168_1\",\"169_1\",\"170_1\",\"171_1\",\"172_1\",\"174_1\",\"175_1\",\"176_1\",\"216_1\",\"219_1\",\"220_1\",\"221_1\",\"225_1\",\"226_1\"],\"legendgroup\":\"L5IN\",\"marker\":{\"color\":\"#FF6692\"},\"name\":\"L5IN\",\"notched\":false,\"offsetgroup\":\"L5IN\",\"orientation\":\"v\",\"showlegend\":true,\"x\":[\"L5IN\",\"L5IN\",\"L5IN\",\"L5IN\",\"L5IN\",\"L5IN\",\"L5IN\",\"L5IN\",\"L5IN\",\"L5IN\",\"L5IN\",\"L5IN\",\"L5IN\",\"L5IN\",\"L5IN\",\"L5IN\",\"L5IN\",\"L5IN\",\"L5IN\",\"L5IN\",\"L5IN\",\"L5IN\",\"L5IN\",\"L5IN\",\"L5IN\",\"L5IN\",\"L5IN\",\"L5IN\",\"L5IN\",\"L5IN\",\"L5IN\",\"L5IN\",\"L5IN\",\"L5IN\",\"L5IN\"],\"x0\":\" \",\"xaxis\":\"x\",\"y\":[-29.72811641766855,-29.60125179550881,-40.01705331618053,-38.16195673911439,-28.751327776950205,-32.654437256276246,-28.94952801759424,-33.63830228614979,-35.46497769132607,-41.260235107088974,0.8825004411001842,-14.478749608315187,-28.77377697266509,-36.03965946196504,-35.61059437858646,-33.481640476959825,-32.05511104472,-29.259727907270587,-27.90116666857102,-30.755249954335483,-28.25123004494572,-28.67041022794668,-30.24585375287499,-28.648935864193604,-28.62988138994885,-31.476989374871646,-35.122630458439346,-28.66038881322068,-11.951874421696852,-29.74187376942792,-40.20134718822532,-34.51006755420481,-22.00600039100986,-40.32856627460037,-19.443529114687166],\"y0\":\" \",\"yaxis\":\"y\",\"type\":\"box\"},{\"alignmentgroup\":\"True\",\"boxpoints\":\"all\",\"hovertemplate\":\"<b>%{hovertext}</b><br><br>cellType=%{x}<br>apwaveform_AP_mean_stim_140=%{y}<extra></extra>\",\"hovertext\":[\"178_1\",\"179_1\",\"180_1\",\"181_1\",\"182_1\",\"183_1\",\"183_2\",\"184_1\",\"184_2\",\"185_1\",\"186_1\",\"186_2\",\"187_1\",\"188_1\",\"188_2\",\"189_1\",\"189_2\",\"190_1\",\"190_2\",\"191_1\",\"192_1\",\"193_1\",\"194_1\",\"195_1\",\"196_1\",\"308_1\",\"309_1\",\"310_1\",\"313_1\",\"314_1\",\"315_1\",\"316_1\",\"317_1\",\"318_1\",\"319_1\",\"320_1\",\"321_1\",\"322_1\",\"324_1\",\"325_1\",\"326_1\",\"327_1\",\"328_1\",\"329_1\",\"330_1\",\"331_1\",\"332_1\",\"333_1\",\"334_1\",\"335_1\",\"336_1\",\"337_1\",\"338_1\",\"339_1\"],\"legendgroup\":\"Amygdala\",\"marker\":{\"color\":\"#B6E880\"},\"name\":\"Amygdala\",\"notched\":false,\"offsetgroup\":\"Amygdala\",\"orientation\":\"v\",\"showlegend\":true,\"x\":[\"Amygdala\",\"Amygdala\",\"Amygdala\",\"Amygdala\",\"Amygdala\",\"Amygdala\",\"Amygdala\",\"Amygdala\",\"Amygdala\",\"Amygdala\",\"Amygdala\",\"Amygdala\",\"Amygdala\",\"Amygdala\",\"Amygdala\",\"Amygdala\",\"Amygdala\",\"Amygdala\",\"Amygdala\",\"Amygdala\",\"Amygdala\",\"Amygdala\",\"Amygdala\",\"Amygdala\",\"Amygdala\",\"Amygdala\",\"Amygdala\",\"Amygdala\",\"Amygdala\",\"Amygdala\",\"Amygdala\",\"Amygdala\",\"Amygdala\",\"Amygdala\",\"Amygdala\",\"Amygdala\",\"Amygdala\",\"Amygdala\",\"Amygdala\",\"Amygdala\",\"Amygdala\",\"Amygdala\",\"Amygdala\",\"Amygdala\",\"Amygdala\",\"Amygdala\",\"Amygdala\",\"Amygdala\",\"Amygdala\",\"Amygdala\",\"Amygdala\",\"Amygdala\",\"Amygdala\",\"Amygdala\"],\"x0\":\" \",\"xaxis\":\"x\",\"y\":[-36.06900911425641,-36.45140219042735,-39.45567066565612,-18.59187552858347,-33.44715638760051,-37.186830693272185,-37.134389773687765,-15.07713662153931,-41.49296766550036,-35.048771760186014,-27.20342467864469,-18.86269349947258,-34.9800727550368,-36.02027091246433,-18.04392181199902,-16.96869715160177,-38.2352132212036,-14.49092543630628,-20.339803340667785,-37.65894263790427,-35.0888754631531,-30.75068268692094,-18.0216176713742,-34.36827623218122,-34.36827623218122,-36.24537332753108,-43.24111027254151,-40.34309073466338,-17.65913789864288,-17.272715514043124,-30.706507335256827,-34.76933975225259,-31.592472613127786,-34.30037801103518,-31.8831261985145,-31.73555451751864,-30.336072205577985,-36.19226934828359,-31.8514762777714,-35.66515516474388,-34.59423330318765,-33.83092774356237,-33.97684119331777,-36.45676244676058,-34.98583234379353,-35.53489414549912,-35.15200525003961,-17.811315171527614,-31.8494798175448,-33.31739122596058,-36.50422407025596,-29.36623406405129,-34.13781594225267,-35.201256077899714],\"y0\":\" \",\"yaxis\":\"y\",\"type\":\"box\"},{\"alignmentgroup\":\"True\",\"boxpoints\":\"all\",\"hovertemplate\":\"<b>%{hovertext}</b><br><br>cellType=%{x}<br>apwaveform_AP_mean_stim_140=%{y}<extra></extra>\",\"hovertext\":[\"235_1\",\"237_1\",\"238_1\"],\"legendgroup\":\"DA\",\"marker\":{\"color\":\"#FF97FF\"},\"name\":\"DA\",\"notched\":false,\"offsetgroup\":\"DA\",\"orientation\":\"v\",\"showlegend\":true,\"x\":[\"DA\",\"DA\",\"DA\"],\"x0\":\" \",\"xaxis\":\"x\",\"y\":[-18.947500701696114,-39.18540202190397,0.0],\"y0\":\" \",\"yaxis\":\"y\",\"type\":\"box\"},{\"alignmentgroup\":\"True\",\"boxpoints\":\"all\",\"hovertemplate\":\"<b>%{hovertext}</b><br><br>cellType=%{x}<br>apwaveform_AP_mean_stim_140=%{y}<extra></extra>\",\"hovertext\":[\"239_1\",\"240_1\",\"241_1\",\"242_1\",\"243_1\",\"245_1\",\"246_1\",\"247_1\",\"248_1\",\"249_1\",\"250_1\",\"312_1\",\"340_1\",\"341_1\",\"342_1\",\"343_1\",\"344_1\",\"345_1\",\"346_1\",\"347_1\",\"355_1\",\"356_1\",\"357_1\",\"358_1\",\"359_1\",\"360_1\",\"361_1\",\"362_1\",\"363_1\",\"364_1\",\"365_1\",\"366_1\",\"367_1\",\"368_1\",\"369_1\",\"370_1\",\"371_1\",\"372_1\",\"373_1\",\"374_1\",\"375_1\",\"376_1\"],\"legendgroup\":\"CA1PC\",\"marker\":{\"color\":\"#FECB52\"},\"name\":\"CA1PC\",\"notched\":false,\"offsetgroup\":\"CA1PC\",\"orientation\":\"v\",\"showlegend\":true,\"x\":[\"CA1PC\",\"CA1PC\",\"CA1PC\",\"CA1PC\",\"CA1PC\",\"CA1PC\",\"CA1PC\",\"CA1PC\",\"CA1PC\",\"CA1PC\",\"CA1PC\",\"CA1PC\",\"CA1PC\",\"CA1PC\",\"CA1PC\",\"CA1PC\",\"CA1PC\",\"CA1PC\",\"CA1PC\",\"CA1PC\",\"CA1PC\",\"CA1PC\",\"CA1PC\",\"CA1PC\",\"CA1PC\",\"CA1PC\",\"CA1PC\",\"CA1PC\",\"CA1PC\",\"CA1PC\",\"CA1PC\",\"CA1PC\",\"CA1PC\",\"CA1PC\",\"CA1PC\",\"CA1PC\",\"CA1PC\",\"CA1PC\",\"CA1PC\",\"CA1PC\",\"CA1PC\",\"CA1PC\"],\"x0\":\" \",\"xaxis\":\"x\",\"y\":[-37.133103857427386,-41.22504041370951,-46.87638339600392,-47.48938755591085,-45.60652002980564,-39.3242703340791,-43.78991863793273,-40.49286054180671,-40.99635428924631,-42.34294734807099,-38.56271149380186,-43.29218548920723,-41.29333151002779,-43.34843358236877,-45.4782175685359,-43.67815422538075,-46.92347491048092,-41.06294375061757,-39.45741002612793,-59.23115976656398,-38.252010137808426,-42.1398955895377,-42.49719170645408,-41.734979147562605,-43.788920153391736,-34.08812766892374,-40.21983322599238,-44.92738611312743,-45.80310811777344,-42.46400352580994,-43.48063140057957,-45.87094423174646,-45.57195696627467,-44.7473918104135,-40.84310904221485,-47.37327456220582,-48.97385867916467,-42.67732495552648,-45.49378081256154,-45.724726788224366,-42.840103810965886,-42.56063968502468],\"y0\":\" \",\"yaxis\":\"y\",\"type\":\"box\"},{\"alignmentgroup\":\"True\",\"boxpoints\":\"all\",\"hovertemplate\":\"<b>%{hovertext}</b><br><br>cellType=%{x}<br>apwaveform_AP_mean_stim_140=%{y}<extra></extra>\",\"hovertext\":[\"251_1\",\"252_1\",\"253_1\",\"254_1\",\"255_1\",\"256_1\",\"257_1\",\"258_1\",\"259_1\",\"260_1\",\"261_1\",\"262_1\",\"263_1\",\"264_1\",\"265_1\",\"266_1\",\"267_1\",\"268_1\",\"269_1\",\"270_1\",\"271_1\",\"272_1\",\"273_1\",\"274_1\",\"275_1\",\"276_1\",\"277_1\",\"278_1\",\"279_1\",\"280_1\",\"282_1\",\"283_1\",\"284_1\",\"285_1\",\"286_1\",\"287_1\",\"288_1\",\"289_1\",\"290_1\",\"291_1\",\"293_1\",\"294_1\",\"295_1\",\"296_1\",\"297_1\",\"298_1\",\"299_1\",\"300_1\",\"300_2\",\"301_1\",\"302_1\",\"303_1\",\"304_1\",\"306_1\",\"307_1\",\"377_1\",\"378_1\",\"379_1\",\"380_1\",\"381_1\",\"382_1\",\"383_1\",\"385_1\",\"386_1\",\"387_1\",\"388_1\",\"389_1\",\"391_1\",\"392_1\",\"393_1\",\"394_1\",\"395_1\",\"396_1\",\"397_1\",\"398_1\",\"399_1\",\"400_1\",\"401_1\",\"402_1\",\"403_1\",\"404_1\",\"405_1\",\"406_1\",\"407_1\",\"408_1\",\"409_1\",\"410_1\",\"411_1\",\"412_1\",\"413_1\",\"414_1\",\"415_1\",\"416_1\",\"418_1\",\"419_1\",\"420_1\",\"421_1\",\"422_1\",\"423_1\",\"424_1\",\"425_1\",\"426_1\",\"427_1\",\"428_1\",\"429_1\",\"430_1\"],\"legendgroup\":\"SNcDAProj\",\"marker\":{\"color\":\"#636efa\"},\"name\":\"SNcDAProj\",\"notched\":false,\"offsetgroup\":\"SNcDAProj\",\"orientation\":\"v\",\"showlegend\":true,\"x\":[\"SNcDAProj\",\"SNcDAProj\",\"SNcDAProj\",\"SNcDAProj\",\"SNcDAProj\",\"SNcDAProj\",\"SNcDAProj\",\"SNcDAProj\",\"SNcDAProj\",\"SNcDAProj\",\"SNcDAProj\",\"SNcDAProj\",\"SNcDAProj\",\"SNcDAProj\",\"SNcDAProj\",\"SNcDAProj\",\"SNcDAProj\",\"SNcDAProj\",\"SNcDAProj\",\"SNcDAProj\",\"SNcDAProj\",\"SNcDAProj\",\"SNcDAProj\",\"SNcDAProj\",\"SNcDAProj\",\"SNcDAProj\",\"SNcDAProj\",\"SNcDAProj\",\"SNcDAProj\",\"SNcDAProj\",\"SNcDAProj\",\"SNcDAProj\",\"SNcDAProj\",\"SNcDAProj\",\"SNcDAProj\",\"SNcDAProj\",\"SNcDAProj\",\"SNcDAProj\",\"SNcDAProj\",\"SNcDAProj\",\"SNcDAProj\",\"SNcDAProj\",\"SNcDAProj\",\"SNcDAProj\",\"SNcDAProj\",\"SNcDAProj\",\"SNcDAProj\",\"SNcDAProj\",\"SNcDAProj\",\"SNcDAProj\",\"SNcDAProj\",\"SNcDAProj\",\"SNcDAProj\",\"SNcDAProj\",\"SNcDAProj\",\"SNcDAProj\",\"SNcDAProj\",\"SNcDAProj\",\"SNcDAProj\",\"SNcDAProj\",\"SNcDAProj\",\"SNcDAProj\",\"SNcDAProj\",\"SNcDAProj\",\"SNcDAProj\",\"SNcDAProj\",\"SNcDAProj\",\"SNcDAProj\",\"SNcDAProj\",\"SNcDAProj\",\"SNcDAProj\",\"SNcDAProj\",\"SNcDAProj\",\"SNcDAProj\",\"SNcDAProj\",\"SNcDAProj\",\"SNcDAProj\",\"SNcDAProj\",\"SNcDAProj\",\"SNcDAProj\",\"SNcDAProj\",\"SNcDAProj\",\"SNcDAProj\",\"SNcDAProj\",\"SNcDAProj\",\"SNcDAProj\",\"SNcDAProj\",\"SNcDAProj\",\"SNcDAProj\",\"SNcDAProj\",\"SNcDAProj\",\"SNcDAProj\",\"SNcDAProj\",\"SNcDAProj\",\"SNcDAProj\",\"SNcDAProj\",\"SNcDAProj\",\"SNcDAProj\",\"SNcDAProj\",\"SNcDAProj\",\"SNcDAProj\",\"SNcDAProj\",\"SNcDAProj\",\"SNcDAProj\",\"SNcDAProj\",\"SNcDAProj\"],\"x0\":\" \",\"xaxis\":\"x\",\"y\":[-35.668318315389755,0.0,-34.39812751856741,-14.887874855412909,0.0,-31.38053347949458,-31.65675149364074,-30.97187531344668,-15.941873886612306,-32.45478909374732,-16.245417691428834,-33.98708259510697,-37.67728223810161,-17.959374329144463,-30.28749921222285,-20.06124903149683,-15.291249493783022,-16.861874016245345,-33.105233576453266,-15.947500208774668,-13.494375163912116,-17.311875506710322,-37.31765436684191,-15.347430455800987,-38.50437384079704,0.0,-17.259999343156192,-31.06868174453728,-33.37579166412684,-16.06538977667949,-18.555267017808013,-17.581623610999657,-15.64100085825226,-15.582498825507846,0.0,-15.63218789502344,-27.30548515540384,-15.418749453515328,-31.66191725177246,-29.18287319762381,-11.908751607387387,-16.22312525723537,-18.670521804925134,-16.3640015498892,-31.54500091146684,-15.50437418210232,-15.037083874789433,-15.539999835702677,-13.635629045431765,-14.607749596084783,-30.377809815801825,-32.652146638301915,-14.738749958349375,-16.846250276439996,0.0,-18.632588298726954,-20.33500084168676,-16.495672824082337,0.0,-15.348125178356964,-34.42421798225715,-18.947500701696114,-39.18540202190397,0.0,-14.53787590962068,-30.730875847847585,-30.17974886328281,0.0,0.0,0.0,-31.210830709207663,-17.256796884531237,-15.442232025782804,-16.34812424304917,-16.62892762381703,-15.70887398803116,-16.41624976141715,0.0,-16.24796980059269,-20.680624820912435,-15.9056236924209,-33.70822777306463,0.0,-15.15395817159319,-16.78937455296595,-14.488748753780705,-16.760875039755494,-13.330624946870731,0.0,-14.956041362478004,-19.336879297356823,-15.801250864150418,-23.009686995261315,-16.352812992855515,-17.378500989572245,-18.697500194201115,-32.12312745830384,-19.5725010731322,0.0,-17.23900146033064,-16.014374685009194,0.0,-17.966039959676806,-14.444643570109925,0.0,-15.073124421854748],\"y0\":\" \",\"yaxis\":\"y\",\"type\":\"box\"},{\"alignmentgroup\":\"True\",\"boxpoints\":\"all\",\"hovertemplate\":\"<b>%{hovertext}</b><br><br>cellType=%{x}<br>apwaveform_AP_mean_stim_140=%{y}<extra></extra>\",\"hovertext\":[\"431_1\",\"432_1\",\"433_1\",\"434_1\",\"435_1\",\"436_1\",\"437_1\",\"438_1\",\"439_1\",\"440_1\",\"441_1\",\"442_1\",\"443_1\",\"444_1\",\"445_1\",\"446_1\",\"447_1\",\"448_1\",\"449_1\",\"450_1\",\"451_1\",\"453_1\",\"454_1\",\"455_1\",\"456_1\",\"457_1\",\"458_1\",\"459_1\",\"460_1\",\"462_1\",\"463_1\",\"464_1\",\"465_1\",\"466_1\",\"467_1\",\"468_1\",\"469_1\",\"470_1\",\"471_1\",\"472_1\",\"473_1\",\"474_1\",\"475_1\",\"476_1\",\"477_1\",\"478_1\",\"479_1\",\"480_1\",\"481_1\",\"482_1\",\"483_1\",\"484_1\",\"485_1\",\"486_1\",\"487_1\",\"488_1\",\"489_1\",\"490_1\",\"491_1\",\"492_1\",\"493_1\",\"494_1\",\"495_1\",\"496_1\",\"497_1\",\"498_1\",\"499_1\",\"500_1\",\"501_1\",\"502_1\",\"503_1\",\"504_1\",\"505_1\",\"506_1\",\"507_1\",\"508_1\",\"509_1\",\"510_1\",\"511_1\",\"512_1\",\"513_1\",\"514_1\",\"515_1\",\"516_1\",\"517_1\",\"518_1\",\"519_1\",\"520_1\",\"521_1\",\"522_1\"],\"legendgroup\":\"DAFill\",\"marker\":{\"color\":\"#EF553B\"},\"name\":\"DAFill\",\"notched\":false,\"offsetgroup\":\"DAFill\",\"orientation\":\"v\",\"showlegend\":true,\"x\":[\"DAFill\",\"DAFill\",\"DAFill\",\"DAFill\",\"DAFill\",\"DAFill\",\"DAFill\",\"DAFill\",\"DAFill\",\"DAFill\",\"DAFill\",\"DAFill\",\"DAFill\",\"DAFill\",\"DAFill\",\"DAFill\",\"DAFill\",\"DAFill\",\"DAFill\",\"DAFill\",\"DAFill\",\"DAFill\",\"DAFill\",\"DAFill\",\"DAFill\",\"DAFill\",\"DAFill\",\"DAFill\",\"DAFill\",\"DAFill\",\"DAFill\",\"DAFill\",\"DAFill\",\"DAFill\",\"DAFill\",\"DAFill\",\"DAFill\",\"DAFill\",\"DAFill\",\"DAFill\",\"DAFill\",\"DAFill\",\"DAFill\",\"DAFill\",\"DAFill\",\"DAFill\",\"DAFill\",\"DAFill\",\"DAFill\",\"DAFill\",\"DAFill\",\"DAFill\",\"DAFill\",\"DAFill\",\"DAFill\",\"DAFill\",\"DAFill\",\"DAFill\",\"DAFill\",\"DAFill\",\"DAFill\",\"DAFill\",\"DAFill\",\"DAFill\",\"DAFill\",\"DAFill\",\"DAFill\",\"DAFill\",\"DAFill\",\"DAFill\",\"DAFill\",\"DAFill\",\"DAFill\",\"DAFill\",\"DAFill\",\"DAFill\",\"DAFill\",\"DAFill\",\"DAFill\",\"DAFill\",\"DAFill\",\"DAFill\",\"DAFill\",\"DAFill\",\"DAFill\",\"DAFill\",\"DAFill\",\"DAFill\",\"DAFill\",\"DAFill\"],\"x0\":\" \",\"xaxis\":\"x\",\"y\":[-17.021015739153988,0.0,-17.616717070219913,-16.629375744912274,-11.402290937855796,-15.570249386736975,-14.917125053686537,0.0,-35.32212769322588,0.0,-16.362500607771864,-16.199999204802268,-17.004377623914394,-37.607168178959945,-30.91862098215138,-16.559749749828438,-15.33531163771733,-15.689374472754794,-15.810208104198033,-13.17901749631539,-17.449168004609326,-16.900625045037085,-37.57262645573062,-17.241042572557195,0.0,-15.525625983569808,-16.845694727855896,-27.196249401815457,-15.739217990301093,-17.391874799014364,-15.52437451517966,-27.528249855502903,-15.233839059725303,0.0,-14.41625036558658,-14.68687445243484,-33.86550073480616,0.0,-34.92687470153835,-33.28325087652783,-14.75374866975606,-17.289999701984375,-19.459378312953422,0.0,-16.55791739345595,-14.53375028979089,-15.68187583533292,0.0,-18.884999092960623,-35.50368854483562,-16.985454447102427,-16.40062441271005,-15.169844298425152,-17.160624193072707,-15.953279847508922,0.0,-30.11900079940148,-27.150528591647102,-15.02562497054187,0.0,-16.790547338009585,-16.900626013545157,-17.236874196694572,-18.76712487517567,-18.021456065737045,-18.20562547051669,-16.530002026283103,-16.977343685044307,-30.95034768581789,-34.000625060901626,-15.4399996913985,-14.522811853813336,-13.088750581504732,0.0,0.0,0.0,-14.75296815465111,-30.723948677992865,-15.611998783148236,-31.995694851969027,-29.230623995738867,-37.661251292036496,-12.457749262812085,0.0,-34.1503121331788,-11.816875175086356,-15.85874836496623,-19.32625266472608,-15.066873760727354,-17.34212539345132],\"y0\":\" \",\"yaxis\":\"y\",\"type\":\"box\"},{\"alignmentgroup\":\"True\",\"boxpoints\":\"all\",\"hovertemplate\":\"<b>%{hovertext}</b><br><br>cellType=%{x}<br>apwaveform_AP_mean_stim_140=%{y}<extra></extra>\",\"hovertext\":[\"523_1\",\"524_1\",\"525_1\",\"526_1\",\"527_1\",\"528_1\",\"529_1\",\"530_1\",\"531_1\",\"532_1\",\"533_1\",\"534_1\",\"535_1\",\"536_1\",\"537_1\",\"538_1\",\"539_1\",\"540_1\",\"541_1\",\"542_1\",\"543_1\",\"545_1\",\"546_1\",\"547_1\",\"548_1\",\"549_1\",\"550_1\",\"551_1\",\"552_1\",\"554_1\",\"555_1\",\"555_2\",\"557_1\",\"559_1\",\"560_1\",\"561_1\",\"562_1\",\"563_1\",\"564_1\",\"565_1\",\"566_1\",\"567_1\",\"568_1\",\"569_1\",\"570_1\",\"571_1\",\"571_2\"],\"legendgroup\":\"DA60\",\"marker\":{\"color\":\"#00cc96\"},\"name\":\"DA60\",\"notched\":false,\"offsetgroup\":\"DA60\",\"orientation\":\"v\",\"showlegend\":true,\"x\":[\"DA60\",\"DA60\",\"DA60\",\"DA60\",\"DA60\",\"DA60\",\"DA60\",\"DA60\",\"DA60\",\"DA60\",\"DA60\",\"DA60\",\"DA60\",\"DA60\",\"DA60\",\"DA60\",\"DA60\",\"DA60\",\"DA60\",\"DA60\",\"DA60\",\"DA60\",\"DA60\",\"DA60\",\"DA60\",\"DA60\",\"DA60\",\"DA60\",\"DA60\",\"DA60\",\"DA60\",\"DA60\",\"DA60\",\"DA60\",\"DA60\",\"DA60\",\"DA60\",\"DA60\",\"DA60\",\"DA60\",\"DA60\",\"DA60\",\"DA60\",\"DA60\",\"DA60\",\"DA60\",\"DA60\"],\"x0\":\" \",\"xaxis\":\"x\",\"y\":[null,null,null,null,null,null,null,null,null,null,null,null,null,null,-37.054062968434096,-32.355295878876206,-40.88167828831076,-31.74624077603245,-16.189375812014244,-26.77500025489772,-33.92604285494882,-30.149345851681407,-16.498750347619907,-36.54648800102353,-18.21843765370657,-16.900311488605332,0.0,-32.406668405723224,-17.2089563679103,-30.767317701000724,-14.399017457892263,-16.938750889598683,null,null,null,null,null,null,null,-36.14075001469831,-33.64352024051187,-37.77332034220471,-33.25854216349708,-30.78437505430678,-13.554624260637071,-20.65674881709777,-14.10374978082409],\"y0\":\" \",\"yaxis\":\"y\",\"type\":\"box\"},{\"alignmentgroup\":\"True\",\"boxpoints\":\"all\",\"hovertemplate\":\"<b>%{hovertext}</b><br><br>cellType=%{x}<br>apwaveform_AP_mean_stim_140=%{y}<extra></extra>\",\"hovertext\":[\"573_1\",\"574_1\",\"575_1\",\"576_1\",\"577_1\"],\"legendgroup\":\"DAP0\",\"marker\":{\"color\":\"#ab63fa\"},\"name\":\"DAP0\",\"notched\":false,\"offsetgroup\":\"DAP0\",\"orientation\":\"v\",\"showlegend\":true,\"x\":[\"DAP0\",\"DAP0\",\"DAP0\",\"DAP0\",\"DAP0\"],\"x0\":\" \",\"xaxis\":\"x\",\"y\":[null,null,null,null,null],\"y0\":\" \",\"yaxis\":\"y\",\"type\":\"box\"},{\"alignmentgroup\":\"True\",\"boxpoints\":\"all\",\"hovertemplate\":\"<b>%{hovertext}</b><br><br>cellType=%{x}<br>apwaveform_AP_mean_stim_140=%{y}<extra></extra>\",\"hovertext\":[\"578_1\",\"579_1\",\"580_1\",\"582_1\",\"583_1\",\"584_1\",\"585_1\"],\"legendgroup\":\"DAP2\",\"marker\":{\"color\":\"#FFA15A\"},\"name\":\"DAP2\",\"notched\":false,\"offsetgroup\":\"DAP2\",\"orientation\":\"v\",\"showlegend\":true,\"x\":[\"DAP2\",\"DAP2\",\"DAP2\",\"DAP2\",\"DAP2\",\"DAP2\",\"DAP2\"],\"x0\":\" \",\"xaxis\":\"x\",\"y\":[null,null,null,null,null,null,null],\"y0\":\" \",\"yaxis\":\"y\",\"type\":\"box\"},{\"alignmentgroup\":\"True\",\"boxpoints\":\"all\",\"hovertemplate\":\"<b>%{hovertext}</b><br><br>cellType=%{x}<br>apwaveform_AP_mean_stim_140=%{y}<extra></extra>\",\"hovertext\":[\"586_1\",\"587_1\",\"588_1\",\"590_1\"],\"legendgroup\":\"DAP3\",\"marker\":{\"color\":\"#19d3f3\"},\"name\":\"DAP3\",\"notched\":false,\"offsetgroup\":\"DAP3\",\"orientation\":\"v\",\"showlegend\":true,\"x\":[\"DAP3\",\"DAP3\",\"DAP3\",\"DAP3\"],\"x0\":\" \",\"xaxis\":\"x\",\"y\":[null,null,null,null],\"y0\":\" \",\"yaxis\":\"y\",\"type\":\"box\"},{\"alignmentgroup\":\"True\",\"boxpoints\":\"all\",\"hovertemplate\":\"<b>%{hovertext}</b><br><br>cellType=%{x}<br>apwaveform_AP_mean_stim_140=%{y}<extra></extra>\",\"hovertext\":[\"591_1\",\"592_1\",\"593_1\",\"594_1\",\"595_1\",\"596_1\",\"597_1\",\"598_1\",\"599_1\",\"600_1\",\"601_1\",\"602_1\",\"603_1\",\"604_1\"],\"legendgroup\":\"DAP4\",\"marker\":{\"color\":\"#FF6692\"},\"name\":\"DAP4\",\"notched\":false,\"offsetgroup\":\"DAP4\",\"orientation\":\"v\",\"showlegend\":true,\"x\":[\"DAP4\",\"DAP4\",\"DAP4\",\"DAP4\",\"DAP4\",\"DAP4\",\"DAP4\",\"DAP4\",\"DAP4\",\"DAP4\",\"DAP4\",\"DAP4\",\"DAP4\",\"DAP4\"],\"x0\":\" \",\"xaxis\":\"x\",\"y\":[-14.669124877457206,-12.691874185843268,-26.872875460740303,-28.68932247261782,-28.83925000391917,9.623124392097514,-12.775624449807411,-13.181874917187264,-27.60275068022037,-32.93219023830296,-31.280251722080493,13.397497595605596,-33.6255839835223,-13.41395934479364],\"y0\":\" \",\"yaxis\":\"y\",\"type\":\"box\"},{\"alignmentgroup\":\"True\",\"boxpoints\":\"all\",\"hovertemplate\":\"<b>%{hovertext}</b><br><br>cellType=%{x}<br>apwaveform_AP_mean_stim_140=%{y}<extra></extra>\",\"hovertext\":[\"605_1\",\"606_1\",\"607_1\",\"608_1\",\"609_1\",\"610_1\",\"611_1\",\"612_1\",\"613_1\",\"614_1\"],\"legendgroup\":\"DAFillP4\",\"marker\":{\"color\":\"#B6E880\"},\"name\":\"DAFillP4\",\"notched\":false,\"offsetgroup\":\"DAFillP4\",\"orientation\":\"v\",\"showlegend\":true,\"x\":[\"DAFillP4\",\"DAFillP4\",\"DAFillP4\",\"DAFillP4\",\"DAFillP4\",\"DAFillP4\",\"DAFillP4\",\"DAFillP4\",\"DAFillP4\",\"DAFillP4\"],\"x0\":\" \",\"xaxis\":\"x\",\"y\":[10.813751065090612,-13.916249718500833,-26.43379476545968,-25.913906027155463,-12.234642830756966,-11.159750028299884,-12.98705292621421,0.0,-27.483593403341622,-1.6067178113348266],\"y0\":\" \",\"yaxis\":\"y\",\"type\":\"box\"},{\"alignmentgroup\":\"True\",\"boxpoints\":\"all\",\"hovertemplate\":\"<b>%{hovertext}</b><br><br>cellType=%{x}<br>apwaveform_AP_mean_stim_140=%{y}<extra></extra>\",\"hovertext\":[\"615_1\",\"616_1\",\"617_1\",\"618_1\",\"619_1\",\"620_1\",\"621_1\"],\"legendgroup\":\"DAP5\",\"marker\":{\"color\":\"#FF97FF\"},\"name\":\"DAP5\",\"notched\":false,\"offsetgroup\":\"DAP5\",\"orientation\":\"v\",\"showlegend\":true,\"x\":[\"DAP5\",\"DAP5\",\"DAP5\",\"DAP5\",\"DAP5\",\"DAP5\",\"DAP5\"],\"x0\":\" \",\"xaxis\":\"x\",\"y\":[-31.50023385065744,-15.717767300742452,-15.310207635147057,-23.90583255476717,-14.46281172809373,14.383436810228565,-11.4806272943891],\"y0\":\" \",\"yaxis\":\"y\",\"type\":\"box\"},{\"alignmentgroup\":\"True\",\"boxpoints\":\"all\",\"hovertemplate\":\"<b>%{hovertext}</b><br><br>cellType=%{x}<br>apwaveform_AP_mean_stim_140=%{y}<extra></extra>\",\"hovertext\":[\"622_1\",\"623_1\",\"624_1\",\"625_1\",\"626_1\",\"627_1\",\"628_1\",\"629_1\",\"630_1\",\"631_1\",\"632_1\"],\"legendgroup\":\"DAFillP5\",\"marker\":{\"color\":\"#FECB52\"},\"name\":\"DAFillP5\",\"notched\":false,\"offsetgroup\":\"DAFillP5\",\"orientation\":\"v\",\"showlegend\":true,\"x\":[\"DAFillP5\",\"DAFillP5\",\"DAFillP5\",\"DAFillP5\",\"DAFillP5\",\"DAFillP5\",\"DAFillP5\",\"DAFillP5\",\"DAFillP5\",\"DAFillP5\",\"DAFillP5\"],\"x0\":\" \",\"xaxis\":\"x\",\"y\":[-27.87854202978899,-24.53359515515328,-31.46866021400044,-27.16499936441211,7.8418744038616675,0.1815625298558129,-29.18072797387771,-31.956144412000565,-27.78112504700461,12.727187365798589,-7.3964581742425235],\"y0\":\" \",\"yaxis\":\"y\",\"type\":\"box\"},{\"alignmentgroup\":\"True\",\"boxpoints\":\"all\",\"hovertemplate\":\"<b>%{hovertext}</b><br><br>cellType=%{x}<br>apwaveform_AP_mean_stim_140=%{y}<extra></extra>\",\"hovertext\":[\"713_1\",\"714_1\",\"715_1\",\"716_1\",\"717_1\",\"718_1\",\"719_1\",\"720_1\",\"721_1\",\"722_1\",\"723_1\",\"724_1\",\"725_1\",\"726_1\",\"727_1\",\"728_1\",\"729_1\",\"730_1\",\"731_1\",\"732_1\"],\"legendgroup\":\"DAP28\",\"marker\":{\"color\":\"#636efa\"},\"name\":\"DAP28\",\"notched\":false,\"offsetgroup\":\"DAP28\",\"orientation\":\"v\",\"showlegend\":true,\"x\":[\"DAP28\",\"DAP28\",\"DAP28\",\"DAP28\",\"DAP28\",\"DAP28\",\"DAP28\",\"DAP28\",\"DAP28\",\"DAP28\",\"DAP28\",\"DAP28\",\"DAP28\",\"DAP28\",\"DAP28\",\"DAP28\",\"DAP28\",\"DAP28\",\"DAP28\",\"DAP28\"],\"x0\":\" \",\"xaxis\":\"x\",\"y\":[-16.450414915876426,-36.58543043438694,-16.089875403166385,-15.29875069288935,-17.717499403627087,-15.225535740231017,-15.463124269120804,-15.449999238392754,-29.135249430631003,-16.43546842486377,0.0,-16.199500912115752,-14.702500468474756,-35.58287347087291,-15.949250301385508,-17.288436893176257,-17.306626421543577,-17.615999942926415,-16.369374434090016,-16.04550063224131],\"y0\":\" \",\"yaxis\":\"y\",\"type\":\"box\"},{\"alignmentgroup\":\"True\",\"boxpoints\":\"all\",\"hovertemplate\":\"<b>%{hovertext}</b><br><br>cellType=%{x}<br>apwaveform_AP_mean_stim_140=%{y}<extra></extra>\",\"hovertext\":[\"733_1\",\"734_1\",\"735_1\",\"736_1\",\"737_1\",\"738_1\",\"739_1\",\"740_1\",\"741_1\",\"742_1\",\"743_1\",\"744_1\",\"745_1\",\"746_1\",\"747_1\",\"748_1\",\"749_1\",\"750_1\",\"751_1\",\"752_1\",\"753_1\",\"754_1\",\"755_1\",\"756_1\",\"757_1\",\"758_1\",\"759_1\"],\"legendgroup\":\"DAFillP28\",\"marker\":{\"color\":\"#EF553B\"},\"name\":\"DAFillP28\",\"notched\":false,\"offsetgroup\":\"DAFillP28\",\"orientation\":\"v\",\"showlegend\":true,\"x\":[\"DAFillP28\",\"DAFillP28\",\"DAFillP28\",\"DAFillP28\",\"DAFillP28\",\"DAFillP28\",\"DAFillP28\",\"DAFillP28\",\"DAFillP28\",\"DAFillP28\",\"DAFillP28\",\"DAFillP28\",\"DAFillP28\",\"DAFillP28\",\"DAFillP28\",\"DAFillP28\",\"DAFillP28\",\"DAFillP28\",\"DAFillP28\",\"DAFillP28\",\"DAFillP28\",\"DAFillP28\",\"DAFillP28\",\"DAFillP28\",\"DAFillP28\",\"DAFillP28\",\"DAFillP28\"],\"x0\":\" \",\"xaxis\":\"x\",\"y\":[-17.21624996009103,0.0,-16.52618683452328,-34.160625209768185,0.0,-33.91020481480649,-28.403795048703245,0.0,-32.328000480470635,-14.831562118508096,-15.537500527176238,-17.06964324097767,0.0,-13.954583852103626,-13.73458352955222,0.0,0.0,-32.75524186686437,-30.503543116665107,-16.219017755623366,-16.994374119186226,0.0,-15.84666632395129,0.0,0.0,0.0,-12.09181233401037],\"y0\":\" \",\"yaxis\":\"y\",\"type\":\"box\"},{\"alignmentgroup\":\"True\",\"boxpoints\":\"all\",\"hovertemplate\":\"<b>%{hovertext}</b><br><br>cellType=%{x}<br>apwaveform_AP_mean_stim_140=%{y}<extra></extra>\",\"hovertext\":[\"760_1\",\"761_1\",\"762_1\",\"763_1\",\"764_1\",\"765_1\",\"766_1\",\"767_1\",\"768_1\",\"769_1\",\"770_1\",\"771_1\",\"772_1\",\"773_1\",\"774_1\",\"775_1\",\"776_1\",\"777_1\",\"778_1\",\"779_1\",\"780_1\",\"781_1\",\"782_1\",\"783_1\",\"784_1\",\"785_1\",\"786_1\",\"787_1\"],\"legendgroup\":\"DAP56\",\"marker\":{\"color\":\"#00cc96\"},\"name\":\"DAP56\",\"notched\":false,\"offsetgroup\":\"DAP56\",\"orientation\":\"v\",\"showlegend\":true,\"x\":[\"DAP56\",\"DAP56\",\"DAP56\",\"DAP56\",\"DAP56\",\"DAP56\",\"DAP56\",\"DAP56\",\"DAP56\",\"DAP56\",\"DAP56\",\"DAP56\",\"DAP56\",\"DAP56\",\"DAP56\",\"DAP56\",\"DAP56\",\"DAP56\",\"DAP56\",\"DAP56\",\"DAP56\",\"DAP56\",\"DAP56\",\"DAP56\",\"DAP56\",\"DAP56\",\"DAP56\",\"DAP56\"],\"x0\":\" \",\"xaxis\":\"x\",\"y\":[-17.65812552906049,-10.879375393896307,-34.26021548811079,-18.011748241489087,-17.327767371833872,0.0,0.0,-19.491564048146618,-35.14112300751899,-15.99437528605019,-30.864161110807856,-19.73562442629076,0.0,-34.4036461632528,0.0,-15.619124794411391,-15.869373844331877,-16.785622466685147,-16.17958486133735,-16.2651244190421,0.0,0.0,0.0,-15.629377062354605,0.0,-16.336748141825648,0.0,0.0],\"y0\":\" \",\"yaxis\":\"y\",\"type\":\"box\"}],                        {\"template\":{\"data\":{\"histogram2dcontour\":[{\"type\":\"histogram2dcontour\",\"colorbar\":{\"outlinewidth\":0,\"ticks\":\"\"},\"colorscale\":[[0.0,\"#0d0887\"],[0.1111111111111111,\"#46039f\"],[0.2222222222222222,\"#7201a8\"],[0.3333333333333333,\"#9c179e\"],[0.4444444444444444,\"#bd3786\"],[0.5555555555555556,\"#d8576b\"],[0.6666666666666666,\"#ed7953\"],[0.7777777777777778,\"#fb9f3a\"],[0.8888888888888888,\"#fdca26\"],[1.0,\"#f0f921\"]]}],\"choropleth\":[{\"type\":\"choropleth\",\"colorbar\":{\"outlinewidth\":0,\"ticks\":\"\"}}],\"histogram2d\":[{\"type\":\"histogram2d\",\"colorbar\":{\"outlinewidth\":0,\"ticks\":\"\"},\"colorscale\":[[0.0,\"#0d0887\"],[0.1111111111111111,\"#46039f\"],[0.2222222222222222,\"#7201a8\"],[0.3333333333333333,\"#9c179e\"],[0.4444444444444444,\"#bd3786\"],[0.5555555555555556,\"#d8576b\"],[0.6666666666666666,\"#ed7953\"],[0.7777777777777778,\"#fb9f3a\"],[0.8888888888888888,\"#fdca26\"],[1.0,\"#f0f921\"]]}],\"heatmap\":[{\"type\":\"heatmap\",\"colorbar\":{\"outlinewidth\":0,\"ticks\":\"\"},\"colorscale\":[[0.0,\"#0d0887\"],[0.1111111111111111,\"#46039f\"],[0.2222222222222222,\"#7201a8\"],[0.3333333333333333,\"#9c179e\"],[0.4444444444444444,\"#bd3786\"],[0.5555555555555556,\"#d8576b\"],[0.6666666666666666,\"#ed7953\"],[0.7777777777777778,\"#fb9f3a\"],[0.8888888888888888,\"#fdca26\"],[1.0,\"#f0f921\"]]}],\"heatmapgl\":[{\"type\":\"heatmapgl\",\"colorbar\":{\"outlinewidth\":0,\"ticks\":\"\"},\"colorscale\":[[0.0,\"#0d0887\"],[0.1111111111111111,\"#46039f\"],[0.2222222222222222,\"#7201a8\"],[0.3333333333333333,\"#9c179e\"],[0.4444444444444444,\"#bd3786\"],[0.5555555555555556,\"#d8576b\"],[0.6666666666666666,\"#ed7953\"],[0.7777777777777778,\"#fb9f3a\"],[0.8888888888888888,\"#fdca26\"],[1.0,\"#f0f921\"]]}],\"contourcarpet\":[{\"type\":\"contourcarpet\",\"colorbar\":{\"outlinewidth\":0,\"ticks\":\"\"}}],\"contour\":[{\"type\":\"contour\",\"colorbar\":{\"outlinewidth\":0,\"ticks\":\"\"},\"colorscale\":[[0.0,\"#0d0887\"],[0.1111111111111111,\"#46039f\"],[0.2222222222222222,\"#7201a8\"],[0.3333333333333333,\"#9c179e\"],[0.4444444444444444,\"#bd3786\"],[0.5555555555555556,\"#d8576b\"],[0.6666666666666666,\"#ed7953\"],[0.7777777777777778,\"#fb9f3a\"],[0.8888888888888888,\"#fdca26\"],[1.0,\"#f0f921\"]]}],\"surface\":[{\"type\":\"surface\",\"colorbar\":{\"outlinewidth\":0,\"ticks\":\"\"},\"colorscale\":[[0.0,\"#0d0887\"],[0.1111111111111111,\"#46039f\"],[0.2222222222222222,\"#7201a8\"],[0.3333333333333333,\"#9c179e\"],[0.4444444444444444,\"#bd3786\"],[0.5555555555555556,\"#d8576b\"],[0.6666666666666666,\"#ed7953\"],[0.7777777777777778,\"#fb9f3a\"],[0.8888888888888888,\"#fdca26\"],[1.0,\"#f0f921\"]]}],\"mesh3d\":[{\"type\":\"mesh3d\",\"colorbar\":{\"outlinewidth\":0,\"ticks\":\"\"}}],\"scatter\":[{\"fillpattern\":{\"fillmode\":\"overlay\",\"size\":10,\"solidity\":0.2},\"type\":\"scatter\"}],\"parcoords\":[{\"type\":\"parcoords\",\"line\":{\"colorbar\":{\"outlinewidth\":0,\"ticks\":\"\"}}}],\"scatterpolargl\":[{\"type\":\"scatterpolargl\",\"marker\":{\"colorbar\":{\"outlinewidth\":0,\"ticks\":\"\"}}}],\"bar\":[{\"error_x\":{\"color\":\"#2a3f5f\"},\"error_y\":{\"color\":\"#2a3f5f\"},\"marker\":{\"line\":{\"color\":\"#E5ECF6\",\"width\":0.5},\"pattern\":{\"fillmode\":\"overlay\",\"size\":10,\"solidity\":0.2}},\"type\":\"bar\"}],\"scattergeo\":[{\"type\":\"scattergeo\",\"marker\":{\"colorbar\":{\"outlinewidth\":0,\"ticks\":\"\"}}}],\"scatterpolar\":[{\"type\":\"scatterpolar\",\"marker\":{\"colorbar\":{\"outlinewidth\":0,\"ticks\":\"\"}}}],\"histogram\":[{\"marker\":{\"pattern\":{\"fillmode\":\"overlay\",\"size\":10,\"solidity\":0.2}},\"type\":\"histogram\"}],\"scattergl\":[{\"type\":\"scattergl\",\"marker\":{\"colorbar\":{\"outlinewidth\":0,\"ticks\":\"\"}}}],\"scatter3d\":[{\"type\":\"scatter3d\",\"line\":{\"colorbar\":{\"outlinewidth\":0,\"ticks\":\"\"}},\"marker\":{\"colorbar\":{\"outlinewidth\":0,\"ticks\":\"\"}}}],\"scattermapbox\":[{\"type\":\"scattermapbox\",\"marker\":{\"colorbar\":{\"outlinewidth\":0,\"ticks\":\"\"}}}],\"scatterternary\":[{\"type\":\"scatterternary\",\"marker\":{\"colorbar\":{\"outlinewidth\":0,\"ticks\":\"\"}}}],\"scattercarpet\":[{\"type\":\"scattercarpet\",\"marker\":{\"colorbar\":{\"outlinewidth\":0,\"ticks\":\"\"}}}],\"carpet\":[{\"aaxis\":{\"endlinecolor\":\"#2a3f5f\",\"gridcolor\":\"white\",\"linecolor\":\"white\",\"minorgridcolor\":\"white\",\"startlinecolor\":\"#2a3f5f\"},\"baxis\":{\"endlinecolor\":\"#2a3f5f\",\"gridcolor\":\"white\",\"linecolor\":\"white\",\"minorgridcolor\":\"white\",\"startlinecolor\":\"#2a3f5f\"},\"type\":\"carpet\"}],\"table\":[{\"cells\":{\"fill\":{\"color\":\"#EBF0F8\"},\"line\":{\"color\":\"white\"}},\"header\":{\"fill\":{\"color\":\"#C8D4E3\"},\"line\":{\"color\":\"white\"}},\"type\":\"table\"}],\"barpolar\":[{\"marker\":{\"line\":{\"color\":\"#E5ECF6\",\"width\":0.5},\"pattern\":{\"fillmode\":\"overlay\",\"size\":10,\"solidity\":0.2}},\"type\":\"barpolar\"}],\"pie\":[{\"automargin\":true,\"type\":\"pie\"}]},\"layout\":{\"autotypenumbers\":\"strict\",\"colorway\":[\"#636efa\",\"#EF553B\",\"#00cc96\",\"#ab63fa\",\"#FFA15A\",\"#19d3f3\",\"#FF6692\",\"#B6E880\",\"#FF97FF\",\"#FECB52\"],\"font\":{\"color\":\"#2a3f5f\"},\"hovermode\":\"closest\",\"hoverlabel\":{\"align\":\"left\"},\"paper_bgcolor\":\"white\",\"plot_bgcolor\":\"#E5ECF6\",\"polar\":{\"bgcolor\":\"#E5ECF6\",\"angularaxis\":{\"gridcolor\":\"white\",\"linecolor\":\"white\",\"ticks\":\"\"},\"radialaxis\":{\"gridcolor\":\"white\",\"linecolor\":\"white\",\"ticks\":\"\"}},\"ternary\":{\"bgcolor\":\"#E5ECF6\",\"aaxis\":{\"gridcolor\":\"white\",\"linecolor\":\"white\",\"ticks\":\"\"},\"baxis\":{\"gridcolor\":\"white\",\"linecolor\":\"white\",\"ticks\":\"\"},\"caxis\":{\"gridcolor\":\"white\",\"linecolor\":\"white\",\"ticks\":\"\"}},\"coloraxis\":{\"colorbar\":{\"outlinewidth\":0,\"ticks\":\"\"}},\"colorscale\":{\"sequential\":[[0.0,\"#0d0887\"],[0.1111111111111111,\"#46039f\"],[0.2222222222222222,\"#7201a8\"],[0.3333333333333333,\"#9c179e\"],[0.4444444444444444,\"#bd3786\"],[0.5555555555555556,\"#d8576b\"],[0.6666666666666666,\"#ed7953\"],[0.7777777777777778,\"#fb9f3a\"],[0.8888888888888888,\"#fdca26\"],[1.0,\"#f0f921\"]],\"sequentialminus\":[[0.0,\"#0d0887\"],[0.1111111111111111,\"#46039f\"],[0.2222222222222222,\"#7201a8\"],[0.3333333333333333,\"#9c179e\"],[0.4444444444444444,\"#bd3786\"],[0.5555555555555556,\"#d8576b\"],[0.6666666666666666,\"#ed7953\"],[0.7777777777777778,\"#fb9f3a\"],[0.8888888888888888,\"#fdca26\"],[1.0,\"#f0f921\"]],\"diverging\":[[0,\"#8e0152\"],[0.1,\"#c51b7d\"],[0.2,\"#de77ae\"],[0.3,\"#f1b6da\"],[0.4,\"#fde0ef\"],[0.5,\"#f7f7f7\"],[0.6,\"#e6f5d0\"],[0.7,\"#b8e186\"],[0.8,\"#7fbc41\"],[0.9,\"#4d9221\"],[1,\"#276419\"]]},\"xaxis\":{\"gridcolor\":\"white\",\"linecolor\":\"white\",\"ticks\":\"\",\"title\":{\"standoff\":15},\"zerolinecolor\":\"white\",\"automargin\":true,\"zerolinewidth\":2},\"yaxis\":{\"gridcolor\":\"white\",\"linecolor\":\"white\",\"ticks\":\"\",\"title\":{\"standoff\":15},\"zerolinecolor\":\"white\",\"automargin\":true,\"zerolinewidth\":2},\"scene\":{\"xaxis\":{\"backgroundcolor\":\"#E5ECF6\",\"gridcolor\":\"white\",\"linecolor\":\"white\",\"showbackground\":true,\"ticks\":\"\",\"zerolinecolor\":\"white\",\"gridwidth\":2},\"yaxis\":{\"backgroundcolor\":\"#E5ECF6\",\"gridcolor\":\"white\",\"linecolor\":\"white\",\"showbackground\":true,\"ticks\":\"\",\"zerolinecolor\":\"white\",\"gridwidth\":2},\"zaxis\":{\"backgroundcolor\":\"#E5ECF6\",\"gridcolor\":\"white\",\"linecolor\":\"white\",\"showbackground\":true,\"ticks\":\"\",\"zerolinecolor\":\"white\",\"gridwidth\":2}},\"shapedefaults\":{\"line\":{\"color\":\"#2a3f5f\"}},\"annotationdefaults\":{\"arrowcolor\":\"#2a3f5f\",\"arrowhead\":0,\"arrowwidth\":1},\"geo\":{\"bgcolor\":\"white\",\"landcolor\":\"#E5ECF6\",\"subunitcolor\":\"white\",\"showland\":true,\"showlakes\":true,\"lakecolor\":\"white\"},\"title\":{\"x\":0.05},\"mapbox\":{\"style\":\"light\"}}},\"xaxis\":{\"anchor\":\"y\",\"domain\":[0.0,1.0],\"title\":{\"text\":\"cellType\"},\"categoryorder\":\"array\",\"categoryarray\":[\"L5FS\",\"SNcDA\",\"L2IN\",\"L5PC\",\"NO\",\"L2PC\",\"L5IN\",\"Amygdala\",\"DA\",\"CA1PC\",\"SNcDAProj\",\"DAFill\",\"DA60\",\"DAP0\",\"DAP2\",\"DAP3\",\"DAP4\",\"DAFillP4\",\"DAP5\",\"DAFillP5\",\"DAP28\",\"DAFillP28\",\"DAP56\"]},\"yaxis\":{\"anchor\":\"x\",\"domain\":[0.0,1.0],\"title\":{\"text\":\"apwaveform_AP_mean_stim_140\"}},\"legend\":{\"title\":{\"text\":\"cellType\"},\"tracegroupgap\":0},\"title\":{\"text\":\"apwaveform_AP_mean_stim_140\"},\"boxmode\":\"overlay\"},                        {\"responsive\": true}                    ).then(function(){\n",
       "                            \n",
       "var gd = document.getElementById('6eb9bc52-2414-434c-a6af-49ea760641ef');\n",
       "var x = new MutationObserver(function (mutations, observer) {{\n",
       "        var display = window.getComputedStyle(gd).display;\n",
       "        if (!display || display === 'none') {{\n",
       "            console.log([gd, 'removed!']);\n",
       "            Plotly.purge(gd);\n",
       "            observer.disconnect();\n",
       "        }}\n",
       "}});\n",
       "\n",
       "// Listen for the removal of the full notebook cells\n",
       "var notebookContainer = gd.closest('#notebook-container');\n",
       "if (notebookContainer) {{\n",
       "    x.observe(notebookContainer, {childList: true});\n",
       "}}\n",
       "\n",
       "// Listen for the clearing of the current output cell\n",
       "var outputEl = gd.closest('.output');\n",
       "if (outputEl) {{\n",
       "    x.observe(outputEl, {childList: true});\n",
       "}}\n",
       "\n",
       "                        })                };                });            </script>        </div>"
      ]
     },
     "metadata": {},
     "output_type": "display_data"
    }
   ],
   "source": [
    "import plotly.express as px\n",
    "df = px.data.tips()\n",
    "fig = px.box(formated_data, \n",
    "             x=\"cellType\",\n",
    "             y=\"apwaveform_AP_mean_stim_140\",\n",
    "            color=\"cellType\",\n",
    "            title=\"apwaveform_AP_mean_stim_140\",\n",
    "           hover_name = 'id',\n",
    "\n",
    "\n",
    "            points=\"all\")\n",
    "fig.show()"
   ]
  },
  {
   "cell_type": "code",
   "execution_count": null,
   "id": "f467b734",
   "metadata": {},
   "outputs": [],
   "source": []
  }
 ],
 "metadata": {
  "kernelspec": {
   "display_name": "bbp_code_package",
   "language": "python",
   "name": "bbp_code_package"
  },
  "language_info": {
   "codemirror_mode": {
    "name": "ipython",
    "version": 3
   },
   "file_extension": ".py",
   "mimetype": "text/x-python",
   "name": "python",
   "nbconvert_exporter": "python",
   "pygments_lexer": "ipython3",
   "version": "3.9.12"
  }
 },
 "nbformat": 4,
 "nbformat_minor": 5
}
