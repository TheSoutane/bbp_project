{
 "cells": [
  {
   "cell_type": "markdown",
   "id": "933eae06",
   "metadata": {},
   "source": [
    "Data is strucutured as follow:\n",
    "An experiment is performed on multiple cells. To increase certainty the experiment is performed multiple times (~3-4). \\\n",
    "During each repetition of the experience, different protocols are applied, each composed of multiple steps. Finally the results are analysed and data regarding the neuron electrical answer are generated. Those are mostly composed of spikes and inter spikes features. \\\n",
    "To sythetize, the data are structured as follow: Experiment/cell/repetitions/protocol/step/spike. \\\n",
    "As the data have to be considered at cell level we will not consider the experiment data (except for debugging)"
   ]
  },
  {
   "cell_type": "markdown",
   "id": "9b25e50f",
   "metadata": {},
   "source": [
    "# Librairy importation and data load"
   ]
  },
  {
   "cell_type": "code",
   "execution_count": 1,
   "id": "b62f1cb6",
   "metadata": {},
   "outputs": [],
   "source": [
    "import os\n",
    "import pandas as pd\n",
    "from scipy import io\n"
   ]
  },
  {
   "cell_type": "code",
   "execution_count": 2,
   "id": "157e6f44",
   "metadata": {},
   "outputs": [],
   "source": [
    "loaded_sp = io.loadmat('../data/01_raw/matData_2022-05-30/aCell404_1.mat')"
   ]
  },
  {
   "cell_type": "markdown",
   "id": "c8b4cff3",
   "metadata": {},
   "source": [
    "# Functions"
   ]
  },
  {
   "cell_type": "code",
   "execution_count": 3,
   "id": "f853f216",
   "metadata": {},
   "outputs": [],
   "source": [
    "# def flatten_df(df, levels):\n",
    "#     \"\"\"Flatten all the columns of a datafram to facilitate data extraction\n",
    "    \n",
    "#     df: Dataframe to flatten\n",
    "#     levels: number of wished flattening levels\n",
    "#     \"\"\"\n",
    "#     df_flat = df.copy()\n",
    "#     count = 0\n",
    "#     while count<levels:\n",
    "#         df_flat = df_flat.apply(lambda x: x[0])\n",
    "#         count+=1\n",
    "#     return df_flat\n",
    "\n",
    "def flatten_df(df):\n",
    "    \"\"\"Flatten all the columns of a datafram to facilitate data extraction\n",
    "    \n",
    "    df: Dataframe to flatten\n",
    "    \"\"\"\n",
    "    df_flat = df.copy()\n",
    "    df_flat = df_flat.apply(lambda x: x[0][0])\n",
    "\n",
    "    return df_flat\n"
   ]
  },
  {
   "cell_type": "markdown",
   "id": "3c288dab",
   "metadata": {},
   "source": [
    "# Cell level data (+experiment)"
   ]
  },
  {
   "cell_type": "code",
   "execution_count": 4,
   "id": "4a8f3d7b",
   "metadata": {},
   "outputs": [
    {
     "data": {
      "text/plain": [
       "dict_keys(['__header__', '__version__', '__globals__', 'aCell'])"
      ]
     },
     "execution_count": 4,
     "metadata": {},
     "output_type": "execute_result"
    }
   ],
   "source": [
    "loaded_sp.keys()\n",
    "# Only aCell contains relevant information. We will not consider the other cells"
   ]
  },
  {
   "cell_type": "markdown",
   "id": "8f15c18e",
   "metadata": {},
   "source": [
    "#### First branching (but not the latest :). \n",
    "- Id simply provides the experiment ID\n",
    "- Cellinfo provides the cell data\n",
    "- FileInfo provides the document data (useless)\n",
    "- protocol provides all theinformations regarding the stimulus and the experimental results"
   ]
  },
  {
   "cell_type": "code",
   "execution_count": 5,
   "id": "e23f9c18",
   "metadata": {},
   "outputs": [
    {
     "data": {
      "text/plain": [
       "dtype([('id', 'O'), ('cellInfo', 'O'), ('protocol', 'O'), ('fileInfo', 'O')])"
      ]
     },
     "execution_count": 5,
     "metadata": {},
     "output_type": "execute_result"
    }
   ],
   "source": [
    "loaded_sp['aCell'][0][0].dtype"
   ]
  },
  {
   "cell_type": "code",
   "execution_count": 6,
   "id": "f91df9e7",
   "metadata": {},
   "outputs": [],
   "source": [
    "# fileInfo_temp = pd.DataFrame(loaded_sp['aCell'][0][0]['fileInfo'].ravel())\n",
    "cellInfo_temp = pd.DataFrame(loaded_sp['aCell'][0][0]['cellInfo'].ravel())\n",
    "\n",
    "                          "
   ]
  },
  {
   "cell_type": "code",
   "execution_count": 7,
   "id": "e2c1ec78",
   "metadata": {},
   "outputs": [
    {
     "data": {
      "text/plain": [
       "id                                                    404_1\n",
       "experimenter                                             OH\n",
       "species                                               Mouse\n",
       "channel                                                 ch2\n",
       "cellType                                          SNcDAProj\n",
       "path            \\001_150211A04_OH\\001_150211A4MMP14SNcDA_OH\n",
       "status                                                  [1]\n",
       "dtype: object"
      ]
     },
     "execution_count": 7,
     "metadata": {},
     "output_type": "execute_result"
    }
   ],
   "source": [
    "# Extract the cell info\n",
    "cellInfo_flat = flatten_df(cellInfo_temp)\n",
    "cellInfo_flat"
   ]
  },
  {
   "cell_type": "markdown",
   "id": "d05df65d",
   "metadata": {},
   "source": [
    "# Extraction of data at protocol level"
   ]
  },
  {
   "cell_type": "code",
   "execution_count": 8,
   "id": "ac77096f",
   "metadata": {},
   "outputs": [
    {
     "data": {
      "text/plain": [
       "'PosCheops'"
      ]
     },
     "execution_count": 8,
     "metadata": {},
     "output_type": "execute_result"
    }
   ],
   "source": [
    "# for i in loaded_sp['aCell'][0][0]['protocol'][0]:\n",
    "#     print(i[0][0][0][0])\n",
    "protocol_raw = loaded_sp['aCell'][0][0]['protocol'][0][11]\n",
    "protocol_raw[0][0][0][0]#['APWaveform']"
   ]
  },
  {
   "cell_type": "code",
   "execution_count": 9,
   "id": "10a6fbda",
   "metadata": {},
   "outputs": [
    {
     "name": "stdout",
     "output_type": "stream",
     "text": [
      "APWaveform\n",
      "DeHyperPol\n",
      "Delta\n",
      "ElecCal\n",
      "FirePattern\n",
      "HyperDePol\n",
      "IDRest\n",
      "IDThres\n",
      "IV\n",
      "NegCheops\n",
      "NoiseOU3\n",
      "PosCheops\n",
      "RPip\n",
      "RSealOpen\n",
      "Rac\n",
      "ResetITC\n",
      "SetAmpl\n",
      "SetISI\n",
      "SineSpec\n",
      "SpikeRec\n",
      "SponHold30\n",
      "SponHold3\n",
      "SponNoHold30\n",
      "StartHold\n",
      "StartNoHold\n",
      "SubWhiteNoise\n",
      "TestAmpl\n",
      "TestRheo\n",
      "TestSpikeRec\n",
      "WhiteNoise\n",
      "sAHP\n"
     ]
    }
   ],
   "source": [
    "for i in loaded_sp['aCell'][0][0]['protocol'][0]:\n",
    "    print(i[0][0][0][0])"
   ]
  },
  {
   "cell_type": "markdown",
   "id": "0018d4ae",
   "metadata": {},
   "source": [
    "#### APWaveform (Illustrative)"
   ]
  },
  {
   "cell_type": "code",
   "execution_count": 10,
   "id": "d796a591",
   "metadata": {},
   "outputs": [],
   "source": [
    "protocol_df = pd.DataFrame(protocol_raw[0][0][1][0])\n",
    "protocol_df['protocol_name'] = protocol_raw[0][0][0][0]\n",
    "protocol_df = protocol_df.reset_index().rename(columns={'index': 'repetition'})\n",
    "\n"
   ]
  },
  {
   "cell_type": "code",
   "execution_count": 11,
   "id": "fc1b53b5",
   "metadata": {},
   "outputs": [
    {
     "data": {
      "text/plain": [
       "numpy.ndarray"
      ]
     },
     "execution_count": 11,
     "metadata": {},
     "output_type": "execute_result"
    }
   ],
   "source": [
    "type(protocol_df.cheops[0]#.m_for_hyperpol_voltage\n",
    "    )"
   ]
  },
  {
   "cell_type": "code",
   "execution_count": 13,
   "id": "b8fbef97",
   "metadata": {},
   "outputs": [],
   "source": [
    "cheops_df = pd.DataFrame(protocol_df.cheops[0][0])"
   ]
  },
  {
   "cell_type": "code",
   "execution_count": 15,
   "id": "4dce7cfb",
   "metadata": {},
   "outputs": [
    {
     "data": {
      "text/plain": [
       "0    [[1405.7693939278922]]\n",
       "1     [[896.5423404420781]]\n",
       "2     [[552.7529114352801]]\n",
       "Name: time_for_depol_AP1, dtype: object"
      ]
     },
     "execution_count": 15,
     "metadata": {},
     "output_type": "execute_result"
    }
   ],
   "source": [
    "cheops_df.time_for_depol_AP1"
   ]
  },
  {
   "cell_type": "code",
   "execution_count": 16,
   "id": "5674d0c2",
   "metadata": {},
   "outputs": [],
   "source": [
    "# multi \n",
    "cheops_cols = ['cur_for_depol_AP1',\n",
    "'time_for_depol_AP1',\n",
    "'volt_for_depol_AP1',\n",
    "'AHP_for_depol_AP1',\n",
    "'volt_for_hyperpol_APlast',\n",
    "'AHP_for_hyperpol_APlast',\n",
    "\n",
    "]\n",
    "\n",
    "\n",
    "\n",
    "\n"
   ]
  },
  {
   "cell_type": "code",
   "execution_count": 17,
   "id": "696ff540",
   "metadata": {},
   "outputs": [
    {
     "data": {
      "text/html": [
       "<div>\n",
       "<style scoped>\n",
       "    .dataframe tbody tr th:only-of-type {\n",
       "        vertical-align: middle;\n",
       "    }\n",
       "\n",
       "    .dataframe tbody tr th {\n",
       "        vertical-align: top;\n",
       "    }\n",
       "\n",
       "    .dataframe thead th {\n",
       "        text-align: right;\n",
       "    }\n",
       "</style>\n",
       "<table border=\"1\" class=\"dataframe\">\n",
       "  <thead>\n",
       "    <tr style=\"text-align: right;\">\n",
       "      <th></th>\n",
       "      <th>cur_for_depol_AP1</th>\n",
       "      <th>time_for_depol_AP1</th>\n",
       "      <th>volt_for_depol_AP1</th>\n",
       "      <th>AHP_for_depol_AP1</th>\n",
       "      <th>volt_for_hyperpol_APlast</th>\n",
       "      <th>AHP_for_hyperpol_APlast</th>\n",
       "    </tr>\n",
       "  </thead>\n",
       "  <tbody>\n",
       "    <tr>\n",
       "      <th>0</th>\n",
       "      <td>[[475.49996250093744]]</td>\n",
       "      <td>[[1405.7693939278922]]</td>\n",
       "      <td>[[-30.044602090764332]]</td>\n",
       "      <td>[[27.736647193594106]]</td>\n",
       "      <td>[]</td>\n",
       "      <td>[]</td>\n",
       "    </tr>\n",
       "    <tr>\n",
       "      <th>1</th>\n",
       "      <td>[[606.5195740212988]]</td>\n",
       "      <td>[[896.5423404420781]]</td>\n",
       "      <td>[[-31.78577250820231]]</td>\n",
       "      <td>[[23.58922608902856]]</td>\n",
       "      <td>[]</td>\n",
       "      <td>[]</td>\n",
       "    </tr>\n",
       "    <tr>\n",
       "      <th>2</th>\n",
       "      <td>[[561.051984097217]]</td>\n",
       "      <td>[[552.7529114352801]]</td>\n",
       "      <td>[[-30.445094421512103]]</td>\n",
       "      <td>[[25.429905191057706]]</td>\n",
       "      <td>[]</td>\n",
       "      <td>[]</td>\n",
       "    </tr>\n",
       "  </tbody>\n",
       "</table>\n",
       "</div>"
      ],
      "text/plain": [
       "        cur_for_depol_AP1      time_for_depol_AP1       volt_for_depol_AP1  \\\n",
       "0  [[475.49996250093744]]  [[1405.7693939278922]]  [[-30.044602090764332]]   \n",
       "1   [[606.5195740212988]]   [[896.5423404420781]]   [[-31.78577250820231]]   \n",
       "2    [[561.051984097217]]   [[552.7529114352801]]  [[-30.445094421512103]]   \n",
       "\n",
       "        AHP_for_depol_AP1 volt_for_hyperpol_APlast AHP_for_hyperpol_APlast  \n",
       "0  [[27.736647193594106]]                       []                      []  \n",
       "1   [[23.58922608902856]]                       []                      []  \n",
       "2  [[25.429905191057706]]                       []                      []  "
      ]
     },
     "execution_count": 17,
     "metadata": {},
     "output_type": "execute_result"
    }
   ],
   "source": [
    "cheops_df[cheops_cols]"
   ]
  },
  {
   "cell_type": "code",
   "execution_count": null,
   "id": "74597db0",
   "metadata": {},
   "outputs": [],
   "source": []
  }
 ],
 "metadata": {
  "kernelspec": {
   "display_name": "Python 3 (ipykernel)",
   "language": "python",
   "name": "python3"
  },
  "language_info": {
   "codemirror_mode": {
    "name": "ipython",
    "version": 3
   },
   "file_extension": ".py",
   "mimetype": "text/x-python",
   "name": "python",
   "nbconvert_exporter": "python",
   "pygments_lexer": "ipython3",
   "version": "3.9.12"
  }
 },
 "nbformat": 4,
 "nbformat_minor": 5
}
