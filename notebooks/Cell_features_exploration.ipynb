{
 "cells": [
  {
   "cell_type": "markdown",
   "id": "933eae06",
   "metadata": {},
   "source": [
    "Data is strucutured as follow:\n",
    "An experiment is performed on multiple cells. To increase certainty the experiment is performed multiple times (~3-4). \\\n",
    "During each repetition of the experience, different protocols are applied, each composed of multiple steps. Finally the results are analysed and data regarding the neuron electrical answer are generated. Those are mostly composed of spikes and inter spikes features. \\\n",
    "To sythetize, the data are structured as follow: Experiment/cell/repetitions/protocol/step/spike. \\\n",
    "As the data have to be considered at cell level we will not consider the experiment data (except for debugging)"
   ]
  },
  {
   "cell_type": "markdown",
   "id": "9b25e50f",
   "metadata": {},
   "source": [
    "# Librairy importation and data load"
   ]
  },
  {
   "cell_type": "code",
   "execution_count": 1,
   "id": "b62f1cb6",
   "metadata": {},
   "outputs": [],
   "source": [
    "import os\n",
    "import pandas as pd\n",
    "from scipy import io\n"
   ]
  },
  {
   "cell_type": "code",
   "execution_count": 88,
   "id": "157e6f44",
   "metadata": {},
   "outputs": [],
   "source": [
    "loaded_sp = io.loadmat('../data/01_raw/matData_2022-05-30/aCell176_1.mat')"
   ]
  },
  {
   "cell_type": "markdown",
   "id": "c8b4cff3",
   "metadata": {},
   "source": [
    "# Functions"
   ]
  },
  {
   "cell_type": "code",
   "execution_count": 89,
   "id": "f853f216",
   "metadata": {},
   "outputs": [],
   "source": [
    "# def flatten_df(df, levels):\n",
    "#     \"\"\"Flatten all the columns of a datafram to facilitate data extraction\n",
    "    \n",
    "#     df: Dataframe to flatten\n",
    "#     levels: number of wished flattening levels\n",
    "#     \"\"\"\n",
    "#     df_flat = df.copy()\n",
    "#     count = 0\n",
    "#     while count<levels:\n",
    "#         df_flat = df_flat.apply(lambda x: x[0])\n",
    "#         count+=1\n",
    "#     return df_flat\n",
    "\n",
    "def flatten_df(df):\n",
    "    \"\"\"Flatten all the columns of a datafram to facilitate data extraction\n",
    "    \n",
    "    df: Dataframe to flatten\n",
    "    \"\"\"\n",
    "    df_flat = df.copy()\n",
    "    df_flat = df_flat.apply(lambda x: x[0][0])\n",
    "\n",
    "    return df_flat\n"
   ]
  },
  {
   "cell_type": "markdown",
   "id": "3c288dab",
   "metadata": {},
   "source": [
    "# Cell level data (+experiment)"
   ]
  },
  {
   "cell_type": "code",
   "execution_count": 90,
   "id": "4a8f3d7b",
   "metadata": {},
   "outputs": [
    {
     "data": {
      "text/plain": [
       "dict_keys(['__header__', '__version__', '__globals__', 'aCell'])"
      ]
     },
     "execution_count": 90,
     "metadata": {},
     "output_type": "execute_result"
    }
   ],
   "source": [
    "loaded_sp.keys()\n",
    "# Only aCell contains relevant information. We will not consider the other cells"
   ]
  },
  {
   "cell_type": "markdown",
   "id": "8f15c18e",
   "metadata": {},
   "source": [
    "#### First branching (but not the latest :). \n",
    "- Id simply provides the experiment ID\n",
    "- Cellinfo provides the cell data\n",
    "- FileInfo provides the document data (useless)\n",
    "- protocol provides all theinformations regarding the stimulus and the experimental results"
   ]
  },
  {
   "cell_type": "code",
   "execution_count": 91,
   "id": "e23f9c18",
   "metadata": {},
   "outputs": [
    {
     "data": {
      "text/plain": [
       "dtype([('id', 'O'), ('cellInfo', 'O'), ('protocol', 'O'), ('fileInfo', 'O')])"
      ]
     },
     "execution_count": 91,
     "metadata": {},
     "output_type": "execute_result"
    }
   ],
   "source": [
    "loaded_sp['aCell'][0][0].dtype"
   ]
  },
  {
   "cell_type": "code",
   "execution_count": 92,
   "id": "f91df9e7",
   "metadata": {},
   "outputs": [],
   "source": [
    "# fileInfo_temp = pd.DataFrame(loaded_sp['aCell'][0][0]['fileInfo'].ravel())\n",
    "cellInfo_temp = pd.DataFrame(loaded_sp['aCell'][0][0]['cellInfo'].ravel())\n",
    "\n",
    "                          "
   ]
  },
  {
   "cell_type": "code",
   "execution_count": 93,
   "id": "e2c1ec78",
   "metadata": {},
   "outputs": [
    {
     "data": {
      "text/plain": [
       "id                                                   176_1\n",
       "experimenter                                            OH\n",
       "species                                              Mouse\n",
       "channel                                                ch2\n",
       "cellType                                              L5IN\n",
       "path            \\001_140514C01_OH\\001_140514C1MMP14L5IN_OH\n",
       "status                                                 [1]\n",
       "dtype: object"
      ]
     },
     "execution_count": 93,
     "metadata": {},
     "output_type": "execute_result"
    }
   ],
   "source": [
    "# Extract the cell info\n",
    "cellInfo_flat = flatten_df(cellInfo_temp)\n",
    "cellInfo_flat"
   ]
  },
  {
   "cell_type": "markdown",
   "id": "d05df65d",
   "metadata": {},
   "source": [
    "# Extraction of data at protocol level"
   ]
  },
  {
   "cell_type": "code",
   "execution_count": 94,
   "id": "ac77096f",
   "metadata": {},
   "outputs": [
    {
     "data": {
      "text/plain": [
       "'APWaveform'"
      ]
     },
     "execution_count": 94,
     "metadata": {},
     "output_type": "execute_result"
    }
   ],
   "source": [
    "# for i in loaded_sp['aCell'][0][0]['protocol'][0]:\n",
    "#     print(i[0][0][0][0])\n",
    "protocol_raw = loaded_sp['aCell'][0][0]['protocol'][0][0]\n",
    "protocol_raw[0][0][0][0]#['APWaveform']"
   ]
  },
  {
   "cell_type": "markdown",
   "id": "0018d4ae",
   "metadata": {},
   "source": [
    "#### APWaveform (Illustrative)"
   ]
  },
  {
   "cell_type": "code",
   "execution_count": 95,
   "id": "d796a591",
   "metadata": {},
   "outputs": [
    {
     "data": {
      "text/html": [
       "<div>\n",
       "<style scoped>\n",
       "    .dataframe tbody tr th:only-of-type {\n",
       "        vertical-align: middle;\n",
       "    }\n",
       "\n",
       "    .dataframe tbody tr th {\n",
       "        vertical-align: top;\n",
       "    }\n",
       "\n",
       "    .dataframe thead th {\n",
       "        text-align: right;\n",
       "    }\n",
       "</style>\n",
       "<table border=\"1\" class=\"dataframe\">\n",
       "  <thead>\n",
       "    <tr style=\"text-align: right;\">\n",
       "      <th></th>\n",
       "      <th>repetition</th>\n",
       "      <th>nTrace</th>\n",
       "      <th>ids</th>\n",
       "      <th>stim</th>\n",
       "      <th>stim_actual</th>\n",
       "      <th>stim_ids</th>\n",
       "      <th>stim_change</th>\n",
       "      <th>vHold</th>\n",
       "      <th>stim_start</th>\n",
       "      <th>stim_end</th>\n",
       "      <th>...</th>\n",
       "      <th>AP_rise_time</th>\n",
       "      <th>AP_fall_time</th>\n",
       "      <th>time_to_AP_peak</th>\n",
       "      <th>min_cur_for_discharge</th>\n",
       "      <th>AHP_duration</th>\n",
       "      <th>AHP_fall_tau</th>\n",
       "      <th>AHP_fall_A</th>\n",
       "      <th>AHP_rise_m</th>\n",
       "      <th>AHP_rise_c</th>\n",
       "      <th>protocol_name</th>\n",
       "    </tr>\n",
       "  </thead>\n",
       "  <tbody>\n",
       "    <tr>\n",
       "      <th>0</th>\n",
       "      <td>0</td>\n",
       "      <td>[[6]]</td>\n",
       "      <td>[[1060, 1061, 1062, 1063, 1064, 1065]]</td>\n",
       "      <td>[[60, 100, 140, 180, 220, 260]]</td>\n",
       "      <td>[[180, 300, 420, 540, 660, 780]]</td>\n",
       "      <td>[[1, 12501, 21877, 34375]]</td>\n",
       "      <td>[[0.0, 250.0, 437.5200000000001, 687.480000000...</td>\n",
       "      <td>[[[[-69.0081558]], [[-69.09751214]], [[-69.399...</td>\n",
       "      <td>[[250]]</td>\n",
       "      <td>[[437.5200000000001]]</td>\n",
       "      <td>...</td>\n",
       "      <td>[[[[]], [[]], [[0.77879995 0.85909997 0.868199...</td>\n",
       "      <td>[[[[]], [[]], [[1.28372496 1.3569214  1.341043...</td>\n",
       "      <td>[[[[]], [[]], [[ 29.02  80.08 134.38]], [[  8....</td>\n",
       "      <td>[[[[420]]]]</td>\n",
       "      <td>[[[[]], [[]], [[42.48 46.36]], [[17.32 24.98 2...</td>\n",
       "      <td>[[[], [], [[0.98603002 1.03369811 1.12075907]]...</td>\n",
       "      <td>[[[], [], [[19.2911708  19.44998119 20.7606066...</td>\n",
       "      <td>[[[], [], [[0.39993719 0.38296232]], [[0.82177...</td>\n",
       "      <td>[[[], [], [[-146.81103099 -162.08556723]], [[-...</td>\n",
       "      <td>APWaveform</td>\n",
       "    </tr>\n",
       "    <tr>\n",
       "      <th>1</th>\n",
       "      <td>1</td>\n",
       "      <td>[[6]]</td>\n",
       "      <td>[[2031, 2032, 2033, 2034, 2035, 2036]]</td>\n",
       "      <td>[[60, 100, 140, 180, 220, 260]]</td>\n",
       "      <td>[[177.6, 296.0, 414.4, 532.8, 651.2, 769.6]]</td>\n",
       "      <td>[[1, 12501, 21877, 34375]]</td>\n",
       "      <td>[[0.0, 250.0, 437.5200000000001, 687.480000000...</td>\n",
       "      <td>[[[[-69.41298032]], [[-69.80458171]], [[-70.03...</td>\n",
       "      <td>[[250]]</td>\n",
       "      <td>[[437.5200000000001]]</td>\n",
       "      <td>...</td>\n",
       "      <td>[[[[]], [[]], [[0.67325715 0.74319991 0.797599...</td>\n",
       "      <td>[[[[]], [[]], [[0.97225712 1.21396016 1.225586...</td>\n",
       "      <td>[[[[]], [[]], [[ 17.72  57.52 107.36 163.26]],...</td>\n",
       "      <td>[[[[414.4]]]]</td>\n",
       "      <td>[[[[]], [[]], [[33.   42.74 48.52]], [[16.46 2...</td>\n",
       "      <td>[[[], [], [[0.60947987 0.80434165 0.90259351 0...</td>\n",
       "      <td>[[[], [], [[17.57495338 20.33215333 20.0794284...</td>\n",
       "      <td>[[[], [], [[0.49138738 0.43332269 0.36965382]]...</td>\n",
       "      <td>[[[], [], [[-171.61409496 -175.39228552 -173.9...</td>\n",
       "      <td>APWaveform</td>\n",
       "    </tr>\n",
       "    <tr>\n",
       "      <th>2</th>\n",
       "      <td>2</td>\n",
       "      <td>[[6]]</td>\n",
       "      <td>[[3024, 3025, 3026, 3027, 3028, 3029]]</td>\n",
       "      <td>[[60, 100, 140, 180, 220, 260]]</td>\n",
       "      <td>[[180, 300, 420, 540, 660, 780]]</td>\n",
       "      <td>[[1, 12501, 21877, 34375]]</td>\n",
       "      <td>[[0.0, 250.0, 437.5200000000001, 687.480000000...</td>\n",
       "      <td>[[[[-69.5447607]], [[-70.06979898]], [[-70.194...</td>\n",
       "      <td>[[250]]</td>\n",
       "      <td>[[437.5200000000001]]</td>\n",
       "      <td>...</td>\n",
       "      <td>[[[[]], [[]], [[0.69611428 0.81213329 0.844266...</td>\n",
       "      <td>[[[[]], [[]], [[1.01605968 1.2140059  1.231347...</td>\n",
       "      <td>[[[[]], [[]], [[ 17.14  59.32 111.04 165.6 ]],...</td>\n",
       "      <td>[[[[420]]]]</td>\n",
       "      <td>[[[[]], [[]], [[36.18 44.3  47.36]], [[16.58 2...</td>\n",
       "      <td>[[[], [], [[0.68684868 0.86991545 0.87491935 0...</td>\n",
       "      <td>[[[], [], [[17.86405653 21.06892433 20.5544007...</td>\n",
       "      <td>[[[], [], [[0.46137484 0.40104863 0.39585867]]...</td>\n",
       "      <td>[[[], [], [[-158.41287898 -161.3452194  -180.8...</td>\n",
       "      <td>APWaveform</td>\n",
       "    </tr>\n",
       "    <tr>\n",
       "      <th>3</th>\n",
       "      <td>3</td>\n",
       "      <td>[[6]]</td>\n",
       "      <td>[[4023, 4024, 4025, 4026, 4027, 4028]]</td>\n",
       "      <td>[[60, 100, 140, 180, 220, 260]]</td>\n",
       "      <td>[[180, 300, 420, 540, 660, 780]]</td>\n",
       "      <td>[[1, 12501, 21877, 34375]]</td>\n",
       "      <td>[[0.0, 250.0, 437.5200000000001, 687.480000000...</td>\n",
       "      <td>[[[[-69.45951304]], [[-69.7841089]], [[-70.168...</td>\n",
       "      <td>[[250]]</td>\n",
       "      <td>[[437.5200000000001]]</td>\n",
       "      <td>...</td>\n",
       "      <td>[[[[]], [[]], [[0.68754288 0.82656    0.873200...</td>\n",
       "      <td>[[[[]], [[]], [[1.12777601 1.29030859 1.342159...</td>\n",
       "      <td>[[[[]], [[]], [[ 16.44  56.3  103.08 153.64]],...</td>\n",
       "      <td>[[[[420]]]]</td>\n",
       "      <td>[[[[]], [[]], [[33.16 38.92 42.88]], [[15.14 2...</td>\n",
       "      <td>[[[], [], [[0.85839542 1.05092076 1.08763155 1...</td>\n",
       "      <td>[[[], [], [[16.30867387 19.94087971 19.6072649...</td>\n",
       "      <td>[[[], [], [[0.48304771 0.44851787 0.41732964]]...</td>\n",
       "      <td>[[[], [], [[-159.60045926 -170.50933516 -180.5...</td>\n",
       "      <td>APWaveform</td>\n",
       "    </tr>\n",
       "  </tbody>\n",
       "</table>\n",
       "<p>4 rows × 34 columns</p>\n",
       "</div>"
      ],
      "text/plain": [
       "   repetition nTrace                                     ids  \\\n",
       "0           0  [[6]]  [[1060, 1061, 1062, 1063, 1064, 1065]]   \n",
       "1           1  [[6]]  [[2031, 2032, 2033, 2034, 2035, 2036]]   \n",
       "2           2  [[6]]  [[3024, 3025, 3026, 3027, 3028, 3029]]   \n",
       "3           3  [[6]]  [[4023, 4024, 4025, 4026, 4027, 4028]]   \n",
       "\n",
       "                              stim  \\\n",
       "0  [[60, 100, 140, 180, 220, 260]]   \n",
       "1  [[60, 100, 140, 180, 220, 260]]   \n",
       "2  [[60, 100, 140, 180, 220, 260]]   \n",
       "3  [[60, 100, 140, 180, 220, 260]]   \n",
       "\n",
       "                                    stim_actual                    stim_ids  \\\n",
       "0              [[180, 300, 420, 540, 660, 780]]  [[1, 12501, 21877, 34375]]   \n",
       "1  [[177.6, 296.0, 414.4, 532.8, 651.2, 769.6]]  [[1, 12501, 21877, 34375]]   \n",
       "2              [[180, 300, 420, 540, 660, 780]]  [[1, 12501, 21877, 34375]]   \n",
       "3              [[180, 300, 420, 540, 660, 780]]  [[1, 12501, 21877, 34375]]   \n",
       "\n",
       "                                         stim_change  \\\n",
       "0  [[0.0, 250.0, 437.5200000000001, 687.480000000...   \n",
       "1  [[0.0, 250.0, 437.5200000000001, 687.480000000...   \n",
       "2  [[0.0, 250.0, 437.5200000000001, 687.480000000...   \n",
       "3  [[0.0, 250.0, 437.5200000000001, 687.480000000...   \n",
       "\n",
       "                                               vHold stim_start  \\\n",
       "0  [[[[-69.0081558]], [[-69.09751214]], [[-69.399...    [[250]]   \n",
       "1  [[[[-69.41298032]], [[-69.80458171]], [[-70.03...    [[250]]   \n",
       "2  [[[[-69.5447607]], [[-70.06979898]], [[-70.194...    [[250]]   \n",
       "3  [[[[-69.45951304]], [[-69.7841089]], [[-70.168...    [[250]]   \n",
       "\n",
       "                stim_end  ...  \\\n",
       "0  [[437.5200000000001]]  ...   \n",
       "1  [[437.5200000000001]]  ...   \n",
       "2  [[437.5200000000001]]  ...   \n",
       "3  [[437.5200000000001]]  ...   \n",
       "\n",
       "                                        AP_rise_time  \\\n",
       "0  [[[[]], [[]], [[0.77879995 0.85909997 0.868199...   \n",
       "1  [[[[]], [[]], [[0.67325715 0.74319991 0.797599...   \n",
       "2  [[[[]], [[]], [[0.69611428 0.81213329 0.844266...   \n",
       "3  [[[[]], [[]], [[0.68754288 0.82656    0.873200...   \n",
       "\n",
       "                                        AP_fall_time  \\\n",
       "0  [[[[]], [[]], [[1.28372496 1.3569214  1.341043...   \n",
       "1  [[[[]], [[]], [[0.97225712 1.21396016 1.225586...   \n",
       "2  [[[[]], [[]], [[1.01605968 1.2140059  1.231347...   \n",
       "3  [[[[]], [[]], [[1.12777601 1.29030859 1.342159...   \n",
       "\n",
       "                                     time_to_AP_peak min_cur_for_discharge  \\\n",
       "0  [[[[]], [[]], [[ 29.02  80.08 134.38]], [[  8....           [[[[420]]]]   \n",
       "1  [[[[]], [[]], [[ 17.72  57.52 107.36 163.26]],...         [[[[414.4]]]]   \n",
       "2  [[[[]], [[]], [[ 17.14  59.32 111.04 165.6 ]],...           [[[[420]]]]   \n",
       "3  [[[[]], [[]], [[ 16.44  56.3  103.08 153.64]],...           [[[[420]]]]   \n",
       "\n",
       "                                        AHP_duration  \\\n",
       "0  [[[[]], [[]], [[42.48 46.36]], [[17.32 24.98 2...   \n",
       "1  [[[[]], [[]], [[33.   42.74 48.52]], [[16.46 2...   \n",
       "2  [[[[]], [[]], [[36.18 44.3  47.36]], [[16.58 2...   \n",
       "3  [[[[]], [[]], [[33.16 38.92 42.88]], [[15.14 2...   \n",
       "\n",
       "                                        AHP_fall_tau  \\\n",
       "0  [[[], [], [[0.98603002 1.03369811 1.12075907]]...   \n",
       "1  [[[], [], [[0.60947987 0.80434165 0.90259351 0...   \n",
       "2  [[[], [], [[0.68684868 0.86991545 0.87491935 0...   \n",
       "3  [[[], [], [[0.85839542 1.05092076 1.08763155 1...   \n",
       "\n",
       "                                          AHP_fall_A  \\\n",
       "0  [[[], [], [[19.2911708  19.44998119 20.7606066...   \n",
       "1  [[[], [], [[17.57495338 20.33215333 20.0794284...   \n",
       "2  [[[], [], [[17.86405653 21.06892433 20.5544007...   \n",
       "3  [[[], [], [[16.30867387 19.94087971 19.6072649...   \n",
       "\n",
       "                                          AHP_rise_m  \\\n",
       "0  [[[], [], [[0.39993719 0.38296232]], [[0.82177...   \n",
       "1  [[[], [], [[0.49138738 0.43332269 0.36965382]]...   \n",
       "2  [[[], [], [[0.46137484 0.40104863 0.39585867]]...   \n",
       "3  [[[], [], [[0.48304771 0.44851787 0.41732964]]...   \n",
       "\n",
       "                                          AHP_rise_c protocol_name  \n",
       "0  [[[], [], [[-146.81103099 -162.08556723]], [[-...    APWaveform  \n",
       "1  [[[], [], [[-171.61409496 -175.39228552 -173.9...    APWaveform  \n",
       "2  [[[], [], [[-158.41287898 -161.3452194  -180.8...    APWaveform  \n",
       "3  [[[], [], [[-159.60045926 -170.50933516 -180.5...    APWaveform  \n",
       "\n",
       "[4 rows x 34 columns]"
      ]
     },
     "execution_count": 95,
     "metadata": {},
     "output_type": "execute_result"
    }
   ],
   "source": [
    "protocol_df = pd.DataFrame(protocol_raw[0][0][1][0])\n",
    "protocol_df['protocol_name'] = protocol_raw[0][0][0][0]\n",
    "protocol_df = protocol_df.reset_index().rename(columns={'index': 'repetition'})\n",
    "\n",
    "protocol_df\n"
   ]
  },
  {
   "cell_type": "markdown",
   "id": "71b1bd0e",
   "metadata": {},
   "source": [
    "# Extraction of extracted data"
   ]
  },
  {
   "cell_type": "code",
   "execution_count": 96,
   "id": "12f3ea6f",
   "metadata": {},
   "outputs": [],
   "source": [
    "trace_level_columns = [\n",
    "    'ids',\n",
    "'stim',\n",
    "'stim_actual',\n",
    "'vHold',\n",
    "'peak_indices',\n",
    "'spikecount',\n",
    "'peak_time',\n",
    "'peak_voltage',\n",
    "'ISI_values',\n",
    "'min_AHP_indices',\n",
    "'min_AHP_time',\n",
    "'min_AHP_voltage',\n",
    "'AP_begin_voltage',\n",
    "'AP_begin_time',\n",
    "'AP_amplitude',\n",
    "]"
   ]
  },
  {
   "cell_type": "code",
   "execution_count": 97,
   "id": "5743178a",
   "metadata": {},
   "outputs": [
    {
     "name": "stdout",
     "output_type": "stream",
     "text": [
      "ids\n"
     ]
    },
    {
     "ename": "TypeError",
     "evalue": "object of type 'numpy.uint16' has no len()",
     "output_type": "error",
     "traceback": [
      "\u001b[1;31m---------------------------------------------------------------------------\u001b[0m",
      "\u001b[1;31mTypeError\u001b[0m                                 Traceback (most recent call last)",
      "\u001b[1;32m~\\AppData\\Local\\Temp\\ipykernel_52748\\1744881936.py\u001b[0m in \u001b[0;36m<cell line: 1>\u001b[1;34m()\u001b[0m\n\u001b[0;32m      1\u001b[0m \u001b[1;32mfor\u001b[0m \u001b[0mcol\u001b[0m \u001b[1;32min\u001b[0m \u001b[0mtrace_level_columns\u001b[0m\u001b[1;33m:\u001b[0m\u001b[1;33m\u001b[0m\u001b[1;33m\u001b[0m\u001b[0m\n\u001b[0;32m      2\u001b[0m     \u001b[0mprint\u001b[0m\u001b[1;33m(\u001b[0m\u001b[0mcol\u001b[0m\u001b[1;33m)\u001b[0m\u001b[1;33m\u001b[0m\u001b[1;33m\u001b[0m\u001b[0m\n\u001b[1;32m----> 3\u001b[1;33m     \u001b[0mprint\u001b[0m\u001b[1;33m(\u001b[0m\u001b[0mtrace_df\u001b[0m\u001b[1;33m[\u001b[0m\u001b[0mcol\u001b[0m\u001b[1;33m]\u001b[0m\u001b[1;33m.\u001b[0m\u001b[0mapply\u001b[0m\u001b[1;33m(\u001b[0m\u001b[1;32mlambda\u001b[0m \u001b[0mx\u001b[0m\u001b[1;33m:\u001b[0m \u001b[0mlen\u001b[0m\u001b[1;33m(\u001b[0m\u001b[0mx\u001b[0m\u001b[1;33m)\u001b[0m\u001b[1;33m)\u001b[0m\u001b[1;33m.\u001b[0m\u001b[0mtolist\u001b[0m\u001b[1;33m(\u001b[0m\u001b[1;33m)\u001b[0m\u001b[1;33m)\u001b[0m\u001b[1;33m\u001b[0m\u001b[1;33m\u001b[0m\u001b[0m\n\u001b[0m",
      "\u001b[1;32m~\\anaconda3\\envs\\bbp_env\\lib\\site-packages\\pandas\\core\\series.py\u001b[0m in \u001b[0;36mapply\u001b[1;34m(self, func, convert_dtype, args, **kwargs)\u001b[0m\n\u001b[0;32m   4431\u001b[0m         \u001b[0mdtype\u001b[0m\u001b[1;33m:\u001b[0m \u001b[0mfloat64\u001b[0m\u001b[1;33m\u001b[0m\u001b[1;33m\u001b[0m\u001b[0m\n\u001b[0;32m   4432\u001b[0m         \"\"\"\n\u001b[1;32m-> 4433\u001b[1;33m         \u001b[1;32mreturn\u001b[0m \u001b[0mSeriesApply\u001b[0m\u001b[1;33m(\u001b[0m\u001b[0mself\u001b[0m\u001b[1;33m,\u001b[0m \u001b[0mfunc\u001b[0m\u001b[1;33m,\u001b[0m \u001b[0mconvert_dtype\u001b[0m\u001b[1;33m,\u001b[0m \u001b[0margs\u001b[0m\u001b[1;33m,\u001b[0m \u001b[0mkwargs\u001b[0m\u001b[1;33m)\u001b[0m\u001b[1;33m.\u001b[0m\u001b[0mapply\u001b[0m\u001b[1;33m(\u001b[0m\u001b[1;33m)\u001b[0m\u001b[1;33m\u001b[0m\u001b[1;33m\u001b[0m\u001b[0m\n\u001b[0m\u001b[0;32m   4434\u001b[0m \u001b[1;33m\u001b[0m\u001b[0m\n\u001b[0;32m   4435\u001b[0m     def _reduce(\n",
      "\u001b[1;32m~\\anaconda3\\envs\\bbp_env\\lib\\site-packages\\pandas\\core\\apply.py\u001b[0m in \u001b[0;36mapply\u001b[1;34m(self)\u001b[0m\n\u001b[0;32m   1080\u001b[0m             \u001b[1;32mreturn\u001b[0m \u001b[0mself\u001b[0m\u001b[1;33m.\u001b[0m\u001b[0mapply_str\u001b[0m\u001b[1;33m(\u001b[0m\u001b[1;33m)\u001b[0m\u001b[1;33m\u001b[0m\u001b[1;33m\u001b[0m\u001b[0m\n\u001b[0;32m   1081\u001b[0m \u001b[1;33m\u001b[0m\u001b[0m\n\u001b[1;32m-> 1082\u001b[1;33m         \u001b[1;32mreturn\u001b[0m \u001b[0mself\u001b[0m\u001b[1;33m.\u001b[0m\u001b[0mapply_standard\u001b[0m\u001b[1;33m(\u001b[0m\u001b[1;33m)\u001b[0m\u001b[1;33m\u001b[0m\u001b[1;33m\u001b[0m\u001b[0m\n\u001b[0m\u001b[0;32m   1083\u001b[0m \u001b[1;33m\u001b[0m\u001b[0m\n\u001b[0;32m   1084\u001b[0m     \u001b[1;32mdef\u001b[0m \u001b[0magg\u001b[0m\u001b[1;33m(\u001b[0m\u001b[0mself\u001b[0m\u001b[1;33m)\u001b[0m\u001b[1;33m:\u001b[0m\u001b[1;33m\u001b[0m\u001b[1;33m\u001b[0m\u001b[0m\n",
      "\u001b[1;32m~\\anaconda3\\envs\\bbp_env\\lib\\site-packages\\pandas\\core\\apply.py\u001b[0m in \u001b[0;36mapply_standard\u001b[1;34m(self)\u001b[0m\n\u001b[0;32m   1135\u001b[0m                 \u001b[1;31m# List[Union[Callable[..., Any], str]]]]]\"; expected\u001b[0m\u001b[1;33m\u001b[0m\u001b[1;33m\u001b[0m\u001b[0m\n\u001b[0;32m   1136\u001b[0m                 \u001b[1;31m# \"Callable[[Any], Any]\"\u001b[0m\u001b[1;33m\u001b[0m\u001b[1;33m\u001b[0m\u001b[0m\n\u001b[1;32m-> 1137\u001b[1;33m                 mapped = lib.map_infer(\n\u001b[0m\u001b[0;32m   1138\u001b[0m                     \u001b[0mvalues\u001b[0m\u001b[1;33m,\u001b[0m\u001b[1;33m\u001b[0m\u001b[1;33m\u001b[0m\u001b[0m\n\u001b[0;32m   1139\u001b[0m                     \u001b[0mf\u001b[0m\u001b[1;33m,\u001b[0m  \u001b[1;31m# type: ignore[arg-type]\u001b[0m\u001b[1;33m\u001b[0m\u001b[1;33m\u001b[0m\u001b[0m\n",
      "\u001b[1;32m~\\anaconda3\\envs\\bbp_env\\lib\\site-packages\\pandas\\_libs\\lib.pyx\u001b[0m in \u001b[0;36mpandas._libs.lib.map_infer\u001b[1;34m()\u001b[0m\n",
      "\u001b[1;32m~\\AppData\\Local\\Temp\\ipykernel_52748\\1744881936.py\u001b[0m in \u001b[0;36m<lambda>\u001b[1;34m(x)\u001b[0m\n\u001b[0;32m      1\u001b[0m \u001b[1;32mfor\u001b[0m \u001b[0mcol\u001b[0m \u001b[1;32min\u001b[0m \u001b[0mtrace_level_columns\u001b[0m\u001b[1;33m:\u001b[0m\u001b[1;33m\u001b[0m\u001b[1;33m\u001b[0m\u001b[0m\n\u001b[0;32m      2\u001b[0m     \u001b[0mprint\u001b[0m\u001b[1;33m(\u001b[0m\u001b[0mcol\u001b[0m\u001b[1;33m)\u001b[0m\u001b[1;33m\u001b[0m\u001b[1;33m\u001b[0m\u001b[0m\n\u001b[1;32m----> 3\u001b[1;33m     \u001b[0mprint\u001b[0m\u001b[1;33m(\u001b[0m\u001b[0mtrace_df\u001b[0m\u001b[1;33m[\u001b[0m\u001b[0mcol\u001b[0m\u001b[1;33m]\u001b[0m\u001b[1;33m.\u001b[0m\u001b[0mapply\u001b[0m\u001b[1;33m(\u001b[0m\u001b[1;32mlambda\u001b[0m \u001b[0mx\u001b[0m\u001b[1;33m:\u001b[0m \u001b[0mlen\u001b[0m\u001b[1;33m(\u001b[0m\u001b[0mx\u001b[0m\u001b[1;33m)\u001b[0m\u001b[1;33m)\u001b[0m\u001b[1;33m.\u001b[0m\u001b[0mtolist\u001b[0m\u001b[1;33m(\u001b[0m\u001b[1;33m)\u001b[0m\u001b[1;33m)\u001b[0m\u001b[1;33m\u001b[0m\u001b[1;33m\u001b[0m\u001b[0m\n\u001b[0m",
      "\u001b[1;31mTypeError\u001b[0m: object of type 'numpy.uint16' has no len()"
     ]
    }
   ],
   "source": [
    "for col in trace_level_columns:\n",
    "    print(col)\n",
    "    print(trace_df[col].apply(lambda x: len(x)).tolist())"
   ]
  },
  {
   "cell_type": "code",
   "execution_count": 98,
   "id": "20244e59",
   "metadata": {},
   "outputs": [
    {
     "data": {
      "text/plain": [
       "array([[array([], shape=(1, 0), dtype=float64),\n",
       "        array([], shape=(1, 0), dtype=float64),\n",
       "        array([[-11.60812463, -12.58249951, -11.66499913]]),\n",
       "        array([[-11.61187478,  -7.4216668 ,  -7.13875005,  -7.20749977,\n",
       "                 -6.80124986,  -7.47750014]])                          ,\n",
       "        array([[-8.46375196, -2.08352269, -2.33749998, -1.77208358, -1.09249999,\n",
       "                -1.99875004, -3.21222226, -2.31099982]])                        ,\n",
       "        array([[-4.02624969,  3.38275013,  3.476     ,  3.71000045,  2.73333325,\n",
       "                 3.25458356,  2.29249995,  1.79249998,  2.41166684]])           ]],\n",
       "      dtype=object)"
      ]
     },
     "execution_count": 98,
     "metadata": {},
     "output_type": "execute_result"
    }
   ],
   "source": [
    "protocol_df.AP_begin_voltage[0]\n"
   ]
  },
  {
   "cell_type": "code",
   "execution_count": 87,
   "id": "3cb24ed0",
   "metadata": {},
   "outputs": [],
   "source": [
    "trace_df = protocol_df.copy()\n",
    "# trace_df[trace_level_columns] = trace_df[trace_level_columns].apply(lambda x: x.)\n",
    "trace_df = trace_df.explode(trace_level_columns).explode(trace_level_columns)"
   ]
  },
  {
   "cell_type": "code",
   "execution_count": null,
   "id": "c85c314a",
   "metadata": {},
   "outputs": [],
   "source": [
    "trace_df.head()"
   ]
  },
  {
   "cell_type": "code",
   "execution_count": null,
   "id": "b725c556",
   "metadata": {},
   "outputs": [],
   "source": []
  },
  {
   "cell_type": "code",
   "execution_count": null,
   "id": "2306cdf5",
   "metadata": {},
   "outputs": [],
   "source": []
  },
  {
   "cell_type": "code",
   "execution_count": null,
   "id": "8e0461da",
   "metadata": {},
   "outputs": [],
   "source": [
    "trace_df.loc[(trace_df.repetition==0) & (trace_df.stim==125)]"
   ]
  },
  {
   "cell_type": "code",
   "execution_count": null,
   "id": "1165350a",
   "metadata": {},
   "outputs": [],
   "source": [
    "trace_df.loc[(trace_df.repetition==0)].vHold.tolist()"
   ]
  },
  {
   "cell_type": "code",
   "execution_count": null,
   "id": "e73e146c",
   "metadata": {
    "scrolled": true
   },
   "outputs": [],
   "source": [
    "# import numpy as np\n",
    "# for i in trace_df.loc[(trace_df.repetition==0)].AP_begin_voltage:\n",
    "#     print(np.mean(i))"
   ]
  },
  {
   "cell_type": "code",
   "execution_count": null,
   "id": "d1b19740",
   "metadata": {
    "scrolled": true
   },
   "outputs": [],
   "source": [
    "trace_df = protocol_df.copy()\n",
    "# trace_df[trace_level_columns] = trace_df[trace_level_columns].apply(lambda x: x.)\n",
    "trace_df = trace_df.explode(trace_level_columns).explode(trace_level_columns)\n",
    "trace_df.head()"
   ]
  },
  {
   "cell_type": "markdown",
   "id": "a4fa5b89",
   "metadata": {},
   "source": [
    "# Extraction of data at peak level\n"
   ]
  },
  {
   "cell_type": "code",
   "execution_count": null,
   "id": "50c48373",
   "metadata": {},
   "outputs": [],
   "source": [
    "peak_columns = [\n",
    "    'peak_indices', \n",
    "'peak_time' ,\n",
    "'peak_voltage', \n",
    "'min_AHP_indices', \n",
    "'min_AHP_time' ,\n",
    "'min_AHP_voltage', \n",
    "'AP_begin_voltage', \n",
    "'AP_begin_time' ,\n",
    "'AP_amplitude' ,\n",
    "'AP_half_width' ,\n",
    "'AP_width' ,\n",
    "'AP_rise_time', \n",
    "'AP_fall_time' ,\n",
    "'time_to_AP_peak' \n",
    "]\n",
    "\n",
    "intra_peak_columns = [\n",
    "    'ISI_values' ,\n",
    "'AHP_duration' ,\n",
    "'AHP_rise_m' ,\n",
    "'AHP_rise_c' ,\n",
    "]"
   ]
  },
  {
   "cell_type": "code",
   "execution_count": null,
   "id": "871c2eb3",
   "metadata": {},
   "outputs": [],
   "source": []
  },
  {
   "cell_type": "code",
   "execution_count": null,
   "id": "abb8321e",
   "metadata": {},
   "outputs": [],
   "source": [
    "def peak_len_scale(value, max_peaks):\n",
    "    if value.shape[0] == 0:\n",
    "        val_list = []\n",
    "    else:\n",
    "        val_list = [t for t in value[0]]\n",
    "    delta = max_peaks-len(val_list)\n",
    "    val_list += delta*[0]\n",
    "    return val_list\n",
    "\n",
    "def intra_peak_len_scale(value, max_peaks):\n",
    "    if value.shape[0] == 0:\n",
    "        val_list = []\n",
    "    else:\n",
    "        val_list = [t for t in value[0]]    \n",
    "    delta = max_peaks-len(val_list)\n",
    "    val_list += delta*[0] \n",
    "    val_list += ['extra_inta_peak']\n",
    "    \n",
    "    return val_list"
   ]
  },
  {
   "cell_type": "code",
   "execution_count": null,
   "id": "b152843e",
   "metadata": {
    "scrolled": true
   },
   "outputs": [],
   "source": [
    "peak_df = trace_df.copy()\n",
    "peak_df.reset_index(inplace=True, drop=True)\n",
    "\n",
    "max_peaks = max([t[0][0] for t in peak_df.spikecount])\n",
    "for col in peak_columns:\n",
    "    peak_df[col] = peak_df[col].apply(lambda x: peak_len_scale(x, max_peaks))\n",
    "\n",
    "for col in intra_peak_columns:\n",
    "    peak_df[col] = peak_df[col].apply(lambda x: intra_peak_len_scale(x, max_peaks-1))\n",
    "peak_df = peak_df.explode(peak_columns+intra_peak_columns)\n",
    "\n"
   ]
  },
  {
   "cell_type": "code",
   "execution_count": null,
   "id": "6284bcdd",
   "metadata": {},
   "outputs": [],
   "source": [
    "peak_df.shape"
   ]
  },
  {
   "cell_type": "markdown",
   "id": "cdbc6515",
   "metadata": {},
   "source": [
    "# Flattening at peak level"
   ]
  },
  {
   "cell_type": "markdown",
   "id": "c2c36d5a",
   "metadata": {},
   "source": [
    "We will now start the flattening process. At the moment, the data frame is organized in rows representing each of the peaks we observed. The new target is a row for each trace with each peak data as a column.\\\n",
    "For that, we will create on column per peak and feature (ex peak time of peak # 4)"
   ]
  },
  {
   "cell_type": "code",
   "execution_count": null,
   "id": "b80f5325",
   "metadata": {},
   "outputs": [],
   "source": [
    "#Creation of a unique peak id for merging/debugging purposes\n",
    "peak_df_flat = peak_df.copy()\n",
    "peak_df_flat['base_temp'] = 1\n",
    "peak_df_flat['peak_id_temp'] = peak_df_flat['base_temp'].cumsum()\n",
    "peak_df_flat['peak_id'] = peak_df_flat['repetition'].astype('str')+ '_' +peak_df_flat['ids'].astype('str') + '_'+peak_df_flat['peak_id_temp'].astype('str')"
   ]
  },
  {
   "cell_type": "code",
   "execution_count": null,
   "id": "96df9103",
   "metadata": {},
   "outputs": [],
   "source": [
    "# Create a peak count column, so that we can order peaks\n",
    "\n",
    "peak_df_flat.sort_values( 'peak_time')\n",
    "grouping_df = peak_df_flat.sort_values( 'peak_time')[['repetition', 'peak_id', 'ids', 'base_temp']]\n",
    "grouping_df['peak_rank'] = grouping_df.groupby(['repetition', 'ids']).cumsum()\n"
   ]
  },
  {
   "cell_type": "code",
   "execution_count": null,
   "id": "9df47ae0",
   "metadata": {},
   "outputs": [],
   "source": [
    "peak_df_flat = peak_df_flat.merge(grouping_df[['peak_rank', 'peak_id']] ,how='left', on='peak_id')\n"
   ]
  },
  {
   "cell_type": "code",
   "execution_count": null,
   "id": "4c1c981d",
   "metadata": {},
   "outputs": [],
   "source": []
  },
  {
   "cell_type": "code",
   "execution_count": null,
   "id": "c12b9802",
   "metadata": {
    "scrolled": true
   },
   "outputs": [],
   "source": [
    "peak_df_flat.head()"
   ]
  },
  {
   "cell_type": "code",
   "execution_count": null,
   "id": "2723590d",
   "metadata": {
    "scrolled": false
   },
   "outputs": [],
   "source": [
    "peak_df_flat = peak_df_flat.pivot_table(index=['repetition', 'ids'], columns='peak_rank', values= intra_peak_columns+peak_columns )\n",
    "\n",
    "peak_df_flat.columns = [ f'{column[0]}_{column[1]}' for column in peak_df_flat.columns]\n",
    "peak_df_flat.reset_index(inplace=True)\n",
    "\n",
    "peak_df_flat.head()"
   ]
  },
  {
   "cell_type": "code",
   "execution_count": null,
   "id": "952e4826",
   "metadata": {},
   "outputs": [],
   "source": [
    "peak_df_flat.shape"
   ]
  },
  {
   "cell_type": "markdown",
   "id": "f9fbc589",
   "metadata": {},
   "source": [
    "# Flatten at trace level"
   ]
  },
  {
   "cell_type": "code",
   "execution_count": null,
   "id": "eabc1128",
   "metadata": {},
   "outputs": [],
   "source": [
    "peak_df_cols = peak_df_flat.columns.tolist()\n",
    "\n",
    "peak_feat = [f'{col}_trace' for col in peak_df_cols if col not in ['repetition', 'ids']]\n",
    "trace_level_columns_pivot = [f'{col}_trace' for col in trace_level_columns if col not in ['repetition', 'ids']]\n",
    "\n",
    "\n"
   ]
  },
  {
   "cell_type": "code",
   "execution_count": null,
   "id": "ba657313",
   "metadata": {},
   "outputs": [],
   "source": [
    "# Integrate back trace data\n",
    "\n",
    "trace_keys = ['repetition', 'ids']\n",
    "\n",
    "trace_df_flat = peak_df_flat.merge(trace_df[trace_level_columns+['repetition']], on=trace_keys, how='left')\n",
    "\n",
    "trace_df_flat.columns = [f'{col}_trace' for col in trace_df_flat.columns]\n",
    "trace_df_flat['protocol_name'] = protocol_raw[0][0][0][0]\n",
    "\n",
    "# peak_df_flat = peak_df_flat.pivot_table(index=['repetition', 'ids'], columns='peak_rank', values= intra_peak_columns+peak_columns )\n",
    "\n",
    "trace_df_flat = trace_df_flat.pivot_table(index= 'protocol_name', columns='repetition_trace', values= peak_feat + trace_level_columns_pivot )\n",
    "\n",
    "trace_df_flat.columns = [ f'{column[0]}_{column[1]}' for column in trace_df_flat.columns]\n",
    "trace_df_flat.reset_index(inplace=True)\n",
    "\n",
    "trace_df_flat.head()\n"
   ]
  },
  {
   "cell_type": "code",
   "execution_count": null,
   "id": "4db0924f",
   "metadata": {},
   "outputs": [],
   "source": []
  },
  {
   "cell_type": "code",
   "execution_count": null,
   "id": "74597db0",
   "metadata": {},
   "outputs": [],
   "source": []
  }
 ],
 "metadata": {
  "kernelspec": {
   "display_name": "Python 3 (ipykernel)",
   "language": "python",
   "name": "python3"
  },
  "language_info": {
   "codemirror_mode": {
    "name": "ipython",
    "version": 3
   },
   "file_extension": ".py",
   "mimetype": "text/x-python",
   "name": "python",
   "nbconvert_exporter": "python",
   "pygments_lexer": "ipython3",
   "version": "3.9.12"
  }
 },
 "nbformat": 4,
 "nbformat_minor": 5
}
