{
 "cells": [
  {
   "cell_type": "code",
   "execution_count": 1,
   "id": "0062333d",
   "metadata": {},
   "outputs": [],
   "source": [
    "import os\n",
    "import yaml\n",
    "from yaml.loader import SafeLoader"
   ]
  },
  {
   "cell_type": "code",
   "execution_count": 2,
   "id": "7da22cc2",
   "metadata": {},
   "outputs": [],
   "source": [
    "os.chdir('../src')"
   ]
  },
  {
   "cell_type": "code",
   "execution_count": 3,
   "id": "ff7527cf",
   "metadata": {},
   "outputs": [],
   "source": [
    "from bbp_code_package.nodes.mat_file_extraction import extract_preformat_mat_file"
   ]
  },
  {
   "cell_type": "code",
   "execution_count": 5,
   "id": "1ad0b2df",
   "metadata": {
    "scrolled": true
   },
   "outputs": [],
   "source": [
    "# os.listdir('../conf/base/parameters.yml')"
   ]
  },
  {
   "cell_type": "code",
   "execution_count": 6,
   "id": "2148a094",
   "metadata": {},
   "outputs": [],
   "source": [
    "with open('../conf/base/parameters.yml') as f:\n",
    "    parameters = yaml.load(f, Loader=SafeLoader)"
   ]
  },
  {
   "cell_type": "code",
   "execution_count": null,
   "id": "4bb0a1f6",
   "metadata": {},
   "outputs": [],
   "source": []
  },
  {
   "cell_type": "code",
   "execution_count": null,
   "id": "06934c5d",
   "metadata": {},
   "outputs": [],
   "source": []
  },
  {
   "cell_type": "code",
   "execution_count": 16,
   "id": "2e54b0a3",
   "metadata": {},
   "outputs": [
    {
     "name": "stderr",
     "output_type": "stream",
     "text": [
      "C:\\Users\\romla\\anaconda3\\envs\\bbp_env\\lib\\site-packages\\numpy\\core\\fromnumeric.py:3474: RuntimeWarning: Mean of empty slice.\n",
      "  return _methods._mean(a, axis=axis, dtype=dtype,\n",
      "C:\\Users\\romla\\anaconda3\\envs\\bbp_env\\lib\\site-packages\\numpy\\core\\_methods.py:264: RuntimeWarning: Degrees of freedom <= 0 for slice\n",
      "  ret = _var(a, axis=axis, dtype=dtype, out=out, ddof=ddof,\n"
     ]
    }
   ],
   "source": [
    "bla, base_1 = extract_preformat_mat_file('Cell1_2', parameters)"
   ]
  },
  {
   "cell_type": "code",
   "execution_count": 21,
   "id": "c4ad73c7",
   "metadata": {},
   "outputs": [
    {
     "name": "stderr",
     "output_type": "stream",
     "text": [
      "C:\\Users\\romla\\anaconda3\\envs\\bbp_env\\lib\\site-packages\\numpy\\core\\fromnumeric.py:3474: RuntimeWarning: Mean of empty slice.\n",
      "  return _methods._mean(a, axis=axis, dtype=dtype,\n",
      "C:\\Users\\romla\\anaconda3\\envs\\bbp_env\\lib\\site-packages\\numpy\\core\\_methods.py:264: RuntimeWarning: Degrees of freedom <= 0 for slice\n",
      "  ret = _var(a, axis=axis, dtype=dtype, out=out, ddof=ddof,\n"
     ]
    }
   ],
   "source": [
    "bla, base_2 = extract_preformat_mat_file('Cell1_3', parameters)"
   ]
  },
  {
   "cell_type": "code",
   "execution_count": 17,
   "id": "b47432df",
   "metadata": {},
   "outputs": [
    {
     "data": {
      "text/plain": [
       "Index(['protocol_name', 'AP_mean_stim_60', 'AP_mean_stim_100',\n",
       "       'AP_mean_stim_140', 'AP_mean_stim_180', 'AP_mean_stim_220',\n",
       "       'AP_mean_stim_60', 'AP_mean_stim_100', 'AP_mean_stim_140',\n",
       "       'AP_mean_stim_180',\n",
       "       ...\n",
       "       'tau_stdev_stim_180', 'tau_stdev_stim_220', 'tau_stdev_stim_140',\n",
       "       'tau_stdev_stim_180', 'tau_stdev_stim_220', 'vHold_stim_60',\n",
       "       'vHold_stim_100', 'vHold_stim_140', 'vHold_stim_180', 'vHold_stim_220'],\n",
       "      dtype='object', length=347)"
      ]
     },
     "execution_count": 17,
     "metadata": {},
     "output_type": "execute_result"
    }
   ],
   "source": [
    "base_1.columns"
   ]
  },
  {
   "cell_type": "code",
   "execution_count": 23,
   "id": "8ea12a60",
   "metadata": {},
   "outputs": [
    {
     "data": {
      "text/plain": [
       "Index(['protocol_name', 'AP_mean_stim_60', 'AP_mean_stim_100',\n",
       "       'AP_mean_stim_140', 'AP_mean_stim_180', 'AP_mean_stim_220',\n",
       "       'AP_mean_stim_60', 'AP_mean_stim_100', 'AP_mean_stim_140',\n",
       "       'AP_mean_stim_180',\n",
       "       ...\n",
       "       'tau_stdev_stim_180', 'tau_stdev_stim_220', 'tau_stdev_stim_140',\n",
       "       'tau_stdev_stim_180', 'tau_stdev_stim_220', 'vHold_stim_60',\n",
       "       'vHold_stim_100', 'vHold_stim_140', 'vHold_stim_180', 'vHold_stim_220'],\n",
       "      dtype='object', length=459)"
      ]
     },
     "execution_count": 23,
     "metadata": {},
     "output_type": "execute_result"
    }
   ],
   "source": [
    "base_2.columns"
   ]
  },
  {
   "cell_type": "code",
   "execution_count": null,
   "id": "6741a490",
   "metadata": {},
   "outputs": [],
   "source": []
  }
 ],
 "metadata": {
  "kernelspec": {
   "display_name": "Python 3 (ipykernel)",
   "language": "python",
   "name": "python3"
  },
  "language_info": {
   "codemirror_mode": {
    "name": "ipython",
    "version": 3
   },
   "file_extension": ".py",
   "mimetype": "text/x-python",
   "name": "python",
   "nbconvert_exporter": "python",
   "pygments_lexer": "ipython3",
   "version": "3.9.12"
  }
 },
 "nbformat": 4,
 "nbformat_minor": 5
}
