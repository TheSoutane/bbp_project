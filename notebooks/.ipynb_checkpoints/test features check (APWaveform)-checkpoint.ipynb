{
 "cells": [
  {
   "cell_type": "markdown",
   "id": "933eae06",
   "metadata": {},
   "source": [
    "Data is strucutured as follow:\n",
    "An experiment is performed on multiple cells. To increase certainty the experiment is performed multiple times (~3-4). \\\n",
    "During each repetition of the experience, different protocols are applied, each composed of multiple steps. Finally the results are analysed and data regarding the neuron electrical answer are generated. Those are mostly composed of spikes and inter spikes features. \\\n",
    "To sythetize, the data are structured as follow: Experiment/cell/repetitions/protocol/step/spike. \\\n",
    "As the data have to be considered at cell level we will not consider the experiment data (except for debugging)"
   ]
  },
  {
   "cell_type": "markdown",
   "id": "9b25e50f",
   "metadata": {},
   "source": [
    "# Librairy importation and data load"
   ]
  },
  {
   "cell_type": "code",
   "execution_count": 3,
   "id": "b62f1cb6",
   "metadata": {},
   "outputs": [],
   "source": [
    "import os\n",
    "import pandas as pd\n",
    "from scipy import io\n"
   ]
  },
  {
   "cell_type": "code",
   "execution_count": 4,
   "id": "157e6f44",
   "metadata": {},
   "outputs": [],
   "source": [
    "loaded_sp = io.loadmat('../data/01_raw/matData_2022-05-30/aCell202_1.mat')"
   ]
  },
  {
   "cell_type": "markdown",
   "id": "c8b4cff3",
   "metadata": {},
   "source": [
    "# Functions"
   ]
  },
  {
   "cell_type": "code",
   "execution_count": 5,
   "id": "f853f216",
   "metadata": {},
   "outputs": [],
   "source": [
    "# def flatten_df(df, levels):\n",
    "#     \"\"\"Flatten all the columns of a datafram to facilitate data extraction\n",
    "    \n",
    "#     df: Dataframe to flatten\n",
    "#     levels: number of wished flattening levels\n",
    "#     \"\"\"\n",
    "#     df_flat = df.copy()\n",
    "#     count = 0\n",
    "#     while count<levels:\n",
    "#         df_flat = df_flat.apply(lambda x: x[0])\n",
    "#         count+=1\n",
    "#     return df_flat\n",
    "\n",
    "def flatten_df(df):\n",
    "    \"\"\"Flatten all the columns of a datafram to facilitate data extraction\n",
    "    \n",
    "    df: Dataframe to flatten\n",
    "    \"\"\"\n",
    "    df_flat = df.copy()\n",
    "    df_flat = df_flat.apply(lambda x: x[0][0])\n",
    "\n",
    "    return df_flat\n"
   ]
  },
  {
   "cell_type": "markdown",
   "id": "3c288dab",
   "metadata": {},
   "source": [
    "# Cell level data (+experiment)"
   ]
  },
  {
   "cell_type": "code",
   "execution_count": 6,
   "id": "4a8f3d7b",
   "metadata": {},
   "outputs": [
    {
     "data": {
      "text/plain": [
       "dict_keys(['__header__', '__version__', '__globals__', 'aCell'])"
      ]
     },
     "execution_count": 6,
     "metadata": {},
     "output_type": "execute_result"
    }
   ],
   "source": [
    "loaded_sp.keys()\n",
    "# Only aCell contains relevant information. We will not consider the other cells"
   ]
  },
  {
   "cell_type": "markdown",
   "id": "8f15c18e",
   "metadata": {},
   "source": [
    "#### First branching (but not the latest :). \n",
    "- Id simply provides the experiment ID\n",
    "- Cellinfo provides the cell data\n",
    "- FileInfo provides the document data (useless)\n",
    "- protocol provides all theinformations regarding the stimulus and the experimental results"
   ]
  },
  {
   "cell_type": "code",
   "execution_count": 7,
   "id": "e23f9c18",
   "metadata": {},
   "outputs": [
    {
     "data": {
      "text/plain": [
       "dtype([('id', 'O'), ('cellInfo', 'O'), ('protocol', 'O'), ('fileInfo', 'O')])"
      ]
     },
     "execution_count": 7,
     "metadata": {},
     "output_type": "execute_result"
    }
   ],
   "source": [
    "loaded_sp['aCell'][0][0].dtype"
   ]
  },
  {
   "cell_type": "code",
   "execution_count": 8,
   "id": "f91df9e7",
   "metadata": {},
   "outputs": [],
   "source": [
    "# fileInfo_temp = pd.DataFrame(loaded_sp['aCell'][0][0]['fileInfo'].ravel())\n",
    "cellInfo_temp = pd.DataFrame(loaded_sp['aCell'][0][0]['cellInfo'].ravel())\n",
    "\n",
    "                          "
   ]
  },
  {
   "cell_type": "code",
   "execution_count": 9,
   "id": "e2c1ec78",
   "metadata": {},
   "outputs": [
    {
     "data": {
      "text/plain": [
       "id                                         202_1\n",
       "experimenter                                 MPG\n",
       "species                                    Mouse\n",
       "channel                                      ch2\n",
       "cellType                                    L5PC\n",
       "path            \\001_140514_A1_S1L5py_MPG Folder\n",
       "status                                       [1]\n",
       "dtype: object"
      ]
     },
     "execution_count": 9,
     "metadata": {},
     "output_type": "execute_result"
    }
   ],
   "source": [
    "# Extract the cell info\n",
    "cellInfo_flat = flatten_df(cellInfo_temp)\n",
    "cellInfo_flat"
   ]
  },
  {
   "cell_type": "markdown",
   "id": "d05df65d",
   "metadata": {},
   "source": [
    "# Extraction of data at protocol level"
   ]
  },
  {
   "cell_type": "code",
   "execution_count": 10,
   "id": "ac77096f",
   "metadata": {},
   "outputs": [
    {
     "data": {
      "text/plain": [
       "'IDRest'"
      ]
     },
     "execution_count": 10,
     "metadata": {},
     "output_type": "execute_result"
    }
   ],
   "source": [
    "# for i in loaded_sp['aCell'][0][0]['protocol'][0]:\n",
    "#     print(i[0][0][0][0])\n",
    "protocol_raw = loaded_sp['aCell'][0][0]['protocol'][0][6]\n",
    "protocol_raw[0][0][0][0]#['APWaveform']"
   ]
  },
  {
   "cell_type": "code",
   "execution_count": 11,
   "id": "10a6fbda",
   "metadata": {},
   "outputs": [
    {
     "name": "stdout",
     "output_type": "stream",
     "text": [
      "APWaveform\n",
      "DeHyperPol\n",
      "Delta\n",
      "ElecCal\n",
      "FirePattern\n",
      "HyperDePol\n",
      "IDRest\n",
      "IDThres\n",
      "IV\n",
      "NegCheops\n",
      "NoiseOU3\n",
      "PosCheops\n",
      "RPip\n",
      "RSealClose\n",
      "RSealOpen\n",
      "Rac\n",
      "ResetITC\n",
      "SetAmpl\n",
      "SetISI\n",
      "SineSpec\n",
      "SpikeRec\n",
      "SponHold30\n",
      "SponHold3\n",
      "SponNoHold30\n",
      "StartHold\n",
      "StartNoHold\n",
      "SubWhiteNoise\n",
      "TestAmpl\n",
      "TestRheo\n",
      "TestSpikeRec\n",
      "WhiteNoise\n",
      "sAHP\n"
     ]
    }
   ],
   "source": [
    "for i in loaded_sp['aCell'][0][0]['protocol'][0]:\n",
    "    print(i[0][0][0][0])"
   ]
  },
  {
   "cell_type": "code",
   "execution_count": 12,
   "id": "a19e988a",
   "metadata": {},
   "outputs": [
    {
     "data": {
      "text/plain": [
       "'IDRest'"
      ]
     },
     "execution_count": 12,
     "metadata": {},
     "output_type": "execute_result"
    }
   ],
   "source": [
    "protocol_raw[0][0][0][0]#['APWaveform']"
   ]
  },
  {
   "cell_type": "markdown",
   "id": "0018d4ae",
   "metadata": {},
   "source": [
    "#### APWaveform (Illustrative)"
   ]
  },
  {
   "cell_type": "code",
   "execution_count": 13,
   "id": "405005e6",
   "metadata": {},
   "outputs": [],
   "source": [
    "# protocol_raw[0][0][0][0]"
   ]
  },
  {
   "cell_type": "code",
   "execution_count": 14,
   "id": "07cda45e",
   "metadata": {},
   "outputs": [
    {
     "data": {
      "text/plain": [
       "'IDRest'"
      ]
     },
     "execution_count": 14,
     "metadata": {},
     "output_type": "execute_result"
    }
   ],
   "source": [
    "protocol_raw[0][0][0][0]#['APWaveform']"
   ]
  },
  {
   "cell_type": "code",
   "execution_count": 15,
   "id": "d796a591",
   "metadata": {},
   "outputs": [
    {
     "data": {
      "text/html": [
       "<div>\n",
       "<style scoped>\n",
       "    .dataframe tbody tr th:only-of-type {\n",
       "        vertical-align: middle;\n",
       "    }\n",
       "\n",
       "    .dataframe tbody tr th {\n",
       "        vertical-align: top;\n",
       "    }\n",
       "\n",
       "    .dataframe thead th {\n",
       "        text-align: right;\n",
       "    }\n",
       "</style>\n",
       "<table border=\"1\" class=\"dataframe\">\n",
       "  <thead>\n",
       "    <tr style=\"text-align: right;\">\n",
       "      <th></th>\n",
       "      <th>repetition</th>\n",
       "      <th>nTrace</th>\n",
       "      <th>ids</th>\n",
       "      <th>stim</th>\n",
       "      <th>stim_actual</th>\n",
       "      <th>stim_ids</th>\n",
       "      <th>stim_change</th>\n",
       "      <th>vHold</th>\n",
       "      <th>stim_start</th>\n",
       "      <th>stim_end</th>\n",
       "      <th>...</th>\n",
       "      <th>last_accommodation_mean</th>\n",
       "      <th>ISI1_time_vs_I_m</th>\n",
       "      <th>ISI1_time_vs_I_c</th>\n",
       "      <th>ISI2_time_vs_I_m</th>\n",
       "      <th>ISI2_time_vs_I_c</th>\n",
       "      <th>ISI3_time_vs_I_m</th>\n",
       "      <th>ISI3_time_vs_I_c</th>\n",
       "      <th>ISI_CV</th>\n",
       "      <th>adaptation_index</th>\n",
       "      <th>protocol_name</th>\n",
       "    </tr>\n",
       "  </thead>\n",
       "  <tbody>\n",
       "    <tr>\n",
       "      <th>0</th>\n",
       "      <td>0</td>\n",
       "      <td>[[11]]</td>\n",
       "      <td>[[1132, 1133, 1134, 1135, 1136, 1137, 1138, 11...</td>\n",
       "      <td>[[50, 75, 100, 125, 150, 175, 200, 225, 250, 2...</td>\n",
       "      <td>[[136.0, 204.00000000000003, 272.0, 340.0, 408...</td>\n",
       "      <td>[[1, 2501, 25002, 27500]]</td>\n",
       "      <td>[[0.0, 250.0, 2500.1000000000004, 2749.9]]</td>\n",
       "      <td>[[[[-70.61717596]], [[-70.46352758]], [[-70.22...</td>\n",
       "      <td>[[250]]</td>\n",
       "      <td>[[2500.1000000000004]]</td>\n",
       "      <td>...</td>\n",
       "      <td>[[-0.46062457923391875]]</td>\n",
       "      <td>[[-2.1490002004747826]]</td>\n",
       "      <td>[[545.8667103325719]]</td>\n",
       "      <td>[[-1.9983998523254176]]</td>\n",
       "      <td>[[542.3688681443059]]</td>\n",
       "      <td>[[-1.0429522580660828]]</td>\n",
       "      <td>[[320.00236101962093]]</td>\n",
       "      <td>[[[[]], [[]], [[0.05826508]], [[0.31607044]], ...</td>\n",
       "      <td>[[[[]], [[]], [[]], [[0.04237069]], [[0.031321...</td>\n",
       "      <td>IDRest</td>\n",
       "    </tr>\n",
       "    <tr>\n",
       "      <th>1</th>\n",
       "      <td>1</td>\n",
       "      <td>[[11]]</td>\n",
       "      <td>[[2104, 2105, 2106, 2107, 2108, 2109, 2110, 21...</td>\n",
       "      <td>[[50, 75, 100, 125, 150, 175, 200, 225, 250, 2...</td>\n",
       "      <td>[[124, 186, 248, 310, 372, 434, 496, 558, 620,...</td>\n",
       "      <td>[[1, 2501, 25002, 27500]]</td>\n",
       "      <td>[[0.0, 250.0, 2500.1000000000004, 2749.9]]</td>\n",
       "      <td>[[[[-69.32066142]], [[-70.28466705]], [[-70.22...</td>\n",
       "      <td>[[250]]</td>\n",
       "      <td>[[2500.1000000000004]]</td>\n",
       "      <td>...</td>\n",
       "      <td>[[-0.2636580402228823]]</td>\n",
       "      <td>[[-2.3351335166423612]]</td>\n",
       "      <td>[[595.6822535968427]]</td>\n",
       "      <td>[[-1.7394666064241018]]</td>\n",
       "      <td>[[484.3266706959833]]</td>\n",
       "      <td>[[-1.6707330944654557]]</td>\n",
       "      <td>[[473.0243882146619]]</td>\n",
       "      <td>[[[[]], [[]], [[0.20735147]], [[0.12720413]], ...</td>\n",
       "      <td>[[[[]], [[]], [[]], [[0.0131748]], [[0.0070787...</td>\n",
       "      <td>IDRest</td>\n",
       "    </tr>\n",
       "    <tr>\n",
       "      <th>2</th>\n",
       "      <td>2</td>\n",
       "      <td>[[11]]</td>\n",
       "      <td>[[3103, 3104, 3105, 3106, 3107, 3108, 3109, 31...</td>\n",
       "      <td>[[50, 75, 100, 125, 150, 175, 200, 225, 250, 2...</td>\n",
       "      <td>[[117.0, 175.5, 234.0, 292.5, 351.0, 409.5, 46...</td>\n",
       "      <td>[[1, 2501, 25002, 27500]]</td>\n",
       "      <td>[[0.0, 250.0, 2500.1000000000004, 2749.9]]</td>\n",
       "      <td>[[[[-69.2377874]], [[-69.32491574]], [[-69.012...</td>\n",
       "      <td>[[250]]</td>\n",
       "      <td>[[2500.1000000000004]]</td>\n",
       "      <td>...</td>\n",
       "      <td>[[-0.15152768582388348]]</td>\n",
       "      <td>[[-1.8549332503575289]]</td>\n",
       "      <td>[[483.1199957496952]]</td>\n",
       "      <td>[[-1.488533334690825]]</td>\n",
       "      <td>[[426.02890296136263]]</td>\n",
       "      <td>[[-1.493933328441452]]</td>\n",
       "      <td>[[431.542208958914]]</td>\n",
       "      <td>[[[[]], [[]], [[0.11038963]], [[0.06161604]], ...</td>\n",
       "      <td>[[[[]], [[]], [[0.01438096]], [[-0.00438777]],...</td>\n",
       "      <td>IDRest</td>\n",
       "    </tr>\n",
       "    <tr>\n",
       "      <th>3</th>\n",
       "      <td>3</td>\n",
       "      <td>[[11]]</td>\n",
       "      <td>[[4101, 4102, 4103, 4104, 4105, 4106, 4107, 41...</td>\n",
       "      <td>[[50, 75, 100, 125, 150, 175, 200, 225, 250, 2...</td>\n",
       "      <td>[[122, 183, 244, 305, 366, 427, 488, 549, 610,...</td>\n",
       "      <td>[[1, 2501, 25002, 27500]]</td>\n",
       "      <td>[[0.0, 250.0, 2500.1000000000004, 2749.9]]</td>\n",
       "      <td>[[[[-70.25862413]], [[-70.4025422]], [[-70.037...</td>\n",
       "      <td>[[250]]</td>\n",
       "      <td>[[2500.1000000000004]]</td>\n",
       "      <td>...</td>\n",
       "      <td>[[-0.05428278345115427]]</td>\n",
       "      <td>[[-2.021599975203566]]</td>\n",
       "      <td>[[526.5533512746704]]</td>\n",
       "      <td>[[-1.9537333689771281]]</td>\n",
       "      <td>[[541.8799838952573]]</td>\n",
       "      <td>[[-0.9977143305157623]]</td>\n",
       "      <td>[[318.76428016330283]]</td>\n",
       "      <td>[[[[]], [[]], [[0.01283537]], [[0.12032969]], ...</td>\n",
       "      <td>[[[[]], [[]], [[]], [[-0.01572168]], [[-0.0029...</td>\n",
       "      <td>IDRest</td>\n",
       "    </tr>\n",
       "  </tbody>\n",
       "</table>\n",
       "<p>4 rows × 52 columns</p>\n",
       "</div>"
      ],
      "text/plain": [
       "   repetition  nTrace                                                ids  \\\n",
       "0           0  [[11]]  [[1132, 1133, 1134, 1135, 1136, 1137, 1138, 11...   \n",
       "1           1  [[11]]  [[2104, 2105, 2106, 2107, 2108, 2109, 2110, 21...   \n",
       "2           2  [[11]]  [[3103, 3104, 3105, 3106, 3107, 3108, 3109, 31...   \n",
       "3           3  [[11]]  [[4101, 4102, 4103, 4104, 4105, 4106, 4107, 41...   \n",
       "\n",
       "                                                stim  \\\n",
       "0  [[50, 75, 100, 125, 150, 175, 200, 225, 250, 2...   \n",
       "1  [[50, 75, 100, 125, 150, 175, 200, 225, 250, 2...   \n",
       "2  [[50, 75, 100, 125, 150, 175, 200, 225, 250, 2...   \n",
       "3  [[50, 75, 100, 125, 150, 175, 200, 225, 250, 2...   \n",
       "\n",
       "                                         stim_actual  \\\n",
       "0  [[136.0, 204.00000000000003, 272.0, 340.0, 408...   \n",
       "1  [[124, 186, 248, 310, 372, 434, 496, 558, 620,...   \n",
       "2  [[117.0, 175.5, 234.0, 292.5, 351.0, 409.5, 46...   \n",
       "3  [[122, 183, 244, 305, 366, 427, 488, 549, 610,...   \n",
       "\n",
       "                    stim_ids                                 stim_change  \\\n",
       "0  [[1, 2501, 25002, 27500]]  [[0.0, 250.0, 2500.1000000000004, 2749.9]]   \n",
       "1  [[1, 2501, 25002, 27500]]  [[0.0, 250.0, 2500.1000000000004, 2749.9]]   \n",
       "2  [[1, 2501, 25002, 27500]]  [[0.0, 250.0, 2500.1000000000004, 2749.9]]   \n",
       "3  [[1, 2501, 25002, 27500]]  [[0.0, 250.0, 2500.1000000000004, 2749.9]]   \n",
       "\n",
       "                                               vHold stim_start  \\\n",
       "0  [[[[-70.61717596]], [[-70.46352758]], [[-70.22...    [[250]]   \n",
       "1  [[[[-69.32066142]], [[-70.28466705]], [[-70.22...    [[250]]   \n",
       "2  [[[[-69.2377874]], [[-69.32491574]], [[-69.012...    [[250]]   \n",
       "3  [[[[-70.25862413]], [[-70.4025422]], [[-70.037...    [[250]]   \n",
       "\n",
       "                 stim_end  ...   last_accommodation_mean  \\\n",
       "0  [[2500.1000000000004]]  ...  [[-0.46062457923391875]]   \n",
       "1  [[2500.1000000000004]]  ...   [[-0.2636580402228823]]   \n",
       "2  [[2500.1000000000004]]  ...  [[-0.15152768582388348]]   \n",
       "3  [[2500.1000000000004]]  ...  [[-0.05428278345115427]]   \n",
       "\n",
       "          ISI1_time_vs_I_m       ISI1_time_vs_I_c         ISI2_time_vs_I_m  \\\n",
       "0  [[-2.1490002004747826]]  [[545.8667103325719]]  [[-1.9983998523254176]]   \n",
       "1  [[-2.3351335166423612]]  [[595.6822535968427]]  [[-1.7394666064241018]]   \n",
       "2  [[-1.8549332503575289]]  [[483.1199957496952]]   [[-1.488533334690825]]   \n",
       "3   [[-2.021599975203566]]  [[526.5533512746704]]  [[-1.9537333689771281]]   \n",
       "\n",
       "         ISI2_time_vs_I_c         ISI3_time_vs_I_m        ISI3_time_vs_I_c  \\\n",
       "0   [[542.3688681443059]]  [[-1.0429522580660828]]  [[320.00236101962093]]   \n",
       "1   [[484.3266706959833]]  [[-1.6707330944654557]]   [[473.0243882146619]]   \n",
       "2  [[426.02890296136263]]   [[-1.493933328441452]]    [[431.542208958914]]   \n",
       "3   [[541.8799838952573]]  [[-0.9977143305157623]]  [[318.76428016330283]]   \n",
       "\n",
       "                                              ISI_CV  \\\n",
       "0  [[[[]], [[]], [[0.05826508]], [[0.31607044]], ...   \n",
       "1  [[[[]], [[]], [[0.20735147]], [[0.12720413]], ...   \n",
       "2  [[[[]], [[]], [[0.11038963]], [[0.06161604]], ...   \n",
       "3  [[[[]], [[]], [[0.01283537]], [[0.12032969]], ...   \n",
       "\n",
       "                                    adaptation_index protocol_name  \n",
       "0  [[[[]], [[]], [[]], [[0.04237069]], [[0.031321...        IDRest  \n",
       "1  [[[[]], [[]], [[]], [[0.0131748]], [[0.0070787...        IDRest  \n",
       "2  [[[[]], [[]], [[0.01438096]], [[-0.00438777]],...        IDRest  \n",
       "3  [[[[]], [[]], [[]], [[-0.01572168]], [[-0.0029...        IDRest  \n",
       "\n",
       "[4 rows x 52 columns]"
      ]
     },
     "execution_count": 15,
     "metadata": {},
     "output_type": "execute_result"
    }
   ],
   "source": [
    "protocol_df = pd.DataFrame(protocol_raw[0][0][1][0])\n",
    "protocol_df['protocol_name'] = protocol_raw[0][0][0][0]\n",
    "protocol_df = protocol_df.reset_index().rename(columns={'index': 'repetition'})\n",
    "\n",
    "protocol_df\n"
   ]
  },
  {
   "cell_type": "markdown",
   "id": "71b1bd0e",
   "metadata": {},
   "source": [
    "# Extraction of data at trace level"
   ]
  },
  {
   "cell_type": "code",
   "execution_count": null,
   "id": "2c91f985",
   "metadata": {},
   "outputs": [],
   "source": []
  },
  {
   "cell_type": "code",
   "execution_count": 16,
   "id": "12f3ea6f",
   "metadata": {},
   "outputs": [],
   "source": [
    "trace_level_columns = [\n",
    "    'ids',\n",
    "'stim',\n",
    "'stim_actual',\n",
    "'vHold',\n",
    "'peak_indices',\n",
    "'spikecount',\n",
    "'peak_time',\n",
    "'peak_voltage',\n",
    "'ISI_values',\n",
    "'min_AHP_indices',\n",
    "'min_AHP_time',\n",
    "'min_AHP_voltage',\n",
    "'AP_begin_voltage',\n",
    "'AP_begin_time',\n",
    "'AP_amplitude',\n",
    "]"
   ]
  },
  {
   "cell_type": "code",
   "execution_count": 17,
   "id": "3cb24ed0",
   "metadata": {},
   "outputs": [],
   "source": [
    "trace_df = protocol_df.copy()\n",
    "# trace_df[trace_level_columns] = trace_df[trace_level_columns].apply(lambda x: x.)\n",
    "trace_df = trace_df.explode(trace_level_columns).explode(trace_level_columns)"
   ]
  },
  {
   "cell_type": "code",
   "execution_count": 18,
   "id": "c85c314a",
   "metadata": {},
   "outputs": [
    {
     "data": {
      "text/html": [
       "<div>\n",
       "<style scoped>\n",
       "    .dataframe tbody tr th:only-of-type {\n",
       "        vertical-align: middle;\n",
       "    }\n",
       "\n",
       "    .dataframe tbody tr th {\n",
       "        vertical-align: top;\n",
       "    }\n",
       "\n",
       "    .dataframe thead th {\n",
       "        text-align: right;\n",
       "    }\n",
       "</style>\n",
       "<table border=\"1\" class=\"dataframe\">\n",
       "  <thead>\n",
       "    <tr style=\"text-align: right;\">\n",
       "      <th></th>\n",
       "      <th>repetition</th>\n",
       "      <th>nTrace</th>\n",
       "      <th>ids</th>\n",
       "      <th>stim</th>\n",
       "      <th>stim_actual</th>\n",
       "      <th>stim_ids</th>\n",
       "      <th>stim_change</th>\n",
       "      <th>vHold</th>\n",
       "      <th>stim_start</th>\n",
       "      <th>stim_end</th>\n",
       "      <th>...</th>\n",
       "      <th>last_accommodation_mean</th>\n",
       "      <th>ISI1_time_vs_I_m</th>\n",
       "      <th>ISI1_time_vs_I_c</th>\n",
       "      <th>ISI2_time_vs_I_m</th>\n",
       "      <th>ISI2_time_vs_I_c</th>\n",
       "      <th>ISI3_time_vs_I_m</th>\n",
       "      <th>ISI3_time_vs_I_c</th>\n",
       "      <th>ISI_CV</th>\n",
       "      <th>adaptation_index</th>\n",
       "      <th>protocol_name</th>\n",
       "    </tr>\n",
       "  </thead>\n",
       "  <tbody>\n",
       "    <tr>\n",
       "      <th>0</th>\n",
       "      <td>0</td>\n",
       "      <td>[[11]]</td>\n",
       "      <td>1132</td>\n",
       "      <td>50</td>\n",
       "      <td>136.0</td>\n",
       "      <td>[[1, 2501, 25002, 27500]]</td>\n",
       "      <td>[[0.0, 250.0, 2500.1000000000004, 2749.9]]</td>\n",
       "      <td>[[-70.61717595564372]]</td>\n",
       "      <td>[[250]]</td>\n",
       "      <td>[[2500.1000000000004]]</td>\n",
       "      <td>...</td>\n",
       "      <td>[[-0.46062457923391875]]</td>\n",
       "      <td>[[-2.1490002004747826]]</td>\n",
       "      <td>[[545.8667103325719]]</td>\n",
       "      <td>[[-1.9983998523254176]]</td>\n",
       "      <td>[[542.3688681443059]]</td>\n",
       "      <td>[[-1.0429522580660828]]</td>\n",
       "      <td>[[320.00236101962093]]</td>\n",
       "      <td>[[[[]], [[]], [[0.05826508]], [[0.31607044]], ...</td>\n",
       "      <td>[[[[]], [[]], [[]], [[0.04237069]], [[0.031321...</td>\n",
       "      <td>IDRest</td>\n",
       "    </tr>\n",
       "    <tr>\n",
       "      <th>0</th>\n",
       "      <td>0</td>\n",
       "      <td>[[11]]</td>\n",
       "      <td>1133</td>\n",
       "      <td>75</td>\n",
       "      <td>204.0</td>\n",
       "      <td>[[1, 2501, 25002, 27500]]</td>\n",
       "      <td>[[0.0, 250.0, 2500.1000000000004, 2749.9]]</td>\n",
       "      <td>[[-70.46352758415337]]</td>\n",
       "      <td>[[250]]</td>\n",
       "      <td>[[2500.1000000000004]]</td>\n",
       "      <td>...</td>\n",
       "      <td>[[-0.46062457923391875]]</td>\n",
       "      <td>[[-2.1490002004747826]]</td>\n",
       "      <td>[[545.8667103325719]]</td>\n",
       "      <td>[[-1.9983998523254176]]</td>\n",
       "      <td>[[542.3688681443059]]</td>\n",
       "      <td>[[-1.0429522580660828]]</td>\n",
       "      <td>[[320.00236101962093]]</td>\n",
       "      <td>[[[[]], [[]], [[0.05826508]], [[0.31607044]], ...</td>\n",
       "      <td>[[[[]], [[]], [[]], [[0.04237069]], [[0.031321...</td>\n",
       "      <td>IDRest</td>\n",
       "    </tr>\n",
       "    <tr>\n",
       "      <th>0</th>\n",
       "      <td>0</td>\n",
       "      <td>[[11]]</td>\n",
       "      <td>1134</td>\n",
       "      <td>100</td>\n",
       "      <td>272.0</td>\n",
       "      <td>[[1, 2501, 25002, 27500]]</td>\n",
       "      <td>[[0.0, 250.0, 2500.1000000000004, 2749.9]]</td>\n",
       "      <td>[[-70.22681801409081]]</td>\n",
       "      <td>[[250]]</td>\n",
       "      <td>[[2500.1000000000004]]</td>\n",
       "      <td>...</td>\n",
       "      <td>[[-0.46062457923391875]]</td>\n",
       "      <td>[[-2.1490002004747826]]</td>\n",
       "      <td>[[545.8667103325719]]</td>\n",
       "      <td>[[-1.9983998523254176]]</td>\n",
       "      <td>[[542.3688681443059]]</td>\n",
       "      <td>[[-1.0429522580660828]]</td>\n",
       "      <td>[[320.00236101962093]]</td>\n",
       "      <td>[[[[]], [[]], [[0.05826508]], [[0.31607044]], ...</td>\n",
       "      <td>[[[[]], [[]], [[]], [[0.04237069]], [[0.031321...</td>\n",
       "      <td>IDRest</td>\n",
       "    </tr>\n",
       "    <tr>\n",
       "      <th>0</th>\n",
       "      <td>0</td>\n",
       "      <td>[[11]]</td>\n",
       "      <td>1135</td>\n",
       "      <td>125</td>\n",
       "      <td>340.0</td>\n",
       "      <td>[[1, 2501, 25002, 27500]]</td>\n",
       "      <td>[[0.0, 250.0, 2500.1000000000004, 2749.9]]</td>\n",
       "      <td>[[-70.38113459207486]]</td>\n",
       "      <td>[[250]]</td>\n",
       "      <td>[[2500.1000000000004]]</td>\n",
       "      <td>...</td>\n",
       "      <td>[[-0.46062457923391875]]</td>\n",
       "      <td>[[-2.1490002004747826]]</td>\n",
       "      <td>[[545.8667103325719]]</td>\n",
       "      <td>[[-1.9983998523254176]]</td>\n",
       "      <td>[[542.3688681443059]]</td>\n",
       "      <td>[[-1.0429522580660828]]</td>\n",
       "      <td>[[320.00236101962093]]</td>\n",
       "      <td>[[[[]], [[]], [[0.05826508]], [[0.31607044]], ...</td>\n",
       "      <td>[[[[]], [[]], [[]], [[0.04237069]], [[0.031321...</td>\n",
       "      <td>IDRest</td>\n",
       "    </tr>\n",
       "    <tr>\n",
       "      <th>0</th>\n",
       "      <td>0</td>\n",
       "      <td>[[11]]</td>\n",
       "      <td>1136</td>\n",
       "      <td>150</td>\n",
       "      <td>408.0</td>\n",
       "      <td>[[1, 2501, 25002, 27500]]</td>\n",
       "      <td>[[0.0, 250.0, 2500.1000000000004, 2749.9]]</td>\n",
       "      <td>[[-70.54939094199233]]</td>\n",
       "      <td>[[250]]</td>\n",
       "      <td>[[2500.1000000000004]]</td>\n",
       "      <td>...</td>\n",
       "      <td>[[-0.46062457923391875]]</td>\n",
       "      <td>[[-2.1490002004747826]]</td>\n",
       "      <td>[[545.8667103325719]]</td>\n",
       "      <td>[[-1.9983998523254176]]</td>\n",
       "      <td>[[542.3688681443059]]</td>\n",
       "      <td>[[-1.0429522580660828]]</td>\n",
       "      <td>[[320.00236101962093]]</td>\n",
       "      <td>[[[[]], [[]], [[0.05826508]], [[0.31607044]], ...</td>\n",
       "      <td>[[[[]], [[]], [[]], [[0.04237069]], [[0.031321...</td>\n",
       "      <td>IDRest</td>\n",
       "    </tr>\n",
       "  </tbody>\n",
       "</table>\n",
       "<p>5 rows × 52 columns</p>\n",
       "</div>"
      ],
      "text/plain": [
       "   repetition  nTrace   ids stim stim_actual                   stim_ids  \\\n",
       "0           0  [[11]]  1132   50       136.0  [[1, 2501, 25002, 27500]]   \n",
       "0           0  [[11]]  1133   75       204.0  [[1, 2501, 25002, 27500]]   \n",
       "0           0  [[11]]  1134  100       272.0  [[1, 2501, 25002, 27500]]   \n",
       "0           0  [[11]]  1135  125       340.0  [[1, 2501, 25002, 27500]]   \n",
       "0           0  [[11]]  1136  150       408.0  [[1, 2501, 25002, 27500]]   \n",
       "\n",
       "                                  stim_change                   vHold  \\\n",
       "0  [[0.0, 250.0, 2500.1000000000004, 2749.9]]  [[-70.61717595564372]]   \n",
       "0  [[0.0, 250.0, 2500.1000000000004, 2749.9]]  [[-70.46352758415337]]   \n",
       "0  [[0.0, 250.0, 2500.1000000000004, 2749.9]]  [[-70.22681801409081]]   \n",
       "0  [[0.0, 250.0, 2500.1000000000004, 2749.9]]  [[-70.38113459207486]]   \n",
       "0  [[0.0, 250.0, 2500.1000000000004, 2749.9]]  [[-70.54939094199233]]   \n",
       "\n",
       "  stim_start                stim_end  ...   last_accommodation_mean  \\\n",
       "0    [[250]]  [[2500.1000000000004]]  ...  [[-0.46062457923391875]]   \n",
       "0    [[250]]  [[2500.1000000000004]]  ...  [[-0.46062457923391875]]   \n",
       "0    [[250]]  [[2500.1000000000004]]  ...  [[-0.46062457923391875]]   \n",
       "0    [[250]]  [[2500.1000000000004]]  ...  [[-0.46062457923391875]]   \n",
       "0    [[250]]  [[2500.1000000000004]]  ...  [[-0.46062457923391875]]   \n",
       "\n",
       "          ISI1_time_vs_I_m       ISI1_time_vs_I_c         ISI2_time_vs_I_m  \\\n",
       "0  [[-2.1490002004747826]]  [[545.8667103325719]]  [[-1.9983998523254176]]   \n",
       "0  [[-2.1490002004747826]]  [[545.8667103325719]]  [[-1.9983998523254176]]   \n",
       "0  [[-2.1490002004747826]]  [[545.8667103325719]]  [[-1.9983998523254176]]   \n",
       "0  [[-2.1490002004747826]]  [[545.8667103325719]]  [[-1.9983998523254176]]   \n",
       "0  [[-2.1490002004747826]]  [[545.8667103325719]]  [[-1.9983998523254176]]   \n",
       "\n",
       "        ISI2_time_vs_I_c         ISI3_time_vs_I_m        ISI3_time_vs_I_c  \\\n",
       "0  [[542.3688681443059]]  [[-1.0429522580660828]]  [[320.00236101962093]]   \n",
       "0  [[542.3688681443059]]  [[-1.0429522580660828]]  [[320.00236101962093]]   \n",
       "0  [[542.3688681443059]]  [[-1.0429522580660828]]  [[320.00236101962093]]   \n",
       "0  [[542.3688681443059]]  [[-1.0429522580660828]]  [[320.00236101962093]]   \n",
       "0  [[542.3688681443059]]  [[-1.0429522580660828]]  [[320.00236101962093]]   \n",
       "\n",
       "                                              ISI_CV  \\\n",
       "0  [[[[]], [[]], [[0.05826508]], [[0.31607044]], ...   \n",
       "0  [[[[]], [[]], [[0.05826508]], [[0.31607044]], ...   \n",
       "0  [[[[]], [[]], [[0.05826508]], [[0.31607044]], ...   \n",
       "0  [[[[]], [[]], [[0.05826508]], [[0.31607044]], ...   \n",
       "0  [[[[]], [[]], [[0.05826508]], [[0.31607044]], ...   \n",
       "\n",
       "                                    adaptation_index protocol_name  \n",
       "0  [[[[]], [[]], [[]], [[0.04237069]], [[0.031321...        IDRest  \n",
       "0  [[[[]], [[]], [[]], [[0.04237069]], [[0.031321...        IDRest  \n",
       "0  [[[[]], [[]], [[]], [[0.04237069]], [[0.031321...        IDRest  \n",
       "0  [[[[]], [[]], [[]], [[0.04237069]], [[0.031321...        IDRest  \n",
       "0  [[[[]], [[]], [[]], [[0.04237069]], [[0.031321...        IDRest  \n",
       "\n",
       "[5 rows x 52 columns]"
      ]
     },
     "execution_count": 18,
     "metadata": {},
     "output_type": "execute_result"
    }
   ],
   "source": [
    "trace_df.head()"
   ]
  },
  {
   "cell_type": "code",
   "execution_count": 19,
   "id": "8e0461da",
   "metadata": {},
   "outputs": [],
   "source": [
    "trace_df_rep_0= trace_df.loc[(trace_df.repetition==0)].copy()\n"
   ]
  },
  {
   "cell_type": "code",
   "execution_count": 21,
   "id": "74597db0",
   "metadata": {},
   "outputs": [
    {
     "data": {
      "text/plain": [
       "0    [[-70.54939094199233]]\n",
       "Name: vHold, dtype: object"
      ]
     },
     "execution_count": 21,
     "metadata": {},
     "output_type": "execute_result"
    }
   ],
   "source": [
    "trace_df_rep_0.loc[trace_df_rep_0.stim==150]['vHold']"
   ]
  },
  {
   "cell_type": "code",
   "execution_count": 26,
   "id": "a78af4d9",
   "metadata": {},
   "outputs": [
    {
     "data": {
      "text/plain": [
       "-37.633618613841094"
      ]
     },
     "execution_count": 26,
     "metadata": {},
     "output_type": "execute_result"
    }
   ],
   "source": [
    "trace_df_rep_0.loc[trace_df_rep_0.stim==125]['AP_begin_voltage'][0].mean()"
   ]
  },
  {
   "cell_type": "code",
   "execution_count": 27,
   "id": "39eb646c",
   "metadata": {},
   "outputs": [
    {
     "data": {
      "text/plain": [
       "-35.393271912761406"
      ]
     },
     "execution_count": 27,
     "metadata": {},
     "output_type": "execute_result"
    }
   ],
   "source": [
    "trace_df_rep_0.loc[trace_df_rep_0.stim==200]['AP_begin_voltage'][0].mean()"
   ]
  },
  {
   "cell_type": "code",
   "execution_count": 29,
   "id": "e3fcc89a",
   "metadata": {},
   "outputs": [
    {
     "data": {
      "text/plain": [
       "0    [[-71.06577963947595]]\n",
       "Name: vHold, dtype: object"
      ]
     },
     "execution_count": 29,
     "metadata": {},
     "output_type": "execute_result"
    }
   ],
   "source": [
    "trace_df_rep_0.loc[trace_df_rep_0.stim==225]['vHold']"
   ]
  },
  {
   "cell_type": "code",
   "execution_count": 30,
   "id": "e95a09ac",
   "metadata": {},
   "outputs": [
    {
     "data": {
      "text/plain": [
       "0    [[-71.73008814282801]]\n",
       "Name: vHold, dtype: object"
      ]
     },
     "execution_count": 30,
     "metadata": {},
     "output_type": "execute_result"
    }
   ],
   "source": [
    "trace_df_rep_0.loc[trace_df_rep_0.stim==300]['vHold']"
   ]
  }
 ],
 "metadata": {
  "kernelspec": {
   "display_name": "Python 3 (ipykernel)",
   "language": "python",
   "name": "python3"
  },
  "language_info": {
   "codemirror_mode": {
    "name": "ipython",
    "version": 3
   },
   "file_extension": ".py",
   "mimetype": "text/x-python",
   "name": "python",
   "nbconvert_exporter": "python",
   "pygments_lexer": "ipython3",
   "version": "3.9.12"
  }
 },
 "nbformat": 4,
 "nbformat_minor": 5
}
