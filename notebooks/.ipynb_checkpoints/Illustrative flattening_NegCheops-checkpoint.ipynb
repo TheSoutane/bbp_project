{
 "cells": [
  {
   "cell_type": "markdown",
   "id": "933eae06",
   "metadata": {},
   "source": [
    "Data is strucutured as follow:\n",
    "An experiment is performed on multiple cells. To increase certainty the experiment is performed multiple times (~3-4). \\\n",
    "During each repetition of the experience, different protocols are applied, each composed of multiple steps. Finally the results are analysed and data regarding the neuron electrical answer are generated. Those are mostly composed of spikes and inter spikes features. \\\n",
    "To sythetize, the data are structured as follow: Experiment/cell/repetitions/protocol/step/spike. \\\n",
    "As the data have to be considered at cell level we will not consider the experiment data (except for debugging)"
   ]
  },
  {
   "cell_type": "markdown",
   "id": "9b25e50f",
   "metadata": {},
   "source": [
    "# Librairy importation and data load"
   ]
  },
  {
   "cell_type": "code",
   "execution_count": 1,
   "id": "b62f1cb6",
   "metadata": {},
   "outputs": [],
   "source": [
    "import os\n",
    "import pandas as pd\n",
    "from scipy import io\n"
   ]
  },
  {
   "cell_type": "code",
   "execution_count": 2,
   "id": "157e6f44",
   "metadata": {},
   "outputs": [],
   "source": [
    "loaded_sp = io.loadmat('../data/01_raw/matData_2022-05-30/aCell148_1.mat')"
   ]
  },
  {
   "cell_type": "markdown",
   "id": "c8b4cff3",
   "metadata": {},
   "source": [
    "# Functions"
   ]
  },
  {
   "cell_type": "code",
   "execution_count": 3,
   "id": "f853f216",
   "metadata": {},
   "outputs": [],
   "source": [
    "# def flatten_df(df, levels):\n",
    "#     \"\"\"Flatten all the columns of a datafram to facilitate data extraction\n",
    "    \n",
    "#     df: Dataframe to flatten\n",
    "#     levels: number of wished flattening levels\n",
    "#     \"\"\"\n",
    "#     df_flat = df.copy()\n",
    "#     count = 0\n",
    "#     while count<levels:\n",
    "#         df_flat = df_flat.apply(lambda x: x[0])\n",
    "#         count+=1\n",
    "#     return df_flat\n",
    "\n",
    "def flatten_df(df):\n",
    "    \"\"\"Flatten all the columns of a datafram to facilitate data extraction\n",
    "    \n",
    "    df: Dataframe to flatten\n",
    "    \"\"\"\n",
    "    df_flat = df.copy()\n",
    "    df_flat = df_flat.apply(lambda x: x[0][0])\n",
    "\n",
    "    return df_flat\n"
   ]
  },
  {
   "cell_type": "markdown",
   "id": "3c288dab",
   "metadata": {},
   "source": [
    "# Cell level data (+experiment)"
   ]
  },
  {
   "cell_type": "code",
   "execution_count": 4,
   "id": "4a8f3d7b",
   "metadata": {},
   "outputs": [
    {
     "data": {
      "text/plain": [
       "dict_keys(['__header__', '__version__', '__globals__', 'aCell'])"
      ]
     },
     "execution_count": 4,
     "metadata": {},
     "output_type": "execute_result"
    }
   ],
   "source": [
    "loaded_sp.keys()\n",
    "# Only aCell contains relevant information. We will not consider the other cells"
   ]
  },
  {
   "cell_type": "markdown",
   "id": "8f15c18e",
   "metadata": {},
   "source": [
    "#### First branching (but not the latest :). \n",
    "- Id simply provides the experiment ID\n",
    "- Cellinfo provides the cell data\n",
    "- FileInfo provides the document data (useless)\n",
    "- protocol provides all theinformations regarding the stimulus and the experimental results"
   ]
  },
  {
   "cell_type": "code",
   "execution_count": 5,
   "id": "e23f9c18",
   "metadata": {},
   "outputs": [
    {
     "data": {
      "text/plain": [
       "dtype([('id', 'O'), ('cellInfo', 'O'), ('protocol', 'O'), ('fileInfo', 'O')])"
      ]
     },
     "execution_count": 5,
     "metadata": {},
     "output_type": "execute_result"
    }
   ],
   "source": [
    "loaded_sp['aCell'][0][0].dtype"
   ]
  },
  {
   "cell_type": "code",
   "execution_count": 6,
   "id": "f91df9e7",
   "metadata": {},
   "outputs": [],
   "source": [
    "# fileInfo_temp = pd.DataFrame(loaded_sp['aCell'][0][0]['fileInfo'].ravel())\n",
    "cellInfo_temp = pd.DataFrame(loaded_sp['aCell'][0][0]['cellInfo'].ravel())\n",
    "\n",
    "                          "
   ]
  },
  {
   "cell_type": "code",
   "execution_count": 7,
   "id": "e2c1ec78",
   "metadata": {},
   "outputs": [
    {
     "data": {
      "text/plain": [
       "id                                                   148_1\n",
       "experimenter                                            OH\n",
       "species                                              Mouse\n",
       "channel                                                ch2\n",
       "cellType                                              L5IN\n",
       "path            \\001_140317A01_OH\\001_140317A1MMP15L5IN_OH\n",
       "status                                                 [1]\n",
       "dtype: object"
      ]
     },
     "execution_count": 7,
     "metadata": {},
     "output_type": "execute_result"
    }
   ],
   "source": [
    "# Extract the cell info\n",
    "cellInfo_flat = flatten_df(cellInfo_temp)\n",
    "cellInfo_flat"
   ]
  },
  {
   "cell_type": "markdown",
   "id": "d05df65d",
   "metadata": {},
   "source": [
    "# Extraction of data at protocol level"
   ]
  },
  {
   "cell_type": "code",
   "execution_count": 8,
   "id": "ac77096f",
   "metadata": {},
   "outputs": [
    {
     "data": {
      "text/plain": [
       "'DeHyperPol'"
      ]
     },
     "execution_count": 8,
     "metadata": {},
     "output_type": "execute_result"
    }
   ],
   "source": [
    "# for i in loaded_sp['aCell'][0][0]['protocol'][0]:\n",
    "#     print(i[0][0][0][0])\n",
    "protocol_raw = loaded_sp['aCell'][0][0]['protocol'][0][1]\n",
    "protocol_raw[0][0][0][0]#['APWaveform']"
   ]
  },
  {
   "cell_type": "code",
   "execution_count": 9,
   "id": "10a6fbda",
   "metadata": {},
   "outputs": [
    {
     "name": "stdout",
     "output_type": "stream",
     "text": [
      "APWaveform\n",
      "DeHyperPol\n",
      "Delta\n",
      "ElecCal\n",
      "FirePattern\n",
      "HyperDePol\n",
      "IDRest\n",
      "IDThres\n",
      "IV\n",
      "NegCheops\n",
      "NoiseOU3\n",
      "PosCheops\n",
      "RPip\n",
      "Rac\n",
      "ResetITC\n",
      "SetAmpl\n",
      "SetISI\n",
      "SineSpec\n",
      "SpikeRec\n",
      "SponHold30\n",
      "SponHold3\n",
      "SponNoHold30\n",
      "StartHold\n",
      "StartNoHold\n",
      "SubWhiteNoise\n",
      "TestAmpl\n",
      "TestRheo\n",
      "TestSpikeRec\n",
      "WhiteNoise\n",
      "sAHP\n"
     ]
    }
   ],
   "source": [
    "for i in loaded_sp['aCell'][0][0]['protocol'][0]:\n",
    "    print(i[0][0][0][0])"
   ]
  },
  {
   "cell_type": "code",
   "execution_count": 10,
   "id": "a19e988a",
   "metadata": {},
   "outputs": [
    {
     "data": {
      "text/plain": [
       "'DeHyperPol'"
      ]
     },
     "execution_count": 10,
     "metadata": {},
     "output_type": "execute_result"
    }
   ],
   "source": [
    "protocol_raw[0][0][0][0]#['APWaveform']"
   ]
  },
  {
   "cell_type": "code",
   "execution_count": null,
   "id": "8d52c323",
   "metadata": {},
   "outputs": [],
   "source": []
  },
  {
   "cell_type": "markdown",
   "id": "0018d4ae",
   "metadata": {},
   "source": [
    "#### APWaveform (Illustrative)"
   ]
  },
  {
   "cell_type": "code",
   "execution_count": 11,
   "id": "405005e6",
   "metadata": {},
   "outputs": [],
   "source": [
    "# protocol_raw[0][0][0][0]"
   ]
  },
  {
   "cell_type": "code",
   "execution_count": 12,
   "id": "07cda45e",
   "metadata": {},
   "outputs": [
    {
     "data": {
      "text/plain": [
       "'DeHyperPol'"
      ]
     },
     "execution_count": 12,
     "metadata": {},
     "output_type": "execute_result"
    }
   ],
   "source": [
    "protocol_raw[0][0][0][0]#['APWaveform']"
   ]
  },
  {
   "cell_type": "code",
   "execution_count": 13,
   "id": "d796a591",
   "metadata": {},
   "outputs": [
    {
     "data": {
      "text/html": [
       "<div>\n",
       "<style scoped>\n",
       "    .dataframe tbody tr th:only-of-type {\n",
       "        vertical-align: middle;\n",
       "    }\n",
       "\n",
       "    .dataframe tbody tr th {\n",
       "        vertical-align: top;\n",
       "    }\n",
       "\n",
       "    .dataframe thead th {\n",
       "        text-align: right;\n",
       "    }\n",
       "</style>\n",
       "<table border=\"1\" class=\"dataframe\">\n",
       "  <thead>\n",
       "    <tr style=\"text-align: right;\">\n",
       "      <th></th>\n",
       "      <th>AP_begin_voltage</th>\n",
       "      <th>peak_time</th>\n",
       "      <th>peak_voltage</th>\n",
       "      <th>ISI_values</th>\n",
       "    </tr>\n",
       "  </thead>\n",
       "  <tbody>\n",
       "    <tr>\n",
       "      <th>0</th>\n",
       "      <td>[[[[-29.07525036 -29.28392944 -30.17600864]], ...</td>\n",
       "      <td>[[[[302.1 371.8 454. ]], [[283.3 345.6 434.5]]...</td>\n",
       "      <td>[[[[16.68749936 19.2499999  19.4687508 ]], [[1...</td>\n",
       "      <td>[[[[69.7 82.2]], [[62.3 88.9]], [[60.7 85.6]],...</td>\n",
       "    </tr>\n",
       "    <tr>\n",
       "      <th>1</th>\n",
       "      <td>[[[[-29.62386316 -29.03437411 -30.17670386]], ...</td>\n",
       "      <td>[[[[277.4 322.  406.4]], [[265.5 296.4 355.2 4...</td>\n",
       "      <td>[[[[13.87500018 16.75000042 17.37499982]], [[1...</td>\n",
       "      <td>[[[[44.6 84.4]], [[30.9 58.8 80.6]], [[57.  85...</td>\n",
       "    </tr>\n",
       "    <tr>\n",
       "      <th>2</th>\n",
       "      <td>[[[[-27.92398109 -27.0199213  -27.24795288]], ...</td>\n",
       "      <td>[[[[284.2 341.8 420.8]], [[278.6 322.9 398.6]]...</td>\n",
       "      <td>[[[[10.62500011 13.50000035 14.09375016]], [[1...</td>\n",
       "      <td>[[[[57.6 79. ]], [[44.3 75.7]], [[51. 82.]], [...</td>\n",
       "    </tr>\n",
       "    <tr>\n",
       "      <th>3</th>\n",
       "      <td>[[[[-22.89602236 -23.08320304]], [[-23.4683673...</td>\n",
       "      <td>[[[[314.  427.5]], [[307.4 409.4]], [[309.1 40...</td>\n",
       "      <td>[[[[ 8.46874993 10.40625013]], [[ 8.81250016 1...</td>\n",
       "      <td>[[[[113.5]], [[102.]], [[99.6]], [[108.6]]]]</td>\n",
       "    </tr>\n",
       "  </tbody>\n",
       "</table>\n",
       "</div>"
      ],
      "text/plain": [
       "                                    AP_begin_voltage  \\\n",
       "0  [[[[-29.07525036 -29.28392944 -30.17600864]], ...   \n",
       "1  [[[[-29.62386316 -29.03437411 -30.17670386]], ...   \n",
       "2  [[[[-27.92398109 -27.0199213  -27.24795288]], ...   \n",
       "3  [[[[-22.89602236 -23.08320304]], [[-23.4683673...   \n",
       "\n",
       "                                           peak_time  \\\n",
       "0  [[[[302.1 371.8 454. ]], [[283.3 345.6 434.5]]...   \n",
       "1  [[[[277.4 322.  406.4]], [[265.5 296.4 355.2 4...   \n",
       "2  [[[[284.2 341.8 420.8]], [[278.6 322.9 398.6]]...   \n",
       "3  [[[[314.  427.5]], [[307.4 409.4]], [[309.1 40...   \n",
       "\n",
       "                                        peak_voltage  \\\n",
       "0  [[[[16.68749936 19.2499999  19.4687508 ]], [[1...   \n",
       "1  [[[[13.87500018 16.75000042 17.37499982]], [[1...   \n",
       "2  [[[[10.62500011 13.50000035 14.09375016]], [[1...   \n",
       "3  [[[[ 8.46874993 10.40625013]], [[ 8.81250016 1...   \n",
       "\n",
       "                                          ISI_values  \n",
       "0  [[[[69.7 82.2]], [[62.3 88.9]], [[60.7 85.6]],...  \n",
       "1  [[[[44.6 84.4]], [[30.9 58.8 80.6]], [[57.  85...  \n",
       "2  [[[[57.6 79. ]], [[44.3 75.7]], [[51. 82.]], [...  \n",
       "3       [[[[113.5]], [[102.]], [[99.6]], [[108.6]]]]  "
      ]
     },
     "execution_count": 13,
     "metadata": {},
     "output_type": "execute_result"
    }
   ],
   "source": [
    "protocol_df = pd.DataFrame(protocol_raw[0][0][1][0])\n",
    "protocol_df['protocol_name'] = protocol_raw[0][0][0][0]\n",
    "protocol_df = protocol_df.reset_index().rename(columns={'index': 'repetition'})\n",
    "\n",
    "protocol_df[['AP_begin_voltage','peak_time','peak_voltage','ISI_values']]\n"
   ]
  },
  {
   "cell_type": "code",
   "execution_count": 14,
   "id": "daf41741",
   "metadata": {},
   "outputs": [
    {
     "data": {
      "text/plain": [
       "0    [[[[302.1 371.8 454. ]], [[283.3 345.6 434.5]]...\n",
       "1    [[[[277.4 322.  406.4]], [[265.5 296.4 355.2 4...\n",
       "2    [[[[284.2 341.8 420.8]], [[278.6 322.9 398.6]]...\n",
       "3    [[[[314.  427.5]], [[307.4 409.4]], [[309.1 40...\n",
       "Name: peak_time, dtype: object"
      ]
     },
     "execution_count": 14,
     "metadata": {},
     "output_type": "execute_result"
    }
   ],
   "source": [
    "protocol_df.peak_time"
   ]
  },
  {
   "cell_type": "code",
   "execution_count": 15,
   "id": "5674d0c2",
   "metadata": {},
   "outputs": [
    {
     "data": {
      "text/plain": [
       "('AHP_duration',)"
      ]
     },
     "execution_count": 15,
     "metadata": {},
     "output_type": "execute_result"
    }
   ],
   "source": [
    "# multi \n",
    "\n",
    "\n",
    "\n",
    "\n",
    "\n",
    "\n",
    "\n"
   ]
  },
  {
   "cell_type": "code",
   "execution_count": 19,
   "id": "696ff540",
   "metadata": {},
   "outputs": [],
   "source": [
    "deHyperpol_features = [\n",
    "    'vHold',\n",
    "    'peak_voltage',\n",
    "'input_resistance_for_peak',\n",
    "'input_resistance_for_steady_state',\n",
    "'max_sag_hyper',\n",
    "'sag_steady_state',\n",
    "'max_sag_from_steady_state',\n",
    "'hyper_sag_tau',\n",
    "'hyper_sag_recovery_tau',\n",
    "'max_depolarization',\n",
    "'max_depolarization_from_steady_state',\n",
    "'max_depolarization_tau',\n",
    "'time_to_hyperpolarization_peak',\n",
    "\n",
    "\n",
    "\n",
    "]"
   ]
  },
  {
   "cell_type": "code",
   "execution_count": null,
   "id": "0ee9cadc",
   "metadata": {},
   "outputs": [],
   "source": [
    "\n"
   ]
  },
  {
   "cell_type": "code",
   "execution_count": 20,
   "id": "ef8a9d94",
   "metadata": {},
   "outputs": [
    {
     "data": {
      "text/plain": [
       "0    [[-40, -80, -120, -160]]\n",
       "1    [[-40, -80, -120, -160]]\n",
       "2    [[-40, -80, -120, -160]]\n",
       "3    [[-40, -80, -120, -160]]\n",
       "Name: stim, dtype: object"
      ]
     },
     "execution_count": 20,
     "metadata": {},
     "output_type": "execute_result"
    }
   ],
   "source": [
    "protocol_df.stim"
   ]
  },
  {
   "cell_type": "code",
   "execution_count": 21,
   "id": "434d03e6",
   "metadata": {},
   "outputs": [
    {
     "data": {
      "text/html": [
       "<div>\n",
       "<style scoped>\n",
       "    .dataframe tbody tr th:only-of-type {\n",
       "        vertical-align: middle;\n",
       "    }\n",
       "\n",
       "    .dataframe tbody tr th {\n",
       "        vertical-align: top;\n",
       "    }\n",
       "\n",
       "    .dataframe thead th {\n",
       "        text-align: right;\n",
       "    }\n",
       "</style>\n",
       "<table border=\"1\" class=\"dataframe\">\n",
       "  <thead>\n",
       "    <tr style=\"text-align: right;\">\n",
       "      <th></th>\n",
       "      <th>vHold</th>\n",
       "      <th>peak_voltage</th>\n",
       "      <th>input_resistance_for_peak</th>\n",
       "      <th>input_resistance_for_steady_state</th>\n",
       "      <th>max_sag_hyper</th>\n",
       "      <th>sag_steady_state</th>\n",
       "      <th>max_sag_from_steady_state</th>\n",
       "      <th>hyper_sag_tau</th>\n",
       "      <th>hyper_sag_recovery_tau</th>\n",
       "      <th>max_depolarization</th>\n",
       "      <th>max_depolarization_from_steady_state</th>\n",
       "      <th>max_depolarization_tau</th>\n",
       "      <th>time_to_hyperpolarization_peak</th>\n",
       "    </tr>\n",
       "  </thead>\n",
       "  <tbody>\n",
       "    <tr>\n",
       "      <th>0</th>\n",
       "      <td>[[[[-77.052458]], [[-75.98494505]], [[-75.1854...</td>\n",
       "      <td>[[[[16.68749936 19.2499999  19.4687508 ]], [[1...</td>\n",
       "      <td>[[[[1.7825]], [[0.98437503]], [[0.69625]], [[0...</td>\n",
       "      <td>[[[[1.76555145]], [[0.95915441]], [[0.68011029...</td>\n",
       "      <td>[[[[-89.12499994]], [[-98.43750298]], [[-104.4...</td>\n",
       "      <td>[[[[-88.27757236]], [[-95.91544142]], [[-102.0...</td>\n",
       "      <td>[[[[0.84742758]], [[2.52206156]], [[2.42095616...</td>\n",
       "      <td>[[[[24.53628064]], [[17.78812093]], [[13.53353...</td>\n",
       "      <td>[[[[916.65648911]], [[92.05894525]], [[91.5592...</td>\n",
       "      <td>[[[[-75.62500238]], [[-74.00000095]], [[-72.84...</td>\n",
       "      <td>[[[[12.65256998]], [[21.91544047]], [[29.17279...</td>\n",
       "      <td>[[[[15.90309361]], [[13.50236105]], [[11.95583...</td>\n",
       "      <td>[[[[117.2]], [[124.]], [[93.8]], [[63.3]]]]</td>\n",
       "    </tr>\n",
       "    <tr>\n",
       "      <th>1</th>\n",
       "      <td>[[[[-64.61142863]], [[-62.8363632]], [[-67.189...</td>\n",
       "      <td>[[[[13.87500018 16.75000042 17.37499982]], [[1...</td>\n",
       "      <td>[[[[1.58638947]], [[0.83258006]], [[0.66653751...</td>\n",
       "      <td>[[[[1.48942636]], [[0.76646309]], [[0.64990648...</td>\n",
       "      <td>[[[[-76.78125054]], [[-80.59374988]], [[-96.78...</td>\n",
       "      <td>[[[[-72.08823559]], [[-74.19362723]], [[-94.36...</td>\n",
       "      <td>[[[[4.69301495]], [[6.40012265]], [[2.41482492...</td>\n",
       "      <td>[[[[34.63332248]], [[29.98447467]], [[18.61296...</td>\n",
       "      <td>[[[[44.45354233]], [[33.03977534]], [[14.80152...</td>\n",
       "      <td>[[[[-58.59375]], [[-56.28124997]], [[-61.46875...</td>\n",
       "      <td>[[[[13.49448559]], [[17.91237726]], [[32.89767...</td>\n",
       "      <td>[[[[17.55545468]], [[8.5403737]], [[12.1229002...</td>\n",
       "      <td>[[[[179.9]], [[91.7]], [[130.4]], [[66.1]]]]</td>\n",
       "    </tr>\n",
       "    <tr>\n",
       "      <th>2</th>\n",
       "      <td>[[[[-66.39016436]], [[-65.48253979]], [[-64.94...</td>\n",
       "      <td>[[[[10.62500011 13.50000035 14.09375016]], [[1...</td>\n",
       "      <td>[[[[1.56375006]], [[0.86999997]], [[0.64166665...</td>\n",
       "      <td>[[[[1.55004903]], [[0.8633027]], [[0.62786356]...</td>\n",
       "      <td>[[[[-78.18750292]], [[-86.9999975]], [[-96.249...</td>\n",
       "      <td>[[[[-77.5024514]], [[-86.33027036]], [[-94.179...</td>\n",
       "      <td>[[[[0.68505152]], [[0.66972714]], [[2.07046303...</td>\n",
       "      <td>[[[[23.497136]], [[20.58713136]], [[16.7002197...</td>\n",
       "      <td>[[[[5.48753109]], [[57.56743941]], [[355.32710...</td>\n",
       "      <td>[[[[-65.62499702]], [[-64.34375048]], [[-64.12...</td>\n",
       "      <td>[[[[11.87745438]], [[21.98651988]], [[30.05453...</td>\n",
       "      <td>[[[[13.11477708]], [[12.17267819]], [[10.45224...</td>\n",
       "      <td>[[[[238.]], [[118.5]], [[93.8]], [[81.6]]]]</td>\n",
       "    </tr>\n",
       "    <tr>\n",
       "      <th>3</th>\n",
       "      <td>[[[[-72.52462803]], [[-72.50832378]], [[-71.64...</td>\n",
       "      <td>[[[[ 8.46874993 10.40625013]], [[ 8.81250016 1...</td>\n",
       "      <td>[[[[1.72312498]], [[0.97750001]], [[0.70749998...</td>\n",
       "      <td>[[[[1.69312502]], [[0.95706495]], [[0.69183824...</td>\n",
       "      <td>[[[[-86.15624905]], [[-97.75000066]], [[-106.1...</td>\n",
       "      <td>[[[[-84.65625083]], [[-95.70649485]], [[-103.7...</td>\n",
       "      <td>[[[[1.49999822]], [[2.0435058]], [[2.34926185]...</td>\n",
       "      <td>[[[[24.11661665]], [[18.50891016]], [[15.87191...</td>\n",
       "      <td>[[[[44.13624601]], [[62.11014015]], [[100.1980...</td>\n",
       "      <td>[[[[-71.93750143]], [[-71.40625268]], [[-70.15...</td>\n",
       "      <td>[[[[12.7187494]], [[24.30024217]], [[33.619488...</td>\n",
       "      <td>[[[[12.25103532]], [[11.38067915]], [[10.36837...</td>\n",
       "      <td>[[[[153.8]], [[128.]], [[120.9]], [[71.5]]]]</td>\n",
       "    </tr>\n",
       "  </tbody>\n",
       "</table>\n",
       "</div>"
      ],
      "text/plain": [
       "                                               vHold  \\\n",
       "0  [[[[-77.052458]], [[-75.98494505]], [[-75.1854...   \n",
       "1  [[[[-64.61142863]], [[-62.8363632]], [[-67.189...   \n",
       "2  [[[[-66.39016436]], [[-65.48253979]], [[-64.94...   \n",
       "3  [[[[-72.52462803]], [[-72.50832378]], [[-71.64...   \n",
       "\n",
       "                                        peak_voltage  \\\n",
       "0  [[[[16.68749936 19.2499999  19.4687508 ]], [[1...   \n",
       "1  [[[[13.87500018 16.75000042 17.37499982]], [[1...   \n",
       "2  [[[[10.62500011 13.50000035 14.09375016]], [[1...   \n",
       "3  [[[[ 8.46874993 10.40625013]], [[ 8.81250016 1...   \n",
       "\n",
       "                           input_resistance_for_peak  \\\n",
       "0  [[[[1.7825]], [[0.98437503]], [[0.69625]], [[0...   \n",
       "1  [[[[1.58638947]], [[0.83258006]], [[0.66653751...   \n",
       "2  [[[[1.56375006]], [[0.86999997]], [[0.64166665...   \n",
       "3  [[[[1.72312498]], [[0.97750001]], [[0.70749998...   \n",
       "\n",
       "                   input_resistance_for_steady_state  \\\n",
       "0  [[[[1.76555145]], [[0.95915441]], [[0.68011029...   \n",
       "1  [[[[1.48942636]], [[0.76646309]], [[0.64990648...   \n",
       "2  [[[[1.55004903]], [[0.8633027]], [[0.62786356]...   \n",
       "3  [[[[1.69312502]], [[0.95706495]], [[0.69183824...   \n",
       "\n",
       "                                       max_sag_hyper  \\\n",
       "0  [[[[-89.12499994]], [[-98.43750298]], [[-104.4...   \n",
       "1  [[[[-76.78125054]], [[-80.59374988]], [[-96.78...   \n",
       "2  [[[[-78.18750292]], [[-86.9999975]], [[-96.249...   \n",
       "3  [[[[-86.15624905]], [[-97.75000066]], [[-106.1...   \n",
       "\n",
       "                                    sag_steady_state  \\\n",
       "0  [[[[-88.27757236]], [[-95.91544142]], [[-102.0...   \n",
       "1  [[[[-72.08823559]], [[-74.19362723]], [[-94.36...   \n",
       "2  [[[[-77.5024514]], [[-86.33027036]], [[-94.179...   \n",
       "3  [[[[-84.65625083]], [[-95.70649485]], [[-103.7...   \n",
       "\n",
       "                           max_sag_from_steady_state  \\\n",
       "0  [[[[0.84742758]], [[2.52206156]], [[2.42095616...   \n",
       "1  [[[[4.69301495]], [[6.40012265]], [[2.41482492...   \n",
       "2  [[[[0.68505152]], [[0.66972714]], [[2.07046303...   \n",
       "3  [[[[1.49999822]], [[2.0435058]], [[2.34926185]...   \n",
       "\n",
       "                                       hyper_sag_tau  \\\n",
       "0  [[[[24.53628064]], [[17.78812093]], [[13.53353...   \n",
       "1  [[[[34.63332248]], [[29.98447467]], [[18.61296...   \n",
       "2  [[[[23.497136]], [[20.58713136]], [[16.7002197...   \n",
       "3  [[[[24.11661665]], [[18.50891016]], [[15.87191...   \n",
       "\n",
       "                              hyper_sag_recovery_tau  \\\n",
       "0  [[[[916.65648911]], [[92.05894525]], [[91.5592...   \n",
       "1  [[[[44.45354233]], [[33.03977534]], [[14.80152...   \n",
       "2  [[[[5.48753109]], [[57.56743941]], [[355.32710...   \n",
       "3  [[[[44.13624601]], [[62.11014015]], [[100.1980...   \n",
       "\n",
       "                                  max_depolarization  \\\n",
       "0  [[[[-75.62500238]], [[-74.00000095]], [[-72.84...   \n",
       "1  [[[[-58.59375]], [[-56.28124997]], [[-61.46875...   \n",
       "2  [[[[-65.62499702]], [[-64.34375048]], [[-64.12...   \n",
       "3  [[[[-71.93750143]], [[-71.40625268]], [[-70.15...   \n",
       "\n",
       "                max_depolarization_from_steady_state  \\\n",
       "0  [[[[12.65256998]], [[21.91544047]], [[29.17279...   \n",
       "1  [[[[13.49448559]], [[17.91237726]], [[32.89767...   \n",
       "2  [[[[11.87745438]], [[21.98651988]], [[30.05453...   \n",
       "3  [[[[12.7187494]], [[24.30024217]], [[33.619488...   \n",
       "\n",
       "                              max_depolarization_tau  \\\n",
       "0  [[[[15.90309361]], [[13.50236105]], [[11.95583...   \n",
       "1  [[[[17.55545468]], [[8.5403737]], [[12.1229002...   \n",
       "2  [[[[13.11477708]], [[12.17267819]], [[10.45224...   \n",
       "3  [[[[12.25103532]], [[11.38067915]], [[10.36837...   \n",
       "\n",
       "                 time_to_hyperpolarization_peak  \n",
       "0   [[[[117.2]], [[124.]], [[93.8]], [[63.3]]]]  \n",
       "1  [[[[179.9]], [[91.7]], [[130.4]], [[66.1]]]]  \n",
       "2   [[[[238.]], [[118.5]], [[93.8]], [[81.6]]]]  \n",
       "3  [[[[153.8]], [[128.]], [[120.9]], [[71.5]]]]  "
      ]
     },
     "execution_count": 21,
     "metadata": {},
     "output_type": "execute_result"
    }
   ],
   "source": [
    "protocol_df[deHyperpol_features]"
   ]
  },
  {
   "cell_type": "markdown",
   "id": "71b1bd0e",
   "metadata": {},
   "source": [
    "# Extraction of data at trace level"
   ]
  },
  {
   "cell_type": "code",
   "execution_count": null,
   "id": "2c91f985",
   "metadata": {},
   "outputs": [],
   "source": []
  },
  {
   "cell_type": "code",
   "execution_count": 50,
   "id": "12f3ea6f",
   "metadata": {},
   "outputs": [],
   "source": [
    "trace_level_columns = [\n",
    "    'ids',\n",
    "'stim',\n",
    "'stim_actual',\n",
    "'vHold',\n",
    "'peak_indices',\n",
    "'spikecount',\n",
    "'peak_time',\n",
    "'peak_voltage',\n",
    "'ISI_values',\n",
    "'min_AHP_indices',\n",
    "'min_AHP_time',\n",
    "'min_AHP_voltage',\n",
    "'AP_begin_voltage',\n",
    "'AP_begin_time',\n",
    "'AP_amplitude',\n",
    "]"
   ]
  },
  {
   "cell_type": "code",
   "execution_count": 51,
   "id": "3cb24ed0",
   "metadata": {},
   "outputs": [
    {
     "ename": "ValueError",
     "evalue": "columns must have matching element counts",
     "output_type": "error",
     "traceback": [
      "\u001b[1;31m---------------------------------------------------------------------------\u001b[0m",
      "\u001b[1;31mValueError\u001b[0m                                Traceback (most recent call last)",
      "\u001b[1;32m~\\AppData\\Local\\Temp\\ipykernel_79936\\4214558523.py\u001b[0m in \u001b[0;36m<cell line: 3>\u001b[1;34m()\u001b[0m\n\u001b[0;32m      1\u001b[0m \u001b[0mtrace_df\u001b[0m \u001b[1;33m=\u001b[0m \u001b[0mprotocol_df\u001b[0m\u001b[1;33m.\u001b[0m\u001b[0mcopy\u001b[0m\u001b[1;33m(\u001b[0m\u001b[1;33m)\u001b[0m\u001b[1;33m\u001b[0m\u001b[1;33m\u001b[0m\u001b[0m\n\u001b[0;32m      2\u001b[0m \u001b[1;31m# trace_df[trace_level_columns] = trace_df[trace_level_columns].apply(lambda x: x.)\u001b[0m\u001b[1;33m\u001b[0m\u001b[1;33m\u001b[0m\u001b[0m\n\u001b[1;32m----> 3\u001b[1;33m \u001b[0mtrace_df\u001b[0m \u001b[1;33m=\u001b[0m \u001b[0mtrace_df\u001b[0m\u001b[1;33m.\u001b[0m\u001b[0mexplode\u001b[0m\u001b[1;33m(\u001b[0m\u001b[0mtrace_level_columns\u001b[0m\u001b[1;33m)\u001b[0m\u001b[1;33m.\u001b[0m\u001b[0mexplode\u001b[0m\u001b[1;33m(\u001b[0m\u001b[0mtrace_level_columns\u001b[0m\u001b[1;33m)\u001b[0m\u001b[1;33m\u001b[0m\u001b[1;33m\u001b[0m\u001b[0m\n\u001b[0m",
      "\u001b[1;32m~\\anaconda3\\envs\\bbp_env\\lib\\site-packages\\pandas\\core\\frame.py\u001b[0m in \u001b[0;36mexplode\u001b[1;34m(self, column, ignore_index)\u001b[0m\n\u001b[0;32m   8343\u001b[0m             \u001b[1;32mfor\u001b[0m \u001b[0mc\u001b[0m \u001b[1;32min\u001b[0m \u001b[0mcolumns\u001b[0m\u001b[1;33m[\u001b[0m\u001b[1;36m1\u001b[0m\u001b[1;33m:\u001b[0m\u001b[1;33m]\u001b[0m\u001b[1;33m:\u001b[0m\u001b[1;33m\u001b[0m\u001b[1;33m\u001b[0m\u001b[0m\n\u001b[0;32m   8344\u001b[0m                 \u001b[1;32mif\u001b[0m \u001b[1;32mnot\u001b[0m \u001b[0mall\u001b[0m\u001b[1;33m(\u001b[0m\u001b[0mcounts0\u001b[0m \u001b[1;33m==\u001b[0m \u001b[0mself\u001b[0m\u001b[1;33m[\u001b[0m\u001b[0mc\u001b[0m\u001b[1;33m]\u001b[0m\u001b[1;33m.\u001b[0m\u001b[0mapply\u001b[0m\u001b[1;33m(\u001b[0m\u001b[0mmylen\u001b[0m\u001b[1;33m)\u001b[0m\u001b[1;33m)\u001b[0m\u001b[1;33m:\u001b[0m\u001b[1;33m\u001b[0m\u001b[1;33m\u001b[0m\u001b[0m\n\u001b[1;32m-> 8345\u001b[1;33m                     \u001b[1;32mraise\u001b[0m \u001b[0mValueError\u001b[0m\u001b[1;33m(\u001b[0m\u001b[1;34m\"columns must have matching element counts\"\u001b[0m\u001b[1;33m)\u001b[0m\u001b[1;33m\u001b[0m\u001b[1;33m\u001b[0m\u001b[0m\n\u001b[0m\u001b[0;32m   8346\u001b[0m             \u001b[0mresult\u001b[0m \u001b[1;33m=\u001b[0m \u001b[0mDataFrame\u001b[0m\u001b[1;33m(\u001b[0m\u001b[1;33m{\u001b[0m\u001b[0mc\u001b[0m\u001b[1;33m:\u001b[0m \u001b[0mdf\u001b[0m\u001b[1;33m[\u001b[0m\u001b[0mc\u001b[0m\u001b[1;33m]\u001b[0m\u001b[1;33m.\u001b[0m\u001b[0mexplode\u001b[0m\u001b[1;33m(\u001b[0m\u001b[1;33m)\u001b[0m \u001b[1;32mfor\u001b[0m \u001b[0mc\u001b[0m \u001b[1;32min\u001b[0m \u001b[0mcolumns\u001b[0m\u001b[1;33m}\u001b[0m\u001b[1;33m)\u001b[0m\u001b[1;33m\u001b[0m\u001b[1;33m\u001b[0m\u001b[0m\n\u001b[0;32m   8347\u001b[0m         \u001b[0mresult\u001b[0m \u001b[1;33m=\u001b[0m \u001b[0mdf\u001b[0m\u001b[1;33m.\u001b[0m\u001b[0mdrop\u001b[0m\u001b[1;33m(\u001b[0m\u001b[0mcolumns\u001b[0m\u001b[1;33m,\u001b[0m \u001b[0maxis\u001b[0m\u001b[1;33m=\u001b[0m\u001b[1;36m1\u001b[0m\u001b[1;33m)\u001b[0m\u001b[1;33m.\u001b[0m\u001b[0mjoin\u001b[0m\u001b[1;33m(\u001b[0m\u001b[0mresult\u001b[0m\u001b[1;33m)\u001b[0m\u001b[1;33m\u001b[0m\u001b[1;33m\u001b[0m\u001b[0m\n",
      "\u001b[1;31mValueError\u001b[0m: columns must have matching element counts"
     ]
    }
   ],
   "source": [
    "trace_df = protocol_df.copy()\n",
    "# trace_df[trace_level_columns] = trace_df[trace_level_columns].apply(lambda x: x.)\n",
    "trace_df = trace_df.explode(trace_level_columns).explode(trace_level_columns)"
   ]
  },
  {
   "cell_type": "code",
   "execution_count": 16,
   "id": "c85c314a",
   "metadata": {},
   "outputs": [
    {
     "data": {
      "text/html": [
       "<div>\n",
       "<style scoped>\n",
       "    .dataframe tbody tr th:only-of-type {\n",
       "        vertical-align: middle;\n",
       "    }\n",
       "\n",
       "    .dataframe tbody tr th {\n",
       "        vertical-align: top;\n",
       "    }\n",
       "\n",
       "    .dataframe thead th {\n",
       "        text-align: right;\n",
       "    }\n",
       "</style>\n",
       "<table border=\"1\" class=\"dataframe\">\n",
       "  <thead>\n",
       "    <tr style=\"text-align: right;\">\n",
       "      <th></th>\n",
       "      <th>repetition</th>\n",
       "      <th>nTrace</th>\n",
       "      <th>ids</th>\n",
       "      <th>stim</th>\n",
       "      <th>stim_actual</th>\n",
       "      <th>stim_ids</th>\n",
       "      <th>stim_change</th>\n",
       "      <th>vHold</th>\n",
       "      <th>stim_start</th>\n",
       "      <th>stim_end</th>\n",
       "      <th>...</th>\n",
       "      <th>AP_rise_time</th>\n",
       "      <th>AP_fall_time</th>\n",
       "      <th>time_to_AP_peak</th>\n",
       "      <th>min_cur_for_discharge</th>\n",
       "      <th>AHP_duration</th>\n",
       "      <th>AHP_fall_tau</th>\n",
       "      <th>AHP_fall_A</th>\n",
       "      <th>AHP_rise_m</th>\n",
       "      <th>AHP_rise_c</th>\n",
       "      <th>protocol_name</th>\n",
       "    </tr>\n",
       "  </thead>\n",
       "  <tbody>\n",
       "    <tr>\n",
       "      <th>0</th>\n",
       "      <td>0</td>\n",
       "      <td>[[6]]</td>\n",
       "      <td>1061</td>\n",
       "      <td>60</td>\n",
       "      <td>157.2</td>\n",
       "      <td>[[1, 12501, 40627, 53124]]</td>\n",
       "      <td>[[0.0, 250.0, 812.5200000000001, 1062.46000000...</td>\n",
       "      <td>[[-65.32608302202645]]</td>\n",
       "      <td>[[250]]</td>\n",
       "      <td>[[812.5200000000001]]</td>\n",
       "      <td>...</td>\n",
       "      <td>[[[[]], [[]], [[]], [[1.02820008]], [[0.942560...</td>\n",
       "      <td>[[[[]], [[]], [[]], [[2.22338669]], [[1.965385...</td>\n",
       "      <td>[[[[]], [[]], [[]], [[446.32]], [[145.1  256.2...</td>\n",
       "      <td>[[[[471.6]]]]</td>\n",
       "      <td>[[[[]], [[]], [[]], [[]], [[104.22]], [[60.96 ...</td>\n",
       "      <td>[[[], [], [], [[1.55071061]], [[0.91632396 1.2...</td>\n",
       "      <td>[[[], [], [], [[19.21890676]], [[19.67356072 2...</td>\n",
       "      <td>[[[], [], [], [], [[0.12885464]], [[0.23297097...</td>\n",
       "      <td>[[[], [], [], [], [[-94.50044549]], [[-126.092...</td>\n",
       "      <td>APWaveform</td>\n",
       "    </tr>\n",
       "    <tr>\n",
       "      <th>0</th>\n",
       "      <td>0</td>\n",
       "      <td>[[6]]</td>\n",
       "      <td>1062</td>\n",
       "      <td>100</td>\n",
       "      <td>262.0</td>\n",
       "      <td>[[1, 12501, 40627, 53124]]</td>\n",
       "      <td>[[0.0, 250.0, 812.5200000000001, 1062.46000000...</td>\n",
       "      <td>[[-69.42672589539576]]</td>\n",
       "      <td>[[250]]</td>\n",
       "      <td>[[812.5200000000001]]</td>\n",
       "      <td>...</td>\n",
       "      <td>[[[[]], [[]], [[]], [[1.02820008]], [[0.942560...</td>\n",
       "      <td>[[[[]], [[]], [[]], [[2.22338669]], [[1.965385...</td>\n",
       "      <td>[[[[]], [[]], [[]], [[446.32]], [[145.1  256.2...</td>\n",
       "      <td>[[[[471.6]]]]</td>\n",
       "      <td>[[[[]], [[]], [[]], [[]], [[104.22]], [[60.96 ...</td>\n",
       "      <td>[[[], [], [], [[1.55071061]], [[0.91632396 1.2...</td>\n",
       "      <td>[[[], [], [], [[19.21890676]], [[19.67356072 2...</td>\n",
       "      <td>[[[], [], [], [], [[0.12885464]], [[0.23297097...</td>\n",
       "      <td>[[[], [], [], [], [[-94.50044549]], [[-126.092...</td>\n",
       "      <td>APWaveform</td>\n",
       "    </tr>\n",
       "    <tr>\n",
       "      <th>0</th>\n",
       "      <td>0</td>\n",
       "      <td>[[6]]</td>\n",
       "      <td>1063</td>\n",
       "      <td>140</td>\n",
       "      <td>366.8</td>\n",
       "      <td>[[1, 12501, 40627, 53124]]</td>\n",
       "      <td>[[0.0, 250.0, 812.5200000000001, 1062.46000000...</td>\n",
       "      <td>[[-71.22377162143096]]</td>\n",
       "      <td>[[250]]</td>\n",
       "      <td>[[812.5200000000001]]</td>\n",
       "      <td>...</td>\n",
       "      <td>[[[[]], [[]], [[]], [[1.02820008]], [[0.942560...</td>\n",
       "      <td>[[[[]], [[]], [[]], [[2.22338669]], [[1.965385...</td>\n",
       "      <td>[[[[]], [[]], [[]], [[446.32]], [[145.1  256.2...</td>\n",
       "      <td>[[[[471.6]]]]</td>\n",
       "      <td>[[[[]], [[]], [[]], [[]], [[104.22]], [[60.96 ...</td>\n",
       "      <td>[[[], [], [], [[1.55071061]], [[0.91632396 1.2...</td>\n",
       "      <td>[[[], [], [], [[19.21890676]], [[19.67356072 2...</td>\n",
       "      <td>[[[], [], [], [], [[0.12885464]], [[0.23297097...</td>\n",
       "      <td>[[[], [], [], [], [[-94.50044549]], [[-126.092...</td>\n",
       "      <td>APWaveform</td>\n",
       "    </tr>\n",
       "    <tr>\n",
       "      <th>0</th>\n",
       "      <td>0</td>\n",
       "      <td>[[6]]</td>\n",
       "      <td>1064</td>\n",
       "      <td>180</td>\n",
       "      <td>471.6</td>\n",
       "      <td>[[1, 12501, 40627, 53124]]</td>\n",
       "      <td>[[0.0, 250.0, 812.5200000000001, 1062.46000000...</td>\n",
       "      <td>[[-72.37195345225686]]</td>\n",
       "      <td>[[250]]</td>\n",
       "      <td>[[812.5200000000001]]</td>\n",
       "      <td>...</td>\n",
       "      <td>[[[[]], [[]], [[]], [[1.02820008]], [[0.942560...</td>\n",
       "      <td>[[[[]], [[]], [[]], [[2.22338669]], [[1.965385...</td>\n",
       "      <td>[[[[]], [[]], [[]], [[446.32]], [[145.1  256.2...</td>\n",
       "      <td>[[[[471.6]]]]</td>\n",
       "      <td>[[[[]], [[]], [[]], [[]], [[104.22]], [[60.96 ...</td>\n",
       "      <td>[[[], [], [], [[1.55071061]], [[0.91632396 1.2...</td>\n",
       "      <td>[[[], [], [], [[19.21890676]], [[19.67356072 2...</td>\n",
       "      <td>[[[], [], [], [], [[0.12885464]], [[0.23297097...</td>\n",
       "      <td>[[[], [], [], [], [[-94.50044549]], [[-126.092...</td>\n",
       "      <td>APWaveform</td>\n",
       "    </tr>\n",
       "    <tr>\n",
       "      <th>0</th>\n",
       "      <td>0</td>\n",
       "      <td>[[6]]</td>\n",
       "      <td>1065</td>\n",
       "      <td>220</td>\n",
       "      <td>576.4</td>\n",
       "      <td>[[1, 12501, 40627, 53124]]</td>\n",
       "      <td>[[0.0, 250.0, 812.5200000000001, 1062.46000000...</td>\n",
       "      <td>[[-72.89302930550245]]</td>\n",
       "      <td>[[250]]</td>\n",
       "      <td>[[812.5200000000001]]</td>\n",
       "      <td>...</td>\n",
       "      <td>[[[[]], [[]], [[]], [[1.02820008]], [[0.942560...</td>\n",
       "      <td>[[[[]], [[]], [[]], [[2.22338669]], [[1.965385...</td>\n",
       "      <td>[[[[]], [[]], [[]], [[446.32]], [[145.1  256.2...</td>\n",
       "      <td>[[[[471.6]]]]</td>\n",
       "      <td>[[[[]], [[]], [[]], [[]], [[104.22]], [[60.96 ...</td>\n",
       "      <td>[[[], [], [], [[1.55071061]], [[0.91632396 1.2...</td>\n",
       "      <td>[[[], [], [], [[19.21890676]], [[19.67356072 2...</td>\n",
       "      <td>[[[], [], [], [], [[0.12885464]], [[0.23297097...</td>\n",
       "      <td>[[[], [], [], [], [[-94.50044549]], [[-126.092...</td>\n",
       "      <td>APWaveform</td>\n",
       "    </tr>\n",
       "  </tbody>\n",
       "</table>\n",
       "<p>5 rows × 34 columns</p>\n",
       "</div>"
      ],
      "text/plain": [
       "   repetition nTrace   ids stim stim_actual                    stim_ids  \\\n",
       "0           0  [[6]]  1061   60       157.2  [[1, 12501, 40627, 53124]]   \n",
       "0           0  [[6]]  1062  100       262.0  [[1, 12501, 40627, 53124]]   \n",
       "0           0  [[6]]  1063  140       366.8  [[1, 12501, 40627, 53124]]   \n",
       "0           0  [[6]]  1064  180       471.6  [[1, 12501, 40627, 53124]]   \n",
       "0           0  [[6]]  1065  220       576.4  [[1, 12501, 40627, 53124]]   \n",
       "\n",
       "                                         stim_change                   vHold  \\\n",
       "0  [[0.0, 250.0, 812.5200000000001, 1062.46000000...  [[-65.32608302202645]]   \n",
       "0  [[0.0, 250.0, 812.5200000000001, 1062.46000000...  [[-69.42672589539576]]   \n",
       "0  [[0.0, 250.0, 812.5200000000001, 1062.46000000...  [[-71.22377162143096]]   \n",
       "0  [[0.0, 250.0, 812.5200000000001, 1062.46000000...  [[-72.37195345225686]]   \n",
       "0  [[0.0, 250.0, 812.5200000000001, 1062.46000000...  [[-72.89302930550245]]   \n",
       "\n",
       "  stim_start               stim_end  ...  \\\n",
       "0    [[250]]  [[812.5200000000001]]  ...   \n",
       "0    [[250]]  [[812.5200000000001]]  ...   \n",
       "0    [[250]]  [[812.5200000000001]]  ...   \n",
       "0    [[250]]  [[812.5200000000001]]  ...   \n",
       "0    [[250]]  [[812.5200000000001]]  ...   \n",
       "\n",
       "                                        AP_rise_time  \\\n",
       "0  [[[[]], [[]], [[]], [[1.02820008]], [[0.942560...   \n",
       "0  [[[[]], [[]], [[]], [[1.02820008]], [[0.942560...   \n",
       "0  [[[[]], [[]], [[]], [[1.02820008]], [[0.942560...   \n",
       "0  [[[[]], [[]], [[]], [[1.02820008]], [[0.942560...   \n",
       "0  [[[[]], [[]], [[]], [[1.02820008]], [[0.942560...   \n",
       "\n",
       "                                        AP_fall_time  \\\n",
       "0  [[[[]], [[]], [[]], [[2.22338669]], [[1.965385...   \n",
       "0  [[[[]], [[]], [[]], [[2.22338669]], [[1.965385...   \n",
       "0  [[[[]], [[]], [[]], [[2.22338669]], [[1.965385...   \n",
       "0  [[[[]], [[]], [[]], [[2.22338669]], [[1.965385...   \n",
       "0  [[[[]], [[]], [[]], [[2.22338669]], [[1.965385...   \n",
       "\n",
       "                                     time_to_AP_peak min_cur_for_discharge  \\\n",
       "0  [[[[]], [[]], [[]], [[446.32]], [[145.1  256.2...         [[[[471.6]]]]   \n",
       "0  [[[[]], [[]], [[]], [[446.32]], [[145.1  256.2...         [[[[471.6]]]]   \n",
       "0  [[[[]], [[]], [[]], [[446.32]], [[145.1  256.2...         [[[[471.6]]]]   \n",
       "0  [[[[]], [[]], [[]], [[446.32]], [[145.1  256.2...         [[[[471.6]]]]   \n",
       "0  [[[[]], [[]], [[]], [[446.32]], [[145.1  256.2...         [[[[471.6]]]]   \n",
       "\n",
       "                                        AHP_duration  \\\n",
       "0  [[[[]], [[]], [[]], [[]], [[104.22]], [[60.96 ...   \n",
       "0  [[[[]], [[]], [[]], [[]], [[104.22]], [[60.96 ...   \n",
       "0  [[[[]], [[]], [[]], [[]], [[104.22]], [[60.96 ...   \n",
       "0  [[[[]], [[]], [[]], [[]], [[104.22]], [[60.96 ...   \n",
       "0  [[[[]], [[]], [[]], [[]], [[104.22]], [[60.96 ...   \n",
       "\n",
       "                                        AHP_fall_tau  \\\n",
       "0  [[[], [], [], [[1.55071061]], [[0.91632396 1.2...   \n",
       "0  [[[], [], [], [[1.55071061]], [[0.91632396 1.2...   \n",
       "0  [[[], [], [], [[1.55071061]], [[0.91632396 1.2...   \n",
       "0  [[[], [], [], [[1.55071061]], [[0.91632396 1.2...   \n",
       "0  [[[], [], [], [[1.55071061]], [[0.91632396 1.2...   \n",
       "\n",
       "                                          AHP_fall_A  \\\n",
       "0  [[[], [], [], [[19.21890676]], [[19.67356072 2...   \n",
       "0  [[[], [], [], [[19.21890676]], [[19.67356072 2...   \n",
       "0  [[[], [], [], [[19.21890676]], [[19.67356072 2...   \n",
       "0  [[[], [], [], [[19.21890676]], [[19.67356072 2...   \n",
       "0  [[[], [], [], [[19.21890676]], [[19.67356072 2...   \n",
       "\n",
       "                                          AHP_rise_m  \\\n",
       "0  [[[], [], [], [], [[0.12885464]], [[0.23297097...   \n",
       "0  [[[], [], [], [], [[0.12885464]], [[0.23297097...   \n",
       "0  [[[], [], [], [], [[0.12885464]], [[0.23297097...   \n",
       "0  [[[], [], [], [], [[0.12885464]], [[0.23297097...   \n",
       "0  [[[], [], [], [], [[0.12885464]], [[0.23297097...   \n",
       "\n",
       "                                          AHP_rise_c protocol_name  \n",
       "0  [[[], [], [], [], [[-94.50044549]], [[-126.092...    APWaveform  \n",
       "0  [[[], [], [], [], [[-94.50044549]], [[-126.092...    APWaveform  \n",
       "0  [[[], [], [], [], [[-94.50044549]], [[-126.092...    APWaveform  \n",
       "0  [[[], [], [], [], [[-94.50044549]], [[-126.092...    APWaveform  \n",
       "0  [[[], [], [], [], [[-94.50044549]], [[-126.092...    APWaveform  \n",
       "\n",
       "[5 rows x 34 columns]"
      ]
     },
     "execution_count": 16,
     "metadata": {},
     "output_type": "execute_result"
    }
   ],
   "source": [
    "trace_df.head()"
   ]
  },
  {
   "cell_type": "code",
   "execution_count": null,
   "id": "b725c556",
   "metadata": {},
   "outputs": [],
   "source": []
  },
  {
   "cell_type": "code",
   "execution_count": null,
   "id": "2306cdf5",
   "metadata": {},
   "outputs": [],
   "source": []
  },
  {
   "cell_type": "code",
   "execution_count": 17,
   "id": "8e0461da",
   "metadata": {},
   "outputs": [
    {
     "data": {
      "text/html": [
       "<div>\n",
       "<style scoped>\n",
       "    .dataframe tbody tr th:only-of-type {\n",
       "        vertical-align: middle;\n",
       "    }\n",
       "\n",
       "    .dataframe tbody tr th {\n",
       "        vertical-align: top;\n",
       "    }\n",
       "\n",
       "    .dataframe thead th {\n",
       "        text-align: right;\n",
       "    }\n",
       "</style>\n",
       "<table border=\"1\" class=\"dataframe\">\n",
       "  <thead>\n",
       "    <tr style=\"text-align: right;\">\n",
       "      <th></th>\n",
       "      <th>repetition</th>\n",
       "      <th>nTrace</th>\n",
       "      <th>ids</th>\n",
       "      <th>stim</th>\n",
       "      <th>stim_actual</th>\n",
       "      <th>stim_ids</th>\n",
       "      <th>stim_change</th>\n",
       "      <th>vHold</th>\n",
       "      <th>stim_start</th>\n",
       "      <th>stim_end</th>\n",
       "      <th>...</th>\n",
       "      <th>AP_rise_time</th>\n",
       "      <th>AP_fall_time</th>\n",
       "      <th>time_to_AP_peak</th>\n",
       "      <th>min_cur_for_discharge</th>\n",
       "      <th>AHP_duration</th>\n",
       "      <th>AHP_fall_tau</th>\n",
       "      <th>AHP_fall_A</th>\n",
       "      <th>AHP_rise_m</th>\n",
       "      <th>AHP_rise_c</th>\n",
       "      <th>protocol_name</th>\n",
       "    </tr>\n",
       "  </thead>\n",
       "  <tbody>\n",
       "  </tbody>\n",
       "</table>\n",
       "<p>0 rows × 34 columns</p>\n",
       "</div>"
      ],
      "text/plain": [
       "Empty DataFrame\n",
       "Columns: [repetition, nTrace, ids, stim, stim_actual, stim_ids, stim_change, vHold, stim_start, stim_end, DACScale, peak_indices, spikecount, peak_time, peak_voltage, ISI_values, min_AHP_indices, min_AHP_time, min_AHP_voltage, AP_begin_voltage, AP_begin_time, AP_amplitude, AP_half_width, AP_width, AP_rise_time, AP_fall_time, time_to_AP_peak, min_cur_for_discharge, AHP_duration, AHP_fall_tau, AHP_fall_A, AHP_rise_m, AHP_rise_c, protocol_name]\n",
       "Index: []\n",
       "\n",
       "[0 rows x 34 columns]"
      ]
     },
     "execution_count": 17,
     "metadata": {},
     "output_type": "execute_result"
    }
   ],
   "source": [
    "trace_df.loc[(trace_df.repetition==0) & (trace_df.stim==125)]"
   ]
  },
  {
   "cell_type": "code",
   "execution_count": 18,
   "id": "1165350a",
   "metadata": {},
   "outputs": [
    {
     "data": {
      "text/plain": [
       "[array([[-65.32608302]]),\n",
       " array([[-69.4267259]]),\n",
       " array([[-71.22377162]]),\n",
       " array([[-72.37195345]]),\n",
       " array([[-72.89302931]]),\n",
       " array([[-73.28532125]])]"
      ]
     },
     "execution_count": 18,
     "metadata": {},
     "output_type": "execute_result"
    }
   ],
   "source": [
    "trace_df.loc[(trace_df.repetition==0)].vHold.tolist()"
   ]
  },
  {
   "cell_type": "code",
   "execution_count": 19,
   "id": "e73e146c",
   "metadata": {
    "scrolled": true
   },
   "outputs": [],
   "source": [
    "# import numpy as np\n",
    "# for i in trace_df.loc[(trace_df.repetition==0)].AP_begin_voltage:\n",
    "#     print(np.mean(i))"
   ]
  },
  {
   "cell_type": "code",
   "execution_count": 20,
   "id": "d1b19740",
   "metadata": {
    "scrolled": true
   },
   "outputs": [
    {
     "data": {
      "text/html": [
       "<div>\n",
       "<style scoped>\n",
       "    .dataframe tbody tr th:only-of-type {\n",
       "        vertical-align: middle;\n",
       "    }\n",
       "\n",
       "    .dataframe tbody tr th {\n",
       "        vertical-align: top;\n",
       "    }\n",
       "\n",
       "    .dataframe thead th {\n",
       "        text-align: right;\n",
       "    }\n",
       "</style>\n",
       "<table border=\"1\" class=\"dataframe\">\n",
       "  <thead>\n",
       "    <tr style=\"text-align: right;\">\n",
       "      <th></th>\n",
       "      <th>repetition</th>\n",
       "      <th>nTrace</th>\n",
       "      <th>ids</th>\n",
       "      <th>stim</th>\n",
       "      <th>stim_actual</th>\n",
       "      <th>stim_ids</th>\n",
       "      <th>stim_change</th>\n",
       "      <th>vHold</th>\n",
       "      <th>stim_start</th>\n",
       "      <th>stim_end</th>\n",
       "      <th>...</th>\n",
       "      <th>AP_rise_time</th>\n",
       "      <th>AP_fall_time</th>\n",
       "      <th>time_to_AP_peak</th>\n",
       "      <th>min_cur_for_discharge</th>\n",
       "      <th>AHP_duration</th>\n",
       "      <th>AHP_fall_tau</th>\n",
       "      <th>AHP_fall_A</th>\n",
       "      <th>AHP_rise_m</th>\n",
       "      <th>AHP_rise_c</th>\n",
       "      <th>protocol_name</th>\n",
       "    </tr>\n",
       "  </thead>\n",
       "  <tbody>\n",
       "    <tr>\n",
       "      <th>0</th>\n",
       "      <td>0</td>\n",
       "      <td>[[6]]</td>\n",
       "      <td>1061</td>\n",
       "      <td>60</td>\n",
       "      <td>157.2</td>\n",
       "      <td>[[1, 12501, 40627, 53124]]</td>\n",
       "      <td>[[0.0, 250.0, 812.5200000000001, 1062.46000000...</td>\n",
       "      <td>[[-65.32608302202645]]</td>\n",
       "      <td>[[250]]</td>\n",
       "      <td>[[812.5200000000001]]</td>\n",
       "      <td>...</td>\n",
       "      <td>[[[[]], [[]], [[]], [[1.02820008]], [[0.942560...</td>\n",
       "      <td>[[[[]], [[]], [[]], [[2.22338669]], [[1.965385...</td>\n",
       "      <td>[[[[]], [[]], [[]], [[446.32]], [[145.1  256.2...</td>\n",
       "      <td>[[[[471.6]]]]</td>\n",
       "      <td>[[[[]], [[]], [[]], [[]], [[104.22]], [[60.96 ...</td>\n",
       "      <td>[[[], [], [], [[1.55071061]], [[0.91632396 1.2...</td>\n",
       "      <td>[[[], [], [], [[19.21890676]], [[19.67356072 2...</td>\n",
       "      <td>[[[], [], [], [], [[0.12885464]], [[0.23297097...</td>\n",
       "      <td>[[[], [], [], [], [[-94.50044549]], [[-126.092...</td>\n",
       "      <td>APWaveform</td>\n",
       "    </tr>\n",
       "    <tr>\n",
       "      <th>0</th>\n",
       "      <td>0</td>\n",
       "      <td>[[6]]</td>\n",
       "      <td>1062</td>\n",
       "      <td>100</td>\n",
       "      <td>262.0</td>\n",
       "      <td>[[1, 12501, 40627, 53124]]</td>\n",
       "      <td>[[0.0, 250.0, 812.5200000000001, 1062.46000000...</td>\n",
       "      <td>[[-69.42672589539576]]</td>\n",
       "      <td>[[250]]</td>\n",
       "      <td>[[812.5200000000001]]</td>\n",
       "      <td>...</td>\n",
       "      <td>[[[[]], [[]], [[]], [[1.02820008]], [[0.942560...</td>\n",
       "      <td>[[[[]], [[]], [[]], [[2.22338669]], [[1.965385...</td>\n",
       "      <td>[[[[]], [[]], [[]], [[446.32]], [[145.1  256.2...</td>\n",
       "      <td>[[[[471.6]]]]</td>\n",
       "      <td>[[[[]], [[]], [[]], [[]], [[104.22]], [[60.96 ...</td>\n",
       "      <td>[[[], [], [], [[1.55071061]], [[0.91632396 1.2...</td>\n",
       "      <td>[[[], [], [], [[19.21890676]], [[19.67356072 2...</td>\n",
       "      <td>[[[], [], [], [], [[0.12885464]], [[0.23297097...</td>\n",
       "      <td>[[[], [], [], [], [[-94.50044549]], [[-126.092...</td>\n",
       "      <td>APWaveform</td>\n",
       "    </tr>\n",
       "    <tr>\n",
       "      <th>0</th>\n",
       "      <td>0</td>\n",
       "      <td>[[6]]</td>\n",
       "      <td>1063</td>\n",
       "      <td>140</td>\n",
       "      <td>366.8</td>\n",
       "      <td>[[1, 12501, 40627, 53124]]</td>\n",
       "      <td>[[0.0, 250.0, 812.5200000000001, 1062.46000000...</td>\n",
       "      <td>[[-71.22377162143096]]</td>\n",
       "      <td>[[250]]</td>\n",
       "      <td>[[812.5200000000001]]</td>\n",
       "      <td>...</td>\n",
       "      <td>[[[[]], [[]], [[]], [[1.02820008]], [[0.942560...</td>\n",
       "      <td>[[[[]], [[]], [[]], [[2.22338669]], [[1.965385...</td>\n",
       "      <td>[[[[]], [[]], [[]], [[446.32]], [[145.1  256.2...</td>\n",
       "      <td>[[[[471.6]]]]</td>\n",
       "      <td>[[[[]], [[]], [[]], [[]], [[104.22]], [[60.96 ...</td>\n",
       "      <td>[[[], [], [], [[1.55071061]], [[0.91632396 1.2...</td>\n",
       "      <td>[[[], [], [], [[19.21890676]], [[19.67356072 2...</td>\n",
       "      <td>[[[], [], [], [], [[0.12885464]], [[0.23297097...</td>\n",
       "      <td>[[[], [], [], [], [[-94.50044549]], [[-126.092...</td>\n",
       "      <td>APWaveform</td>\n",
       "    </tr>\n",
       "    <tr>\n",
       "      <th>0</th>\n",
       "      <td>0</td>\n",
       "      <td>[[6]]</td>\n",
       "      <td>1064</td>\n",
       "      <td>180</td>\n",
       "      <td>471.6</td>\n",
       "      <td>[[1, 12501, 40627, 53124]]</td>\n",
       "      <td>[[0.0, 250.0, 812.5200000000001, 1062.46000000...</td>\n",
       "      <td>[[-72.37195345225686]]</td>\n",
       "      <td>[[250]]</td>\n",
       "      <td>[[812.5200000000001]]</td>\n",
       "      <td>...</td>\n",
       "      <td>[[[[]], [[]], [[]], [[1.02820008]], [[0.942560...</td>\n",
       "      <td>[[[[]], [[]], [[]], [[2.22338669]], [[1.965385...</td>\n",
       "      <td>[[[[]], [[]], [[]], [[446.32]], [[145.1  256.2...</td>\n",
       "      <td>[[[[471.6]]]]</td>\n",
       "      <td>[[[[]], [[]], [[]], [[]], [[104.22]], [[60.96 ...</td>\n",
       "      <td>[[[], [], [], [[1.55071061]], [[0.91632396 1.2...</td>\n",
       "      <td>[[[], [], [], [[19.21890676]], [[19.67356072 2...</td>\n",
       "      <td>[[[], [], [], [], [[0.12885464]], [[0.23297097...</td>\n",
       "      <td>[[[], [], [], [], [[-94.50044549]], [[-126.092...</td>\n",
       "      <td>APWaveform</td>\n",
       "    </tr>\n",
       "    <tr>\n",
       "      <th>0</th>\n",
       "      <td>0</td>\n",
       "      <td>[[6]]</td>\n",
       "      <td>1065</td>\n",
       "      <td>220</td>\n",
       "      <td>576.4</td>\n",
       "      <td>[[1, 12501, 40627, 53124]]</td>\n",
       "      <td>[[0.0, 250.0, 812.5200000000001, 1062.46000000...</td>\n",
       "      <td>[[-72.89302930550245]]</td>\n",
       "      <td>[[250]]</td>\n",
       "      <td>[[812.5200000000001]]</td>\n",
       "      <td>...</td>\n",
       "      <td>[[[[]], [[]], [[]], [[1.02820008]], [[0.942560...</td>\n",
       "      <td>[[[[]], [[]], [[]], [[2.22338669]], [[1.965385...</td>\n",
       "      <td>[[[[]], [[]], [[]], [[446.32]], [[145.1  256.2...</td>\n",
       "      <td>[[[[471.6]]]]</td>\n",
       "      <td>[[[[]], [[]], [[]], [[]], [[104.22]], [[60.96 ...</td>\n",
       "      <td>[[[], [], [], [[1.55071061]], [[0.91632396 1.2...</td>\n",
       "      <td>[[[], [], [], [[19.21890676]], [[19.67356072 2...</td>\n",
       "      <td>[[[], [], [], [], [[0.12885464]], [[0.23297097...</td>\n",
       "      <td>[[[], [], [], [], [[-94.50044549]], [[-126.092...</td>\n",
       "      <td>APWaveform</td>\n",
       "    </tr>\n",
       "  </tbody>\n",
       "</table>\n",
       "<p>5 rows × 34 columns</p>\n",
       "</div>"
      ],
      "text/plain": [
       "   repetition nTrace   ids stim stim_actual                    stim_ids  \\\n",
       "0           0  [[6]]  1061   60       157.2  [[1, 12501, 40627, 53124]]   \n",
       "0           0  [[6]]  1062  100       262.0  [[1, 12501, 40627, 53124]]   \n",
       "0           0  [[6]]  1063  140       366.8  [[1, 12501, 40627, 53124]]   \n",
       "0           0  [[6]]  1064  180       471.6  [[1, 12501, 40627, 53124]]   \n",
       "0           0  [[6]]  1065  220       576.4  [[1, 12501, 40627, 53124]]   \n",
       "\n",
       "                                         stim_change                   vHold  \\\n",
       "0  [[0.0, 250.0, 812.5200000000001, 1062.46000000...  [[-65.32608302202645]]   \n",
       "0  [[0.0, 250.0, 812.5200000000001, 1062.46000000...  [[-69.42672589539576]]   \n",
       "0  [[0.0, 250.0, 812.5200000000001, 1062.46000000...  [[-71.22377162143096]]   \n",
       "0  [[0.0, 250.0, 812.5200000000001, 1062.46000000...  [[-72.37195345225686]]   \n",
       "0  [[0.0, 250.0, 812.5200000000001, 1062.46000000...  [[-72.89302930550245]]   \n",
       "\n",
       "  stim_start               stim_end  ...  \\\n",
       "0    [[250]]  [[812.5200000000001]]  ...   \n",
       "0    [[250]]  [[812.5200000000001]]  ...   \n",
       "0    [[250]]  [[812.5200000000001]]  ...   \n",
       "0    [[250]]  [[812.5200000000001]]  ...   \n",
       "0    [[250]]  [[812.5200000000001]]  ...   \n",
       "\n",
       "                                        AP_rise_time  \\\n",
       "0  [[[[]], [[]], [[]], [[1.02820008]], [[0.942560...   \n",
       "0  [[[[]], [[]], [[]], [[1.02820008]], [[0.942560...   \n",
       "0  [[[[]], [[]], [[]], [[1.02820008]], [[0.942560...   \n",
       "0  [[[[]], [[]], [[]], [[1.02820008]], [[0.942560...   \n",
       "0  [[[[]], [[]], [[]], [[1.02820008]], [[0.942560...   \n",
       "\n",
       "                                        AP_fall_time  \\\n",
       "0  [[[[]], [[]], [[]], [[2.22338669]], [[1.965385...   \n",
       "0  [[[[]], [[]], [[]], [[2.22338669]], [[1.965385...   \n",
       "0  [[[[]], [[]], [[]], [[2.22338669]], [[1.965385...   \n",
       "0  [[[[]], [[]], [[]], [[2.22338669]], [[1.965385...   \n",
       "0  [[[[]], [[]], [[]], [[2.22338669]], [[1.965385...   \n",
       "\n",
       "                                     time_to_AP_peak min_cur_for_discharge  \\\n",
       "0  [[[[]], [[]], [[]], [[446.32]], [[145.1  256.2...         [[[[471.6]]]]   \n",
       "0  [[[[]], [[]], [[]], [[446.32]], [[145.1  256.2...         [[[[471.6]]]]   \n",
       "0  [[[[]], [[]], [[]], [[446.32]], [[145.1  256.2...         [[[[471.6]]]]   \n",
       "0  [[[[]], [[]], [[]], [[446.32]], [[145.1  256.2...         [[[[471.6]]]]   \n",
       "0  [[[[]], [[]], [[]], [[446.32]], [[145.1  256.2...         [[[[471.6]]]]   \n",
       "\n",
       "                                        AHP_duration  \\\n",
       "0  [[[[]], [[]], [[]], [[]], [[104.22]], [[60.96 ...   \n",
       "0  [[[[]], [[]], [[]], [[]], [[104.22]], [[60.96 ...   \n",
       "0  [[[[]], [[]], [[]], [[]], [[104.22]], [[60.96 ...   \n",
       "0  [[[[]], [[]], [[]], [[]], [[104.22]], [[60.96 ...   \n",
       "0  [[[[]], [[]], [[]], [[]], [[104.22]], [[60.96 ...   \n",
       "\n",
       "                                        AHP_fall_tau  \\\n",
       "0  [[[], [], [], [[1.55071061]], [[0.91632396 1.2...   \n",
       "0  [[[], [], [], [[1.55071061]], [[0.91632396 1.2...   \n",
       "0  [[[], [], [], [[1.55071061]], [[0.91632396 1.2...   \n",
       "0  [[[], [], [], [[1.55071061]], [[0.91632396 1.2...   \n",
       "0  [[[], [], [], [[1.55071061]], [[0.91632396 1.2...   \n",
       "\n",
       "                                          AHP_fall_A  \\\n",
       "0  [[[], [], [], [[19.21890676]], [[19.67356072 2...   \n",
       "0  [[[], [], [], [[19.21890676]], [[19.67356072 2...   \n",
       "0  [[[], [], [], [[19.21890676]], [[19.67356072 2...   \n",
       "0  [[[], [], [], [[19.21890676]], [[19.67356072 2...   \n",
       "0  [[[], [], [], [[19.21890676]], [[19.67356072 2...   \n",
       "\n",
       "                                          AHP_rise_m  \\\n",
       "0  [[[], [], [], [], [[0.12885464]], [[0.23297097...   \n",
       "0  [[[], [], [], [], [[0.12885464]], [[0.23297097...   \n",
       "0  [[[], [], [], [], [[0.12885464]], [[0.23297097...   \n",
       "0  [[[], [], [], [], [[0.12885464]], [[0.23297097...   \n",
       "0  [[[], [], [], [], [[0.12885464]], [[0.23297097...   \n",
       "\n",
       "                                          AHP_rise_c protocol_name  \n",
       "0  [[[], [], [], [], [[-94.50044549]], [[-126.092...    APWaveform  \n",
       "0  [[[], [], [], [], [[-94.50044549]], [[-126.092...    APWaveform  \n",
       "0  [[[], [], [], [], [[-94.50044549]], [[-126.092...    APWaveform  \n",
       "0  [[[], [], [], [], [[-94.50044549]], [[-126.092...    APWaveform  \n",
       "0  [[[], [], [], [], [[-94.50044549]], [[-126.092...    APWaveform  \n",
       "\n",
       "[5 rows x 34 columns]"
      ]
     },
     "execution_count": 20,
     "metadata": {},
     "output_type": "execute_result"
    }
   ],
   "source": [
    "trace_df = protocol_df.copy()\n",
    "# trace_df[trace_level_columns] = trace_df[trace_level_columns].apply(lambda x: x.)\n",
    "trace_df = trace_df.explode(trace_level_columns).explode(trace_level_columns)\n",
    "trace_df.head()"
   ]
  },
  {
   "cell_type": "markdown",
   "id": "a4fa5b89",
   "metadata": {},
   "source": [
    "# Extraction of data at peak level\n"
   ]
  },
  {
   "cell_type": "code",
   "execution_count": 21,
   "id": "50c48373",
   "metadata": {},
   "outputs": [],
   "source": [
    "peak_columns = [\n",
    "    'peak_indices', \n",
    "'peak_time' ,\n",
    "'peak_voltage', \n",
    "'min_AHP_indices', \n",
    "'min_AHP_time' ,\n",
    "'min_AHP_voltage', \n",
    "'AP_begin_voltage', \n",
    "'AP_begin_time' ,\n",
    "'AP_amplitude' ,\n",
    "'AP_half_width' ,\n",
    "'AP_width' ,\n",
    "'AP_rise_time', \n",
    "'AP_fall_time' ,\n",
    "'time_to_AP_peak' \n",
    "]\n",
    "\n",
    "intra_peak_columns = [\n",
    "    'ISI_values' ,\n",
    "'AHP_duration' ,\n",
    "'AHP_rise_m' ,\n",
    "'AHP_rise_c' ,\n",
    "]"
   ]
  },
  {
   "cell_type": "code",
   "execution_count": null,
   "id": "871c2eb3",
   "metadata": {},
   "outputs": [],
   "source": []
  },
  {
   "cell_type": "code",
   "execution_count": 22,
   "id": "abb8321e",
   "metadata": {},
   "outputs": [],
   "source": [
    "def peak_len_scale(value, max_peaks):\n",
    "    if value.shape[0] == 0:\n",
    "        val_list = []\n",
    "    else:\n",
    "        val_list = [t for t in value[0]]\n",
    "    delta = max_peaks-len(val_list)\n",
    "    val_list += delta*[0]\n",
    "    return val_list\n",
    "\n",
    "def intra_peak_len_scale(value, max_peaks):\n",
    "    if value.shape[0] == 0:\n",
    "        val_list = []\n",
    "    else:\n",
    "        val_list = [t for t in value[0]]    \n",
    "    delta = max_peaks-len(val_list)\n",
    "    val_list += delta*[0] \n",
    "    val_list += ['extra_inta_peak']\n",
    "    \n",
    "    return val_list"
   ]
  },
  {
   "cell_type": "code",
   "execution_count": 23,
   "id": "b152843e",
   "metadata": {
    "scrolled": true
   },
   "outputs": [
    {
     "ename": "ValueError",
     "evalue": "columns must have matching element counts",
     "output_type": "error",
     "traceback": [
      "\u001b[1;31m---------------------------------------------------------------------------\u001b[0m",
      "\u001b[1;31mValueError\u001b[0m                                Traceback (most recent call last)",
      "\u001b[1;32m~\\AppData\\Local\\Temp\\ipykernel_79936\\2536335336.py\u001b[0m in \u001b[0;36m<cell line: 10>\u001b[1;34m()\u001b[0m\n\u001b[0;32m      8\u001b[0m \u001b[1;32mfor\u001b[0m \u001b[0mcol\u001b[0m \u001b[1;32min\u001b[0m \u001b[0mintra_peak_columns\u001b[0m\u001b[1;33m:\u001b[0m\u001b[1;33m\u001b[0m\u001b[1;33m\u001b[0m\u001b[0m\n\u001b[0;32m      9\u001b[0m     \u001b[0mpeak_df\u001b[0m\u001b[1;33m[\u001b[0m\u001b[0mcol\u001b[0m\u001b[1;33m]\u001b[0m \u001b[1;33m=\u001b[0m \u001b[0mpeak_df\u001b[0m\u001b[1;33m[\u001b[0m\u001b[0mcol\u001b[0m\u001b[1;33m]\u001b[0m\u001b[1;33m.\u001b[0m\u001b[0mapply\u001b[0m\u001b[1;33m(\u001b[0m\u001b[1;32mlambda\u001b[0m \u001b[0mx\u001b[0m\u001b[1;33m:\u001b[0m \u001b[0mintra_peak_len_scale\u001b[0m\u001b[1;33m(\u001b[0m\u001b[0mx\u001b[0m\u001b[1;33m,\u001b[0m \u001b[0mmax_peaks\u001b[0m\u001b[1;33m-\u001b[0m\u001b[1;36m1\u001b[0m\u001b[1;33m)\u001b[0m\u001b[1;33m)\u001b[0m\u001b[1;33m\u001b[0m\u001b[1;33m\u001b[0m\u001b[0m\n\u001b[1;32m---> 10\u001b[1;33m \u001b[0mpeak_df\u001b[0m \u001b[1;33m=\u001b[0m \u001b[0mpeak_df\u001b[0m\u001b[1;33m.\u001b[0m\u001b[0mexplode\u001b[0m\u001b[1;33m(\u001b[0m\u001b[0mpeak_columns\u001b[0m\u001b[1;33m+\u001b[0m\u001b[0mintra_peak_columns\u001b[0m\u001b[1;33m)\u001b[0m\u001b[1;33m\u001b[0m\u001b[1;33m\u001b[0m\u001b[0m\n\u001b[0m\u001b[0;32m     11\u001b[0m \u001b[1;33m\u001b[0m\u001b[0m\n",
      "\u001b[1;32m~\\anaconda3\\envs\\bbp_env\\lib\\site-packages\\pandas\\core\\frame.py\u001b[0m in \u001b[0;36mexplode\u001b[1;34m(self, column, ignore_index)\u001b[0m\n\u001b[0;32m   8343\u001b[0m             \u001b[1;32mfor\u001b[0m \u001b[0mc\u001b[0m \u001b[1;32min\u001b[0m \u001b[0mcolumns\u001b[0m\u001b[1;33m[\u001b[0m\u001b[1;36m1\u001b[0m\u001b[1;33m:\u001b[0m\u001b[1;33m]\u001b[0m\u001b[1;33m:\u001b[0m\u001b[1;33m\u001b[0m\u001b[1;33m\u001b[0m\u001b[0m\n\u001b[0;32m   8344\u001b[0m                 \u001b[1;32mif\u001b[0m \u001b[1;32mnot\u001b[0m \u001b[0mall\u001b[0m\u001b[1;33m(\u001b[0m\u001b[0mcounts0\u001b[0m \u001b[1;33m==\u001b[0m \u001b[0mself\u001b[0m\u001b[1;33m[\u001b[0m\u001b[0mc\u001b[0m\u001b[1;33m]\u001b[0m\u001b[1;33m.\u001b[0m\u001b[0mapply\u001b[0m\u001b[1;33m(\u001b[0m\u001b[0mmylen\u001b[0m\u001b[1;33m)\u001b[0m\u001b[1;33m)\u001b[0m\u001b[1;33m:\u001b[0m\u001b[1;33m\u001b[0m\u001b[1;33m\u001b[0m\u001b[0m\n\u001b[1;32m-> 8345\u001b[1;33m                     \u001b[1;32mraise\u001b[0m \u001b[0mValueError\u001b[0m\u001b[1;33m(\u001b[0m\u001b[1;34m\"columns must have matching element counts\"\u001b[0m\u001b[1;33m)\u001b[0m\u001b[1;33m\u001b[0m\u001b[1;33m\u001b[0m\u001b[0m\n\u001b[0m\u001b[0;32m   8346\u001b[0m             \u001b[0mresult\u001b[0m \u001b[1;33m=\u001b[0m \u001b[0mDataFrame\u001b[0m\u001b[1;33m(\u001b[0m\u001b[1;33m{\u001b[0m\u001b[0mc\u001b[0m\u001b[1;33m:\u001b[0m \u001b[0mdf\u001b[0m\u001b[1;33m[\u001b[0m\u001b[0mc\u001b[0m\u001b[1;33m]\u001b[0m\u001b[1;33m.\u001b[0m\u001b[0mexplode\u001b[0m\u001b[1;33m(\u001b[0m\u001b[1;33m)\u001b[0m \u001b[1;32mfor\u001b[0m \u001b[0mc\u001b[0m \u001b[1;32min\u001b[0m \u001b[0mcolumns\u001b[0m\u001b[1;33m}\u001b[0m\u001b[1;33m)\u001b[0m\u001b[1;33m\u001b[0m\u001b[1;33m\u001b[0m\u001b[0m\n\u001b[0;32m   8347\u001b[0m         \u001b[0mresult\u001b[0m \u001b[1;33m=\u001b[0m \u001b[0mdf\u001b[0m\u001b[1;33m.\u001b[0m\u001b[0mdrop\u001b[0m\u001b[1;33m(\u001b[0m\u001b[0mcolumns\u001b[0m\u001b[1;33m,\u001b[0m \u001b[0maxis\u001b[0m\u001b[1;33m=\u001b[0m\u001b[1;36m1\u001b[0m\u001b[1;33m)\u001b[0m\u001b[1;33m.\u001b[0m\u001b[0mjoin\u001b[0m\u001b[1;33m(\u001b[0m\u001b[0mresult\u001b[0m\u001b[1;33m)\u001b[0m\u001b[1;33m\u001b[0m\u001b[1;33m\u001b[0m\u001b[0m\n",
      "\u001b[1;31mValueError\u001b[0m: columns must have matching element counts"
     ]
    }
   ],
   "source": [
    "peak_df = trace_df.copy()\n",
    "peak_df.reset_index(inplace=True, drop=True)\n",
    "\n",
    "max_peaks = max([t[0][0] for t in peak_df.spikecount])\n",
    "for col in peak_columns:\n",
    "    peak_df[col] = peak_df[col].apply(lambda x: peak_len_scale(x, max_peaks))\n",
    "\n",
    "for col in intra_peak_columns:\n",
    "    peak_df[col] = peak_df[col].apply(lambda x: intra_peak_len_scale(x, max_peaks-1))\n",
    "peak_df = peak_df.explode(peak_columns+intra_peak_columns)\n",
    "\n"
   ]
  },
  {
   "cell_type": "code",
   "execution_count": null,
   "id": "6284bcdd",
   "metadata": {},
   "outputs": [],
   "source": [
    "peak_df.shape"
   ]
  },
  {
   "cell_type": "markdown",
   "id": "cdbc6515",
   "metadata": {},
   "source": [
    "# Flattening at peak level"
   ]
  },
  {
   "cell_type": "markdown",
   "id": "c2c36d5a",
   "metadata": {},
   "source": [
    "We will now start the flattening process. At the moment, the data frame is organized in rows representing each of the peaks we observed. The new target is a row for each trace with each peak data as a column.\\\n",
    "For that, we will create on column per peak and feature (ex peak time of peak # 4)"
   ]
  },
  {
   "cell_type": "code",
   "execution_count": null,
   "id": "b80f5325",
   "metadata": {},
   "outputs": [],
   "source": [
    "#Creation of a unique peak id for merging/debugging purposes\n",
    "peak_df_flat = peak_df.copy()\n",
    "peak_df_flat['base_temp'] = 1\n",
    "peak_df_flat['peak_id_temp'] = peak_df_flat['base_temp'].cumsum()\n",
    "peak_df_flat['peak_id'] = peak_df_flat['repetition'].astype('str')+ '_' +peak_df_flat['ids'].astype('str') + '_'+peak_df_flat['peak_id_temp'].astype('str')"
   ]
  },
  {
   "cell_type": "code",
   "execution_count": null,
   "id": "96df9103",
   "metadata": {},
   "outputs": [],
   "source": [
    "# Create a peak count column, so that we can order peaks\n",
    "\n",
    "peak_df_flat.sort_values( 'peak_time')\n",
    "grouping_df = peak_df_flat.sort_values( 'peak_time')[['repetition', 'peak_id', 'ids', 'base_temp']]\n",
    "grouping_df['peak_rank'] = grouping_df.groupby(['repetition', 'ids']).cumsum()\n"
   ]
  },
  {
   "cell_type": "code",
   "execution_count": null,
   "id": "9df47ae0",
   "metadata": {},
   "outputs": [],
   "source": [
    "peak_df_flat = peak_df_flat.merge(grouping_df[['peak_rank', 'peak_id']] ,how='left', on='peak_id')\n"
   ]
  },
  {
   "cell_type": "code",
   "execution_count": null,
   "id": "4c1c981d",
   "metadata": {},
   "outputs": [],
   "source": []
  },
  {
   "cell_type": "code",
   "execution_count": null,
   "id": "c12b9802",
   "metadata": {
    "scrolled": true
   },
   "outputs": [],
   "source": [
    "peak_df_flat.head()"
   ]
  },
  {
   "cell_type": "code",
   "execution_count": null,
   "id": "2723590d",
   "metadata": {
    "scrolled": false
   },
   "outputs": [],
   "source": [
    "peak_df_flat = peak_df_flat.pivot_table(index=['repetition', 'ids'], columns='peak_rank', values= intra_peak_columns+peak_columns )\n",
    "\n",
    "peak_df_flat.columns = [ f'{column[0]}_{column[1]}' for column in peak_df_flat.columns]\n",
    "peak_df_flat.reset_index(inplace=True)\n",
    "\n",
    "peak_df_flat.head()"
   ]
  },
  {
   "cell_type": "code",
   "execution_count": null,
   "id": "952e4826",
   "metadata": {},
   "outputs": [],
   "source": [
    "peak_df_flat.shape"
   ]
  },
  {
   "cell_type": "markdown",
   "id": "f9fbc589",
   "metadata": {},
   "source": [
    "# Flatten at trace level"
   ]
  },
  {
   "cell_type": "code",
   "execution_count": null,
   "id": "eabc1128",
   "metadata": {},
   "outputs": [],
   "source": [
    "peak_df_cols = peak_df_flat.columns.tolist()\n",
    "\n",
    "peak_feat = [f'{col}_trace' for col in peak_df_cols if col not in ['repetition', 'ids']]\n",
    "trace_level_columns_pivot = [f'{col}_trace' for col in trace_level_columns if col not in ['repetition', 'ids']]\n",
    "\n",
    "\n"
   ]
  },
  {
   "cell_type": "code",
   "execution_count": null,
   "id": "ba657313",
   "metadata": {},
   "outputs": [],
   "source": [
    "# Integrate back trace data\n",
    "\n",
    "trace_keys = ['repetition', 'ids']\n",
    "\n",
    "trace_df_flat = peak_df_flat.merge(trace_df[trace_level_columns+['repetition']], on=trace_keys, how='left')\n",
    "\n",
    "trace_df_flat.columns = [f'{col}_trace' for col in trace_df_flat.columns]\n",
    "trace_df_flat['protocol_name'] = protocol_raw[0][0][0][0]\n",
    "\n",
    "# peak_df_flat = peak_df_flat.pivot_table(index=['repetition', 'ids'], columns='peak_rank', values= intra_peak_columns+peak_columns )\n",
    "\n",
    "trace_df_flat = trace_df_flat.pivot_table(index= 'protocol_name', columns='repetition_trace', values= peak_feat + trace_level_columns_pivot )\n",
    "\n",
    "trace_df_flat.columns = [ f'{column[0]}_{column[1]}' for column in trace_df_flat.columns]\n",
    "trace_df_flat.reset_index(inplace=True)\n",
    "\n",
    "trace_df_flat.head()\n"
   ]
  },
  {
   "cell_type": "code",
   "execution_count": null,
   "id": "4db0924f",
   "metadata": {},
   "outputs": [],
   "source": []
  },
  {
   "cell_type": "code",
   "execution_count": null,
   "id": "74597db0",
   "metadata": {},
   "outputs": [],
   "source": []
  }
 ],
 "metadata": {
  "kernelspec": {
   "display_name": "Python 3 (ipykernel)",
   "language": "python",
   "name": "python3"
  },
  "language_info": {
   "codemirror_mode": {
    "name": "ipython",
    "version": 3
   },
   "file_extension": ".py",
   "mimetype": "text/x-python",
   "name": "python",
   "nbconvert_exporter": "python",
   "pygments_lexer": "ipython3",
   "version": "3.9.12"
  }
 },
 "nbformat": 4,
 "nbformat_minor": 5
}
