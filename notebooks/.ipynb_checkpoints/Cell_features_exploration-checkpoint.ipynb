{
 "cells": [
  {
   "cell_type": "markdown",
   "id": "933eae06",
   "metadata": {},
   "source": [
    "Data is strucutured as follow:\n",
    "An experiment is performed on multiple cells. To increase certainty the experiment is performed multiple times (~3-4). \\\n",
    "During each repetition of the experience, different protocols are applied, each composed of multiple steps. Finally the results are analysed and data regarding the neuron electrical answer are generated. Those are mostly composed of spikes and inter spikes features. \\\n",
    "To sythetize, the data are structured as follow: Experiment/cell/repetitions/protocol/step/spike. \\\n",
    "As the data have to be considered at cell level we will not consider the experiment data (except for debugging)"
   ]
  },
  {
   "cell_type": "markdown",
   "id": "9b25e50f",
   "metadata": {},
   "source": [
    "# Librairy importation and data load"
   ]
  },
  {
   "cell_type": "code",
   "execution_count": 2,
   "id": "b62f1cb6",
   "metadata": {},
   "outputs": [],
   "source": [
    "import os\n",
    "import pandas as pd\n",
    "from scipy import io\n"
   ]
  },
  {
   "cell_type": "code",
   "execution_count": 4,
   "id": "157e6f44",
   "metadata": {},
   "outputs": [],
   "source": [
    "loaded_sp = io.loadmat('../data/01_raw/matData_2022-05-30/aCell83_1.mat')"
   ]
  },
  {
   "cell_type": "markdown",
   "id": "c8b4cff3",
   "metadata": {},
   "source": [
    "# Functions"
   ]
  },
  {
   "cell_type": "code",
   "execution_count": 5,
   "id": "f853f216",
   "metadata": {},
   "outputs": [],
   "source": [
    "# def flatten_df(df, levels):\n",
    "#     \"\"\"Flatten all the columns of a datafram to facilitate data extraction\n",
    "    \n",
    "#     df: Dataframe to flatten\n",
    "#     levels: number of wished flattening levels\n",
    "#     \"\"\"\n",
    "#     df_flat = df.copy()\n",
    "#     count = 0\n",
    "#     while count<levels:\n",
    "#         df_flat = df_flat.apply(lambda x: x[0])\n",
    "#         count+=1\n",
    "#     return df_flat\n",
    "\n",
    "def flatten_df(df):\n",
    "    \"\"\"Flatten all the columns of a datafram to facilitate data extraction\n",
    "    \n",
    "    df: Dataframe to flatten\n",
    "    \"\"\"\n",
    "    df_flat = df.copy()\n",
    "    df_flat = df_flat.apply(lambda x: x[0][0])\n",
    "\n",
    "    return df_flat\n"
   ]
  },
  {
   "cell_type": "markdown",
   "id": "3c288dab",
   "metadata": {},
   "source": [
    "# Cell level data (+experiment)"
   ]
  },
  {
   "cell_type": "code",
   "execution_count": 6,
   "id": "4a8f3d7b",
   "metadata": {},
   "outputs": [
    {
     "data": {
      "text/plain": [
       "dict_keys(['__header__', '__version__', '__globals__', 'aCell'])"
      ]
     },
     "execution_count": 6,
     "metadata": {},
     "output_type": "execute_result"
    }
   ],
   "source": [
    "loaded_sp.keys()\n",
    "# Only aCell contains relevant information. We will not consider the other cells"
   ]
  },
  {
   "cell_type": "markdown",
   "id": "8f15c18e",
   "metadata": {},
   "source": [
    "#### First branching (but not the latest :). \n",
    "- Id simply provides the experiment ID\n",
    "- Cellinfo provides the cell data\n",
    "- FileInfo provides the document data (useless)\n",
    "- protocol provides all theinformations regarding the stimulus and the experimental results"
   ]
  },
  {
   "cell_type": "code",
   "execution_count": 7,
   "id": "e23f9c18",
   "metadata": {},
   "outputs": [
    {
     "data": {
      "text/plain": [
       "dtype([('id', 'O'), ('cellInfo', 'O'), ('protocol', 'O'), ('fileInfo', 'O')])"
      ]
     },
     "execution_count": 7,
     "metadata": {},
     "output_type": "execute_result"
    }
   ],
   "source": [
    "loaded_sp['aCell'][0][0].dtype"
   ]
  },
  {
   "cell_type": "code",
   "execution_count": 8,
   "id": "f91df9e7",
   "metadata": {},
   "outputs": [],
   "source": [
    "# fileInfo_temp = pd.DataFrame(loaded_sp['aCell'][0][0]['fileInfo'].ravel())\n",
    "cellInfo_temp = pd.DataFrame(loaded_sp['aCell'][0][0]['cellInfo'].ravel())\n",
    "\n",
    "                          "
   ]
  },
  {
   "cell_type": "code",
   "execution_count": 9,
   "id": "e2c1ec78",
   "metadata": {},
   "outputs": [
    {
     "data": {
      "text/plain": [
       "id                                                     83_1\n",
       "experimenter                                             OH\n",
       "species                                               Mouse\n",
       "channel                                                 ch2\n",
       "cellType                                              SNcDA\n",
       "path            \\001_140304A03_OH\\001_140304A3MMP16SNcDA_OH\n",
       "status                                                  [1]\n",
       "dtype: object"
      ]
     },
     "execution_count": 9,
     "metadata": {},
     "output_type": "execute_result"
    }
   ],
   "source": [
    "# Extract the cell info\n",
    "cellInfo_flat = flatten_df(cellInfo_temp)\n",
    "cellInfo_flat"
   ]
  },
  {
   "cell_type": "markdown",
   "id": "d05df65d",
   "metadata": {},
   "source": [
    "# Extraction of data at protocol level"
   ]
  },
  {
   "cell_type": "code",
   "execution_count": 16,
   "id": "ac77096f",
   "metadata": {},
   "outputs": [
    {
     "data": {
      "text/plain": [
       "'APWaveform'"
      ]
     },
     "execution_count": 16,
     "metadata": {},
     "output_type": "execute_result"
    }
   ],
   "source": [
    "# for i in loaded_sp['aCell'][0][0]['protocol'][0]:\n",
    "#     print(i[0][0][0][0])\n",
    "protocol_raw = loaded_sp['aCell'][0][0]['protocol'][0][0]\n",
    "protocol_raw[0][0][0][0]#['APWaveform']"
   ]
  },
  {
   "cell_type": "code",
   "execution_count": 17,
   "id": "10a6fbda",
   "metadata": {},
   "outputs": [
    {
     "name": "stdout",
     "output_type": "stream",
     "text": [
      "APWaveform\n",
      "DeHyperPol\n",
      "Delta\n",
      "ElecCal\n",
      "FirePattern\n",
      "HyperDePol\n",
      "IDRest\n",
      "IDThres\n",
      "IV\n",
      "NegCheops\n",
      "PosCheops\n",
      "RPip\n",
      "Rac\n",
      "ResetITC\n",
      "SetAmpl\n",
      "SetISI\n",
      "SineSpec\n",
      "SponHold30\n",
      "SponHold3\n",
      "SponNoHold30\n",
      "StartHold\n",
      "StartNoHold\n",
      "SubWhiteNoise\n",
      "TestAmpl\n",
      "TestRheo\n",
      "sAHP\n"
     ]
    }
   ],
   "source": [
    "for i in loaded_sp['aCell'][0][0]['protocol'][0]:\n",
    "    print(i[0][0][0][0])"
   ]
  },
  {
   "cell_type": "code",
   "execution_count": 18,
   "id": "a19e988a",
   "metadata": {},
   "outputs": [
    {
     "data": {
      "text/plain": [
       "'APWaveform'"
      ]
     },
     "execution_count": 18,
     "metadata": {},
     "output_type": "execute_result"
    }
   ],
   "source": [
    "protocol_raw[0][0][0][0]#['APWaveform']"
   ]
  },
  {
   "cell_type": "markdown",
   "id": "0018d4ae",
   "metadata": {},
   "source": [
    "#### APWaveform (Illustrative)"
   ]
  },
  {
   "cell_type": "code",
   "execution_count": 19,
   "id": "405005e6",
   "metadata": {},
   "outputs": [],
   "source": [
    "# protocol_raw[0][0][0][0]"
   ]
  },
  {
   "cell_type": "code",
   "execution_count": 20,
   "id": "07cda45e",
   "metadata": {},
   "outputs": [
    {
     "data": {
      "text/plain": [
       "'APWaveform'"
      ]
     },
     "execution_count": 20,
     "metadata": {},
     "output_type": "execute_result"
    }
   ],
   "source": [
    "protocol_raw[0][0][0][0]#['APWaveform']"
   ]
  },
  {
   "cell_type": "code",
   "execution_count": 21,
   "id": "d796a591",
   "metadata": {},
   "outputs": [
    {
     "data": {
      "text/html": [
       "<div>\n",
       "<style scoped>\n",
       "    .dataframe tbody tr th:only-of-type {\n",
       "        vertical-align: middle;\n",
       "    }\n",
       "\n",
       "    .dataframe tbody tr th {\n",
       "        vertical-align: top;\n",
       "    }\n",
       "\n",
       "    .dataframe thead th {\n",
       "        text-align: right;\n",
       "    }\n",
       "</style>\n",
       "<table border=\"1\" class=\"dataframe\">\n",
       "  <thead>\n",
       "    <tr style=\"text-align: right;\">\n",
       "      <th></th>\n",
       "      <th>repetition</th>\n",
       "      <th>nTrace</th>\n",
       "      <th>ids</th>\n",
       "      <th>stim</th>\n",
       "      <th>stim_actual</th>\n",
       "      <th>stim_ids</th>\n",
       "      <th>stim_change</th>\n",
       "      <th>vHold</th>\n",
       "      <th>stim_start</th>\n",
       "      <th>stim_end</th>\n",
       "      <th>...</th>\n",
       "      <th>AP_rise_time</th>\n",
       "      <th>AP_fall_time</th>\n",
       "      <th>time_to_AP_peak</th>\n",
       "      <th>min_cur_for_discharge</th>\n",
       "      <th>AHP_duration</th>\n",
       "      <th>AHP_fall_tau</th>\n",
       "      <th>AHP_fall_A</th>\n",
       "      <th>AHP_rise_m</th>\n",
       "      <th>AHP_rise_c</th>\n",
       "      <th>protocol_name</th>\n",
       "    </tr>\n",
       "  </thead>\n",
       "  <tbody>\n",
       "    <tr>\n",
       "      <th>0</th>\n",
       "      <td>0</td>\n",
       "      <td>[[6]]</td>\n",
       "      <td>[[1061, 1062, 1063, 1064, 1065, 1066]]</td>\n",
       "      <td>[[60, 100, 140, 180, 220, 260]]</td>\n",
       "      <td>[[157.20000000000002, 262.0, 366.8, 471.6, 576...</td>\n",
       "      <td>[[1, 12501, 40627, 53124]]</td>\n",
       "      <td>[[0.0, 250.0, 812.5200000000001, 1062.46000000...</td>\n",
       "      <td>[[[[-65.32608302]], [[-69.4267259]], [[-71.223...</td>\n",
       "      <td>[[250]]</td>\n",
       "      <td>[[812.5200000000001]]</td>\n",
       "      <td>...</td>\n",
       "      <td>[[[[]], [[]], [[]], [[1.02820008]], [[0.942560...</td>\n",
       "      <td>[[[[]], [[]], [[]], [[2.22338669]], [[1.965385...</td>\n",
       "      <td>[[[[]], [[]], [[]], [[446.32]], [[145.1  256.2...</td>\n",
       "      <td>[[[[471.6]]]]</td>\n",
       "      <td>[[[[]], [[]], [[]], [[]], [[104.22]], [[60.96 ...</td>\n",
       "      <td>[[[], [], [], [[1.55071061]], [[0.91632396 1.2...</td>\n",
       "      <td>[[[], [], [], [[19.21890676]], [[19.67356072 2...</td>\n",
       "      <td>[[[], [], [], [], [[0.12885464]], [[0.23297097...</td>\n",
       "      <td>[[[], [], [], [], [[-94.50044549]], [[-126.092...</td>\n",
       "      <td>APWaveform</td>\n",
       "    </tr>\n",
       "    <tr>\n",
       "      <th>1</th>\n",
       "      <td>1</td>\n",
       "      <td>[[6]]</td>\n",
       "      <td>[[2029, 2030, 2031, 2032, 2033, 2034]]</td>\n",
       "      <td>[[60, 100, 140, 180, 220, 260]]</td>\n",
       "      <td>[[206.4, 344.0, 481.59999999999997, 619.2, 756...</td>\n",
       "      <td>[[1, 12501, 40627, 53124]]</td>\n",
       "      <td>[[0.0, 250.0, 812.5200000000001, 1062.46000000...</td>\n",
       "      <td>[[[[-66.74095101]], [[-71.31555915]], [[-73.01...</td>\n",
       "      <td>[[250]]</td>\n",
       "      <td>[[812.5200000000001]]</td>\n",
       "      <td>...</td>\n",
       "      <td>[[[[]], [[]], [[0.96639981]], [[0.94820008 1.0...</td>\n",
       "      <td>[[[[]], [[]], [[2.00162873]], [[1.96450179 2.1...</td>\n",
       "      <td>[[[[]], [[]], [[151.38]], [[122.58 170.2  283....</td>\n",
       "      <td>[[[[481.6]]]]</td>\n",
       "      <td>[[[[]], [[]], [[]], [[ 40.78 105.5 ]], [[34.18...</td>\n",
       "      <td>[[[], [], [[0.97340608]], [[0.76206102 1.02010...</td>\n",
       "      <td>[[[], [], [[17.4269363]], [[16.77670915 17.112...</td>\n",
       "      <td>[[[], [], [], [[0.33879904 0.11556989]], [[0.4...</td>\n",
       "      <td>[[[], [], [], [[-168.9938747   -86.02544872]],...</td>\n",
       "      <td>APWaveform</td>\n",
       "    </tr>\n",
       "  </tbody>\n",
       "</table>\n",
       "<p>2 rows × 34 columns</p>\n",
       "</div>"
      ],
      "text/plain": [
       "   repetition nTrace                                     ids  \\\n",
       "0           0  [[6]]  [[1061, 1062, 1063, 1064, 1065, 1066]]   \n",
       "1           1  [[6]]  [[2029, 2030, 2031, 2032, 2033, 2034]]   \n",
       "\n",
       "                              stim  \\\n",
       "0  [[60, 100, 140, 180, 220, 260]]   \n",
       "1  [[60, 100, 140, 180, 220, 260]]   \n",
       "\n",
       "                                         stim_actual  \\\n",
       "0  [[157.20000000000002, 262.0, 366.8, 471.6, 576...   \n",
       "1  [[206.4, 344.0, 481.59999999999997, 619.2, 756...   \n",
       "\n",
       "                     stim_ids  \\\n",
       "0  [[1, 12501, 40627, 53124]]   \n",
       "1  [[1, 12501, 40627, 53124]]   \n",
       "\n",
       "                                         stim_change  \\\n",
       "0  [[0.0, 250.0, 812.5200000000001, 1062.46000000...   \n",
       "1  [[0.0, 250.0, 812.5200000000001, 1062.46000000...   \n",
       "\n",
       "                                               vHold stim_start  \\\n",
       "0  [[[[-65.32608302]], [[-69.4267259]], [[-71.223...    [[250]]   \n",
       "1  [[[[-66.74095101]], [[-71.31555915]], [[-73.01...    [[250]]   \n",
       "\n",
       "                stim_end  ...  \\\n",
       "0  [[812.5200000000001]]  ...   \n",
       "1  [[812.5200000000001]]  ...   \n",
       "\n",
       "                                        AP_rise_time  \\\n",
       "0  [[[[]], [[]], [[]], [[1.02820008]], [[0.942560...   \n",
       "1  [[[[]], [[]], [[0.96639981]], [[0.94820008 1.0...   \n",
       "\n",
       "                                        AP_fall_time  \\\n",
       "0  [[[[]], [[]], [[]], [[2.22338669]], [[1.965385...   \n",
       "1  [[[[]], [[]], [[2.00162873]], [[1.96450179 2.1...   \n",
       "\n",
       "                                     time_to_AP_peak min_cur_for_discharge  \\\n",
       "0  [[[[]], [[]], [[]], [[446.32]], [[145.1  256.2...         [[[[471.6]]]]   \n",
       "1  [[[[]], [[]], [[151.38]], [[122.58 170.2  283....         [[[[481.6]]]]   \n",
       "\n",
       "                                        AHP_duration  \\\n",
       "0  [[[[]], [[]], [[]], [[]], [[104.22]], [[60.96 ...   \n",
       "1  [[[[]], [[]], [[]], [[ 40.78 105.5 ]], [[34.18...   \n",
       "\n",
       "                                        AHP_fall_tau  \\\n",
       "0  [[[], [], [], [[1.55071061]], [[0.91632396 1.2...   \n",
       "1  [[[], [], [[0.97340608]], [[0.76206102 1.02010...   \n",
       "\n",
       "                                          AHP_fall_A  \\\n",
       "0  [[[], [], [], [[19.21890676]], [[19.67356072 2...   \n",
       "1  [[[], [], [[17.4269363]], [[16.77670915 17.112...   \n",
       "\n",
       "                                          AHP_rise_m  \\\n",
       "0  [[[], [], [], [], [[0.12885464]], [[0.23297097...   \n",
       "1  [[[], [], [], [[0.33879904 0.11556989]], [[0.4...   \n",
       "\n",
       "                                          AHP_rise_c protocol_name  \n",
       "0  [[[], [], [], [], [[-94.50044549]], [[-126.092...    APWaveform  \n",
       "1  [[[], [], [], [[-168.9938747   -86.02544872]],...    APWaveform  \n",
       "\n",
       "[2 rows x 34 columns]"
      ]
     },
     "execution_count": 21,
     "metadata": {},
     "output_type": "execute_result"
    }
   ],
   "source": [
    "protocol_df = pd.DataFrame(protocol_raw[0][0][1][0])\n",
    "protocol_df['protocol_name'] = protocol_raw[0][0][0][0]\n",
    "protocol_df = protocol_df.reset_index().rename(columns={'index': 'repetition'})\n",
    "\n",
    "protocol_df\n"
   ]
  },
  {
   "cell_type": "markdown",
   "id": "71b1bd0e",
   "metadata": {},
   "source": [
    "# Extraction of data at trace level"
   ]
  },
  {
   "cell_type": "code",
   "execution_count": null,
   "id": "2c91f985",
   "metadata": {},
   "outputs": [],
   "source": []
  },
  {
   "cell_type": "code",
   "execution_count": 22,
   "id": "12f3ea6f",
   "metadata": {},
   "outputs": [],
   "source": [
    "trace_level_columns = [\n",
    "    'ids',\n",
    "'stim',\n",
    "'stim_actual',\n",
    "'vHold',\n",
    "'peak_indices',\n",
    "'spikecount',\n",
    "'peak_time',\n",
    "'peak_voltage',\n",
    "'ISI_values',\n",
    "'min_AHP_indices',\n",
    "'min_AHP_time',\n",
    "'min_AHP_voltage',\n",
    "'AP_begin_voltage',\n",
    "'AP_begin_time',\n",
    "'AP_amplitude',\n",
    "]"
   ]
  },
  {
   "cell_type": "code",
   "execution_count": 23,
   "id": "3cb24ed0",
   "metadata": {},
   "outputs": [],
   "source": [
    "trace_df = protocol_df.copy()\n",
    "# trace_df[trace_level_columns] = trace_df[trace_level_columns].apply(lambda x: x.)\n",
    "trace_df = trace_df.explode(trace_level_columns).explode(trace_level_columns)"
   ]
  },
  {
   "cell_type": "code",
   "execution_count": 24,
   "id": "c85c314a",
   "metadata": {},
   "outputs": [
    {
     "data": {
      "text/html": [
       "<div>\n",
       "<style scoped>\n",
       "    .dataframe tbody tr th:only-of-type {\n",
       "        vertical-align: middle;\n",
       "    }\n",
       "\n",
       "    .dataframe tbody tr th {\n",
       "        vertical-align: top;\n",
       "    }\n",
       "\n",
       "    .dataframe thead th {\n",
       "        text-align: right;\n",
       "    }\n",
       "</style>\n",
       "<table border=\"1\" class=\"dataframe\">\n",
       "  <thead>\n",
       "    <tr style=\"text-align: right;\">\n",
       "      <th></th>\n",
       "      <th>repetition</th>\n",
       "      <th>nTrace</th>\n",
       "      <th>ids</th>\n",
       "      <th>stim</th>\n",
       "      <th>stim_actual</th>\n",
       "      <th>stim_ids</th>\n",
       "      <th>stim_change</th>\n",
       "      <th>vHold</th>\n",
       "      <th>stim_start</th>\n",
       "      <th>stim_end</th>\n",
       "      <th>...</th>\n",
       "      <th>AP_rise_time</th>\n",
       "      <th>AP_fall_time</th>\n",
       "      <th>time_to_AP_peak</th>\n",
       "      <th>min_cur_for_discharge</th>\n",
       "      <th>AHP_duration</th>\n",
       "      <th>AHP_fall_tau</th>\n",
       "      <th>AHP_fall_A</th>\n",
       "      <th>AHP_rise_m</th>\n",
       "      <th>AHP_rise_c</th>\n",
       "      <th>protocol_name</th>\n",
       "    </tr>\n",
       "  </thead>\n",
       "  <tbody>\n",
       "    <tr>\n",
       "      <th>0</th>\n",
       "      <td>0</td>\n",
       "      <td>[[6]]</td>\n",
       "      <td>1061</td>\n",
       "      <td>60</td>\n",
       "      <td>157.2</td>\n",
       "      <td>[[1, 12501, 40627, 53124]]</td>\n",
       "      <td>[[0.0, 250.0, 812.5200000000001, 1062.46000000...</td>\n",
       "      <td>[[-65.32608302202645]]</td>\n",
       "      <td>[[250]]</td>\n",
       "      <td>[[812.5200000000001]]</td>\n",
       "      <td>...</td>\n",
       "      <td>[[[[]], [[]], [[]], [[1.02820008]], [[0.942560...</td>\n",
       "      <td>[[[[]], [[]], [[]], [[2.22338669]], [[1.965385...</td>\n",
       "      <td>[[[[]], [[]], [[]], [[446.32]], [[145.1  256.2...</td>\n",
       "      <td>[[[[471.6]]]]</td>\n",
       "      <td>[[[[]], [[]], [[]], [[]], [[104.22]], [[60.96 ...</td>\n",
       "      <td>[[[], [], [], [[1.55071061]], [[0.91632396 1.2...</td>\n",
       "      <td>[[[], [], [], [[19.21890676]], [[19.67356072 2...</td>\n",
       "      <td>[[[], [], [], [], [[0.12885464]], [[0.23297097...</td>\n",
       "      <td>[[[], [], [], [], [[-94.50044549]], [[-126.092...</td>\n",
       "      <td>APWaveform</td>\n",
       "    </tr>\n",
       "    <tr>\n",
       "      <th>0</th>\n",
       "      <td>0</td>\n",
       "      <td>[[6]]</td>\n",
       "      <td>1062</td>\n",
       "      <td>100</td>\n",
       "      <td>262.0</td>\n",
       "      <td>[[1, 12501, 40627, 53124]]</td>\n",
       "      <td>[[0.0, 250.0, 812.5200000000001, 1062.46000000...</td>\n",
       "      <td>[[-69.42672589539576]]</td>\n",
       "      <td>[[250]]</td>\n",
       "      <td>[[812.5200000000001]]</td>\n",
       "      <td>...</td>\n",
       "      <td>[[[[]], [[]], [[]], [[1.02820008]], [[0.942560...</td>\n",
       "      <td>[[[[]], [[]], [[]], [[2.22338669]], [[1.965385...</td>\n",
       "      <td>[[[[]], [[]], [[]], [[446.32]], [[145.1  256.2...</td>\n",
       "      <td>[[[[471.6]]]]</td>\n",
       "      <td>[[[[]], [[]], [[]], [[]], [[104.22]], [[60.96 ...</td>\n",
       "      <td>[[[], [], [], [[1.55071061]], [[0.91632396 1.2...</td>\n",
       "      <td>[[[], [], [], [[19.21890676]], [[19.67356072 2...</td>\n",
       "      <td>[[[], [], [], [], [[0.12885464]], [[0.23297097...</td>\n",
       "      <td>[[[], [], [], [], [[-94.50044549]], [[-126.092...</td>\n",
       "      <td>APWaveform</td>\n",
       "    </tr>\n",
       "    <tr>\n",
       "      <th>0</th>\n",
       "      <td>0</td>\n",
       "      <td>[[6]]</td>\n",
       "      <td>1063</td>\n",
       "      <td>140</td>\n",
       "      <td>366.8</td>\n",
       "      <td>[[1, 12501, 40627, 53124]]</td>\n",
       "      <td>[[0.0, 250.0, 812.5200000000001, 1062.46000000...</td>\n",
       "      <td>[[-71.22377162143096]]</td>\n",
       "      <td>[[250]]</td>\n",
       "      <td>[[812.5200000000001]]</td>\n",
       "      <td>...</td>\n",
       "      <td>[[[[]], [[]], [[]], [[1.02820008]], [[0.942560...</td>\n",
       "      <td>[[[[]], [[]], [[]], [[2.22338669]], [[1.965385...</td>\n",
       "      <td>[[[[]], [[]], [[]], [[446.32]], [[145.1  256.2...</td>\n",
       "      <td>[[[[471.6]]]]</td>\n",
       "      <td>[[[[]], [[]], [[]], [[]], [[104.22]], [[60.96 ...</td>\n",
       "      <td>[[[], [], [], [[1.55071061]], [[0.91632396 1.2...</td>\n",
       "      <td>[[[], [], [], [[19.21890676]], [[19.67356072 2...</td>\n",
       "      <td>[[[], [], [], [], [[0.12885464]], [[0.23297097...</td>\n",
       "      <td>[[[], [], [], [], [[-94.50044549]], [[-126.092...</td>\n",
       "      <td>APWaveform</td>\n",
       "    </tr>\n",
       "    <tr>\n",
       "      <th>0</th>\n",
       "      <td>0</td>\n",
       "      <td>[[6]]</td>\n",
       "      <td>1064</td>\n",
       "      <td>180</td>\n",
       "      <td>471.6</td>\n",
       "      <td>[[1, 12501, 40627, 53124]]</td>\n",
       "      <td>[[0.0, 250.0, 812.5200000000001, 1062.46000000...</td>\n",
       "      <td>[[-72.37195345225686]]</td>\n",
       "      <td>[[250]]</td>\n",
       "      <td>[[812.5200000000001]]</td>\n",
       "      <td>...</td>\n",
       "      <td>[[[[]], [[]], [[]], [[1.02820008]], [[0.942560...</td>\n",
       "      <td>[[[[]], [[]], [[]], [[2.22338669]], [[1.965385...</td>\n",
       "      <td>[[[[]], [[]], [[]], [[446.32]], [[145.1  256.2...</td>\n",
       "      <td>[[[[471.6]]]]</td>\n",
       "      <td>[[[[]], [[]], [[]], [[]], [[104.22]], [[60.96 ...</td>\n",
       "      <td>[[[], [], [], [[1.55071061]], [[0.91632396 1.2...</td>\n",
       "      <td>[[[], [], [], [[19.21890676]], [[19.67356072 2...</td>\n",
       "      <td>[[[], [], [], [], [[0.12885464]], [[0.23297097...</td>\n",
       "      <td>[[[], [], [], [], [[-94.50044549]], [[-126.092...</td>\n",
       "      <td>APWaveform</td>\n",
       "    </tr>\n",
       "    <tr>\n",
       "      <th>0</th>\n",
       "      <td>0</td>\n",
       "      <td>[[6]]</td>\n",
       "      <td>1065</td>\n",
       "      <td>220</td>\n",
       "      <td>576.4</td>\n",
       "      <td>[[1, 12501, 40627, 53124]]</td>\n",
       "      <td>[[0.0, 250.0, 812.5200000000001, 1062.46000000...</td>\n",
       "      <td>[[-72.89302930550245]]</td>\n",
       "      <td>[[250]]</td>\n",
       "      <td>[[812.5200000000001]]</td>\n",
       "      <td>...</td>\n",
       "      <td>[[[[]], [[]], [[]], [[1.02820008]], [[0.942560...</td>\n",
       "      <td>[[[[]], [[]], [[]], [[2.22338669]], [[1.965385...</td>\n",
       "      <td>[[[[]], [[]], [[]], [[446.32]], [[145.1  256.2...</td>\n",
       "      <td>[[[[471.6]]]]</td>\n",
       "      <td>[[[[]], [[]], [[]], [[]], [[104.22]], [[60.96 ...</td>\n",
       "      <td>[[[], [], [], [[1.55071061]], [[0.91632396 1.2...</td>\n",
       "      <td>[[[], [], [], [[19.21890676]], [[19.67356072 2...</td>\n",
       "      <td>[[[], [], [], [], [[0.12885464]], [[0.23297097...</td>\n",
       "      <td>[[[], [], [], [], [[-94.50044549]], [[-126.092...</td>\n",
       "      <td>APWaveform</td>\n",
       "    </tr>\n",
       "  </tbody>\n",
       "</table>\n",
       "<p>5 rows × 34 columns</p>\n",
       "</div>"
      ],
      "text/plain": [
       "   repetition nTrace   ids stim stim_actual                    stim_ids  \\\n",
       "0           0  [[6]]  1061   60       157.2  [[1, 12501, 40627, 53124]]   \n",
       "0           0  [[6]]  1062  100       262.0  [[1, 12501, 40627, 53124]]   \n",
       "0           0  [[6]]  1063  140       366.8  [[1, 12501, 40627, 53124]]   \n",
       "0           0  [[6]]  1064  180       471.6  [[1, 12501, 40627, 53124]]   \n",
       "0           0  [[6]]  1065  220       576.4  [[1, 12501, 40627, 53124]]   \n",
       "\n",
       "                                         stim_change                   vHold  \\\n",
       "0  [[0.0, 250.0, 812.5200000000001, 1062.46000000...  [[-65.32608302202645]]   \n",
       "0  [[0.0, 250.0, 812.5200000000001, 1062.46000000...  [[-69.42672589539576]]   \n",
       "0  [[0.0, 250.0, 812.5200000000001, 1062.46000000...  [[-71.22377162143096]]   \n",
       "0  [[0.0, 250.0, 812.5200000000001, 1062.46000000...  [[-72.37195345225686]]   \n",
       "0  [[0.0, 250.0, 812.5200000000001, 1062.46000000...  [[-72.89302930550245]]   \n",
       "\n",
       "  stim_start               stim_end  ...  \\\n",
       "0    [[250]]  [[812.5200000000001]]  ...   \n",
       "0    [[250]]  [[812.5200000000001]]  ...   \n",
       "0    [[250]]  [[812.5200000000001]]  ...   \n",
       "0    [[250]]  [[812.5200000000001]]  ...   \n",
       "0    [[250]]  [[812.5200000000001]]  ...   \n",
       "\n",
       "                                        AP_rise_time  \\\n",
       "0  [[[[]], [[]], [[]], [[1.02820008]], [[0.942560...   \n",
       "0  [[[[]], [[]], [[]], [[1.02820008]], [[0.942560...   \n",
       "0  [[[[]], [[]], [[]], [[1.02820008]], [[0.942560...   \n",
       "0  [[[[]], [[]], [[]], [[1.02820008]], [[0.942560...   \n",
       "0  [[[[]], [[]], [[]], [[1.02820008]], [[0.942560...   \n",
       "\n",
       "                                        AP_fall_time  \\\n",
       "0  [[[[]], [[]], [[]], [[2.22338669]], [[1.965385...   \n",
       "0  [[[[]], [[]], [[]], [[2.22338669]], [[1.965385...   \n",
       "0  [[[[]], [[]], [[]], [[2.22338669]], [[1.965385...   \n",
       "0  [[[[]], [[]], [[]], [[2.22338669]], [[1.965385...   \n",
       "0  [[[[]], [[]], [[]], [[2.22338669]], [[1.965385...   \n",
       "\n",
       "                                     time_to_AP_peak min_cur_for_discharge  \\\n",
       "0  [[[[]], [[]], [[]], [[446.32]], [[145.1  256.2...         [[[[471.6]]]]   \n",
       "0  [[[[]], [[]], [[]], [[446.32]], [[145.1  256.2...         [[[[471.6]]]]   \n",
       "0  [[[[]], [[]], [[]], [[446.32]], [[145.1  256.2...         [[[[471.6]]]]   \n",
       "0  [[[[]], [[]], [[]], [[446.32]], [[145.1  256.2...         [[[[471.6]]]]   \n",
       "0  [[[[]], [[]], [[]], [[446.32]], [[145.1  256.2...         [[[[471.6]]]]   \n",
       "\n",
       "                                        AHP_duration  \\\n",
       "0  [[[[]], [[]], [[]], [[]], [[104.22]], [[60.96 ...   \n",
       "0  [[[[]], [[]], [[]], [[]], [[104.22]], [[60.96 ...   \n",
       "0  [[[[]], [[]], [[]], [[]], [[104.22]], [[60.96 ...   \n",
       "0  [[[[]], [[]], [[]], [[]], [[104.22]], [[60.96 ...   \n",
       "0  [[[[]], [[]], [[]], [[]], [[104.22]], [[60.96 ...   \n",
       "\n",
       "                                        AHP_fall_tau  \\\n",
       "0  [[[], [], [], [[1.55071061]], [[0.91632396 1.2...   \n",
       "0  [[[], [], [], [[1.55071061]], [[0.91632396 1.2...   \n",
       "0  [[[], [], [], [[1.55071061]], [[0.91632396 1.2...   \n",
       "0  [[[], [], [], [[1.55071061]], [[0.91632396 1.2...   \n",
       "0  [[[], [], [], [[1.55071061]], [[0.91632396 1.2...   \n",
       "\n",
       "                                          AHP_fall_A  \\\n",
       "0  [[[], [], [], [[19.21890676]], [[19.67356072 2...   \n",
       "0  [[[], [], [], [[19.21890676]], [[19.67356072 2...   \n",
       "0  [[[], [], [], [[19.21890676]], [[19.67356072 2...   \n",
       "0  [[[], [], [], [[19.21890676]], [[19.67356072 2...   \n",
       "0  [[[], [], [], [[19.21890676]], [[19.67356072 2...   \n",
       "\n",
       "                                          AHP_rise_m  \\\n",
       "0  [[[], [], [], [], [[0.12885464]], [[0.23297097...   \n",
       "0  [[[], [], [], [], [[0.12885464]], [[0.23297097...   \n",
       "0  [[[], [], [], [], [[0.12885464]], [[0.23297097...   \n",
       "0  [[[], [], [], [], [[0.12885464]], [[0.23297097...   \n",
       "0  [[[], [], [], [], [[0.12885464]], [[0.23297097...   \n",
       "\n",
       "                                          AHP_rise_c protocol_name  \n",
       "0  [[[], [], [], [], [[-94.50044549]], [[-126.092...    APWaveform  \n",
       "0  [[[], [], [], [], [[-94.50044549]], [[-126.092...    APWaveform  \n",
       "0  [[[], [], [], [], [[-94.50044549]], [[-126.092...    APWaveform  \n",
       "0  [[[], [], [], [], [[-94.50044549]], [[-126.092...    APWaveform  \n",
       "0  [[[], [], [], [], [[-94.50044549]], [[-126.092...    APWaveform  \n",
       "\n",
       "[5 rows x 34 columns]"
      ]
     },
     "execution_count": 24,
     "metadata": {},
     "output_type": "execute_result"
    }
   ],
   "source": [
    "trace_df.head()"
   ]
  },
  {
   "cell_type": "code",
   "execution_count": null,
   "id": "b725c556",
   "metadata": {},
   "outputs": [],
   "source": []
  },
  {
   "cell_type": "code",
   "execution_count": null,
   "id": "2306cdf5",
   "metadata": {},
   "outputs": [],
   "source": []
  },
  {
   "cell_type": "code",
   "execution_count": 25,
   "id": "8e0461da",
   "metadata": {},
   "outputs": [
    {
     "data": {
      "text/html": [
       "<div>\n",
       "<style scoped>\n",
       "    .dataframe tbody tr th:only-of-type {\n",
       "        vertical-align: middle;\n",
       "    }\n",
       "\n",
       "    .dataframe tbody tr th {\n",
       "        vertical-align: top;\n",
       "    }\n",
       "\n",
       "    .dataframe thead th {\n",
       "        text-align: right;\n",
       "    }\n",
       "</style>\n",
       "<table border=\"1\" class=\"dataframe\">\n",
       "  <thead>\n",
       "    <tr style=\"text-align: right;\">\n",
       "      <th></th>\n",
       "      <th>repetition</th>\n",
       "      <th>nTrace</th>\n",
       "      <th>ids</th>\n",
       "      <th>stim</th>\n",
       "      <th>stim_actual</th>\n",
       "      <th>stim_ids</th>\n",
       "      <th>stim_change</th>\n",
       "      <th>vHold</th>\n",
       "      <th>stim_start</th>\n",
       "      <th>stim_end</th>\n",
       "      <th>...</th>\n",
       "      <th>AP_rise_time</th>\n",
       "      <th>AP_fall_time</th>\n",
       "      <th>time_to_AP_peak</th>\n",
       "      <th>min_cur_for_discharge</th>\n",
       "      <th>AHP_duration</th>\n",
       "      <th>AHP_fall_tau</th>\n",
       "      <th>AHP_fall_A</th>\n",
       "      <th>AHP_rise_m</th>\n",
       "      <th>AHP_rise_c</th>\n",
       "      <th>protocol_name</th>\n",
       "    </tr>\n",
       "  </thead>\n",
       "  <tbody>\n",
       "  </tbody>\n",
       "</table>\n",
       "<p>0 rows × 34 columns</p>\n",
       "</div>"
      ],
      "text/plain": [
       "Empty DataFrame\n",
       "Columns: [repetition, nTrace, ids, stim, stim_actual, stim_ids, stim_change, vHold, stim_start, stim_end, DACScale, peak_indices, spikecount, peak_time, peak_voltage, ISI_values, min_AHP_indices, min_AHP_time, min_AHP_voltage, AP_begin_voltage, AP_begin_time, AP_amplitude, AP_half_width, AP_width, AP_rise_time, AP_fall_time, time_to_AP_peak, min_cur_for_discharge, AHP_duration, AHP_fall_tau, AHP_fall_A, AHP_rise_m, AHP_rise_c, protocol_name]\n",
       "Index: []\n",
       "\n",
       "[0 rows x 34 columns]"
      ]
     },
     "execution_count": 25,
     "metadata": {},
     "output_type": "execute_result"
    }
   ],
   "source": [
    "trace_df.loc[(trace_df.repetition==0) & (trace_df.stim==125)]"
   ]
  },
  {
   "cell_type": "code",
   "execution_count": 26,
   "id": "1165350a",
   "metadata": {},
   "outputs": [
    {
     "data": {
      "text/plain": [
       "[array([[-65.32608302]]),\n",
       " array([[-69.4267259]]),\n",
       " array([[-71.22377162]]),\n",
       " array([[-72.37195345]]),\n",
       " array([[-72.89302931]]),\n",
       " array([[-73.28532125]])]"
      ]
     },
     "execution_count": 26,
     "metadata": {},
     "output_type": "execute_result"
    }
   ],
   "source": [
    "trace_df.loc[(trace_df.repetition==0)].vHold.tolist()"
   ]
  },
  {
   "cell_type": "code",
   "execution_count": null,
   "id": "e73e146c",
   "metadata": {
    "scrolled": true
   },
   "outputs": [],
   "source": [
    "# import numpy as np\n",
    "# for i in trace_df.loc[(trace_df.repetition==0)].AP_begin_voltage:\n",
    "#     print(np.mean(i))"
   ]
  },
  {
   "cell_type": "code",
   "execution_count": null,
   "id": "d1b19740",
   "metadata": {
    "scrolled": true
   },
   "outputs": [],
   "source": [
    "trace_df = protocol_df.copy()\n",
    "# trace_df[trace_level_columns] = trace_df[trace_level_columns].apply(lambda x: x.)\n",
    "trace_df = trace_df.explode(trace_level_columns).explode(trace_level_columns)\n",
    "trace_df.head()"
   ]
  },
  {
   "cell_type": "markdown",
   "id": "a4fa5b89",
   "metadata": {},
   "source": [
    "# Extraction of data at peak level\n"
   ]
  },
  {
   "cell_type": "code",
   "execution_count": null,
   "id": "50c48373",
   "metadata": {},
   "outputs": [],
   "source": [
    "peak_columns = [\n",
    "    'peak_indices', \n",
    "'peak_time' ,\n",
    "'peak_voltage', \n",
    "'min_AHP_indices', \n",
    "'min_AHP_time' ,\n",
    "'min_AHP_voltage', \n",
    "'AP_begin_voltage', \n",
    "'AP_begin_time' ,\n",
    "'AP_amplitude' ,\n",
    "'AP_half_width' ,\n",
    "'AP_width' ,\n",
    "'AP_rise_time', \n",
    "'AP_fall_time' ,\n",
    "'time_to_AP_peak' \n",
    "]\n",
    "\n",
    "intra_peak_columns = [\n",
    "    'ISI_values' ,\n",
    "'AHP_duration' ,\n",
    "'AHP_rise_m' ,\n",
    "'AHP_rise_c' ,\n",
    "]"
   ]
  },
  {
   "cell_type": "code",
   "execution_count": null,
   "id": "871c2eb3",
   "metadata": {},
   "outputs": [],
   "source": []
  },
  {
   "cell_type": "code",
   "execution_count": null,
   "id": "abb8321e",
   "metadata": {},
   "outputs": [],
   "source": [
    "def peak_len_scale(value, max_peaks):\n",
    "    if value.shape[0] == 0:\n",
    "        val_list = []\n",
    "    else:\n",
    "        val_list = [t for t in value[0]]\n",
    "    delta = max_peaks-len(val_list)\n",
    "    val_list += delta*[0]\n",
    "    return val_list\n",
    "\n",
    "def intra_peak_len_scale(value, max_peaks):\n",
    "    if value.shape[0] == 0:\n",
    "        val_list = []\n",
    "    else:\n",
    "        val_list = [t for t in value[0]]    \n",
    "    delta = max_peaks-len(val_list)\n",
    "    val_list += delta*[0] \n",
    "    val_list += ['extra_inta_peak']\n",
    "    \n",
    "    return val_list"
   ]
  },
  {
   "cell_type": "code",
   "execution_count": null,
   "id": "b152843e",
   "metadata": {
    "scrolled": true
   },
   "outputs": [],
   "source": [
    "peak_df = trace_df.copy()\n",
    "peak_df.reset_index(inplace=True, drop=True)\n",
    "\n",
    "max_peaks = max([t[0][0] for t in peak_df.spikecount])\n",
    "for col in peak_columns:\n",
    "    peak_df[col] = peak_df[col].apply(lambda x: peak_len_scale(x, max_peaks))\n",
    "\n",
    "for col in intra_peak_columns:\n",
    "    peak_df[col] = peak_df[col].apply(lambda x: intra_peak_len_scale(x, max_peaks-1))\n",
    "peak_df = peak_df.explode(peak_columns+intra_peak_columns)\n",
    "\n"
   ]
  },
  {
   "cell_type": "code",
   "execution_count": null,
   "id": "6284bcdd",
   "metadata": {},
   "outputs": [],
   "source": [
    "peak_df.shape"
   ]
  },
  {
   "cell_type": "markdown",
   "id": "cdbc6515",
   "metadata": {},
   "source": [
    "# Flattening at peak level"
   ]
  },
  {
   "cell_type": "markdown",
   "id": "c2c36d5a",
   "metadata": {},
   "source": [
    "We will now start the flattening process. At the moment, the data frame is organized in rows representing each of the peaks we observed. The new target is a row for each trace with each peak data as a column.\\\n",
    "For that, we will create on column per peak and feature (ex peak time of peak # 4)"
   ]
  },
  {
   "cell_type": "code",
   "execution_count": null,
   "id": "b80f5325",
   "metadata": {},
   "outputs": [],
   "source": [
    "#Creation of a unique peak id for merging/debugging purposes\n",
    "peak_df_flat = peak_df.copy()\n",
    "peak_df_flat['base_temp'] = 1\n",
    "peak_df_flat['peak_id_temp'] = peak_df_flat['base_temp'].cumsum()\n",
    "peak_df_flat['peak_id'] = peak_df_flat['repetition'].astype('str')+ '_' +peak_df_flat['ids'].astype('str') + '_'+peak_df_flat['peak_id_temp'].astype('str')"
   ]
  },
  {
   "cell_type": "code",
   "execution_count": null,
   "id": "96df9103",
   "metadata": {},
   "outputs": [],
   "source": [
    "# Create a peak count column, so that we can order peaks\n",
    "\n",
    "peak_df_flat.sort_values( 'peak_time')\n",
    "grouping_df = peak_df_flat.sort_values( 'peak_time')[['repetition', 'peak_id', 'ids', 'base_temp']]\n",
    "grouping_df['peak_rank'] = grouping_df.groupby(['repetition', 'ids']).cumsum()\n"
   ]
  },
  {
   "cell_type": "code",
   "execution_count": null,
   "id": "9df47ae0",
   "metadata": {},
   "outputs": [],
   "source": [
    "peak_df_flat = peak_df_flat.merge(grouping_df[['peak_rank', 'peak_id']] ,how='left', on='peak_id')\n"
   ]
  },
  {
   "cell_type": "code",
   "execution_count": null,
   "id": "4c1c981d",
   "metadata": {},
   "outputs": [],
   "source": []
  },
  {
   "cell_type": "code",
   "execution_count": null,
   "id": "c12b9802",
   "metadata": {
    "scrolled": true
   },
   "outputs": [],
   "source": [
    "peak_df_flat.head()"
   ]
  },
  {
   "cell_type": "code",
   "execution_count": null,
   "id": "2723590d",
   "metadata": {
    "scrolled": false
   },
   "outputs": [],
   "source": [
    "peak_df_flat = peak_df_flat.pivot_table(index=['repetition', 'ids'], columns='peak_rank', values= intra_peak_columns+peak_columns )\n",
    "\n",
    "peak_df_flat.columns = [ f'{column[0]}_{column[1]}' for column in peak_df_flat.columns]\n",
    "peak_df_flat.reset_index(inplace=True)\n",
    "\n",
    "peak_df_flat.head()"
   ]
  },
  {
   "cell_type": "code",
   "execution_count": null,
   "id": "952e4826",
   "metadata": {},
   "outputs": [],
   "source": [
    "peak_df_flat.shape"
   ]
  },
  {
   "cell_type": "markdown",
   "id": "f9fbc589",
   "metadata": {},
   "source": [
    "# Flatten at trace level"
   ]
  },
  {
   "cell_type": "code",
   "execution_count": null,
   "id": "eabc1128",
   "metadata": {},
   "outputs": [],
   "source": [
    "peak_df_cols = peak_df_flat.columns.tolist()\n",
    "\n",
    "peak_feat = [f'{col}_trace' for col in peak_df_cols if col not in ['repetition', 'ids']]\n",
    "trace_level_columns_pivot = [f'{col}_trace' for col in trace_level_columns if col not in ['repetition', 'ids']]\n",
    "\n",
    "\n"
   ]
  },
  {
   "cell_type": "code",
   "execution_count": null,
   "id": "ba657313",
   "metadata": {},
   "outputs": [],
   "source": [
    "# Integrate back trace data\n",
    "\n",
    "trace_keys = ['repetition', 'ids']\n",
    "\n",
    "trace_df_flat = peak_df_flat.merge(trace_df[trace_level_columns+['repetition']], on=trace_keys, how='left')\n",
    "\n",
    "trace_df_flat.columns = [f'{col}_trace' for col in trace_df_flat.columns]\n",
    "trace_df_flat['protocol_name'] = protocol_raw[0][0][0][0]\n",
    "\n",
    "# peak_df_flat = peak_df_flat.pivot_table(index=['repetition', 'ids'], columns='peak_rank', values= intra_peak_columns+peak_columns )\n",
    "\n",
    "trace_df_flat = trace_df_flat.pivot_table(index= 'protocol_name', columns='repetition_trace', values= peak_feat + trace_level_columns_pivot )\n",
    "\n",
    "trace_df_flat.columns = [ f'{column[0]}_{column[1]}' for column in trace_df_flat.columns]\n",
    "trace_df_flat.reset_index(inplace=True)\n",
    "\n",
    "trace_df_flat.head()\n"
   ]
  },
  {
   "cell_type": "code",
   "execution_count": null,
   "id": "4db0924f",
   "metadata": {},
   "outputs": [],
   "source": []
  },
  {
   "cell_type": "code",
   "execution_count": null,
   "id": "74597db0",
   "metadata": {},
   "outputs": [],
   "source": []
  }
 ],
 "metadata": {
  "kernelspec": {
   "display_name": "Python 3 (ipykernel)",
   "language": "python",
   "name": "python3"
  },
  "language_info": {
   "codemirror_mode": {
    "name": "ipython",
    "version": 3
   },
   "file_extension": ".py",
   "mimetype": "text/x-python",
   "name": "python",
   "nbconvert_exporter": "python",
   "pygments_lexer": "ipython3",
   "version": "3.9.12"
  }
 },
 "nbformat": 4,
 "nbformat_minor": 5
}
