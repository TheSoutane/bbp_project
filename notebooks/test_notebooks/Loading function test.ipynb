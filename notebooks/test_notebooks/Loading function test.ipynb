{
 "cells": [
  {
   "cell_type": "code",
   "execution_count": 1,
   "id": "0062333d",
   "metadata": {},
   "outputs": [],
   "source": [
    "import os\n",
    "import yaml\n",
    "from yaml.loader import SafeLoader"
   ]
  },
  {
   "cell_type": "code",
   "execution_count": null,
   "id": "f28a9def",
   "metadata": {},
   "outputs": [],
   "source": []
  },
  {
   "cell_type": "code",
   "execution_count": 2,
   "id": "5b1f935c",
   "metadata": {},
   "outputs": [],
   "source": [
    "cell_to_compare = '86_1'"
   ]
  },
  {
   "cell_type": "markdown",
   "id": "e35e3d38",
   "metadata": {},
   "source": [
    "## Load and apply function on considered cell"
   ]
  },
  {
   "cell_type": "code",
   "execution_count": 3,
   "id": "7da22cc2",
   "metadata": {},
   "outputs": [],
   "source": [
    "os.chdir('../../src')"
   ]
  },
  {
   "cell_type": "code",
   "execution_count": 4,
   "id": "ff7527cf",
   "metadata": {},
   "outputs": [],
   "source": [
    "from bbp_code_package.nodes.mat_file_extraction import extract_preformat_mat_file"
   ]
  },
  {
   "cell_type": "code",
   "execution_count": 5,
   "id": "1ad0b2df",
   "metadata": {
    "scrolled": true
   },
   "outputs": [],
   "source": [
    "# os.listdir('../conf/base/parameters.yml')"
   ]
  },
  {
   "cell_type": "code",
   "execution_count": 6,
   "id": "2148a094",
   "metadata": {},
   "outputs": [],
   "source": [
    "with open('../conf/base/parameters.yml') as f:\n",
    "    parameters = yaml.load(f, Loader=SafeLoader)"
   ]
  },
  {
   "cell_type": "code",
   "execution_count": 7,
   "id": "4bb0a1f6",
   "metadata": {
    "scrolled": true
   },
   "outputs": [
    {
     "name": "stdout",
     "output_type": "stream",
     "text": [
      "_____________ aCell86_1\n"
     ]
    },
    {
     "name": "stderr",
     "output_type": "stream",
     "text": [
      "C:\\Users\\romla\\anaconda3\\envs\\bbp_env\\lib\\site-packages\\numpy\\core\\fromnumeric.py:3474: RuntimeWarning: Mean of empty slice.\n",
      "  return _methods._mean(a, axis=axis, dtype=dtype,\n",
      "C:\\Users\\romla\\anaconda3\\envs\\bbp_env\\lib\\site-packages\\numpy\\core\\_methods.py:264: RuntimeWarning: Degrees of freedom <= 0 for slice\n",
      "  ret = _var(a, axis=axis, dtype=dtype, out=out, ddof=ddof,\n"
     ]
    }
   ],
   "source": [
    "bla, test_df = extract_preformat_mat_file(f'aCell{cell_to_compare}', parameters)"
   ]
  },
  {
   "cell_type": "code",
   "execution_count": 8,
   "id": "0b0840f2",
   "metadata": {},
   "outputs": [
    {
     "data": {
      "text/html": [
       "<div>\n",
       "<style scoped>\n",
       "    .dataframe tbody tr th:only-of-type {\n",
       "        vertical-align: middle;\n",
       "    }\n",
       "\n",
       "    .dataframe tbody tr th {\n",
       "        vertical-align: top;\n",
       "    }\n",
       "\n",
       "    .dataframe thead th {\n",
       "        text-align: right;\n",
       "    }\n",
       "</style>\n",
       "<table border=\"1\" class=\"dataframe\">\n",
       "  <thead>\n",
       "    <tr style=\"text-align: right;\">\n",
       "      <th></th>\n",
       "      <th>protocol_name</th>\n",
       "      <th>AP_mean_stim_60</th>\n",
       "      <th>AP_mean_stim_100</th>\n",
       "      <th>AP_mean_stim_140</th>\n",
       "      <th>AP_mean_stim_180</th>\n",
       "      <th>AP_mean_stim_220</th>\n",
       "      <th>AP_stdev_stim_60</th>\n",
       "      <th>AP_stdev_stim_100</th>\n",
       "      <th>AP_stdev_stim_140</th>\n",
       "      <th>AP_stdev_stim_180</th>\n",
       "      <th>...</th>\n",
       "      <th>tau_stdev_stim_60</th>\n",
       "      <th>tau_stdev_stim_100</th>\n",
       "      <th>tau_stdev_stim_140</th>\n",
       "      <th>tau_stdev_stim_180</th>\n",
       "      <th>tau_stdev_stim_220</th>\n",
       "      <th>vHold_stim_60</th>\n",
       "      <th>vHold_stim_100</th>\n",
       "      <th>vHold_stim_140</th>\n",
       "      <th>vHold_stim_180</th>\n",
       "      <th>vHold_stim_220</th>\n",
       "    </tr>\n",
       "  </thead>\n",
       "  <tbody>\n",
       "    <tr>\n",
       "      <th>0</th>\n",
       "      <td>APWaveform</td>\n",
       "      <td>0.0</td>\n",
       "      <td>0.0</td>\n",
       "      <td>-16.345248</td>\n",
       "      <td>-15.475</td>\n",
       "      <td>-15.400625</td>\n",
       "      <td>0.0</td>\n",
       "      <td>0.0</td>\n",
       "      <td>16.345248</td>\n",
       "      <td>15.475</td>\n",
       "      <td>...</td>\n",
       "      <td>0.0</td>\n",
       "      <td>0.0</td>\n",
       "      <td>0.0</td>\n",
       "      <td>0.0</td>\n",
       "      <td>0.0</td>\n",
       "      <td>-57.27806</td>\n",
       "      <td>-64.871381</td>\n",
       "      <td>-63.753975</td>\n",
       "      <td>-67.67577</td>\n",
       "      <td>-71.153122</td>\n",
       "    </tr>\n",
       "  </tbody>\n",
       "</table>\n",
       "<p>1 rows × 71 columns</p>\n",
       "</div>"
      ],
      "text/plain": [
       "  protocol_name  AP_mean_stim_60  AP_mean_stim_100  AP_mean_stim_140  \\\n",
       "0    APWaveform              0.0               0.0        -16.345248   \n",
       "\n",
       "   AP_mean_stim_180  AP_mean_stim_220  AP_stdev_stim_60  AP_stdev_stim_100  \\\n",
       "0           -15.475        -15.400625               0.0                0.0   \n",
       "\n",
       "   AP_stdev_stim_140  AP_stdev_stim_180  ...  tau_stdev_stim_60  \\\n",
       "0          16.345248             15.475  ...                0.0   \n",
       "\n",
       "   tau_stdev_stim_100  tau_stdev_stim_140  tau_stdev_stim_180  \\\n",
       "0                 0.0                 0.0                 0.0   \n",
       "\n",
       "   tau_stdev_stim_220  vHold_stim_60  vHold_stim_100  vHold_stim_140  \\\n",
       "0                 0.0      -57.27806      -64.871381      -63.753975   \n",
       "\n",
       "   vHold_stim_180  vHold_stim_220  \n",
       "0       -67.67577      -71.153122  \n",
       "\n",
       "[1 rows x 71 columns]"
      ]
     },
     "execution_count": 8,
     "metadata": {},
     "output_type": "execute_result"
    }
   ],
   "source": [
    "test_df"
   ]
  },
  {
   "cell_type": "raw",
   "id": "807662ef",
   "metadata": {},
   "source": []
  },
  {
   "cell_type": "markdown",
   "id": "f3943c3c",
   "metadata": {},
   "source": [
    "## Manually load data"
   ]
  },
  {
   "cell_type": "code",
   "execution_count": 9,
   "id": "a8b2d710",
   "metadata": {},
   "outputs": [],
   "source": [
    "import os\n",
    "import pandas as pd\n",
    "from scipy import io\n"
   ]
  },
  {
   "cell_type": "code",
   "execution_count": 10,
   "id": "e276959e",
   "metadata": {},
   "outputs": [],
   "source": [
    "loaded_sp = io.loadmat(f'../data/01_raw/matData_2022-05-30/aCell{cell_to_compare}.mat')\n",
    "protocol_raw = loaded_sp['aCell'][0][0]['protocol'][0][0]"
   ]
  },
  {
   "cell_type": "code",
   "execution_count": 11,
   "id": "61a6553d",
   "metadata": {},
   "outputs": [
    {
     "data": {
      "text/plain": [
       "'APWaveform'"
      ]
     },
     "execution_count": 11,
     "metadata": {},
     "output_type": "execute_result"
    }
   ],
   "source": [
    "protocol_raw[0][0][0][0]#['APWaveform']"
   ]
  },
  {
   "cell_type": "code",
   "execution_count": 12,
   "id": "7f8f2abd",
   "metadata": {},
   "outputs": [
    {
     "data": {
      "text/html": [
       "<div>\n",
       "<style scoped>\n",
       "    .dataframe tbody tr th:only-of-type {\n",
       "        vertical-align: middle;\n",
       "    }\n",
       "\n",
       "    .dataframe tbody tr th {\n",
       "        vertical-align: top;\n",
       "    }\n",
       "\n",
       "    .dataframe thead th {\n",
       "        text-align: right;\n",
       "    }\n",
       "</style>\n",
       "<table border=\"1\" class=\"dataframe\">\n",
       "  <thead>\n",
       "    <tr style=\"text-align: right;\">\n",
       "      <th></th>\n",
       "      <th>repetition</th>\n",
       "      <th>nTrace</th>\n",
       "      <th>ids</th>\n",
       "      <th>stim</th>\n",
       "      <th>stim_actual</th>\n",
       "      <th>stim_ids</th>\n",
       "      <th>stim_change</th>\n",
       "      <th>vHold</th>\n",
       "      <th>stim_start</th>\n",
       "      <th>stim_end</th>\n",
       "      <th>...</th>\n",
       "      <th>AP_rise_time</th>\n",
       "      <th>AP_fall_time</th>\n",
       "      <th>time_to_AP_peak</th>\n",
       "      <th>min_cur_for_discharge</th>\n",
       "      <th>AHP_duration</th>\n",
       "      <th>AHP_fall_tau</th>\n",
       "      <th>AHP_fall_A</th>\n",
       "      <th>AHP_rise_m</th>\n",
       "      <th>AHP_rise_c</th>\n",
       "      <th>protocol_name</th>\n",
       "    </tr>\n",
       "  </thead>\n",
       "  <tbody>\n",
       "    <tr>\n",
       "      <th>0</th>\n",
       "      <td>0</td>\n",
       "      <td>[[6]]</td>\n",
       "      <td>[[1064, 1065, 1066, 1067, 1068, 1069]]</td>\n",
       "      <td>[[60, 100, 140, 180, 220, 260]]</td>\n",
       "      <td>[[240, 400, 560, 720, 880, 1040]]</td>\n",
       "      <td>[[1, 12501, 50002, 62499]]</td>\n",
       "      <td>[[0.0, 250.0, 1000.0200000000001, 1249.9600000...</td>\n",
       "      <td>[[[[-57.27805984]], [[-64.87138135]], [[-63.75...</td>\n",
       "      <td>[[250]]</td>\n",
       "      <td>[[1000.0200000000001]]</td>\n",
       "      <td>...</td>\n",
       "      <td>[[[[]], [[]], [[0.87455975]], [[0.88160008]], ...</td>\n",
       "      <td>[[[[]], [[]], [[1.5445155]], [[1.5584003]], [[...</td>\n",
       "      <td>[[[[]], [[]], [[98.22]], [[106.04]], [[92.14]]...</td>\n",
       "      <td>[[[[560]]]]</td>\n",
       "      <td>[]</td>\n",
       "      <td>[[[], [], [[0.56776966]], [[0.52581727]], [[0....</td>\n",
       "      <td>[[[], [], [[22.39143437]], [[22.38002416]], [[...</td>\n",
       "      <td>[[[], [], [], [], [], []]]</td>\n",
       "      <td>[[[], [], [], [], [], []]]</td>\n",
       "      <td>APWaveform</td>\n",
       "    </tr>\n",
       "  </tbody>\n",
       "</table>\n",
       "<p>1 rows × 34 columns</p>\n",
       "</div>"
      ],
      "text/plain": [
       "   repetition nTrace                                     ids  \\\n",
       "0           0  [[6]]  [[1064, 1065, 1066, 1067, 1068, 1069]]   \n",
       "\n",
       "                              stim                        stim_actual  \\\n",
       "0  [[60, 100, 140, 180, 220, 260]]  [[240, 400, 560, 720, 880, 1040]]   \n",
       "\n",
       "                     stim_ids  \\\n",
       "0  [[1, 12501, 50002, 62499]]   \n",
       "\n",
       "                                         stim_change  \\\n",
       "0  [[0.0, 250.0, 1000.0200000000001, 1249.9600000...   \n",
       "\n",
       "                                               vHold stim_start  \\\n",
       "0  [[[[-57.27805984]], [[-64.87138135]], [[-63.75...    [[250]]   \n",
       "\n",
       "                 stim_end  ...  \\\n",
       "0  [[1000.0200000000001]]  ...   \n",
       "\n",
       "                                        AP_rise_time  \\\n",
       "0  [[[[]], [[]], [[0.87455975]], [[0.88160008]], ...   \n",
       "\n",
       "                                        AP_fall_time  \\\n",
       "0  [[[[]], [[]], [[1.5445155]], [[1.5584003]], [[...   \n",
       "\n",
       "                                     time_to_AP_peak min_cur_for_discharge  \\\n",
       "0  [[[[]], [[]], [[98.22]], [[106.04]], [[92.14]]...           [[[[560]]]]   \n",
       "\n",
       "  AHP_duration                                       AHP_fall_tau  \\\n",
       "0           []  [[[], [], [[0.56776966]], [[0.52581727]], [[0....   \n",
       "\n",
       "                                          AHP_fall_A  \\\n",
       "0  [[[], [], [[22.39143437]], [[22.38002416]], [[...   \n",
       "\n",
       "                   AHP_rise_m                  AHP_rise_c protocol_name  \n",
       "0  [[[], [], [], [], [], []]]  [[[], [], [], [], [], []]]    APWaveform  \n",
       "\n",
       "[1 rows x 34 columns]"
      ]
     },
     "execution_count": 12,
     "metadata": {},
     "output_type": "execute_result"
    }
   ],
   "source": [
    "protocol_df = pd.DataFrame(protocol_raw[0][0][1][0])\n",
    "protocol_df['protocol_name'] = protocol_raw[0][0][0][0]\n",
    "protocol_df = protocol_df.reset_index().rename(columns={'index': 'repetition'})\n",
    "\n",
    "protocol_df\n"
   ]
  }
 ],
 "metadata": {
  "kernelspec": {
   "display_name": "Python 3 (ipykernel)",
   "language": "python",
   "name": "python3"
  },
  "language_info": {
   "codemirror_mode": {
    "name": "ipython",
    "version": 3
   },
   "file_extension": ".py",
   "mimetype": "text/x-python",
   "name": "python",
   "nbconvert_exporter": "python",
   "pygments_lexer": "ipython3",
   "version": "3.9.12"
  }
 },
 "nbformat": 4,
 "nbformat_minor": 5
}
